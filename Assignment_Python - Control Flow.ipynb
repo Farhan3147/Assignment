{
 "cells": [
  {
   "cell_type": "markdown",
   "id": "46e415a6-cefc-4912-9a31-e457229d803b",
   "metadata": {},
   "source": [
    "# Assignment : Python - Control Flow"
   ]
  },
  {
   "cell_type": "markdown",
   "id": "a051bc7e-c86f-4253-aec6-5fc8cced6287",
   "metadata": {},
   "source": [
    "# Basic If-Else Statements:"
   ]
  },
  {
   "cell_type": "code",
   "execution_count": 4,
   "id": "c429a677-4b9a-4802-b71a-771bed595567",
   "metadata": {},
   "outputs": [
    {
     "name": "stdin",
     "output_type": "stream",
     "text": [
      "Enter number :  -2\n"
     ]
    },
    {
     "name": "stdout",
     "output_type": "stream",
     "text": [
      "-2 is Negative number\n"
     ]
    }
   ],
   "source": [
    "# 1. Write a Python program to check if a given number is positive or negative.\n",
    "\n",
    "N = int(input(\"Enter number : \"))    # take number from user\n",
    "if N >= 0:                           # check number positive or negative\n",
    "    print(f\"{N} is positive number\") # print\n",
    "else:\n",
    "    print(f\"{N} is Negative number\")\n"
   ]
  },
  {
   "cell_type": "code",
   "execution_count": 6,
   "id": "beb3b7ed-ad19-4244-8d9a-07d2452a61fa",
   "metadata": {},
   "outputs": [
    {
     "name": "stdin",
     "output_type": "stream",
     "text": [
      "Enter age :  6\n"
     ]
    },
    {
     "name": "stdout",
     "output_type": "stream",
     "text": [
      "Not Eligible for vote\n"
     ]
    }
   ],
   "source": [
    "# 2. Create a program that determines if a person is eligible to vote based on their age.\n",
    "\n",
    "age = int(input(\"Enter age : \")) # take age from user\n",
    "if age >= 18 :                   # check person is greater than 18 or not\n",
    "    print(\"Eligible for vote\")   # print if this greater than or equal to 18\n",
    "else :\n",
    "    print(\"Not Eligible for vote\") # else  print this\n"
   ]
  },
  {
   "cell_type": "code",
   "execution_count": 7,
   "id": "e18553d5-bf30-4d8e-b342-fc9442bd323d",
   "metadata": {},
   "outputs": [
    {
     "name": "stdin",
     "output_type": "stream",
     "text": [
      "Enter first number :  3\n",
      "Enter second number :  2\n"
     ]
    },
    {
     "name": "stdout",
     "output_type": "stream",
     "text": [
      "maximum number is 3\n"
     ]
    }
   ],
   "source": [
    "# 3. Develop a program to find the maximum of two numbers using if-else statements.\n",
    "\n",
    "num1 = int(input(\"Enter first number : \"))  # take num1 from user\n",
    "num2 = int(input(\"Enter second number : \")) #  take num2 from user \n",
    "if num1 > num2 :                            # check num1 is greater or not\n",
    "    print(f\"maximum number is {num1}\")      # print\n",
    "else:\n",
    "    print(f\"maximum number is {num2}\")\n"
   ]
  },
  {
   "cell_type": "code",
   "execution_count": 7,
   "id": "4ae3793d-74e6-4ad3-b1a3-ea164baf196d",
   "metadata": {},
   "outputs": [
    {
     "name": "stdin",
     "output_type": "stream",
     "text": [
      "Enter year :  1900\n"
     ]
    },
    {
     "name": "stdout",
     "output_type": "stream",
     "text": [
      "1900 is not leap year\n"
     ]
    }
   ],
   "source": [
    "# 4. Write a Python script to classify a given year as a leap year or not.\n",
    "\n",
    "year = int(input(\"Enter year : \"))  # enter year from user\n",
    "if (year%4 == 0 and year%100 != 0) or (year%400 == 0):                    # if year is divisible by 4 then it is leap year\n",
    "    print(f\"{year} is leap year\")\n",
    "else:\n",
    "    print(f\"{year} is not leap year\")\n"
   ]
  },
  {
   "cell_type": "code",
   "execution_count": 4,
   "id": "2302a533-0ab1-4db1-820b-31a90df65673",
   "metadata": {},
   "outputs": [
    {
     "name": "stdin",
     "output_type": "stream",
     "text": [
      "Enter char :  a\n"
     ]
    },
    {
     "name": "stdout",
     "output_type": "stream",
     "text": [
      "a is vowel\n"
     ]
    }
   ],
   "source": [
    "# 5. Create a program that checks whether a character is a vowel or a consonant.\n",
    "\n",
    "char = input(\"Enter char : \")      # take char from user\n",
    "vowels = \"AEIOUaeiou\"              # defines vowels\n",
    "if char in vowels :                # if char is in vowels then print vowels else print consonants\n",
    "    print(f\"{char} is vowel\")\n",
    "else:\n",
    "    print(f\"{char} is consonants\")\n"
   ]
  },
  {
   "cell_type": "code",
   "execution_count": 6,
   "id": "14c5446b-c4dc-4460-94b6-853992b6197d",
   "metadata": {},
   "outputs": [
    {
     "name": "stdin",
     "output_type": "stream",
     "text": [
      "Enter Number :  3\n"
     ]
    },
    {
     "name": "stdout",
     "output_type": "stream",
     "text": [
      "Odd Number\n"
     ]
    }
   ],
   "source": [
    "# 6. Implement a program to determine whether a given number is even or odd.\n",
    "\n",
    "N = int(input(\"Enter Number : \")) # take number from user\n",
    "if N%2 == 0:                      # if Number is divisible by 2 then it is even else number is odd\n",
    "    print(\"Even Number\")\n",
    "else:\n",
    "    print(\"Odd Number\")\n"
   ]
  },
  {
   "cell_type": "code",
   "execution_count": 10,
   "id": "3bf02b42-b477-4509-b15a-7bff17c7c79c",
   "metadata": {},
   "outputs": [
    {
     "name": "stdin",
     "output_type": "stream",
     "text": [
      "Enter Number :  -43\n"
     ]
    },
    {
     "name": "stdout",
     "output_type": "stream",
     "text": [
      "absolute value is 43\n"
     ]
    }
   ],
   "source": [
    "# 7. Write a Python function to calculate the absolute value of a number without using the `abs()` function.\n",
    "\n",
    "N = int(input(\"Enter Number : \")) # take number from user\n",
    "if N >= 0:                           # check number positive or negative\n",
    "    print(f\"absolute value is {N}\") # print\n",
    "else:\n",
    "    print(f\"absolute value is {-N}\")\n"
   ]
  },
  {
   "cell_type": "code",
   "execution_count": 12,
   "id": "7e438419-6e64-4623-8b4b-f3df476e7c1d",
   "metadata": {},
   "outputs": [
    {
     "name": "stdout",
     "output_type": "stream",
     "text": [
      "Largest number is : 45\n"
     ]
    }
   ],
   "source": [
    "# 8. Develop a program that determines the largest of three given numbers using if-else statements.\n",
    "\n",
    "n1 = 24   # take three numbers\n",
    "n2 = 45\n",
    "n3 = 21\n",
    "if n1 >= n2 and n1 >= n3:               #check if n1 is largest and print it\n",
    "    print(f\"Largest number is : {n1}\")\n",
    "else:\n",
    "    if n2 >= n1 and n2 >= n3:             #check if n2 is largest and print it\n",
    "        print(f\"Largest number is : {n2}\")\n",
    "    else:                                   # if above two number is not largest then n3 is larget\n",
    "        print(f\"Largest number is : {n3}\")\n"
   ]
  },
  {
   "cell_type": "code",
   "execution_count": 14,
   "id": "f169762a-7379-44d6-b5fb-69b708e3e02c",
   "metadata": {},
   "outputs": [
    {
     "name": "stdin",
     "output_type": "stream",
     "text": [
      "enter string :  asdas\n"
     ]
    },
    {
     "name": "stdout",
     "output_type": "stream",
     "text": [
      "asdas is not palidrome\n"
     ]
    }
   ],
   "source": [
    "# 9. Create a program that checks if a given string is a palindrome.\n",
    "\n",
    "string = input(\"enter string : \")       # enter string from user\n",
    "rev = string[::-1]                      # reverse string using slicing\n",
    "if string == rev:                       # if reverse string is same as original string then string is palindrome else not\n",
    "    print(f\"{string} is palindrome\")\n",
    "else:\n",
    "    print(f\"{string} is not palidrome\")\n"
   ]
  },
  {
   "cell_type": "code",
   "execution_count": 26,
   "id": "8aada29f-e383-4e92-ae04-c91422c418fd",
   "metadata": {},
   "outputs": [
    {
     "name": "stdin",
     "output_type": "stream",
     "text": [
      "Enter score :  30\n"
     ]
    },
    {
     "name": "stdout",
     "output_type": "stream",
     "text": [
      "you are Fail Bahenchod\n"
     ]
    }
   ],
   "source": [
    "# 10. Write a Python program to calculate the grade based on a student's score.\n",
    "\n",
    "score = int(input(\"Enter score : \"))          # enter grade from user\n",
    "if score > 80:                               # print grade based on scores\n",
    "    print(\"Grade is : 'A+' \")\n",
    "else:\n",
    "    if score in range(71,81):\n",
    "        print(\"Grade is : 'A'\")\n",
    "    else:\n",
    "        if score in range(61,71):\n",
    "            print(\"Grade is : 'B+'\")\n",
    "        else:\n",
    "            if score in range(51,61):\n",
    "                print(\"Grade is : 'B'\")\n",
    "            else:\n",
    "                if score in range(41,51):\n",
    "                    print(\"Grade is : 'C'\")\n",
    "                else:\n",
    "                    if score in range(35,41):\n",
    "                        print(\"Grade is : 'D'\")\n",
    "                    else:\n",
    "                        if score < 35:\n",
    "                            print(\"you are Fail Bahenchod\")\n"
   ]
  },
  {
   "cell_type": "markdown",
   "id": "fd40def5-4b12-42cd-9c8a-6cd9811186b0",
   "metadata": {},
   "source": [
    "# Nested If-Else Statements:"
   ]
  },
  {
   "cell_type": "code",
   "execution_count": 28,
   "id": "a41b8592-4981-46ed-96be-d395850b9085",
   "metadata": {},
   "outputs": [
    {
     "name": "stdout",
     "output_type": "stream",
     "text": [
      "Largest number is : 45\n"
     ]
    }
   ],
   "source": [
    "# 11. Write a program to find the largest among three numbers using nested if-else statements.\n",
    "\n",
    "n1 = 24   # take three numbers\n",
    "n2 = 45\n",
    "n3 = 21\n",
    "if n1 >= n2 and n1 >= n3:               #check if n1 is largest and print it\n",
    "    print(f\"Largest number is : {n1}\")\n",
    "else:\n",
    "    if n2 >= n1 and n2 >= n3:             #check if n2 is largest and print it\n",
    "        print(f\"Largest number is : {n2}\")\n",
    "    else:                                   # if above two number is not largest then n3 is larget\n",
    "        print(f\"Largest number is : {n3}\")"
   ]
  },
  {
   "cell_type": "code",
   "execution_count": 44,
   "id": "6daba2b0-9d7c-4d1a-94a0-c0b23be9487f",
   "metadata": {},
   "outputs": [
    {
     "name": "stdin",
     "output_type": "stream",
     "text": [
      "Enter Sides :  1\n",
      "Enter Sides :  2\n",
      "Enter Sides :  3\n"
     ]
    },
    {
     "name": "stdout",
     "output_type": "stream",
     "text": [
      "scalene Triangle\n"
     ]
    }
   ],
   "source": [
    "# 12. Implement a program to determine if a triangle is equilateral, isosceles, or scalene.\n",
    "\n",
    "s1 = int(input(\"Enter Sides : \"))    # take sides of triangle from user\n",
    "s2 = int(input(\"Enter Sides : \"))    # take sides of triangle from user\n",
    "s3 = int(input(\"Enter Sides : \"))    # take sides of triangle from user\n",
    "if s1 == s2 and s1 == s3:            # if all the sides are equal the triangle is equilateral\n",
    "    print(\"Equilateral Triangle\")\n",
    "else:\n",
    "    if (s1 == s2 or s1 == s3 or s2 == s3) and (s1 != s3 or s2 != s3 or a1 != s2):\n",
    "        print(\"Isosceles Triangle\")\n",
    "    else:\n",
    "        print(\"scalene Triangle\")\n",
    "\n"
   ]
  },
  {
   "cell_type": "code",
   "execution_count": 11,
   "id": "ffe27b37-2204-435f-ac58-ef92694022e8",
   "metadata": {},
   "outputs": [
    {
     "name": "stdin",
     "output_type": "stream",
     "text": [
      "Enter year :  1900\n"
     ]
    },
    {
     "name": "stdout",
     "output_type": "stream",
     "text": [
      "1900 is a century year\n"
     ]
    }
   ],
   "source": [
    "# 13. Develop a program that checks if a year is a leap year and also if it is a century year.\n",
    "\n",
    "year = int(input(\"Enter year : \"))  # enter year from user\n",
    "if (year%100 == 0 and year%400 != 0) :                    # if year is divisible by 4 then it is leap year\n",
    "    print(f\"{year} is a century year\")\n",
    "else:\n",
    "    if (year% 4 == 0 or year%400 == 0):\n",
    "        print(f\"{year} is leap year\")\n",
    "    else:\n",
    "        print(f\"{year} is not leap year\")\n"
   ]
  },
  {
   "cell_type": "code",
   "execution_count": 59,
   "id": "fcf92597-0ebb-4064-a708-de692ad9b5e7",
   "metadata": {},
   "outputs": [
    {
     "name": "stdin",
     "output_type": "stream",
     "text": [
      "Enter number :  -4\n"
     ]
    },
    {
     "name": "stdout",
     "output_type": "stream",
     "text": [
      "-4 is Negative number\n"
     ]
    }
   ],
   "source": [
    "# 14. Write a Python script to determine if a number is positive, negative, or zero.\n",
    "\n",
    "N = int(input(\"Enter number : \"))    # take number from user\n",
    "if N > 0:                           # check number positive , negative or zero\n",
    "    print(f\"{N} is positive number\") # print\n",
    "else:\n",
    "    if N == 0:\n",
    "        print(f\"{N} is Zero\")\n",
    "    else:\n",
    "        print(f\"{N} is Negative number\")\n"
   ]
  },
  {
   "cell_type": "code",
   "execution_count": 58,
   "id": "cec5abfb-e691-4576-91e4-283191416869",
   "metadata": {},
   "outputs": [
    {
     "name": "stdin",
     "output_type": "stream",
     "text": [
      "Enter year :  4\n"
     ]
    },
    {
     "name": "stdout",
     "output_type": "stream",
     "text": [
      "person is a child\n"
     ]
    }
   ],
   "source": [
    "# 15. Create a program to check if a person is a teenager (between 13 and 19 years old).\n",
    "\n",
    "year = int(input(\"Enter year : \"))\n",
    "if year in range(13, 20):\n",
    "    print(\"person is a teenager\")\n",
    "else:\n",
    "    if year in range(13):\n",
    "        print(\"person is a child\")\n",
    "    else:\n",
    "        print(\"person is young\")\n"
   ]
  },
  {
   "cell_type": "code",
   "execution_count": 63,
   "id": "3a1a5b19-4520-4274-bc12-89109d47082b",
   "metadata": {},
   "outputs": [
    {
     "name": "stdin",
     "output_type": "stream",
     "text": [
      "Enter angle :  3\n"
     ]
    },
    {
     "name": "stdout",
     "output_type": "stream",
     "text": [
      "Acute angle\n"
     ]
    }
   ],
   "source": [
    "# 16. Develop a program that determines the type of angle based on its measure (acute, obtuse, or right).\n",
    "\n",
    "angle = int(input(\"Enter angle : \"))\n",
    "if angle in range(90):\n",
    "    print(\"Acute angle\")\n",
    "else:\n",
    "    if angle == 90:\n",
    "        print(\"Right angle\")\n",
    "    else:\n",
    "        print(\"Obtuse angle\")\n"
   ]
  },
  {
   "cell_type": "code",
   "execution_count": 64,
   "id": "5d480a2c-543f-4588-9733-ef76639f5324",
   "metadata": {},
   "outputs": [],
   "source": [
    "# 17. Write a Python program to calculate the roots of a quadratic equation.\n",
    "\n",
    "a = int(input(\"Enter the coefitient of x² : \"))     # take coefitient of x² from user\n",
    "b = int(input(\"Enter the coefitient of x : \"))      # take coefitient of x from user\n",
    "c = int(input(\"Enter the constant term : \"))        # take constant term from user\n",
    "\n",
    "r1 = (-b + ((b**2 - 4*a*c)**0.5))/2*a               # calculates roots using formula\n",
    "r2 = (-b - ((b**2 - 4*a*c)**0.5))/2*a\n",
    "print(f\"Roots of Quadratic Equation {a}x² + {b}x + {c} is {r1}, {r2}\") # print roots\n"
   ]
  },
  {
   "cell_type": "code",
   "execution_count": 73,
   "id": "87369d5c-41be-481c-aa94-7091607903e3",
   "metadata": {},
   "outputs": [
    {
     "name": "stdin",
     "output_type": "stream",
     "text": [
      "Enter Number :  8\n"
     ]
    },
    {
     "name": "stdout",
     "output_type": "stream",
     "text": [
      "Days not defined\n"
     ]
    }
   ],
   "source": [
    "# 18. Implement a program to determine the day of the week based on a user-provided number (1 for Monday, 2 for Tuesday, etc.).\n",
    "\n",
    "N = int(input(\"Enter Number : \"))          # enter number from user\n",
    "if N == 1:                               # print day based on numbers\n",
    "    print(\"Monday\")\n",
    "else:\n",
    "    if N == 2:\n",
    "        print(\"Tuesday\")\n",
    "    else:\n",
    "        if N == 3:\n",
    "            print(\"Wednesday\")\n",
    "        else:\n",
    "            if N == 4:\n",
    "                print(\"Thursday\")\n",
    "            else:\n",
    "                if N == 5:\n",
    "                    print(\"Friday\")\n",
    "                else:\n",
    "                    if N == 6:\n",
    "                        print(\"Saturday\")\n",
    "                    else:\n",
    "                        if N == 7:\n",
    "                            print(\"Sunday\")\n",
    "                        else:\n",
    "                            print(\"Days not defined\")\n",
    "\n"
   ]
  },
  {
   "cell_type": "code",
   "execution_count": 13,
   "id": "9939f692-1d69-4c98-9d50-0a66af2f96ab",
   "metadata": {},
   "outputs": [
    {
     "name": "stdin",
     "output_type": "stream",
     "text": [
      "Enter year :  1600\n"
     ]
    },
    {
     "name": "stdout",
     "output_type": "stream",
     "text": [
      "1600 is leap year and also if it is evenly divisible by 400\n"
     ]
    }
   ],
   "source": [
    "# 19. Create a program that determines if a year is a leap year and also if it is evenly divisible by 400.\n",
    "\n",
    "year = int(input(\"Enter year : \"))  # enter year from user\n",
    "if year%400 == 0  :                    # if year is divisible by 4 then it is leap year\n",
    "    print(f\"{year} is leap year and also if it is evenly divisible by 400\")\n",
    "else:\n",
    "    if (year% 4 == 0 and year%100 != 0):\n",
    "        print(f\"{year} is leap year\")\n",
    "    else:\n",
    "        print(f\"{year} is not leap year\")\n"
   ]
  },
  {
   "cell_type": "code",
   "execution_count": 25,
   "id": "c2100c1c-b043-4820-bf21-505380c95f8f",
   "metadata": {},
   "outputs": [
    {
     "name": "stdin",
     "output_type": "stream",
     "text": [
      "Enter Number :  17\n"
     ]
    },
    {
     "name": "stdout",
     "output_type": "stream",
     "text": [
      "17 is prime number\n"
     ]
    }
   ],
   "source": [
    "# 20. Develop a program that checks if a given number is prime or not using nested if-else statements.\n",
    "\n",
    "N = int(input(\"Enter Number : \"))              # enter number from user\n",
    "\n",
    "if N == 2:                                     # check number is 2 or not , if 2 then print prime number\n",
    "    print(f\"{N} is prime number\")\n",
    "else:\n",
    "    for i in range(2, N):                      # check number is divisible any previous number or not\n",
    "        if N%i == 0:\n",
    "            print(f\"{N} is not prime number\")  # if divisible then not prime number\n",
    "            break\n",
    "        if i == N-1:\n",
    "            print(f\"{N} is prime number\")      # if not divisible any previous number then it is prime number\n",
    "            break\n",
    "\n"
   ]
  },
  {
   "cell_type": "markdown",
   "id": "38f75c1b-13bf-4d57-a112-7479666f7571",
   "metadata": {},
   "source": [
    "# Elif Statements:"
   ]
  },
  {
   "cell_type": "code",
   "execution_count": 32,
   "id": "b672641d-9b30-4d39-a28d-a882f81bde1e",
   "metadata": {},
   "outputs": [
    {
     "name": "stdin",
     "output_type": "stream",
     "text": [
      "Enter score :  26\n"
     ]
    },
    {
     "name": "stdout",
     "output_type": "stream",
     "text": [
      "you are Fail Bahenchod\n"
     ]
    }
   ],
   "source": [
    "# 21. Write a Python program to assign grades based on different ranges of scores using elif statements.\n",
    "\n",
    "score = int(input(\"Enter score : \"))          # enter grade from user\n",
    "if score > 80:                               # print grade based on scores\n",
    "    print(\"Grade is : 'A+' \")\n",
    "elif score in range(71,81):\n",
    "    print(\"Grade is : 'A'\")\n",
    "elif score in range(61,71):\n",
    "    print(\"Grade is : 'B+'\")\n",
    "elif score in range(51,61):\n",
    "    print(\"Grade is : 'B'\")\n",
    "elif score in range(41,51):\n",
    "    print(\"Grade is : 'C'\")\n",
    "elif score in range(35,41):\n",
    "    print(\"Grade is : 'D'\")\n",
    "elif score < 35:\n",
    "    print(\"you are Fail Bahenchod\")\n"
   ]
  },
  {
   "cell_type": "code",
   "execution_count": 40,
   "id": "1bf959ef-29d5-4a36-8c65-f07cd7dc2c7e",
   "metadata": {},
   "outputs": [
    {
     "name": "stdin",
     "output_type": "stream",
     "text": [
      "Enter angle :  54\n",
      "Enter angle :  6\n",
      "Enter angle :  120\n"
     ]
    },
    {
     "name": "stdout",
     "output_type": "stream",
     "text": [
      "Obtuse angle\n"
     ]
    }
   ],
   "source": [
    "# 22. Implement a program to determine the type of a triangle based on its angles.\n",
    "\n",
    "angle1 = int(input(\"Enter angle : \"))     # take angle from user\n",
    "angle2= int(input(\"Enter angle : \"))\n",
    "angle3 = int(input(\"Enter angle : \"))\n",
    "if (angle1 < 90 and angle2 < 90 and angle3 < 90 and angle1 + angle2 + angle3 == 180): # if all angles in triangle less than 90 then it's acute triangle\n",
    "    print(\"Acute Triangle\")\n",
    "elif (angle1 == 90 or angle2 == 90 or angle3 == 90) and (angle1 + angle2 + angle3 == 180):# if anyone angle is 90 then it's right triangle \n",
    "     print(\"Right Triangle\")\n",
    "elif (angle1 > 90 or angle2 > 90 or angle3 > 90) and (angle1 + angle2 + angle3 == 180):# if anyone angle is greater than 90 then it's obtuse triangle \n",
    "    print(\"Obtuse angle\")\n",
    "elif (angle1 + angle2 + angle3 != 180):\n",
    "    print(\"Not a Triangle\")\n"
   ]
  },
  {
   "cell_type": "code",
   "execution_count": 6,
   "id": "29dc9b88-1811-4379-be26-2c2c6a84e20e",
   "metadata": {},
   "outputs": [
    {
     "name": "stdin",
     "output_type": "stream",
     "text": [
      "Enter BMI :  30\n"
     ]
    },
    {
     "name": "stdout",
     "output_type": "stream",
     "text": [
      "person within the obese weight range\n"
     ]
    }
   ],
   "source": [
    "# 23. Develop a program to categorize a given person's BMI into underweight, normal, overweight, or obese using elif statements.\n",
    "\n",
    "BMI = float(input(\"Enter BMI : \"))                         # take BMI from user\n",
    "if BMI < 18.5 :                                            # If person BMI is less than 18.5, it falls within the underweight range.\n",
    "    print(\"person within the underweight range\")\n",
    "elif 18.5 <= BMI < 25.0:                                   # If person BMI is 18.5 to <25, it falls within the healthy weight range.\n",
    "    print(\"person within the healthy/normal weight range\")\n",
    "elif BMI in range(25, 30):                                 # If person BMI is 25.0 to <30, it falls within the overweight range.\n",
    "    print(\"person within the overweight weight range\")\n",
    "elif BMI >= 30:                                            # If person BMI is 30.0 or higher, it falls within the obesity range.\n",
    "    print(\"person within the obese weight range\")\n"
   ]
  },
  {
   "cell_type": "code",
   "execution_count": 9,
   "id": "f6aff716-8d75-43bb-8990-a3df74569db3",
   "metadata": {},
   "outputs": [
    {
     "name": "stdin",
     "output_type": "stream",
     "text": [
      "Enter number :  -9\n"
     ]
    },
    {
     "name": "stdout",
     "output_type": "stream",
     "text": [
      "-9 is Negative number\n"
     ]
    }
   ],
   "source": [
    "# 24. Create a program that determines whether a given number is positive, negative, or zero using elif statements.\n",
    "\n",
    "N = int(input(\"Enter number : \"))    # take number from user\n",
    "if N > 0:                           # check number positive , negative or zero\n",
    "    print(f\"{N} is positive number\") # print\n",
    "elif N == 0:\n",
    "    print(f\"{N} is Zero\")\n",
    "elif N < 0:\n",
    "    print(f\"{N} is Negative number\")\n"
   ]
  },
  {
   "cell_type": "code",
   "execution_count": 7,
   "id": "fb327c8b-c30f-498a-b935-b72caffeb991",
   "metadata": {},
   "outputs": [
    {
     "name": "stdin",
     "output_type": "stream",
     "text": [
      "Enter Char :  '\n"
     ]
    },
    {
     "name": "stdout",
     "output_type": "stream",
     "text": [
      "Special char\n"
     ]
    }
   ],
   "source": [
    "# 25. Write a Python script to determine the type of a character (uppercase, lowercase, or special) using elif statements.\n",
    "\n",
    "char = str(input(\"Enter Char : \"))                 # take char from user\n",
    "uppercase = \"ABCDEFGHIJKLMNOPQRSTUVWXYZ\"           # uppercase char\n",
    "lowercase = \"abcdefghijklmnopqrstuvwxyz\"           # lowercase char\n",
    "special = \"`~!@#$%^&*(\"\"''){}[]:;<>,./?|\\_-+=\"     # special char\n",
    "digit = \"1234567890\"                               # digit\n",
    "\n",
    "if char in uppercase:\n",
    "    print(\"uppercase\")\n",
    "elif char in lowercase:\n",
    "    print(\"lowercase\")\n",
    "elif char in digit:\n",
    "    print(\"Digit\")\n",
    "elif char in special:\n",
    "    print(\"Special char\")\n"
   ]
  },
  {
   "cell_type": "code",
   "execution_count": 12,
   "id": "7788a845-5d4a-4f03-8c69-d0d503becdce",
   "metadata": {},
   "outputs": [
    {
     "name": "stdin",
     "output_type": "stream",
     "text": [
      "Enter purchase amount :  1234567\n"
     ]
    },
    {
     "name": "stdout",
     "output_type": "stream",
     "text": [
      "Purchase amount is : 1234567\n",
      "Discount 50%\n",
      "Discounted price is : 617283.5\n"
     ]
    }
   ],
   "source": [
    "# 26. Implement a program to calculate the discounted price based on different purchase amounts using elif statements.\n",
    "\n",
    "purchase_amount = int(input(\"Enter purchase amount : \"))        # Enter purchase amount from user\n",
    "\n",
    "if purchase_amount in range(1, 100):                            # if person buy product within price 100 then discount will be 10\n",
    "    discount = 10\n",
    "    discounted_price = purchase_amount - (purchase_amount*discount)/100\n",
    "    print(f\"Purchase amount is : {purchase_amount}\")\n",
    "    print(f\"Discount {discount}%\")\n",
    "    print(f\"Discounted price is : {discounted_price}\")\n",
    "elif purchase_amount in range(100, 500):                        # if person buy product within price 100 to 500 then discount will be 15\n",
    "    discount = 15\n",
    "    discounted_price = purchase_amount - (purchase_amount*discount)/100\n",
    "    print(f\"Purchase amount is : {purchase_amount}\")\n",
    "    print(f\"Discount {discount}%\")\n",
    "    print(f\"Discounted price is : {discounted_price}\")\n",
    "elif purchase_amount in range(500, 1000):                      # if person buy product within price 500 to 1000 then discount will be 20         \n",
    "    discount = 20\n",
    "    discounted_price = purchase_amount - (purchase_amount*discount)/100\n",
    "    print(f\"Purchase amount is : {purchase_amount}\")\n",
    "    print(f\"Discount {discount}%\")\n",
    "    print(f\"Discounted price is : {discounted_price}\")\n",
    "elif purchase_amount in range(1000, 2000):                     # if person buy product within price 1000 to 2000 then discount will be 25\n",
    "    discount = 25\n",
    "    discounted_price = purchase_amount - (purchase_amount*discount)/100\n",
    "    print(f\"Purchase amount is : {purchase_amount}\")\n",
    "    print(f\"Discount {discount}%\")\n",
    "    print(f\"Discounted price is : {discounted_price}\")\n",
    "elif purchase_amount in range(2000, 10000):                   # if person buy product within price 2000 to 10000 then discount will be 30\n",
    "    discount = 30\n",
    "    discounted_price = purchase_amount - (purchase_amount*discount)/100\n",
    "    print(f\"Purchase amount is : {purchase_amount}\")\n",
    "    print(f\"Discount {discount}%\")\n",
    "    print(f\"Discounted price is : {discounted_price}\")\n",
    "elif purchase_amount in range(10000, 100000):                # if person buy product within price 10000 to 100000 then discount will be 40\n",
    "    discount = 40\n",
    "    discounted_price = purchase_amount - (purchase_amount*discount)/100\n",
    "    print(f\"Purchase amount is : {purchase_amount}\")\n",
    "    print(f\"Discount {discount}%\")\n",
    "    print(f\"Discounted price is : {discounted_price}\")\n",
    "elif purchase_amount in range(100000, 10000000):           # if person buy product within price 100000 to 10000000 then discount will be 50\n",
    "    discount = 50\n",
    "    discounted_price = purchase_amount - (purchase_amount*discount)/100\n",
    "    print(f\"Purchase amount is : {purchase_amount}\")\n",
    "    print(f\"Discount {discount}%\")\n",
    "    print(f\"Discounted price is : {discounted_price}\")\n",
    "\n"
   ]
  },
  {
   "cell_type": "code",
   "execution_count": 16,
   "id": "e5ae21ee-d243-4f0f-ba1d-f4aba2622b24",
   "metadata": {},
   "outputs": [
    {
     "name": "stdin",
     "output_type": "stream",
     "text": [
      "Enter consumption slab :  89000\n"
     ]
    },
    {
     "name": "stdout",
     "output_type": "stream",
     "text": [
      "Electricity Bill per month : 1321650.0\n"
     ]
    }
   ],
   "source": [
    "# 27. Develop a program to calculate the electricity bill based on different consumption slabs using elif statements.\n",
    "\n",
    "consumption_slab = int(input(\"Enter consumption slab : \"))        # Enter Energy unit used from user\n",
    "if consumption_slab in range(1, 100):\n",
    "    unit_fee = 4.22\n",
    "    electricity_bill = consumption_slab*unit_fee\n",
    "    print(f\"Electricity Bill per month : {electricity_bill}\")\n",
    "elif consumption_slab in range(100, 200):\n",
    "    unit_fee = 5.02\n",
    "    electricity_bill = consumption_slab*unit_fee\n",
    "    print(f\"Electricity Bill per month : {electricity_bill}\")\n",
    "elif consumption_slab in range(200, 500):\n",
    "    unit_fee = 6.85\n",
    "    electricity_bill = consumption_slab*unit_fee\n",
    "    print(f\"Electricity Bill per month : {electricity_bill}\")\n",
    "elif consumption_slab in range(500, 1000):\n",
    "    unit_fee = 8.85\n",
    "    electricity_bill = consumption_slab*unit_fee\n",
    "    print(f\"Electricity Bill per month : {electricity_bill}\")\n",
    "elif consumption_slab in range(1000, 10000):\n",
    "    unit_fee = 10.85\n",
    "    electricity_bill = consumption_slab*unit_fee\n",
    "    print(f\"Electricity Bill per month : {electricity_bill}\")\n",
    "elif consumption_slab in range(10000, 100000):\n",
    "    unit_fee = 14.85\n",
    "    electricity_bill = consumption_slab*unit_fee\n",
    "    print(f\"Electricity Bill per month : {electricity_bill}\")\n",
    "elif consumption_slab in range(100000, 1000000):\n",
    "    unit_fee = 8.85\n",
    "    electricity_bill = consumption_slab*unit_fee\n",
    "    print(f\"Electricity Bill per month : {electricity_bill}\")\n",
    "\n"
   ]
  },
  {
   "cell_type": "code",
   "execution_count": 12,
   "id": "6ed98a7c-6dfc-4883-a2d9-2e695b7cba66",
   "metadata": {},
   "outputs": [
    {
     "name": "stdin",
     "output_type": "stream",
     "text": [
      "Enter Side :  5\n",
      "Enter Side :  5\n",
      "Enter Side :  6\n",
      "Enter Side :  6\n",
      "Enter Angle :  50\n",
      "Enter Angle :  40\n",
      "Enter Angle :  50\n",
      "Enter Angle :  70\n"
     ]
    },
    {
     "name": "stdout",
     "output_type": "stream",
     "text": [
      "Kite\n"
     ]
    }
   ],
   "source": [
    "# 28. Create a program to determine the type of quadrilateral based on its angles and sides using elif statements.\n",
    "\n",
    "# A parallel to C and B parallel tp D\n",
    "# A, B, C, D are adjacent sides\n",
    "\n",
    "A = int(input(\"Enter Side : \"))\n",
    "B = int(input(\"Enter Side : \"))\n",
    "C = int(input(\"Enter Side : \"))\n",
    "D = int(input(\"Enter Side : \"))\n",
    "\n",
    "# angle a is opposite of c and b is opposite of d\n",
    "# a, b, c, d are adjacent angle\n",
    "\n",
    "a = int(input(\"Enter Angle : \"))\n",
    "b = int(input(\"Enter Angle : \"))\n",
    "c = int(input(\"Enter Angle : \"))\n",
    "d = int(input(\"Enter Angle : \"))\n",
    "\n",
    "if (A == B == C == D) and (a == b == c == d == 90): # All the sides of the square are of equal measure\n",
    "    print(\"Square\")                                 # and All the interior angles of a square are at 90 degrees (i.e., right angle)\n",
    "elif (A == C and B == D and A != B) and (a == b == c == d == 90): # The opposite sides of a rectangle are of equal length\n",
    "    print(\"Rectangle\")                                            # All the interior angles of a rectangle are 90 degrees.\n",
    "elif (A == B == C == D) and (a == c and b == d and a + b == 180 and c+ d == 180 and a != b): # All the four sides of a rhombus are of the same measure\n",
    "    print(\"Rhombus\") # and The opposite angles are of the same measure and The sum of any two adjacent angles of a rhombus is equal to 180 degrees\n",
    "elif (A == C and B == D and A != B) and (a == c and b == d and a + b == 180 and b + c == 180 and a != b): # The opposite side of the parallelogram are of the same length\n",
    "    print(\"Parallelogram\") # and The opposite angles are of equal measure and The sum of two adjacent angles of a parallelogram is equal to 180 degrees\n",
    "elif (A == B and C == D and B != C) and (a == c or b == d): # The pair of adjacent sides of a kite are of the same length and\n",
    "    print(\"Kite\") # Only one pair of opposite angles are of the same measure."
   ]
  },
  {
   "cell_type": "code",
   "execution_count": 17,
   "id": "e27809f4-4cac-448c-8393-402fe72332c6",
   "metadata": {},
   "outputs": [
    {
     "name": "stdin",
     "output_type": "stream",
     "text": [
      "Enter Month :  67\n"
     ]
    },
    {
     "name": "stdout",
     "output_type": "stream",
     "text": [
      "Invalid Month\n"
     ]
    }
   ],
   "source": [
    "# 29. Write a Python script to determine the season based on a user-provided month using elif statements.\n",
    "\n",
    "Month = int(input(\"Enter Month : \"))\n",
    "winter = [12, 1, 2]\n",
    "spring = [3, 4, 5]\n",
    "summer = [6, 7, 8]\n",
    "autumn = [9, 10, 11]\n",
    "if Month in winter:\n",
    "    print(\"Winter\")\n",
    "elif Month in spring:\n",
    "    print(\"Spring\")\n",
    "elif Month in summer:\n",
    "    print(\"Summer\")\n",
    "elif Month in autumn:\n",
    "    print(\"Autumn\")\n",
    "else:\n",
    "    print(\"Invalid Month\")\n"
   ]
  },
  {
   "cell_type": "code",
   "execution_count": 14,
   "id": "2ce41f17-ba3a-4bc1-827a-8554512280aa",
   "metadata": {},
   "outputs": [
    {
     "name": "stdin",
     "output_type": "stream",
     "text": [
      "Enter year :  1900\n",
      "Enter Month :  4\n"
     ]
    },
    {
     "name": "stdout",
     "output_type": "stream",
     "text": [
      "Month is 30 days Common Year\n"
     ]
    }
   ],
   "source": [
    "# 30. Implement a program to determine the type of a year (leap or common) and month (30 or 31 days) using elif statements.\n",
    "\n",
    "year = int(input(\"Enter year : \"))\n",
    "month = int(input(\"Enter Month : \"))\n",
    "month_30 = [4, 6, 9, 11]\n",
    "month_31 = [1, 3, 5, 7, 8, 10, 12]\n",
    "\n",
    "if month in month_30:\n",
    "    if (year%4 == 0 and year%100 != 0) or (year%400 == 0):\n",
    "        print(f\"Month is 30 days Leap Year\")\n",
    "    else:\n",
    "        print(f\"Month is 30 days Common Year\")\n",
    "elif month in month_31:\n",
    "    if (year%4 == 0 and year%100 != 0) or (year%400 == 0):\n",
    "        print(f\"Month is 31 days Leap Year\")\n",
    "    else:\n",
    "        print(f\"Month is 31 days Common Year\")\n",
    "elif month == 2:\n",
    "    if (year%4 == 0 and year%100 != 0) or (year%400 == 0):\n",
    "        print(f\"Month is 29 days Leap Year\")\n",
    "    else:\n",
    "        print(f\"Month is 28 days Common Year\")\n",
    "\n"
   ]
  },
  {
   "cell_type": "markdown",
   "id": "9db34d7f-5075-4499-8971-6e6bb6f2c6fa",
   "metadata": {},
   "source": [
    "# Basic Level:"
   ]
  },
  {
   "cell_type": "code",
   "execution_count": 23,
   "id": "73912e6c-2eca-400e-a91c-73b8bdaa0fe5",
   "metadata": {},
   "outputs": [
    {
     "name": "stdin",
     "output_type": "stream",
     "text": [
      "Enter number :  3\n"
     ]
    },
    {
     "name": "stdout",
     "output_type": "stream",
     "text": [
      "3 is positive number\n"
     ]
    }
   ],
   "source": [
    "# 1. Write a Python program that checks if a given number is positive, negative, or zero.\n",
    "\n",
    "N = int(input(\"Enter number : \"))    # take number from user\n",
    "if N > 0:                           # check number positive , negative or zero\n",
    "    print(f\"{N} is positive number\") # print\n",
    "elif N == 0:\n",
    "    print(f\"{N} is Zero\")\n",
    "elif N < 0:\n",
    "    print(f\"{N} is Negative number\")\n"
   ]
  },
  {
   "cell_type": "code",
   "execution_count": 24,
   "id": "4422c630-2ad3-418b-891d-8dc7a098030e",
   "metadata": {},
   "outputs": [
    {
     "name": "stdin",
     "output_type": "stream",
     "text": [
      "Enter age :  67\n"
     ]
    },
    {
     "name": "stdout",
     "output_type": "stream",
     "text": [
      "Eligible for vote\n"
     ]
    }
   ],
   "source": [
    "# 2. Create a program to determine if a person is eligible to vote based on their age.\n",
    "\n",
    "age = int(input(\"Enter age : \")) # take age from user\n",
    "if age >= 18 :                   # check person is greater than 18 or not\n",
    "    print(\"Eligible for vote\")   # print if this greater than or equal to 18\n",
    "else :\n",
    "    print(\"Not Eligible for vote\") # else  print this\n"
   ]
  },
  {
   "cell_type": "code",
   "execution_count": null,
   "id": "0b004dfd-f4d6-4f85-bb47-659321116657",
   "metadata": {},
   "outputs": [],
   "source": [
    "# 3. Write a program to find the maximum of two given numbers using conditional statements.\n",
    "\n",
    "num1 = int(input(\"Enter first number : \"))  # take num1 from user\n",
    "num2 = int(input(\"Enter second number : \")) #  take num2 from user \n",
    "if num1 > num2 :                            # check num1 is greater or not\n",
    "    print(f\"maximum number is {num1}\")      # print\n",
    "else:\n",
    "    print(f\"maximum number is {num2}\")\n"
   ]
  },
  {
   "cell_type": "code",
   "execution_count": null,
   "id": "57eb20d7-ca25-444e-9b6a-76e939669010",
   "metadata": {},
   "outputs": [],
   "source": [
    "# 4. Develop a program that calculates the grade of a student based on their exam score.\n",
    "\n",
    "score = int(input(\"Enter score : \"))          # enter grade from user\n",
    "if score > 80:                               # print grade based on scores\n",
    "    print(\"Grade is : 'A+' \")\n",
    "else:\n",
    "    if score in range(71,81):\n",
    "        print(\"Grade is : 'A'\")\n",
    "    else:\n",
    "        if score in range(61,71):\n",
    "            print(\"Grade is : 'B+'\")\n",
    "        else:\n",
    "            if score in range(51,61):\n",
    "                print(\"Grade is : 'B'\")\n",
    "            else:\n",
    "                if score in range(41,51):\n",
    "                    print(\"Grade is : 'C'\")\n",
    "                else:\n",
    "                    if score in range(35,41):\n",
    "                        print(\"Grade is : 'D'\")\n",
    "                    else:\n",
    "                        if score < 35:\n",
    "                            print(\"you are Fail\")\n"
   ]
  },
  {
   "cell_type": "code",
   "execution_count": 18,
   "id": "353f6520-ee94-416b-99f9-8fe6426b4c75",
   "metadata": {},
   "outputs": [
    {
     "name": "stdin",
     "output_type": "stream",
     "text": [
      "Enter year :  2023\n"
     ]
    },
    {
     "name": "stdout",
     "output_type": "stream",
     "text": [
      "2023 is not leap year\n"
     ]
    }
   ],
   "source": [
    "# 5. Create a program that checks if a year is a leap year or not.\n",
    "\n",
    "year = int(input(\"Enter year : \"))  # enter year from user\n",
    "if (year%4 == 0 and year%100 != 0) or (year%400 == 0) :                    # if year is divisible by 4 then it is leap year\n",
    "    print(f\"{year} is leap year\")\n",
    "else:\n",
    "    print(f\"{year} is not leap year\")\n"
   ]
  },
  {
   "cell_type": "code",
   "execution_count": 1,
   "id": "55f88608-a31b-4e6b-85bf-82a1bc1f04e1",
   "metadata": {},
   "outputs": [
    {
     "name": "stdin",
     "output_type": "stream",
     "text": [
      "Enter Sides :  1\n",
      "Enter Sides :  1\n",
      "Enter Sides :  1\n"
     ]
    },
    {
     "name": "stdout",
     "output_type": "stream",
     "text": [
      "Equilateral Triangle\n"
     ]
    }
   ],
   "source": [
    "# 6. Write a program to classify a triangle based on its sides' lengths.\n",
    "\n",
    "s1 = int(input(\"Enter Sides : \"))    # take sides of triangle from user\n",
    "s2 = int(input(\"Enter Sides : \"))    # take sides of triangle from user\n",
    "s3 = int(input(\"Enter Sides : \"))    # take sides of triangle from user\n",
    "if s1 == s2 and s1 == s3:            # if all the sides are equal the triangle is equilateral\n",
    "    print(\"Equilateral Triangle\")\n",
    "else:\n",
    "    if (s1 == s2 or s1 == s3 or s2 == s3) and (s1 != s3 or s2 != s3 or a1 != s2):\n",
    "        print(\"Isosceles Triangle\")\n",
    "    else:\n",
    "        print(\"scalene Triangle\")\n"
   ]
  },
  {
   "cell_type": "code",
   "execution_count": null,
   "id": "3499c56e-c4ca-47b9-9f5b-c44730d37f12",
   "metadata": {},
   "outputs": [],
   "source": [
    "# 7. Build a program that determines the largest of three given numbers.\n",
    "\n",
    "n1 = 24   # take three numbers\n",
    "n2 = 45\n",
    "n3 = 21\n",
    "if n1 >= n2 and n1 >= n3:               #check if n1 is largest and print it\n",
    "    print(f\"Largest number is : {n1}\")\n",
    "else:\n",
    "    if n2 >= n1 and n2 >= n3:             #check if n2 is largest and print it\n",
    "        print(f\"Largest number is : {n2}\")\n",
    "    else:                                   # if above two number is not largest then n3 is larget\n",
    "        print(f\"Largest number is : {n3}\")\n"
   ]
  },
  {
   "cell_type": "code",
   "execution_count": null,
   "id": "19053b00-d875-4714-a2ed-f1a0438f1d70",
   "metadata": {},
   "outputs": [],
   "source": [
    "# 8. Develop a program that checks whether a character is a vowel or a consonant.\n",
    "\n",
    "char = input(\"Enter char : \")      # take char from user\n",
    "vowels = \"AEIOUaeiou\"              # defines vowels\n",
    "if char in vowels :                # if char is in vowels then print vowels else print consonants\n",
    "    print(f\"{char} is vowel\")\n",
    "else:\n",
    "    print(f\"{char} is consonants\")\n"
   ]
  },
  {
   "cell_type": "code",
   "execution_count": null,
   "id": "fde1509b-df72-4b63-8cfb-6182143b0741",
   "metadata": {},
   "outputs": [],
   "source": [
    "# 9. Create a program to calculate the total cost of a shopping cart based on discounts.\n",
    "\n",
    "purchase_amount = int(input(\"Enter purchase amount : \"))        # Enter purchase amount from user\n",
    "\n",
    "if purchase_amount in range(1, 100):                            # if person buy product within price 100 then discount will be 10\n",
    "    discount = 10\n",
    "    discounted_price = purchase_amount - (purchase_amount*discount)/100\n",
    "    print(f\"Purchase amount is : {purchase_amount}\")\n",
    "    print(f\"Discount {discount}%\")\n",
    "    print(f\"Discounted price is : {discounted_price}\")\n",
    "elif purchase_amount in range(100, 500):                        # if person buy product within price 100 to 500 then discount will be 15\n",
    "    discount = 15\n",
    "    discounted_price = purchase_amount - (purchase_amount*discount)/100\n",
    "    print(f\"Purchase amount is : {purchase_amount}\")\n",
    "    print(f\"Discount {discount}%\")\n",
    "    print(f\"Discounted price is : {discounted_price}\")\n",
    "elif purchase_amount in range(500, 1000):                      # if person buy product within price 500 to 1000 then discount will be 20         \n",
    "    discount = 20\n",
    "    discounted_price = purchase_amount - (purchase_amount*discount)/100\n",
    "    print(f\"Purchase amount is : {purchase_amount}\")\n",
    "    print(f\"Discount {discount}%\")\n",
    "    print(f\"Discounted price is : {discounted_price}\")\n",
    "elif purchase_amount in range(1000, 2000):                     # if person buy product within price 1000 to 2000 then discount will be 25\n",
    "    discount = 25\n",
    "    discounted_price = purchase_amount - (purchase_amount*discount)/100\n",
    "    print(f\"Purchase amount is : {purchase_amount}\")\n",
    "    print(f\"Discount {discount}%\")\n",
    "    print(f\"Discounted price is : {discounted_price}\")\n",
    "elif purchase_amount in range(2000, 10000):                   # if person buy product within price 2000 to 10000 then discount will be 30\n",
    "    discount = 30\n",
    "    discounted_price = purchase_amount - (purchase_amount*discount)/100\n",
    "    print(f\"Purchase amount is : {purchase_amount}\")\n",
    "    print(f\"Discount {discount}%\")\n",
    "    print(f\"Discounted price is : {discounted_price}\")\n",
    "elif purchase_amount in range(10000, 100000):                # if person buy product within price 10000 to 100000 then discount will be 40\n",
    "    discount = 40\n",
    "    discounted_price = purchase_amount - (purchase_amount*discount)/100\n",
    "    print(f\"Purchase amount is : {purchase_amount}\")\n",
    "    print(f\"Discount {discount}%\")\n",
    "    print(f\"Discounted price is : {discounted_price}\")\n",
    "elif purchase_amount in range(100000, 10000000):           # if person buy product within price 100000 to 10000000 then discount will be 50\n",
    "    discount = 50\n",
    "    discounted_price = purchase_amount - (purchase_amount*discount)/100\n",
    "    print(f\"Purchase amount is : {purchase_amount}\")\n",
    "    print(f\"Discount {discount}%\")\n",
    "    print(f\"Discounted price is : {discounted_price}\")\n",
    "\n"
   ]
  },
  {
   "cell_type": "code",
   "execution_count": 2,
   "id": "9e0767fb-1fe9-4080-b23b-8a26c55dacc8",
   "metadata": {},
   "outputs": [
    {
     "name": "stdin",
     "output_type": "stream",
     "text": [
      "Enter Number :  3\n"
     ]
    },
    {
     "name": "stdout",
     "output_type": "stream",
     "text": [
      "Odd Number\n"
     ]
    }
   ],
   "source": [
    "# 10. Write a program that checks if a given number is even or odd.\n",
    "\n",
    "N = int(input(\"Enter Number : \")) # take number from user\n",
    "if N%2 == 0:                      # if Number is divisible by 2 then it is even else number is odd\n",
    "    print(\"Even Number\")\n",
    "else:\n",
    "    print(\"Odd Number\")\n"
   ]
  },
  {
   "cell_type": "markdown",
   "id": "859cb5cd-6f41-4cdf-b17a-1d7e33e64b09",
   "metadata": {},
   "source": [
    "# Intermediate Level:"
   ]
  },
  {
   "cell_type": "code",
   "execution_count": 5,
   "id": "2ca02d31-99aa-402d-99e4-c7cace7da91f",
   "metadata": {},
   "outputs": [
    {
     "name": "stdin",
     "output_type": "stream",
     "text": [
      "Enter the coefitient of x² :  1\n",
      "Enter the coefitient of x :  -5\n",
      "Enter the constant term :  6\n"
     ]
    },
    {
     "name": "stdout",
     "output_type": "stream",
     "text": [
      "Roots of Quadratic Equation 1x² + -5x + 6 is 3.0, 2.0\n"
     ]
    }
   ],
   "source": [
    "# 11. Write a program that calculates the roots of a quadratic equation .\n",
    "\n",
    "a = int(input(\"Enter the coefitient of x² : \"))     # take coefitient of x² from user\n",
    "b = int(input(\"Enter the coefitient of x : \"))      # take coefitient of x from user\n",
    "c = int(input(\"Enter the constant term : \"))        # take constant term from user\n",
    "\n",
    "r1 = (-b + ((b**2 - 4*a*c)**0.5))/2*a               # calculates roots using formula\n",
    "r2 = (-b - ((b**2 - 4*a*c)**0.5))/2*a\n",
    "print(f\"Roots of Quadratic Equation {a}x² + {b}x + {c} is {r1}, {r2}\") # print roots\n"
   ]
  },
  {
   "cell_type": "code",
   "execution_count": 6,
   "id": "b17b1cdf-a934-4086-a8c6-bb091ed379ad",
   "metadata": {},
   "outputs": [
    {
     "name": "stdin",
     "output_type": "stream",
     "text": [
      "Enter Number :  3\n"
     ]
    },
    {
     "name": "stdout",
     "output_type": "stream",
     "text": [
      "Wednesday\n"
     ]
    }
   ],
   "source": [
    "# 12. Create a program that determines the day of the week based on the day number (1-7).\n",
    "\n",
    "N = int(input(\"Enter Number : \"))          # enter number from user\n",
    "if N == 1:                                 # print day based on numbers\n",
    "    print(\"Monday\")\n",
    "else:\n",
    "    if N == 2:\n",
    "        print(\"Tuesday\")\n",
    "    else:\n",
    "        if N == 3:\n",
    "            print(\"Wednesday\")\n",
    "        else:\n",
    "            if N == 4:\n",
    "                print(\"Thursday\")\n",
    "            else:\n",
    "                if N == 5:\n",
    "                    print(\"Friday\")\n",
    "                else:\n",
    "                    if N == 6:\n",
    "                        print(\"Saturday\")\n",
    "                    else:\n",
    "                        if N == 7:\n",
    "                            print(\"Sunday\")\n",
    "                        else:\n",
    "                            print(\"Days not defined\")\n"
   ]
  },
  {
   "cell_type": "code",
   "execution_count": 8,
   "id": "80ffd8b2-2c62-40c0-9ebc-e4adb330f10e",
   "metadata": {},
   "outputs": [
    {
     "name": "stdin",
     "output_type": "stream",
     "text": [
      "Enter the Number :  6\n"
     ]
    },
    {
     "name": "stdout",
     "output_type": "stream",
     "text": [
      "720\n"
     ]
    }
   ],
   "source": [
    "# 13. Develop a program that calculates the factorial of a given number using recursion.\n",
    "\n",
    "def factorial(n):                       # define factorial function\n",
    "    if n == 0:                          # base case if value of n become 0 then return 1\n",
    "        return 1\n",
    "    return n*factorial(n-1)             # call function\n",
    "N = int(input(\"Enter the Number : \"))   # take input from user\n",
    "Factorial = factorial(N)                # call function and store return value in Factorial\n",
    "print(Factorial)                        # print factorial\n"
   ]
  },
  {
   "cell_type": "code",
   "execution_count": null,
   "id": "32f805d4-d7ba-4b96-a1cb-ea78edb8c688",
   "metadata": {},
   "outputs": [],
   "source": [
    "# 14. Write a program to find the largest among three numbers without using the `max()` function.\n",
    "\n",
    "n1 = 24   # take three numbers\n",
    "n2 = 45\n",
    "n3 = 21\n",
    "if n1 >= n2 and n1 >= n3:               #check if n1 is largest and print it\n",
    "    print(f\"Largest number is : {n1}\")\n",
    "else:\n",
    "    if n2 >= n1 and n2 >= n3:             #check if n2 is largest and print it\n",
    "        print(f\"Largest number is : {n2}\")\n",
    "    else:                                   # if above two number is not largest then n3 is larget\n",
    "        print(f\"Largest number is : {n3}\")\n"
   ]
  },
  {
   "cell_type": "code",
   "execution_count": 3,
   "id": "b48dcffe-1a28-4c4c-942d-a0f42a1b7441",
   "metadata": {},
   "outputs": [
    {
     "name": "stdin",
     "output_type": "stream",
     "text": [
      "Enter Deposit Amount :  2000\n"
     ]
    },
    {
     "name": "stdout",
     "output_type": "stream",
     "text": [
      "You are Depositing 2000 Rupees\n",
      "Your Current balance is 12000\n"
     ]
    },
    {
     "name": "stdin",
     "output_type": "stream",
     "text": [
      "Enter Withdraw Amount :  1000\n"
     ]
    },
    {
     "name": "stdout",
     "output_type": "stream",
     "text": [
      "You are Withdrawing 1000 Rupees\n",
      "Your Current balance is 11000\n"
     ]
    }
   ],
   "source": [
    "# 15. Create a program that simulates a basic ATM transaction menu.\n",
    "\n",
    "CurrentBalance = 10000                                  # initilize current balance\n",
    "\n",
    "def DepositAmount(CurrentBalance, Deposit):             # create function to deposit amount\n",
    "    CurrentBalance = CurrentBalance + Deposit           # calculate current balance\n",
    "    print(f\"You are Depositing {Deposit} Rupees\")       # print deposit amount\n",
    "    return CurrentBalance                               # return Current balance\n",
    "    \n",
    "def WithdrawAmount(CurrentBalance, Withdraw):           # create function to withdraw amount\n",
    "    CurrentBalance = CurrentBalance - Withdraw          # calculate curren balance\n",
    "    print(f\"You are Withdrawing {Withdraw} Rupees\")     # print withdraw amount\n",
    "    return CurrentBalance                               # return Current balance\n",
    "    \n",
    "Deposit = int(input(\"Enter Deposit Amount : \"))         # enter deposit amount from user\n",
    "CurrentBalance = DepositAmount(CurrentBalance, Deposit) # call function\n",
    "print(f\"Your Current balance is {CurrentBalance}\")      # print current balance\n",
    "\n",
    "Withdraw = int(input(\"Enter Withdraw Amount : \"))       # enter withdraw amount from user\n",
    "CurrentBalance = WithdrawAmount(CurrentBalance, Withdraw) # call function\n",
    "print(f\"Your Current balance is {CurrentBalance}\")      # print current balance\n"
   ]
  },
  {
   "cell_type": "code",
   "execution_count": 2,
   "id": "1f08f7be-e10e-4675-9885-50a56d63a1f3",
   "metadata": {},
   "outputs": [
    {
     "name": "stdin",
     "output_type": "stream",
     "text": [
      "Enter string :  asdas\n"
     ]
    },
    {
     "name": "stdout",
     "output_type": "stream",
     "text": [
      "Not Palindrome\n"
     ]
    }
   ],
   "source": [
    "# 16. Build a program that checks if a given string is a palindrome or not.\n",
    "\n",
    "string = input(\"Enter string : \")\n",
    "rev = string[::-1]\n",
    "if rev == string:\n",
    "    print(\"Palindrome\")\n",
    "else:\n",
    "    print(\"Not Palindrome\")\n"
   ]
  },
  {
   "cell_type": "code",
   "execution_count": 15,
   "id": "575b47a5-c9da-4668-a79c-e499d847dc32",
   "metadata": {},
   "outputs": [
    {
     "name": "stdout",
     "output_type": "stream",
     "text": [
      "average of a list of numbers, excluding the smallest and largest values is : 5.0\n"
     ]
    }
   ],
   "source": [
    "# 17. Write a program that calculates the average of a list of numbers, excluding the smallest and largest values.\n",
    "\n",
    "List = [4, 5, 6, 1, 2, 3, 9, 8, 7]   # take input list\n",
    "List.sort(reverse = False)           # sort list in assending order\n",
    "List.pop()                           # remove largest value\n",
    "List.pop(0)                          # remove smallest value\n",
    "Length = len(List)                   # after removing calculate total number of element\n",
    "Sum = 0                              # initialize sum variable\n",
    "for i in List:                       # calculate sum\n",
    "    Sum += i\n",
    "average = Sum/Length                 # calculate average\n",
    "print(f\"average of a list of numbers, excluding the smallest and largest values is : {average}\")\n"
   ]
  },
  {
   "cell_type": "code",
   "execution_count": 16,
   "id": "ae26831c-6d14-4778-ab8a-8f006c81fd5a",
   "metadata": {},
   "outputs": [
    {
     "name": "stdin",
     "output_type": "stream",
     "text": [
      "Enter Celsius value :  37\n"
     ]
    },
    {
     "name": "stdout",
     "output_type": "stream",
     "text": [
      "98.60000000000001\n"
     ]
    }
   ],
   "source": [
    "# 18. Develop a program that converts a given temperature from Celsius to Fahrenheit.\n",
    "\n",
    "Celsius_value = float(input(\"Enter Celsius value : \"))  # take celsius value\n",
    "Fahrenheit_value = (9/5)*Celsius_value + 32             # calculate fahrenheit value\n",
    "print(Fahrenheit_value)\n"
   ]
  },
  {
   "cell_type": "code",
   "execution_count": 2,
   "id": "f5ed7fda-5d1f-4891-af41-737e754bb7fb",
   "metadata": {},
   "outputs": [
    {
     "name": "stdin",
     "output_type": "stream",
     "text": [
      "Enter Input :  8\n",
      "Enter Input :  4\n"
     ]
    },
    {
     "name": "stdout",
     "output_type": "stream",
     "text": [
      "Addition of 8, 4 is : 12\n",
      "subtraction of 8, 4 is : 4\n",
      "multiplication of 8, 4 is : 32\n",
      "division of 8, 4 is : 2.0\n"
     ]
    }
   ],
   "source": [
    "# 19. Create a program that simulates a basic calculator for addition, subtraction, multiplication, and division.\n",
    "\n",
    "def addition(a, b):          # create function to add numbers\n",
    "    return a+b\n",
    "def subtraction(a, b):       # create function to substract numbers\n",
    "    return a-b\n",
    "def multiplication(a, b):    # create function to multiply numbers\n",
    "    return a*b\n",
    "def division(a, b):          # create function to divide numbers\n",
    "    return a/b\n",
    "\n",
    "a = int(input(\"Enter Input : \"))   # take number from user\n",
    "b = int(input(\"Enter Input : \"))   # take number from user\n",
    "\n",
    "Add = addition(a, b)\n",
    "print(f\"Addition of {a}, {b} is : {Add}\")\n",
    "Sub = subtraction(a, b)\n",
    "print(f\"subtraction of {a}, {b} is : {Sub}\")\n",
    "Mul = multiplication(a, b)\n",
    "print(f\"multiplication of {a}, {b} is : {Mul}\")\n",
    "Div = division(a, b)\n",
    "print(f\"division of {a}, {b} is : {Div}\")\n"
   ]
  },
  {
   "cell_type": "code",
   "execution_count": 1,
   "id": "46ca3554-15dd-4975-80bf-398f4591cbc2",
   "metadata": {},
   "outputs": [
    {
     "name": "stdin",
     "output_type": "stream",
     "text": [
      "Enter coeffitient of x³ :  1\n",
      "Enter coeffitient of x² :  -6\n",
      "Enter coeffitient of x :  11\n",
      "Enter constant term :  -6\n"
     ]
    },
    {
     "name": "stdout",
     "output_type": "stream",
     "text": [
      "(4+0j) (1.0000000000000004-0j) (0.9999999999999991+0j)\n"
     ]
    }
   ],
   "source": [
    "# 20. Write a program that determines the roots of a cubic equation using the Cardano formula.\n",
    "\n",
    "import cmath\n",
    "a = int(input(\"Enter coeffitient of x³ : \"))\n",
    "b = int(input(\"Enter coeffitient of x² : \"))\n",
    "c = int(input(\"Enter coeffitient of x : \"))\n",
    "d = int(input(\"Enter constant term : \"))\n",
    "\n",
    "if a == 0:\n",
    "    raise ValueError(\"Coefficient 'a' must not be zero for a cubic equation.\")\n",
    "\n",
    "# Calculate some intermediate values\n",
    "p = c / a - (b**2) / (3 * (a**2))\n",
    "q = (2 * (b**3)) / (27 * (a**3)) - (b * c) / (3 * (a**2)) + d / a\n",
    "discriminant = (q**2) / 4 + (p**3) / 27\n",
    "\n",
    "if discriminant > 0:\n",
    "    # Three real roots\n",
    "    r = (-q / 2 + cmath.sqrt(discriminant))**(1/3)\n",
    "    s = (-q / 2 - cmath.sqrt(discriminant))**(1/3)\n",
    "    root1 = r + s - b / (3 * a)\n",
    "    root2 = -((r + s) / 2) - b / (3 * a) + (r - s) * cmath.sqrt(3) * 1j / 2\n",
    "    root3 = -((r + s) / 2) - b / (3 * a) - (r - s) * cmath.sqrt(3) * 1j / 2\n",
    "elif discriminant == 0:\n",
    "    # Three real, equal roots\n",
    "    root1 = -((q / 2)**(1/3)) - b / (3 * a)\n",
    "    root2 = (q / 2)**(1/3) - b / (3 * a)\n",
    "    root3 = root1\n",
    "else:\n",
    "    # One real root and two complex roots\n",
    "    r = cmath.sqrt((-p)**3)\n",
    "    phi = cmath.phase(-q / 2 + r)\n",
    "    root1 = (2 * abs(r)**(1/3) * cmath.cos(phi / 3)) - b / (3 * a)\n",
    "    root2 = (2 * abs(r)**(1/3) * cmath.cos((phi + 2 * cmath.pi) / 3)) - b / (3 * a)\n",
    "    root3 = (2 * abs(r)**(1/3) * cmath.cos((phi + 4 * cmath.pi) / 3)) - b / (3 * a)\n",
    "    \n",
    "print(root1, root2, root3)"
   ]
  },
  {
   "cell_type": "markdown",
   "id": "74384339-dec5-426b-bb68-be8ae2015bc3",
   "metadata": {},
   "source": [
    "# Advanced Level:"
   ]
  },
  {
   "cell_type": "code",
   "execution_count": 14,
   "id": "9aad30da-731a-4d15-b614-9834b1d40da8",
   "metadata": {},
   "outputs": [
    {
     "name": "stdin",
     "output_type": "stream",
     "text": [
      "Enter Income :  2660000\n"
     ]
    },
    {
     "name": "stdout",
     "output_type": "stream",
     "text": [
      "Person income 2660000, persentage tax : 30, Amount Deduct : 798000.0\n"
     ]
    }
   ],
   "source": [
    "# 21. Create a program that calculates the income tax based on the user's income and tax brackets.\n",
    "\n",
    "income = int(input(\"Enter Income : \"))\n",
    "if income in range(1, 250000):\n",
    "    tax_rate = 0\n",
    "    income_tax = (income*tax_rate)/100\n",
    "    print(f\"Person income {income}, persentage tax : {tax_rate}%, Amount Deduct : {income_tax}\")\n",
    "elif income in range(250000, 500000):\n",
    "    tax_rate = 5\n",
    "    income_tax = (income*tax_rate)/100\n",
    "    print(f\"Person income {income}, persentage tax : {tax_rate}%, Amount Deduct : {income_tax}\")\n",
    "elif income in range(500000, 1000001):\n",
    "    tax_rate = 20\n",
    "    income_tax = (income*tax_rate)/100\n",
    "    print(f\"Person income {income}, persentage tax : {tax_rate}%, Amount Deduct : {income_tax}\")\n",
    "elif income > 1000000:\n",
    "    tax_rate = 30\n",
    "    income_tax = (income*tax_rate)/100\n",
    "    print(f\"Person income {income}, persentage tax : {tax_rate}, Amount Deduct : {income_tax}\")\n"
   ]
  },
  {
   "cell_type": "code",
   "execution_count": 8,
   "id": "2cd1828d-e7bb-4b04-acbe-12632581bd95",
   "metadata": {},
   "outputs": [
    {
     "name": "stdin",
     "output_type": "stream",
     "text": [
      "Enter a choice (rock, paper, scissors):  paper\n"
     ]
    },
    {
     "name": "stdout",
     "output_type": "stream",
     "text": [
      "You choose : paper, Computer choose : paper \n",
      "Both players selected paper. It's a tie!\n"
     ]
    }
   ],
   "source": [
    "# 22. Write a program that simulates a rock-paper-scissors game against the computer.\n",
    "\n",
    "import random\n",
    "\n",
    "user_action = input(\"Enter a choice (rock, paper, scissors): \")            # Enter user input anyone of (rock, paper, scissors)\n",
    "posiible_action = [\"rock\", \"paper\", \"scissors\"]                            # possible action \n",
    "computer_action = random.choice(posiible_action)                           # computer randomly taken choices from possible action\n",
    "\n",
    "print(f\"You choose : {user_action}, Computer choose : {computer_action} \") # print user action taken and computer action taken\n",
    "if user_action == computer_action:\n",
    "    print(f\"Both players selected {user_action}. It's a tie!\")\n",
    "elif user_action == \"rock\":\n",
    "    if computer_action == \"scissors\":\n",
    "        print(\"Rock smashes scissors! You win!\")\n",
    "    else:\n",
    "        print(\"Paper covers rock! You lose.\")\n",
    "elif user_action == \"paper\":\n",
    "    if computer_action == \"rockrock\":\n",
    "        print(\"Paper covers rock! You win!\")\n",
    "    else:\n",
    "        print(\"Scissors cuts paper! You lose.\")\n",
    "elif user_action == \"scissors\":\n",
    "    if computer_action == \"paper\":\n",
    "        print(\"Scissors cuts paper! You win!\")\n",
    "    else:\n",
    "        print(\"Rock smashes scissors! You lose.\")\n"
   ]
  },
  {
   "cell_type": "code",
   "execution_count": 2,
   "id": "521b5b97-7820-43a7-8917-de1d249fbabf",
   "metadata": {},
   "outputs": [
    {
     "name": "stdin",
     "output_type": "stream",
     "text": [
      "Enter the length of password :  9\n"
     ]
    },
    {
     "name": "stdout",
     "output_type": "stream",
     "text": [
      "A randomly generated Password is : R5Rn_^iei\n"
     ]
    }
   ],
   "source": [
    "# 23. Develop a program that generates a random password based on user preferences (length, complexity).\n",
    "\n",
    "import random                                                     # import random for taking random values\n",
    "password_length = int(input(\"Enter the length of password : \"))   # enter password length\n",
    "string = \"abcdefghijklmnopqrstuvwxyzABCDEFGHIJKLMNOPQRSTUVWXYZ0123456789!@#$%^&*?+_=-~\"\n",
    "password = \"\"                                                     # initialize password\n",
    "\n",
    "for i in range(password_length):\n",
    "    password += random.choice(string)\n",
    "print(f\"A randomly generated Password is : {password}\")\n",
    "\n"
   ]
  },
  {
   "cell_type": "code",
   "execution_count": null,
   "id": "65980ec3-8708-4ccc-bf0e-aab54b158d2f",
   "metadata": {},
   "outputs": [],
   "source": [
    "# 24. Create a program that implements a simple text-based adventure game with branching scenarios.\n",
    "\n",
    "\n",
    "import time #Imports a module to add a pause\n",
    "\n",
    "#Figuring out how users might respond\n",
    "answer_A = [\"A\", \"a\"]\n",
    "answer_B = [\"B\", \"b\"]\n",
    "answer_C = [\"C\", \"c\"]\n",
    "yes = [\"Y\", \"y\", \"yes\"]\n",
    "no = [\"N\", \"n\", \"no\"]\n",
    "\n",
    "#Grabbing objects\n",
    "sword = 0\n",
    "flower = 0\n",
    "\n",
    "required = (\"\\nUse only A, B, or C\\n\") #Cutting down on duplication\n",
    "\n",
    "#The story is broken into sections, starting with \"intro\"\n",
    "def intro():\n",
    "  print (\"After a drunken night out with friends, you awaken the \"\n",
    "  \"next morning in a thick, dank forest. Head spinning and \" \n",
    "  \"fighting the urge to vomit, you stand and marvel at your new, \"\n",
    "  \"unfamiliar setting. The peace quickly fades when you hear a \"\n",
    "  \"grotesque sound emitting behind you. A slobbering orc is \"\n",
    "  \"running towards you. You will:\")\n",
    "  time.sleep(1)\n",
    "  print (\"\"\"  A. Grab a nearby rock and throw it at the orc\n",
    "  B. Lie down and wait to be mauled\n",
    "  C. Run\"\"\")\n",
    "  choice = input(\">>> \") #Here is your first choice.\n",
    "  if choice in answer_A:\n",
    "    option_rock()\n",
    "  elif choice in answer_B:\n",
    "    print (\"\\nWelp, that was quick. \"\n",
    "    \"\\n\\nYou died!\")\n",
    "  elif choice in answer_C:\n",
    "    option_run()\n",
    "  else:\n",
    "    print (required)\n",
    "    intro()\n",
    "\n",
    "def option_rock(): \n",
    "  print (\"\\nThe orc is stunned, but regains control. He begins \"\n",
    "  \"running towards you again. Will you:\")\n",
    "  time.sleep(1)\n",
    "  print (\"\"\"  A. Run\n",
    "  B. Throw another rock\n",
    "  C. Run towards a nearby cave\"\"\")\n",
    "  choice = input(\">>> \")\n",
    "  if choice in answer_A:\n",
    "    option_run()\n",
    "  elif choice in answer_B:\n",
    "    print (\"\\nYou decided to throw another rock, as if the first \" \n",
    "    \"rock thrown did much damage. The rock flew well over the \"\n",
    "    \"orcs head. You missed. \\n\\nYou died!\")\n",
    "  elif choice in answer_C:\n",
    "    option_cave()\n",
    "  else:\n",
    "    print (required)\n",
    "    option_rock()\n",
    "\n",
    "def option_cave():\n",
    "  print (\"\\nYou were hesitant, since the cave was dark and \"\n",
    "  \"ominous. Before you fully enter, you notice a shiny sword on \"\n",
    "  \"the ground. Do you pick up a sword. Y/N?\")\n",
    "  choice = input(\">>> \")\n",
    "  if choice in yes:\n",
    "    sword = 1 #adds a sword\n",
    "  else:\n",
    "    sword = 0\n",
    "  print (\"\\nWhat do you do next?\")\n",
    "  time.sleep(1)\n",
    "  print (\"\"\"  A. Hide in silence\n",
    "  B. Fight\n",
    "  C. Run\"\"\")\n",
    "  choice = input(\">>> \")\n",
    "  if choice in answer_A:\n",
    "    print (\"\\nReally? You're going to hide in the dark? I think \"\n",
    "    \"orcs can see very well in the dark, right? Not sure, but \"\n",
    "    \"I'm going with YES, so...\\n\\nYou died!\")\n",
    "  elif choice in answer_B:\n",
    "   if sword > 0:\n",
    "    print (\"\\nYou laid in wait. The shimmering sword attracted \"\n",
    "    \"the orc, which thought you were no match. As he walked \"\n",
    "    \"closer and closer, your heart beat rapidly. As the orc \"\n",
    "    \"reached out to grab the sword, you pierced the blade into \"\n",
    "    \"its chest. \\n\\nYou survived!\")\n",
    "   else: #If the user didn't grab the sword\n",
    "     print (\"\\nYou should have picked up that sword. You're \"\n",
    "     \"defenseless. \\n\\nYou died!\")\n",
    "  elif choice in answer_C:\n",
    "    print (\"As the orc enters the dark cave, you sliently \"\n",
    "    \"sneak out. You're several feet away, but the orc turns \"\n",
    "    \"around and sees you running.\")\n",
    "    option_run()\n",
    "  else:\n",
    "    print (required)\n",
    "    option_cave()\n",
    "\n",
    "def option_run():\n",
    "  print (\"\\nYou run as quickly as possible, but the orc's \"\n",
    "  \"speed is too great. You will:\")\n",
    "  time.sleep(1)\n",
    "  print (\"\"\"  A. Hide behind boulder\n",
    "  B. Trapped, so you fight\n",
    "  C. Run towards an abandoned town\"\"\")\n",
    "  choice = input(\">>> \")\n",
    "  if choice in answer_A:\n",
    "    print (\"You're easily spotted. \"\n",
    "    \"\\n\\nYou died!\")\n",
    "  elif choice in answer_B:\n",
    "    print (\"\\nYou're no match for an orc. \"\n",
    "    \"\\n\\nYou died!\")\n",
    "  elif choice in answer_C:\n",
    "    option_town()\n",
    "  else:\n",
    "    print (required)\n",
    "    option_run()\n",
    "    \n",
    "def option_town():\n",
    "  print (\"\\nWhile frantically running, you notice a rusted \"\n",
    "  \"sword lying in the mud. You quickly reach down and grab it, \"\n",
    "  \"but miss. You try to calm your heavy breathing as you hide \"\n",
    "  \"behind a delapitated building, waiting for the orc to come \"\n",
    "  \"charging around the corner. You notice a purple flower \"\n",
    "  \"near your foot. Do you pick it up? Y/N\")\n",
    "  choice = input(\">>> \")\n",
    "  if choice in yes:\n",
    "    flower = 1 #adds a flower\n",
    "  else:\n",
    "    flower = 0\n",
    "  print (\"You hear its heavy footsteps and ready yourself for \"\n",
    "  \"the impending orc.\")\n",
    "  time.sleep(1)\n",
    "  if flower > 0:\n",
    "    print (\"\\nYou quickly hold out the purple flower, somehow \"\n",
    "    \"hoping it will stop the orc. It does! The orc was looking \"\n",
    "    \"for love. \"\n",
    "    \"\\n\\nThis got weird, but you survived!\")\n",
    "  else: #If the user didn't grab the sword\n",
    "     print (\"\\nMaybe you should have picked up the flower. \"\n",
    "     \"\\n\\nYou died!\")\n",
    "\n",
    "intro()"
   ]
  },
  {
   "cell_type": "code",
   "execution_count": 5,
   "id": "78a6828f-e40c-4fa6-a511-43b23ffc44ff",
   "metadata": {},
   "outputs": [
    {
     "name": "stdin",
     "output_type": "stream",
     "text": [
      "Enter coeffitient of x :  0\n",
      "Enter constant term :  1\n"
     ]
    },
    {
     "name": "stdout",
     "output_type": "stream",
     "text": [
      "Solution: No solution (the equation is inconsistent)\n"
     ]
    }
   ],
   "source": [
    "# 25. Build a program that solves a linear equation  for x, considering different cases.\n",
    "\n",
    "# A linear equation is typically in the form ax + b = 0. \n",
    "\n",
    "def solve_linear_equation(a, b):\n",
    "    if a == 0:\n",
    "        if b == 0:\n",
    "            return \"Infinite solutions (x can be any real number)\"\n",
    "        else:\n",
    "            return \"No solution (the equation is inconsistent)\"\n",
    "    else:\n",
    "        x = -b / a\n",
    "        return f\"x = {x}\"\n",
    "\n",
    "# Example usage:\n",
    "a = int(input(\"Enter coeffitient of x : \"))\n",
    "b = int(input(\"Enter constant term : \"))\n",
    "\n",
    "solution = solve_linear_equation(a, b)\n",
    "print(\"Solution:\", solution)\n"
   ]
  },
  {
   "cell_type": "code",
   "execution_count": 1,
   "id": "b2bf5f5f-6d7f-4d8b-ad6c-74a662d61a06",
   "metadata": {},
   "outputs": [
    {
     "name": "stdout",
     "output_type": "stream",
     "text": [
      "Welcome to the Quiz Game!\n",
      "\n",
      "Question 1: What is the capital of France?\n",
      "1. London\n",
      "2. Berlin\n",
      "3. Paris\n",
      "4. Madrid\n"
     ]
    },
    {
     "name": "stdin",
     "output_type": "stream",
     "text": [
      "Enter the number of your choice :  3\n"
     ]
    },
    {
     "name": "stdout",
     "output_type": "stream",
     "text": [
      "Correct!\n",
      "\n",
      "Question 2: Which planet is known as the Red Planet?\n",
      "1. Venus\n",
      "2. Mars\n",
      "3. Jupiter\n",
      "4. Saturn\n"
     ]
    },
    {
     "name": "stdin",
     "output_type": "stream",
     "text": [
      "Enter the number of your choice :  2\n"
     ]
    },
    {
     "name": "stdout",
     "output_type": "stream",
     "text": [
      "Correct!\n",
      "\n",
      "Question 3: What is 2 + 2?\n",
      "1. 3\n",
      "2. 4\n",
      "3. 5\n",
      "4. 6\n"
     ]
    },
    {
     "name": "stdin",
     "output_type": "stream",
     "text": [
      "Enter the number of your choice :  2\n"
     ]
    },
    {
     "name": "stdout",
     "output_type": "stream",
     "text": [
      "Correct!\n",
      "\n",
      "Question 4: What TV show is credited with popularizing the verb self-destruct?\n",
      "1. Mission: Impossible\n",
      "2. The Six Million Dollar Man\n",
      "3. The Twilight Zone\n",
      "4. The X-Files\n"
     ]
    },
    {
     "name": "stdin",
     "output_type": "stream",
     "text": [
      "Enter the number of your choice :  1\n"
     ]
    },
    {
     "name": "stdout",
     "output_type": "stream",
     "text": [
      "Correct!\n",
      "\n",
      "Question 5: Meaning to give something that was once received as a gift, regift was coined in what sitcom?\n",
      "1. Seinfeld\n",
      "2. Cheers\n",
      "3. Roseanne\n",
      "4. The Office\n"
     ]
    },
    {
     "name": "stdin",
     "output_type": "stream",
     "text": [
      "Enter the number of your choice :  1\n"
     ]
    },
    {
     "name": "stdout",
     "output_type": "stream",
     "text": [
      "Correct!\n",
      "\n",
      "Question 6: With his spouse away on business, Max found that ______ did make the heart grow fonder.\n",
      "1. abscience\n",
      "2. absence\n",
      "3. absense\n",
      "4. abcense\n"
     ]
    },
    {
     "name": "stdin",
     "output_type": "stream",
     "text": [
      "Enter the number of your choice :  2\n"
     ]
    },
    {
     "name": "stdout",
     "output_type": "stream",
     "text": [
      "Correct!\n",
      "\n",
      "Question 7: The dealership offered a money-back _____ on all cars.\n",
      "1. gaurantee\n",
      "2. garuantee\n",
      "3. gaurauntee\n",
      "4. guarantee\n"
     ]
    },
    {
     "name": "stdin",
     "output_type": "stream",
     "text": [
      "Enter the number of your choice :  4\n"
     ]
    },
    {
     "name": "stdout",
     "output_type": "stream",
     "text": [
      "Correct!\n",
      "\n",
      "Quiz completed! Your score: 7/7\n"
     ]
    }
   ],
   "source": [
    "# 26. Write a program that simulates a basic quiz game with multiple-choice questions and scoring.\n",
    "\n",
    "class QuizQuestion:\n",
    "    def __init__(self, question, choices, correct_answer):\n",
    "        self.question = question\n",
    "        self.choices = choices\n",
    "        self.correct_answer = correct_answer\n",
    "        \n",
    "    def is_correct(self, choice):\n",
    "        return choice == self.correct_answer\n",
    "    \n",
    "class QuizGame:\n",
    "    def __init__(self):\n",
    "        self.questions = []\n",
    "        self.score = 0\n",
    "        \n",
    "    def add_question(self, question):\n",
    "        self.questions.append(question)\n",
    "        \n",
    "    def start_quiz(self):\n",
    "        print(\"Welcome to the Quiz Game!\")\n",
    "        for i, question in enumerate(self.questions, start = 1):\n",
    "            print(f\"\\nQuestion {i}: {question.question}\")\n",
    "            for j, choice in enumerate(question.choices, start = 1):\n",
    "                print(f\"{j}. {choice}\")\n",
    "                \n",
    "            user_choice = input(\"Enter the number of your choice : \")\n",
    "            \n",
    "            if user_choice.isdigit():\n",
    "                user_choice = int(user_choice)\n",
    "                if 1 <= user_choice <= len(question.choices):\n",
    "                    user_answer = question.choices[user_choice - 1]\n",
    "                    if question.is_correct(user_answer):\n",
    "                        print(\"Correct!\")\n",
    "                        self.score += 1\n",
    "                    else:\n",
    "                        print(f\"Wrong! The correct answer is: {question.correct_answer}\")\n",
    "                else:\n",
    "                    print(\"Invalid choice. Please enter a valid choice number.\")\n",
    "            else:\n",
    "                print(\"Invalid input. Please enter a number.\")\n",
    "        print(f\"\\nQuiz completed! Your score: {self.score}/{len(self.questions)}\")\n",
    "        \n",
    "# Example usage:\n",
    "question1 = QuizQuestion(\"What is the capital of France?\", [\"London\", \"Berlin\", \"Paris\", \"Madrid\"], \"Paris\")\n",
    "question2 = QuizQuestion(\"Which planet is known as the Red Planet?\", [\"Venus\", \"Mars\", \"Jupiter\", \"Saturn\"], \"Mars\")\n",
    "question3 = QuizQuestion(\"What is 2 + 2?\", [\"3\", \"4\", \"5\", \"6\"], \"4\")\n",
    "question4 = QuizQuestion(\"What TV show is credited with popularizing the verb self-destruct?\", [\"Mission: Impossible\", \"The Six Million Dollar Man\", \"The Twilight Zone\", \"The X-Files\"], \"Mission: Impossible\")   \n",
    "question5 = QuizQuestion(\"Meaning to give something that was once received as a gift, regift was coined in what sitcom?\", [\"Seinfeld\", \"Cheers\", \"Roseanne\", \"The Office\"], \"Seinfeld\") \n",
    "question6 = QuizQuestion(\"With his spouse away on business, Max found that ______ did make the heart grow fonder.\", [\"abscience\", \"absence\", \"absense\", \"abcense\"], \"absence\")\n",
    "question7 = QuizQuestion(\"The dealership offered a money-back _____ on all cars.\", [\"gaurantee\", \"garuantee\", \"gaurauntee\", \"guarantee\"], \"guarantee\")\n",
    "\n",
    "quiz = QuizGame()\n",
    "quiz.add_question(question1)\n",
    "quiz.add_question(question2)\n",
    "quiz.add_question(question3)\n",
    "quiz.add_question(question4)\n",
    "quiz.add_question(question5)\n",
    "quiz.add_question(question6)\n",
    "quiz.add_question(question7)\n",
    "quiz.start_quiz()\n"
   ]
  },
  {
   "cell_type": "code",
   "execution_count": 7,
   "id": "af8f4a68-8bd2-4cba-96ce-ba21d4bfcb10",
   "metadata": {},
   "outputs": [
    {
     "name": "stdin",
     "output_type": "stream",
     "text": [
      "Enter year :  1949\n"
     ]
    },
    {
     "name": "stdout",
     "output_type": "stream",
     "text": [
      "Prime year\n"
     ]
    }
   ],
   "source": [
    "# 27. Develop a program that determines whether a given year is a prime number or not.\n",
    "\n",
    "year = int(input(\"Enter year : \"))\n",
    "\n",
    "for i in range(2, year):\n",
    "    if year%i == 0:\n",
    "        print(\"Not prime year\")\n",
    "        break\n",
    "    if i == year//2:\n",
    "        print(\"Prime year\")\n",
    "        break\n",
    "\n"
   ]
  },
  {
   "cell_type": "code",
   "execution_count": 10,
   "id": "50e08f33-5c99-4fe5-bf85-86d172e06f73",
   "metadata": {},
   "outputs": [
    {
     "name": "stdin",
     "output_type": "stream",
     "text": [
      "Enter number1 :  5\n",
      "Enter number2 :  7\n",
      "Enter number3 :  4\n"
     ]
    },
    {
     "name": "stdout",
     "output_type": "stream",
     "text": [
      "Sorted number in ascending order : 4, 5, 7\n"
     ]
    }
   ],
   "source": [
    "# 28. Create a program that sorts three numbers in ascending order using conditional statements.\n",
    "\n",
    "a = int(input(\"Enter number1 : \"))\n",
    "b = int(input(\"Enter number2 : \"))\n",
    "c = int(input(\"Enter number3 : \"))\n",
    "\n",
    "largest_number = 0\n",
    "middle_number = 0\n",
    "smallest_number = 0\n",
    "\n",
    "if a <= b and a <= c:\n",
    "    smallest_number = a\n",
    "    if b <= c:\n",
    "        middle_number = b\n",
    "        largest_number = c\n",
    "    else:\n",
    "        middle_number = c\n",
    "        largest_number = b\n",
    "elif b <= a and b <= c:\n",
    "    smallest_number = b\n",
    "    if a <= c:\n",
    "        middle_number = a\n",
    "        largest_number = c\n",
    "    else:\n",
    "        middle_number = c\n",
    "        largest_number = a\n",
    "elif c <= a and c <= b:\n",
    "    smallest_number = c\n",
    "    if a <= b:\n",
    "        middle_number = a\n",
    "        largest_number = b\n",
    "    else:\n",
    "        middle_number = b\n",
    "        largest_number = a\n",
    "\n",
    "print(f\"Sorted number in ascending order : {smallest_number}, {middle_number}, {largest_number}\")"
   ]
  },
  {
   "cell_type": "code",
   "execution_count": 19,
   "id": "f8fe493e-00a0-498b-81ef-acb0d989b29f",
   "metadata": {},
   "outputs": [
    {
     "name": "stdout",
     "output_type": "stream",
     "text": [
      "The roots of the quartic equation are:\n",
      "Root 1: 1.0000\n",
      "Root 2: 1.0000\n",
      "Root 3: 1.0000\n",
      "Root 4: 2.0000\n"
     ]
    }
   ],
   "source": [
    "# 29. Build a program that determines the roots of a quartic equation using numerical methods.\n",
    "\n",
    "from scipy.optimize import newton\n",
    "\n",
    "# Define the quartic equation f(x) = ax^4 + bx^3 + cx^2 + dx + e\n",
    "a = 1\n",
    "b = -10\n",
    "c = 35\n",
    "d = -50\n",
    "e = 24\n",
    "\n",
    "def quartic_equation(x):\n",
    "    return a * x**4 + b * x**3 + c * x**2 + d * x + e\n",
    "\n",
    "# Use the Newton-Raphson method to find the roots\n",
    "initial_guesses = [-3, -2, 1, 2]  # Initial guesses for the roots\n",
    "roots = [newton(quartic_equation, guess) for guess in initial_guesses]\n",
    "\n",
    "print(\"The roots of the quartic equation are:\")\n",
    "for i, root in enumerate(roots, start=1):\n",
    "    print(f\"Root {i}: {root:.4f}\")\n"
   ]
  },
  {
   "cell_type": "code",
   "execution_count": 5,
   "id": "46ecd1b1-725d-4ce9-a7ca-3a3b37841d59",
   "metadata": {},
   "outputs": [
    {
     "name": "stdin",
     "output_type": "stream",
     "text": [
      "Enter weight in kg :  80\n",
      "Enter Height in meters :  2\n"
     ]
    },
    {
     "name": "stdout",
     "output_type": "stream",
     "text": [
      "Person BMI is : 20.0\n",
      "person within the healthy/normal weight range\n"
     ]
    }
   ],
   "source": [
    "# 30. Write a program that calculates the BMI (Body Mass Index) and provides health recommendations based on the user's input.\n",
    "\n",
    "weight = float(input(\"Enter weight in kg : \"))             # take weight person fron user\n",
    "height = float(input(\"Enter Height in meters : \"))         # take person height from user\n",
    "BMI = weight/(height*height)                               # calculate BMI\n",
    "print(f\"Person BMI is : {BMI}\")\n",
    "if BMI < 18.5 :                                            # If person BMI is less than 18.5, it falls within the underweight range.\n",
    "    print(\"person within the underweight range\")\n",
    "elif 18.5 <= BMI < 25.0:                                   # If person BMI is 18.5 to <25, it falls within the healthy weight range.\n",
    "    print(\"person within the healthy/normal weight range\")\n",
    "elif BMI in range(25, 30):                                 # If person BMI is 25.0 to <30, it falls within the overweight range.\n",
    "    print(\"person within the overweight weight range\")\n",
    "elif BMI >= 30:                                            # If person BMI is 30.0 or higher, it falls within the obesity range.\n",
    "    print(\"person within the obese weight range\")\n",
    "\n",
    "\n"
   ]
  },
  {
   "cell_type": "markdown",
   "id": "5e504d55-fd7c-479d-b8d4-215d79f2d740",
   "metadata": {},
   "source": [
    "# Challenge Level:"
   ]
  },
  {
   "cell_type": "code",
   "execution_count": 3,
   "id": "9bfc0626-6871-40a3-9520-7fdcecf8ba58",
   "metadata": {},
   "outputs": [
    {
     "name": "stdin",
     "output_type": "stream",
     "text": [
      "Enter Password :  Farhan%67\n"
     ]
    },
    {
     "name": "stdout",
     "output_type": "stream",
     "text": [
      "Valid Password\n"
     ]
    }
   ],
   "source": [
    "# 31. Create a program that validates a password based on complexity rules (length, characters, etc.).\n",
    "\n",
    "import re\n",
    "\n",
    "def is_valid_password(password):\n",
    "    \n",
    "    if len(password) < 8:                                      # Check the length of the password\n",
    "        return False\n",
    "    \n",
    "    if not re.search(r'[A-Z]', password):                      # Check if the password contains at least one uppercase letter\n",
    "        return False\n",
    "    \n",
    "    if not re.search(r'[a-z]', password):                      # Check if the password contains at least one lowercase letter\n",
    "        return False\n",
    "    \n",
    "    if not re.search(r'\\d', password):                         # Check if the password contains at least one digit\n",
    "        return False\n",
    "    \n",
    "    if not re.search(r'[!@#$%^&*(\"\"'';),.?:{}|<>]', password): # Check if the password contains at least one special character \n",
    "        return False\n",
    "    \n",
    "                                                             # If all checks pass, the password is considered valid\n",
    "    \n",
    "    return True\n",
    "\n",
    "password = input(\"Enter Password : \")                           # take pasword from user\n",
    "\n",
    "if is_valid_password(password):                                 # check valid password or not\n",
    "    print(\"Valid Password\")                                     # print result       \n",
    "else:\n",
    "    print(\"Invalid password. Please follow the complexity rules.\")"
   ]
  },
  {
   "cell_type": "code",
   "execution_count": 8,
   "id": "7bd052e1-eeb3-4654-b2a9-4bf73cceaa0c",
   "metadata": {},
   "outputs": [
    {
     "name": "stdin",
     "output_type": "stream",
     "text": [
      "Enter number of Rows :  3\n",
      "Enter number of columns :  3\n"
     ]
    },
    {
     "name": "stdout",
     "output_type": "stream",
     "text": [
      "\n",
      "Input Matrix A :  \n"
     ]
    },
    {
     "name": "stdin",
     "output_type": "stream",
     "text": [
      "Enter  the element at row 1, column 1:  1\n",
      "Enter  the element at row 1, column 2:  2\n",
      "Enter  the element at row 1, column 3:  3\n",
      "Enter  the element at row 2, column 1:  4\n",
      "Enter  the element at row 2, column 2:  5\n",
      "Enter  the element at row 2, column 3:  6\n",
      "Enter  the element at row 3, column 1:  7\n",
      "Enter  the element at row 3, column 2:  8\n",
      "Enter  the element at row 3, column 3:  9\n"
     ]
    },
    {
     "name": "stdout",
     "output_type": "stream",
     "text": [
      "\n",
      "1.0 2.0 3.0\n",
      "4.0 5.0 6.0\n",
      "7.0 8.0 9.0\n",
      "\n",
      "Input Matrix B : \n"
     ]
    },
    {
     "name": "stdin",
     "output_type": "stream",
     "text": [
      "Enter  the element at row 1, column 1:  9\n",
      "Enter  the element at row 1, column 2:  8\n",
      "Enter  the element at row 1, column 3:  7\n",
      "Enter  the element at row 2, column 1:  6\n",
      "Enter  the element at row 2, column 2:  5\n",
      "Enter  the element at row 2, column 3:  4\n",
      "Enter  the element at row 3, column 1:  3\n",
      "Enter  the element at row 3, column 2:  2\n",
      "Enter  the element at row 3, column 3:  1\n"
     ]
    },
    {
     "name": "stdout",
     "output_type": "stream",
     "text": [
      "\n",
      "9.0 8.0 7.0\n",
      "6.0 5.0 4.0\n",
      "3.0 2.0 1.0\n",
      "\n",
      "Adiition of Matrix A and Matrix B : \n",
      "10.0 10.0 10.0\n",
      "10.0 10.0 10.0\n",
      "10.0 10.0 10.0\n",
      "\n",
      "Subtraction of Matrix A and Matrix B : \n",
      "-8.0 -6.0 -4.0\n",
      "-2.0 0.0 2.0\n",
      "4.0 6.0 8.0\n"
     ]
    }
   ],
   "source": [
    "# 32. Develop a program that performs matrix addition and subtraction based on user input.\n",
    "\n",
    "def input_matrix(rows, columns):\n",
    "    matrix = []\n",
    "    for i in range(rows):\n",
    "        row = []\n",
    "        for j in range(columns):\n",
    "            element = float(input(f\"Enter  the element at row {i+1}, column {j+1}: \"))\n",
    "            row.append(element)\n",
    "        matrix.append(row)\n",
    "    return matrix\n",
    "\n",
    "def add_matrices(matrix1, matrix2):\n",
    "    if len(matrix1) != len(matrix2) or len(matrix1[0]) != len(matrix2[0]):\n",
    "        return None               # Matrices must have the same dimensions for addition\n",
    "    result = []\n",
    "    for i in range(len(matrix1)):\n",
    "        row = []\n",
    "        for j in range(len(matrix1[0])):\n",
    "            row.append(matrix1[i][j] + matrix2[i][j])\n",
    "        result.append(row)\n",
    "    return result\n",
    "\n",
    "def subtract_matrices(matrix1, matrix2):\n",
    "    if len(matrix1) != len(matrix2) or len(matrix1[0]) != len(matrix2[0]):\n",
    "        return None               # Matrices must have the same dimensions for addition\n",
    "    result = []\n",
    "    for i in range(len(matrix1)):\n",
    "        row = []\n",
    "        for j in range(len(matrix1[0])):\n",
    "            row.append(matrix1[i][j] - matrix2[i][j])\n",
    "        result.append(row)\n",
    "    return result\n",
    "\n",
    "\n",
    "def print_matrix(matrix):\n",
    "    for row in matrix:\n",
    "        print(\" \".join(map(str, row)))\n",
    "\n",
    "# Get dimensions of the matrices from the user\n",
    "rows = int(input(\"Enter number of Rows : \"))\n",
    "columns = int(input(\"Enter number of columns : \"))\n",
    "\n",
    "# Input the matrices\n",
    "print(\"\\nInput Matrix A :  \")\n",
    "matrix_a = input_matrix(rows, columns)\n",
    "print()\n",
    "print_matrix(matrix_a)\n",
    "\n",
    "# Input the matrices\n",
    "print(\"\\nInput Matrix B : \")\n",
    "matrix_b = input_matrix(rows, columns)\n",
    "print()\n",
    "print_matrix(matrix_b)\n",
    "\n",
    "# Perform matrix addition\n",
    "addition_result = add_matrices(matrix_a, matrix_b)\n",
    "if addition_result:\n",
    "    print(\"\\nAdiition of Matrix A and Matrix B : \")\n",
    "    print_matrix(addition_result)\n",
    "else:\n",
    "    print(\"\\nMatrix addition is not possible due to different dimensions.\")\n",
    "\n",
    "# Perform matrix subtracition\n",
    "subtraction_result = subtract_matrices(matrix_a, matrix_b)\n",
    "if subtraction_result:\n",
    "    print(\"\\nSubtraction of Matrix A and Matrix B : \")\n",
    "    print_matrix(subtraction_result)\n",
    "else:\n",
    "    print(\"\\nMatrix Subtraction is not possible due to different dimensions.\")"
   ]
  },
  {
   "cell_type": "code",
   "execution_count": 3,
   "id": "68b818ca-e0a9-456e-b90b-8ac7d2ff276c",
   "metadata": {},
   "outputs": [
    {
     "name": "stdin",
     "output_type": "stream",
     "text": [
      "Enter the first number:  78\n",
      "Enter the second number:  36\n"
     ]
    },
    {
     "name": "stdout",
     "output_type": "stream",
     "text": [
      "The GCD of 78 and 36 is 6\n"
     ]
    }
   ],
   "source": [
    "# 33. Write a program that calculates the greatest common divisor (GCD) of two numbers using the Euclidean algorithm.\n",
    "\n",
    "# If A = B⋅Q + R and B≠0 then GCD(A,B) = GCD(B,R) where Q is an integer, R is an integer between 0 and B-1\n",
    "\n",
    "def euclidean_gcd(a, b):\n",
    "    while b:\n",
    "        a, b = b, a % b\n",
    "    return a\n",
    "\n",
    "# Input two numbers\n",
    "num1 = int(input(\"Enter the first number: \"))    # take number from user\n",
    "num2 = int(input(\"Enter the second number: \"))   # take number from user\n",
    "\n",
    "# Calculate the GCD using the Euclidean algorithm\n",
    "gcd = euclidean_gcd(num1, num2)                  # calculate GCD\n",
    "\n",
    "print(f\"The GCD of {num1} and {num2} is {gcd}\")"
   ]
  },
  {
   "cell_type": "code",
   "execution_count": 9,
   "id": "b750b2b0-5ebe-432b-9cee-b395b8ce2545",
   "metadata": {},
   "outputs": [
    {
     "name": "stdin",
     "output_type": "stream",
     "text": [
      "Enter number of Rows of Matrix A :  2\n",
      "Enter number of columns of Matrix A :  3\n",
      "Enter number of columns of Matrix B :  4\n"
     ]
    },
    {
     "name": "stdout",
     "output_type": "stream",
     "text": [
      "\n",
      "Input Matrix A :  \n"
     ]
    },
    {
     "name": "stdin",
     "output_type": "stream",
     "text": [
      "Enter  the element at row 1, column 1:  1\n",
      "Enter  the element at row 1, column 2:  2\n",
      "Enter  the element at row 1, column 3:  3\n",
      "Enter  the element at row 2, column 1:  4\n",
      "Enter  the element at row 2, column 2:  5\n",
      "Enter  the element at row 2, column 3:  6\n"
     ]
    },
    {
     "name": "stdout",
     "output_type": "stream",
     "text": [
      "\n",
      "1.0 2.0 3.0\n",
      "4.0 5.0 6.0\n",
      "\n",
      "Input Matrix B : \n"
     ]
    },
    {
     "name": "stdin",
     "output_type": "stream",
     "text": [
      "Enter  the element at row 1, column 1:  7\n",
      "Enter  the element at row 1, column 2:  8\n",
      "Enter  the element at row 1, column 3:  9\n",
      "Enter  the element at row 1, column 4:  10\n",
      "Enter  the element at row 2, column 1:  11\n",
      "Enter  the element at row 2, column 2:  12\n",
      "Enter  the element at row 2, column 3:  13\n",
      "Enter  the element at row 2, column 4:  14\n",
      "Enter  the element at row 3, column 1:  15\n",
      "Enter  the element at row 3, column 2:  16\n",
      "Enter  the element at row 3, column 3:  17\n",
      "Enter  the element at row 3, column 4:  18\n"
     ]
    },
    {
     "name": "stdout",
     "output_type": "stream",
     "text": [
      "\n",
      "7.0 8.0 9.0 10.0\n",
      "11.0 12.0 13.0 14.0\n",
      "15.0 16.0 17.0 18.0\n",
      "\n",
      "Multiplication of Matrix A and Matrix B : \n",
      "74.0 80.0 86.0 92.0\n",
      "173.0 188.0 203.0 218.0\n"
     ]
    }
   ],
   "source": [
    "# 34. Build a program that performs matrix multiplication using nested loops and conditional statements.\n",
    "\n",
    "def input_matrix(rows, columns):\n",
    "    matrix = []\n",
    "    for i in range(rows):\n",
    "        row = []\n",
    "        for j in range(columns):\n",
    "            element = float(input(f\"Enter  the element at row {i+1}, column {j+1}: \"))\n",
    "            row.append(element)\n",
    "        matrix.append(row)\n",
    "    return matrix\n",
    "\n",
    "def mul_matrices(matrix1, matrix2):\n",
    "    if len(matrix1[0]) != len(matrix2):\n",
    "        return None\n",
    "    result =[]\n",
    "    for i in range(len(matrix1)):\n",
    "        row = []\n",
    "        for j in range(len(matrix2[0])):\n",
    "            sum_product = 0\n",
    "            for k in range(len(matrix2)):\n",
    "                sum_product += matrix1[i][k]*matrix2[k][j]\n",
    "            row.append(sum_product)\n",
    "        result.append(row)\n",
    "    return result\n",
    "\n",
    "def print_matrix(matrix):\n",
    "    for row in matrix:\n",
    "        print(\" \".join(map(str, row)))\n",
    "\n",
    "# Get dimensions of the matrices from the user\n",
    "rows1 = int(input(\"Enter number of Rows of Matrix A : \"))\n",
    "columns1 = int(input(\"Enter number of columns of Matrix A : \"))\n",
    "columns2 = int(input(\"Enter number of columns of Matrix B : \"))\n",
    "\n",
    "# Input the matrices\n",
    "print(\"\\nInput Matrix A :  \")\n",
    "matrix_a = input_matrix(rows1, columns1)\n",
    "print()\n",
    "print_matrix(matrix_a)\n",
    "\n",
    "# Input the matrices\n",
    "print(\"\\nInput Matrix B : \")\n",
    "matrix_b = input_matrix(columns1, columns2)\n",
    "print()\n",
    "print_matrix(matrix_b)\n",
    "\n",
    "# Perform matrix Multiplication\n",
    "multiplication_result = mul_matrices(matrix_a, matrix_b)\n",
    "if multiplication_result:\n",
    "    print(\"\\nMultiplication of Matrix A and Matrix B : \")\n",
    "    print_matrix(multiplication_result)\n",
    "else:\n",
    "    print(\"\\nMatrix nMultiplication is not possible due to not same column1 of matrix A into rows2 of matrix B.\")\n",
    "\n"
   ]
  },
  {
   "cell_type": "code",
   "execution_count": 9,
   "id": "b82d2758-76e8-4b55-af65-ca3f4045157b",
   "metadata": {},
   "outputs": [
    {
     "name": "stdout",
     "output_type": "stream",
     "text": [
      "Welcome to Tic-Tac-Toe!\n",
      "\n",
      "  |   |  \n",
      "---------\n",
      "  |   |  \n",
      "---------\n",
      "  |   |  \n",
      "---------\n"
     ]
    },
    {
     "name": "stdin",
     "output_type": "stream",
     "text": [
      "Enter the row (0, 1, or 2):  1\n",
      "Enter the column (0, 1, or 2):  1\n"
     ]
    },
    {
     "name": "stdout",
     "output_type": "stream",
     "text": [
      "\n",
      "  |   |  \n",
      "---------\n",
      "  | X |  \n",
      "---------\n",
      "  |   |  \n",
      "---------\n",
      "\n",
      "  |   |  \n",
      "---------\n",
      "O | X |  \n",
      "---------\n",
      "  |   |  \n",
      "---------\n"
     ]
    },
    {
     "name": "stdin",
     "output_type": "stream",
     "text": [
      "Enter the row (0, 1, or 2):  2\n",
      "Enter the column (0, 1, or 2):  0\n"
     ]
    },
    {
     "name": "stdout",
     "output_type": "stream",
     "text": [
      "\n",
      "  |   |  \n",
      "---------\n",
      "O | X |  \n",
      "---------\n",
      "X |   |  \n",
      "---------\n",
      "\n",
      "  |   | O\n",
      "---------\n",
      "O | X |  \n",
      "---------\n",
      "X |   |  \n",
      "---------\n"
     ]
    },
    {
     "name": "stdin",
     "output_type": "stream",
     "text": [
      "Enter the row (0, 1, or 2):  2\n",
      "Enter the column (0, 1, or 2):  1\n"
     ]
    },
    {
     "name": "stdout",
     "output_type": "stream",
     "text": [
      "\n",
      "  |   | O\n",
      "---------\n",
      "O | X |  \n",
      "---------\n",
      "X | X |  \n",
      "---------\n",
      "\n",
      "  | O | O\n",
      "---------\n",
      "O | X |  \n",
      "---------\n",
      "X | X |  \n",
      "---------\n"
     ]
    },
    {
     "name": "stdin",
     "output_type": "stream",
     "text": [
      "Enter the row (0, 1, or 2):  2\n",
      "Enter the column (0, 1, or 2):  2\n"
     ]
    },
    {
     "name": "stdout",
     "output_type": "stream",
     "text": [
      "\n",
      "  | O | O\n",
      "---------\n",
      "O | X |  \n",
      "---------\n",
      "X | X | X\n",
      "---------\n",
      "You win! Congratulations!\n"
     ]
    }
   ],
   "source": [
    "# 35. Create a program that simulates a basic text-based tic-tac-toe game against the computer.\n",
    "\n",
    "import random\n",
    "# Function to print the tic-tac-toe board\n",
    "def print_board(board):\n",
    "    for row in board:\n",
    "        print(\" | \".join(row))\n",
    "        print(\"-\" * 9)\n",
    "\n",
    "# Function to check for a win\n",
    "def check_win(board, player):\n",
    "    for row in board:\n",
    "        if all(cell == player for cell in row):\n",
    "            return True\n",
    "\n",
    "    for col in range(3):\n",
    "        if all(board[row][col] == player for row in range(3)):\n",
    "            return True\n",
    "\n",
    "    if all(board[i][i] == player for i in range(3)) or all(board[i][2 - i] == player for i in range(3)):\n",
    "        return True\n",
    "\n",
    "    return False\n",
    "\n",
    "# Function to make the computer's move\n",
    "def computer_move(board, computer, player):\n",
    "    for row in range(3):\n",
    "        for col in range(3):\n",
    "            if board[row][col] == \" \":\n",
    "                board[row][col] = computer\n",
    "                if check_win(board, computer):\n",
    "                    return\n",
    "                board[row][col] = \" \"\n",
    "    \n",
    "    for row in range(3):\n",
    "        for col in range(3):\n",
    "            if board[row][col] == \" \":\n",
    "                board[row][col] = player\n",
    "                if check_win(board, player):\n",
    "                    board[row][col] = computer\n",
    "                    return\n",
    "                board[row][col] = \" \"\n",
    "\n",
    "    while True:\n",
    "        row = random.randint(0, 2)\n",
    "        col = random.randint(0, 2)\n",
    "        if board[row][col] == \" \":\n",
    "            board[row][col] = computer\n",
    "            break\n",
    "\n",
    "# Initialize the game\n",
    "board = [[\" \" for _ in range(3)] for _ in range(3)]\n",
    "player = \"X\"\n",
    "computer = \"O\"\n",
    "turn = random.choice([player, computer])\n",
    "\n",
    "print(\"Welcome to Tic-Tac-Toe!\")\n",
    "print()\n",
    "print_board(board)\n",
    "\n",
    "# Main game loop\n",
    "while True:\n",
    "    if turn == player:\n",
    "        row = int(input(\"Enter the row (0, 1, or 2): \"))\n",
    "        col = int(input(\"Enter the column (0, 1, or 2): \"))\n",
    "        if board[row][col] == \" \":\n",
    "            board[row][col] = player\n",
    "            turn = computer\n",
    "    else:\n",
    "        computer_move(board, computer, player)\n",
    "        turn = player\n",
    "    print()\n",
    "    print_board(board)\n",
    "    \n",
    "    if check_win(board, player):\n",
    "        print(\"You win! Congratulations!\")\n",
    "        break\n",
    "    elif check_win(board, computer):\n",
    "        print(\"Computer wins! You lose.\")\n",
    "        break\n",
    "    elif all(board[i][j] != \" \" for i in range(3) for j in range(3)):\n",
    "        print(\"It's a draw!\")\n",
    "        break"
   ]
  },
  {
   "cell_type": "code",
   "execution_count": 11,
   "id": "015cba16-2c4a-4978-a820-c2352f8b6433",
   "metadata": {},
   "outputs": [
    {
     "name": "stdin",
     "output_type": "stream",
     "text": [
      "Enter Specified Term :  11\n"
     ]
    },
    {
     "name": "stdout",
     "output_type": "stream",
     "text": [
      "Fibonacci series upto 11th Term : \n",
      "1 2 3 5 8 13 21 34 55 89 144 "
     ]
    }
   ],
   "source": [
    "# 36. Write a program that generates Fibonacci numbers up to a specified term using iterative methods.\n",
    "\n",
    "specified_term = int(input(\"Enter Specified Term : \"))      # take number from user\n",
    "print(f\"Fibonacci series upto {specified_term}th Term : \")\n",
    "fib1 = 0\n",
    "fib2 = 1\n",
    "Fibonacci = 0\n",
    "for i in range(0, specified_term):               # iterate loop to print fibonacci series\n",
    "    Fibonacci = fib1 + fib2\n",
    "    fib1 = fib2\n",
    "    fib2 = Fibonacci\n",
    "    print(Fibonacci, end = \" \")\n"
   ]
  },
  {
   "cell_type": "code",
   "execution_count": 25,
   "id": "838af0b2-70aa-4697-aa4f-c04b95bbb6c0",
   "metadata": {},
   "outputs": [
    {
     "name": "stdin",
     "output_type": "stream",
     "text": [
      "Enter the value of n for the nth Fibonacci term:  9\n"
     ]
    },
    {
     "name": "stdout",
     "output_type": "stream",
     "text": [
      "The 9th Fibonacci term is: 34\n"
     ]
    }
   ],
   "source": [
    "# 37. Develop a program that calculates the nth term of the Fibonacci sequence using memoization.\n",
    "\n",
    "# Dictionary to store calculated Fibonacci values\n",
    "fib_cache = {}\n",
    "\n",
    "def fibonacci(n):\n",
    "    # Base case: Fibonacci of 0 and 1 are 0 and 1, respectively\n",
    "    if n in [0, 1]:\n",
    "        return n\n",
    "    \n",
    "    # Calculate the Fibonacci value and store it in the cache\n",
    "    fib_value = fibonacci(n - 1) + fibonacci(n - 2)\n",
    "    fib_cache[n] = fib_value\n",
    "\n",
    "    return fib_value\n",
    "\n",
    "# Input for the desired Fibonacci term\n",
    "n = int(input(\"Enter the value of n for the nth Fibonacci term: \"))\n",
    "\n",
    "# Calculate and print the nth Fibonacci term\n",
    "result = fibonacci(n)\n",
    "print(f\"The {n}th Fibonacci term is: {result}\")\n",
    "\n"
   ]
  },
  {
   "cell_type": "code",
   "execution_count": 7,
   "id": "68e0804d-da25-46f3-81b8-d5ec0b4eb1a7",
   "metadata": {},
   "outputs": [
    {
     "name": "stdin",
     "output_type": "stream",
     "text": [
      "Enter Year :  2023\n",
      "Enter Month :  11\n"
     ]
    },
    {
     "name": "stdout",
     "output_type": "stream",
     "text": [
      "November 2023\n",
      "Su Mo Tu We Th Fr Sa\n",
      "         01 02 03 04 \n",
      "05 06 07 08 09 10 11 \n",
      "12 13 14 15 16 17 18 \n",
      "19 20 21 22 23 24 25 \n",
      "26 27 28 29 30 "
     ]
    }
   ],
   "source": [
    "# 38. Create a program that generates a calendar for a given month and year using conditional statements.\n",
    "\n",
    "Year = int(input(\"Enter Year : \"))\n",
    "Month = int(input(\"Enter Month : \"))\n",
    "\n",
    "month = {1 : \"January\", 2 : \"February\", 3 : \"March\",\n",
    "         4 : \"April\", 5 : \"May\", 6 : \"June\",\n",
    "         7 : \"July\", 8 : \"August\", 9 : \"Septeamber\",\n",
    "         10 : \"October\", 11 : \"November\", 12 : \"December\"}\n",
    "\n",
    "# code below for calculation of odd days \n",
    "day = (Year - 1)%100\n",
    "day = (day//100)*5 + ((day % 100) - (day % 100)//4) + ((day % 100)//4)*2\n",
    "day = day % 7\n",
    "\n",
    "nly =[31, 28, 31, 30, 31, 30, \n",
    "\t31, 31, 30, 31, 30, 31] \n",
    "ly =[31, 29, 31, 30, 31, 30, \n",
    "\t31, 31, 30, 31, 30, 31] \n",
    "\n",
    "s = 0\n",
    "if Year % 4 == 0: \n",
    "\tfor i in range(Month-1): \n",
    "\t\ts+= ly[i] \n",
    "else: \n",
    "\tfor i in range(Month-1): \n",
    "\t\ts+= nly[i] \n",
    "        \n",
    "day += s % 7\n",
    "day = day % 7\n",
    "\n",
    "# variable used for white space filling \n",
    "# where date not present \n",
    "space ='' \n",
    "space = space.rjust(2, ' ') \n",
    "\n",
    "# code below is to print the calendar \n",
    "print(month[Month], Year) \n",
    "print('Su', 'Mo', 'Tu', 'We', 'Th', 'Fr', 'Sa') \n",
    "\n",
    "if Month == 9 or Month == 4 or Month == 6 or Month == 11: \n",
    "\tfor i in range(31 + day): \n",
    "\t\t\n",
    "\t\tif i<= day: \n",
    "\t\t\tprint(space, end =' ') \n",
    "\t\telse: \n",
    "\t\t\tprint(\"{:02d}\".format(i-day), end =' ') \n",
    "\t\t\tif (i + 1)% 7 == 0: \n",
    "\t\t\t\tprint() \n",
    "elif Month == 2: \n",
    "\tif Year % 4 == 0: \n",
    "\t\tp = 30\n",
    "\telse: \n",
    "\t\tp = 29\n",
    "\t\t\n",
    "\tfor i in range(p + day): \n",
    "\t\tif i<= day: \n",
    "\t\t\tprint(space, end =' ') \n",
    "\t\telse: \n",
    "\t\t\tprint(\"{:02d}\".format(i-day), end =' ') \n",
    "\t\t\tif (i + 1)% 7 == 0: \n",
    "\t\t\t\tprint() \n",
    "else: \n",
    "\tfor i in range(32 + day): \n",
    "\t\t\n",
    "\t\tif i<= day: \n",
    "\t\t\tprint(space, end =' ') \n",
    "\t\telse: \n",
    "\t\t\tprint(\"{:02d}\".format(i-day), end =' ') \n",
    "\t\t\tif (i + 1)% 7 == 0: \n",
    "\t\t\t\tprint() "
   ]
  },
  {
   "cell_type": "code",
   "execution_count": 10,
   "id": "3bed91bb-5ee6-4044-a10a-fec7826c7e06",
   "metadata": {},
   "outputs": [
    {
     "name": "stdout",
     "output_type": "stream",
     "text": [
      "Cards Player Has: [('5', 'Diamonds'), ('3', 'Diamonds')]\n",
      "Score Of The Player: 8\n",
      "\n",
      "\n"
     ]
    },
    {
     "name": "stdin",
     "output_type": "stream",
     "text": [
      "What do you want? [\"play\" to request another card, \"stop\" to stop]:  stop\n"
     ]
    },
    {
     "name": "stdout",
     "output_type": "stream",
     "text": [
      "Cards Dealer Has: [('Ace', 'Clubs'), ('5', 'Hearts'), ('2', 'Diamonds')]\n",
      "Score Of The Dealer: 18\n",
      "\n",
      "\n",
      "Cards Dealer Has: [('Ace', 'Clubs'), ('5', 'Hearts'), ('2', 'Diamonds')]\n",
      "Score Of The Dealer: 18\n",
      "Cards Player Has: [('5', 'Diamonds'), ('3', 'Diamonds')]\n",
      "Score Of The Player: 8\n",
      "Dealer wins (Dealer Has High Score than Player)\n"
     ]
    }
   ],
   "source": [
    "# 39. Build a program that simulates a basic text-based blackjack game against the computer.\n",
    "\n",
    "import random \n",
    "\n",
    "card_categories = ['Hearts', 'Diamonds', 'Clubs', 'Spades'] \n",
    "cards_list = ['Ace', '2', '3', '4', '5', '6', '7', '8', '9', '10', 'Jack', 'Queen', 'King'] \n",
    "deck = [(card, category) for category in card_categories for card in cards_list] \n",
    "\n",
    "def card_value(card): \n",
    "\tif card[0] in ['Jack', 'Queen', 'King']: \n",
    "\t\treturn 10\n",
    "\telif card[0] == 'Ace': \n",
    "\t\treturn 11\n",
    "\telse: \n",
    "\t\treturn int(card[0]) \n",
    "\n",
    "random.shuffle(deck) \n",
    "player_card = [deck.pop(), deck.pop()] \n",
    "dealer_card = [deck.pop(), deck.pop()] \n",
    "\n",
    "while True: \n",
    "\tplayer_score = sum(card_value(card) for card in player_card) \n",
    "\tdealer_score = sum(card_value(card) for card in dealer_card) \n",
    "\tprint(\"Cards Player Has:\", player_card) \n",
    "\tprint(\"Score Of The Player:\", player_score) \n",
    "\tprint(\"\\n\") \n",
    "\tchoice = input('What do you want? [\"play\" to request another card, \"stop\" to stop]: ').lower() \n",
    "\tif choice == \"play\": \n",
    "\t\tnew_card = deck.pop() \n",
    "\t\tplayer_card.append(new_card) \n",
    "\telif choice == \"stop\": \n",
    "\t\tbreak\n",
    "\telse: \n",
    "\t\tprint(\"Invalid choice. Please try again.\") \n",
    "\t\tcontinue\n",
    "\n",
    "\tif player_score > 21: \n",
    "\t\tprint(\"Cards Dealer Has:\", dealer_card) \n",
    "\t\tprint(\"Score Of The Dealer:\", dealer_score) \n",
    "\t\tprint(\"Cards Player Has:\", player_card) \n",
    "\t\tprint(\"Score Of The Player:\", player_score) \n",
    "\t\tprint(\"Dealer wins (Player Loss Because Player Score is exceeding 21)\") \n",
    "\t\tbreak\n",
    "\n",
    "while dealer_score < 17: \n",
    "\tnew_card = deck.pop() \n",
    "\tdealer_card.append(new_card) \n",
    "\tdealer_score += card_value(new_card) \n",
    "\n",
    "print(\"Cards Dealer Has:\", dealer_card) \n",
    "print(\"Score Of The Dealer:\", dealer_score) \n",
    "print(\"\\n\") \n",
    "\n",
    "if dealer_score > 21: \n",
    "\tprint(\"Cards Dealer Has:\", dealer_card) \n",
    "\tprint(\"Score Of The Dealer:\", dealer_score) \n",
    "\tprint(\"Cards Player Has:\", player_card) \n",
    "\tprint(\"Score Of The Player:\", player_score) \n",
    "\tprint(\"Player wins (Dealer Loss Because Dealer Score is exceeding 21)\") \n",
    "elif player_score > dealer_score: \n",
    "\tprint(\"Cards Dealer Has:\", dealer_card) \n",
    "\tprint(\"Score Of The Dealer:\", dealer_score) \n",
    "\tprint(\"Cards Player Has:\", player_card) \n",
    "\tprint(\"Score Of The Player:\", player_score) \n",
    "\tprint(\"Player wins (Player Has High Score than Dealer)\") \n",
    "elif dealer_score > player_score: \n",
    "\tprint(\"Cards Dealer Has:\", dealer_card) \n",
    "\tprint(\"Score Of The Dealer:\", dealer_score) \n",
    "\tprint(\"Cards Player Has:\", player_card) \n",
    "\tprint(\"Score Of The Player:\", player_score) \n",
    "\tprint(\"Dealer wins (Dealer Has High Score than Player)\") \n",
    "else: \n",
    "\tprint(\"Cards Dealer Has:\", dealer_card) \n",
    "\tprint(\"Score Of The Dealer:\", dealer_score) \n",
    "\tprint(\"Cards Player Has:\", player_card) \n",
    "\tprint(\"Score Of The Player:\", player_score) \n",
    "\tprint(\"It's a tie.\")\n",
    "\n"
   ]
  },
  {
   "cell_type": "code",
   "execution_count": 3,
   "id": "00a27237-2f1b-4604-a465-3ce44d555945",
   "metadata": {},
   "outputs": [
    {
     "name": "stdin",
     "output_type": "stream",
     "text": [
      "Enter Number :  1234\n"
     ]
    },
    {
     "name": "stdout",
     "output_type": "stream",
     "text": [
      "\n",
      " prime numbers upto 1234 is : [2, 3, 5, 7, 11, 13, 17, 19, 23, 29, 31, 37, 41, 43, 47, 53, 59, 61, 67, 71, 73, 79, 83, 89, 97, 101, 103, 107, 109, 113, 127, 131, 137, 139, 149, 151, 157, 163, 167, 173, 179, 181, 191, 193, 197, 199, 211, 223, 227, 229, 233, 239, 241, 251, 257, 263, 269, 271, 277, 281, 283, 293, 307, 311, 313, 317, 331, 337, 347, 349, 353, 359, 367, 373, 379, 383, 389, 397, 401, 409, 419, 421, 431, 433, 439, 443, 449, 457, 461, 463, 467, 479, 487, 491, 499, 503, 509, 521, 523, 541, 547, 557, 563, 569, 571, 577, 587, 593, 599, 601, 607, 613, 617, 619, 631, 641, 643, 647, 653, 659, 661, 673, 677, 683, 691, 701, 709, 719, 727, 733, 739, 743, 751, 757, 761, 769, 773, 787, 797, 809, 811, 821, 823, 827, 829, 839, 853, 857, 859, 863, 877, 881, 883, 887, 907, 911, 919, 929, 937, 941, 947, 953, 967, 971, 977, 983, 991, 997, 1009, 1013, 1019, 1021, 1031, 1033, 1039, 1049, 1051, 1061, 1063, 1069, 1087, 1091, 1093, 1097, 1103, 1109, 1117, 1123, 1129, 1151, 1153, 1163, 1171, 1181, 1187, 1193, 1201, 1213, 1217, 1223, 1229, 1231]\n",
      "\n",
      " Prime factors of 1234 is : [2, 617]\n"
     ]
    }
   ],
   "source": [
    "# 40. Write a program that generates the prime factors of a given number using trial division.\n",
    "\n",
    "# normal way to find prime factors\n",
    "\n",
    "num = int(input(\"Enter Number : \"))    # take number from user\n",
    "prime_factors = []                     # initialize variable of prime factor list\n",
    "prime_numbers = []                     # initialize variable to store prime numbers\n",
    "\n",
    "for i in range(2, num+1):              # iterate each number to find prime numbers and store into variable\n",
    "    if i == 2:\n",
    "        prime_numbers.append(i)\n",
    "    for j in range(2, i):\n",
    "        if i%j == 0:\n",
    "            break\n",
    "        if j == i-1:\n",
    "            prime_numbers.append(i)\n",
    "\n",
    "print(f\"\\n prime numbers upto {num} is : {prime_numbers}\")\n",
    "\n",
    "for i in prime_numbers:                # iterate each prime number to find prime factor of  given number\n",
    "    if num%i == 0:\n",
    "        prime_factors.append(i)\n",
    "    \n",
    "print(f\"\\n Prime factors of {num} is : {prime_factors}\")   # print prime factors"
   ]
  },
  {
   "cell_type": "code",
   "execution_count": 4,
   "id": "935f35ae-0378-4aa6-a0bf-e9664b86f7a6",
   "metadata": {},
   "outputs": [
    {
     "name": "stdin",
     "output_type": "stream",
     "text": [
      "Enter a number:  1234\n"
     ]
    },
    {
     "name": "stdout",
     "output_type": "stream",
     "text": [
      "Prime factors of 1234 are: [2, 617]\n"
     ]
    }
   ],
   "source": [
    "# 40. Write a program that generates the prime factors of a given number using trial division.\n",
    "\n",
    "# using trial division\n",
    "\n",
    "def prime_factors(n):\n",
    "    factors = []\n",
    "    divisor = 2  # Start with the smallest prime number\n",
    "\n",
    "    while divisor <= n:\n",
    "        if n % divisor == 0:\n",
    "            factors.append(divisor)\n",
    "            n //= divisor  # Reduce n by dividing it by the divisor\n",
    "        else:\n",
    "            divisor += 1  # If the divisor doesn't divide n, increment it\n",
    "\n",
    "    return factors\n",
    "\n",
    "# Input from the user\n",
    "number = int(input(\"Enter a number: \"))\n",
    "\n",
    "if number < 2:\n",
    "    print(\"Prime factors are not defined for numbers less than 2.\")\n",
    "else:\n",
    "    factors = prime_factors(number)\n",
    "    print(f\"Prime factors of {number} are: {factors}\")"
   ]
  },
  {
   "cell_type": "code",
   "execution_count": null,
   "id": "9f85efe6-048b-4dc2-99dc-9aaa33d497d5",
   "metadata": {},
   "outputs": [],
   "source": []
  }
 ],
 "metadata": {
  "kernelspec": {
   "display_name": "Python 3 (ipykernel)",
   "language": "python",
   "name": "python3"
  },
  "language_info": {
   "codemirror_mode": {
    "name": "ipython",
    "version": 3
   },
   "file_extension": ".py",
   "mimetype": "text/x-python",
   "name": "python",
   "nbconvert_exporter": "python",
   "pygments_lexer": "ipython3",
   "version": "3.10.8"
  }
 },
 "nbformat": 4,
 "nbformat_minor": 5
}
