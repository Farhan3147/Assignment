{
 "cells": [
  {
   "cell_type": "markdown",
   "id": "502c9570-7287-4e7e-9ada-8d5de584bca2",
   "metadata": {},
   "source": [
    "# Basic Level:"
   ]
  },
  {
   "cell_type": "code",
   "execution_count": 5,
   "id": "27d7394e-77d9-45a2-ac65-5117578284c8",
   "metadata": {},
   "outputs": [
    {
     "name": "stdout",
     "output_type": "stream",
     "text": [
      "1 2 3 4 5 6 7 8 9 10 "
     ]
    }
   ],
   "source": [
    "# 1. Write a Python program to print the numbers from 1 to 10 using a `for` loop.\n",
    "\n",
    "for i in range(1, 11):   # used range function\n",
    "    print(i, end = \" \")  # print the result\n"
   ]
  },
  {
   "cell_type": "code",
   "execution_count": 6,
   "id": "3cdb441b-1ed5-4238-a0c4-f3d4045bdd43",
   "metadata": {},
   "outputs": [
    {
     "name": "stdout",
     "output_type": "stream",
     "text": [
      "Sum : 55\n"
     ]
    }
   ],
   "source": [
    "# 2. Create a program that calculates the sum of all numbers in a list using a `for` loop.\n",
    "\n",
    "List = [1, 2, 3, 4, 5, 6, 7, 8, 9, 10]  # Take input List\n",
    "Sum = 0                                 # Initialize sum with 0\n",
    "for i in List:                          # iterate each element using for loop\n",
    "    Sum += i                            # add element into sum variable\n",
    "print(f\"Sum : {Sum}\")                   # print the result\n"
   ]
  },
  {
   "cell_type": "code",
   "execution_count": 2,
   "id": "8e01bd78-f79c-4794-91b2-6f11b7e97c00",
   "metadata": {},
   "outputs": [
    {
     "name": "stdout",
     "output_type": "stream",
     "text": [
      "Reversed String : sllikswp\n"
     ]
    }
   ],
   "source": [
    "# 3. Write a program to print the characters of a string in reverse order using a `for` loop.\n",
    "\n",
    "String = \"pwskills\"                     # take input string\n",
    "reverse = \"\"                            # create reverse variable with empty\n",
    "for i in String:                        # iterate each word using for loop\n",
    "    reverse = i + reverse               # add string char into reverse variable\n",
    "print(f\"Reversed String : {reverse}\")   # print the result\n"
   ]
  },
  {
   "cell_type": "code",
   "execution_count": 7,
   "id": "a06bee2c-ec96-4ec0-9a2f-71697b8ea78b",
   "metadata": {},
   "outputs": [
    {
     "name": "stdin",
     "output_type": "stream",
     "text": [
      "Enter the number :  6\n"
     ]
    },
    {
     "name": "stdout",
     "output_type": "stream",
     "text": [
      "Factorial of 6 is : 720\n"
     ]
    }
   ],
   "source": [
    "# 4. Develop a program that finds the factorial of a given number using a `for` loop.\n",
    "\n",
    "n = int(input(\"Enter the number : \"))   # take input from user\n",
    "Fact = 1                                # initialize factorial with 1\n",
    "for i in range(1, n + 1):               # iterate from 1 to given number n using for loop\n",
    "    Fact *= i                           # multiply factorial wiyh i\n",
    "print(f\"Factorial of {n} is : {Fact}\")  # print the result\n"
   ]
  },
  {
   "cell_type": "code",
   "execution_count": 10,
   "id": "58942dd1-d7fb-42e8-8cf3-8b5fe83fc624",
   "metadata": {},
   "outputs": [
    {
     "name": "stdin",
     "output_type": "stream",
     "text": [
      "Enter the number :  19\n"
     ]
    },
    {
     "name": "stdout",
     "output_type": "stream",
     "text": [
      "Table of 19 is : \n",
      "19 * 1 = 19\n",
      "19 * 2 = 38\n",
      "19 * 3 = 57\n",
      "19 * 4 = 76\n",
      "19 * 5 = 95\n",
      "19 * 6 = 114\n",
      "19 * 7 = 133\n",
      "19 * 8 = 152\n",
      "19 * 9 = 171\n",
      "19 * 10 = 190\n"
     ]
    }
   ],
   "source": [
    "# 5. Create a program to print the multiplication table of a given number using a `for` loop.\n",
    "\n",
    "n = int(input(\"Enter the number : \"))  # take input from user\n",
    "print(f\"Table of {n} is : \")           # print\n",
    "for i in range(1, 11):                 # iterate from 1 to 10 using for loop\n",
    "    product = n*i                      # calculate each step product\n",
    "    print(f\"{n} * {i} = {product}\")    # print the result\n"
   ]
  },
  {
   "cell_type": "code",
   "execution_count": 12,
   "id": "c2af663d-a02e-4d88-8a9d-497de55481c4",
   "metadata": {},
   "outputs": [
    {
     "name": "stdout",
     "output_type": "stream",
     "text": [
      "Even Number Count : 7, Odd Number Count : 8\n"
     ]
    }
   ],
   "source": [
    "# 6. Write a program that counts the number of even and odd numbers in a list using a `for` loop.\n",
    "\n",
    "List = [1, 2, 3, 4, 5, 6, 7, 8, 9, 10, 11, 12, 13, 14, 15]                   # take List\n",
    "count_even = 0                                                               # initialize even count with 0\n",
    "count_odd = 0                                                                # initialize odd count with 0\n",
    "for i in List:                                                               # iterate each element in list using for loop\n",
    "    if i%2 == 0:                                                             # check element even or not using modulo operator\n",
    "        count_even += 1                                                      # increment count\n",
    "    else:\n",
    "        count_odd += 1                                                       # increment count\n",
    "print(f\"Even Number Count : {count_even}, Odd Number Count : {count_odd}\")   # print the result\n"
   ]
  },
  {
   "cell_type": "code",
   "execution_count": 13,
   "id": "2822a34c-f701-4415-b292-4252e989b302",
   "metadata": {},
   "outputs": [
    {
     "name": "stdout",
     "output_type": "stream",
     "text": [
      "1 4 9 16 25 "
     ]
    }
   ],
   "source": [
    "# 7. Develop a program that prints the squares of numbers from 1 to 5 using a `for` loop.\n",
    "\n",
    "for i in range(1, 6):            # iterate from 1 to 5 using for loop\n",
    "    print(i**2, end = \" \")       # print the square of numbers from 1 to 5\n"
   ]
  },
  {
   "cell_type": "code",
   "execution_count": 14,
   "id": "f40ead24-702f-4e28-ace0-31758c67bcc7",
   "metadata": {},
   "outputs": [
    {
     "name": "stdout",
     "output_type": "stream",
     "text": [
      "Length of Pwskills is : 8\n"
     ]
    }
   ],
   "source": [
    "# 8. Create a program to find the length of a string without using the `len()` function.\n",
    "\n",
    "String = \"Pwskills\"                         # take input string\n",
    "Length = 0                                  # initialize length with 0\n",
    "for i in String:                            # iterate each element in the list\n",
    "    Length += 1                             # increment the length count\n",
    "print(f\"Length of {String} is : {Length}\")  # print the result\n"
   ]
  },
  {
   "cell_type": "code",
   "execution_count": 15,
   "id": "9255d964-bac5-4b40-bfca-295a4ebbc794",
   "metadata": {},
   "outputs": [
    {
     "name": "stdout",
     "output_type": "stream",
     "text": [
      "Average : 8.0\n"
     ]
    }
   ],
   "source": [
    "# 9. Write a program that calculates the average of a list of numbers using a `for` loop.\n",
    "\n",
    "List = [1, 2, 3, 4, 5, 6, 7, 8, 9, 10, 11, 12, 13, 14, 15]  # take input list\n",
    "Sum = 0                                                     # initialize sum with 0\n",
    "Length = 0                                                  # initialize length of list with 0\n",
    "for i in List:                                              # iterate each element in list using for loop\n",
    "    Sum += i                                                # add the ith element in sum\n",
    "    Length += 1                                             # increment the count\n",
    "Average = Sum/Length                                        # calculate the average\n",
    "print(f\"Average : {Average}\")                               # print the result\n"
   ]
  },
  {
   "cell_type": "code",
   "execution_count": 17,
   "id": "a0d06118-2e96-4fad-9ee2-b0f5ef3c79d4",
   "metadata": {},
   "outputs": [
    {
     "name": "stdin",
     "output_type": "stream",
     "text": [
      "Enter the number :  9\n"
     ]
    },
    {
     "name": "stdout",
     "output_type": "stream",
     "text": [
      "First 9 Fibonacci Number is : \n",
      "1 2 3 5 8 13 21 34 55 "
     ]
    }
   ],
   "source": [
    "# 10. Develop a program that prints the first `n` Fibonacci numbers using a `for` loop.\n",
    "\n",
    "n = int(input(\"Enter the number : \"))             # enter number from user\n",
    "fib1 = 0                                          # base case\n",
    "fib2 = 1                                          # base case\n",
    "print(f\"First {n} Fibonacci Number is : \")        # print\n",
    "for i in range(n):                                # iterate n times using for loop\n",
    "    Sum = fib1 + fib2                             # calculate the ith fibonacci number\n",
    "    fib1 = fib2\n",
    "    fib2 = Sum\n",
    "    print(Sum, end = \" \")                         # print the each fibonacci number\n"
   ]
  },
  {
   "cell_type": "markdown",
   "id": "a10912a5-dfbf-4dc9-9686-ff0aeca5e914",
   "metadata": {},
   "source": [
    "# Intermediate Level:"
   ]
  },
  {
   "cell_type": "code",
   "execution_count": 3,
   "id": "160edf8e-581d-43fb-b10c-93941cbe1372",
   "metadata": {},
   "outputs": [
    {
     "name": "stdout",
     "output_type": "stream",
     "text": [
      "List contains dublicates\n"
     ]
    }
   ],
   "source": [
    "# 11. Write a program to check if a given list contains any duplicates using a `for` loop.\n",
    "\n",
    "List = [1, 2, 3, 4, 5, 6, 7, 8, 9, 10, 10, 11, 12, 13, 14, 15]  # take input list\n",
    "flag = 1                                                        # initialize flag 1\n",
    "for i in range(0, len(List)):                                   # iterate the list using for loop\n",
    "    for j in range(i+1, len(List)):\n",
    "        if List[i] == List[j]:                                  # if list contains dublicate then change the flag with 0\n",
    "            flag = 0\n",
    "if flag == 1:\n",
    "    print(\"List not contains dublicates\")                       # print the result\n",
    "else:\n",
    "    print(\"List contains dublicates\")\n",
    "    \n"
   ]
  },
  {
   "cell_type": "code",
   "execution_count": 6,
   "id": "bc8def74-890e-43d2-82a5-3dad857c3318",
   "metadata": {},
   "outputs": [
    {
     "name": "stdin",
     "output_type": "stream",
     "text": [
      "Enter the range :  99\n"
     ]
    },
    {
     "name": "stdout",
     "output_type": "stream",
     "text": [
      "Prime Number upto : 99\n",
      "2 3 5 7 11 13 17 19 23 29 31 37 41 43 47 53 59 61 67 71 73 79 83 89 97 "
     ]
    }
   ],
   "source": [
    "# 12. Create a program that prints the prime numbers in a given range using a `for` loop.\n",
    "\n",
    "n = int(input(\"Enter the range : \"))             # enter number from user\n",
    "print(f\"Prime Number upto : {n}\")                # print the range\n",
    "for i in range(2, n+1):                          # iterate number using for loop\n",
    "    if i == 2:                                   # 2 number is 2 then print it because 2 is prime number\n",
    "        print(i, end = \" \")\n",
    "    else:\n",
    "        for j in range(2, i):                    # iterate the loop to check the number is divisible or not\n",
    "            if i%j == 0:                         #  if number is divisible than break the loop\n",
    "                break\n",
    "            if j == i -1:                        # if number is not divisible previous number than print it\n",
    "                print(i, end = \" \")\n",
    "\n"
   ]
  },
  {
   "cell_type": "code",
   "execution_count": 7,
   "id": "2d349fbd-7a6d-4cc7-bd9b-3a4de7e3016b",
   "metadata": {},
   "outputs": [
    {
     "name": "stdout",
     "output_type": "stream",
     "text": [
      "Count : 12\n"
     ]
    }
   ],
   "source": [
    "# 13. Develop a program that counts the number of vowels in a string using a `for` loop.\n",
    "\n",
    "String = \"PW Skills is your one-stop-shop for upscaling.\"  # take input string\n",
    "Vowels = \"AEIOUaeiou\"                                      # initialize vowels\n",
    "count = 0                                                  # initialize count with 0\n",
    "for i in String:                                           # iterate each character\n",
    "    if i in Vowels:                                        # if that character is vowel\n",
    "        count += 1                                         # increment count\n",
    "print(f\"Count : {count}\")                                  # print count\n"
   ]
  },
  {
   "cell_type": "code",
   "execution_count": 3,
   "id": "05cd0166-8df3-4fcf-8d5b-fc97cbfa1a94",
   "metadata": {},
   "outputs": [
    {
     "name": "stdout",
     "output_type": "stream",
     "text": [
      "Max : 18\n"
     ]
    }
   ],
   "source": [
    "# 14. Write a program to find the maximum element in a 2D list using a nested `for` loop.\n",
    "\n",
    "List = [[1, 2, 8, 9], [6, 18, 4, 16], [10, 12], [13, 8, 7]]  # take input nested list\n",
    "Max = -9999999999                                            # initialize max\n",
    "for i in range(0, len(List)):                                # iterate each list\n",
    "    for j in range(0, len(List[i])):                         # iterate each number in a list\n",
    "        if Max < List[i][j]:                                 # if max is less than given number than assign the larger number in max\n",
    "            Max = List[i][j]\n",
    "print(f\"Max : {Max}\")                                        # print max\n",
    "            \n",
    "    \n"
   ]
  },
  {
   "cell_type": "code",
   "execution_count": 5,
   "id": "5deb9d6d-9874-4fb3-ab67-5c1fe9f0aae5",
   "metadata": {},
   "outputs": [
    {
     "name": "stdin",
     "output_type": "stream",
     "text": [
      "Enter Specific Element :  10\n"
     ]
    },
    {
     "name": "stdout",
     "output_type": "stream",
     "text": [
      "New List : [1, 2, 3, 4, 5, 6, 7, 8, 1, 2, 3, 3, 5, 5, 4, 3, 2, 3, 9]\n"
     ]
    }
   ],
   "source": [
    "# 15. Create a program that removes all occurrences of a specific element from a list using a `for` loop.\n",
    "\n",
    "List = [1, 2, 3, 4, 5, 6, 7, 8, 1, 2, 3, 3, 5, 5, 4, 3, 2, 3, 9, 10]  # take input list\n",
    "specific_element = int(input(\"Enter Specific Element : \"))            # take specific number from user\n",
    "for i in range(0, len(List)):                                         # iterate the list\n",
    "    if List[i] == specific_element:                                   # check list contain specific element\n",
    "        List.remove(List[i])                                          # remove specific element\n",
    "print(f\"New List : {List}\")                                           # print new list\n"
   ]
  },
  {
   "cell_type": "code",
   "execution_count": 5,
   "id": "fe9c7922-a15f-4251-8d9e-473a8b89e431",
   "metadata": {},
   "outputs": [
    {
     "name": "stdout",
     "output_type": "stream",
     "text": [
      "1\n",
      "2\n",
      "3\n",
      "4\n",
      "5\n",
      "6\n",
      "7\n",
      "8\n",
      "9\n",
      "10\n",
      " \n",
      "2\n",
      "4\n",
      "6\n",
      "8\n",
      "10\n",
      "12\n",
      "14\n",
      "16\n",
      "18\n",
      "20\n",
      " \n",
      "3\n",
      "6\n",
      "9\n",
      "12\n",
      "15\n",
      "18\n",
      "21\n",
      "24\n",
      "27\n",
      "30\n",
      " \n",
      "4\n",
      "8\n",
      "12\n",
      "16\n",
      "20\n",
      "24\n",
      "28\n",
      "32\n",
      "36\n",
      "40\n",
      " \n",
      "5\n",
      "10\n",
      "15\n",
      "20\n",
      "25\n",
      "30\n",
      "35\n",
      "40\n",
      "45\n",
      "50\n",
      " \n"
     ]
    }
   ],
   "source": [
    "# 16. Develop a program that generates a multiplication table for numbers from 1 to 5 using a nested `for` loop.\n",
    "\n",
    "for i in range(1, 6):         # iterate each number\n",
    "    for j in range(1, 11):    # take multiplicant\n",
    "        print(i*j)            # print table\n",
    "    print(\" \")                # print spaces for new number table\n"
   ]
  },
  {
   "cell_type": "code",
   "execution_count": 4,
   "id": "9f06d03c-0690-406a-8e50-40bb8e9f2f18",
   "metadata": {},
   "outputs": [
    {
     "name": "stdout",
     "output_type": "stream",
     "text": [
      "List of Celsius value : [37.0, 37.77777777777778, 38.888888888888886, 40.0, 41.111111111111114, 42.22222222222222, 43.333333333333336]\n"
     ]
    }
   ],
   "source": [
    "# 17. Write a program that converts a list of Fahrenheit temperatures to Celsius using a `for` loop.\n",
    "\n",
    "list_of_fahrenheit = [98.6, 100, 102, 104, 106, 108, 110]   # take input list of Fahrenheit temperatures\n",
    "list_of_celsius = []                                        # initialize celsius temperature with empty list\n",
    "for f in list_of_fahrenheit:                                # iterate each fahrenheit value\n",
    "    list_of_celsius.append((f- 32)*5/9)                     # calculate celsius value with given formula\n",
    "print(f\"List of Celsius value : {list_of_celsius}\")         # print celsius value\n"
   ]
  },
  {
   "cell_type": "code",
   "execution_count": 5,
   "id": "41107e2b-fe92-44dc-b5e5-7702cbc1fc0f",
   "metadata": {},
   "outputs": [
    {
     "name": "stdout",
     "output_type": "stream",
     "text": [
      "2 3 7 9 12 "
     ]
    }
   ],
   "source": [
    "# 18. Create a program to print the common elements from two lists using a `for` loop.\n",
    "\n",
    "l1 = [1, 2, 3, 4, 5, 6, 7, 8, 9, 10, 11, 12]   # take input list1\n",
    "l2 = [2, 3, 7, 9, 12, 15, 18, 19]              # take input list2\n",
    "\n",
    "for i in l1:                # itearte each element in any list \n",
    "    if i in l2:             # if any element in list is also present another list than print the element\n",
    "        print(i, end = \" \")\n"
   ]
  },
  {
   "cell_type": "code",
   "execution_count": 7,
   "id": "6dbc7439-d039-4d9f-b544-c2fc0187e9aa",
   "metadata": {},
   "outputs": [
    {
     "name": "stdout",
     "output_type": "stream",
     "text": [
      "* \n",
      "* * \n",
      "* * * \n",
      "* * * * \n",
      "* * * * * \n",
      "* * * * * * \n"
     ]
    }
   ],
   "source": [
    "# 19. Develop a program that prints the pattern of right-angled triangles using a `for` loop. Use ‘*’ to draw the pattern.\n",
    "\n",
    "for i in range(1,7):            # iterate loop for rows\n",
    "    for j in range(1, i+1):     # in each coumn print *\n",
    "        print(\"*\", end = \" \")\n",
    "    print(\"\")                   # print new line\n"
   ]
  },
  {
   "cell_type": "code",
   "execution_count": 17,
   "id": "30008a41-1582-44c8-8865-b865557f5515",
   "metadata": {},
   "outputs": [
    {
     "name": "stdin",
     "output_type": "stream",
     "text": [
      "Enter number1 :  98\n",
      "Enter number2 :  56\n"
     ]
    },
    {
     "name": "stdout",
     "output_type": "stream",
     "text": [
      "Greatest Common Divisor is : 14\n"
     ]
    }
   ],
   "source": [
    "# 20. Write a program to find the greatest common divisor (GCD) of two numbers using a `for` loop.\n",
    "\n",
    "num1 = int(input(\"Enter number1 : \"))         # take input no. from user\n",
    "num2 = int(input(\"Enter number2 : \"))         # take input no. from user\n",
    "\n",
    "GCD = 1                                       # initialize GCD = 1\n",
    "\n",
    "for i in range(2, num1):                      # iterate each numbers using for loop\n",
    "    if num1 == 0:                             # if any number is 0 then GCD will always second number\n",
    "        GCD = num2\n",
    "    elif num2 == 0:\n",
    "        GCD = num1\n",
    "    elif num1 == num2:                        # if both numbers are equal then GCD is same as the number\n",
    "        GCD = num1\n",
    "    elif num1%i == 0 and num2%i == 0:         # if both number are divisible with any number in the range\n",
    "        GCD = i                               # then GCD will become that number\n",
    "print(f\"Greatest Common Divisor is : {GCD}\")  # print result\n"
   ]
  },
  {
   "cell_type": "markdown",
   "id": "331a2e4c-db91-45f1-b9ee-a5f6661ea33e",
   "metadata": {},
   "source": [
    "# Advanced Level:"
   ]
  },
  {
   "cell_type": "code",
   "execution_count": 2,
   "id": "16ca4f42-db46-46dd-be27-7ef9b6f656b9",
   "metadata": {},
   "outputs": [
    {
     "name": "stdout",
     "output_type": "stream",
     "text": [
      "Sum of number in list : 55\n"
     ]
    }
   ],
   "source": [
    "# 21. Create a program that calculates the sum of the digits of numbers in a list using a list comprehension.\n",
    "\n",
    "List = [1, 2, 3, 4, 5, 6, 7, 8, 9, 10]   # Take input List\n",
    "Sum = sum([i for i in List])             # calculate Sum using list comprehension \n",
    "print(f\"Sum of number in list : {Sum}\")  # print result\n"
   ]
  },
  {
   "cell_type": "code",
   "execution_count": 9,
   "id": "58ef78f3-3d08-49bf-b2cb-349a1ba58aaa",
   "metadata": {},
   "outputs": [
    {
     "name": "stdin",
     "output_type": "stream",
     "text": [
      " 315\n"
     ]
    },
    {
     "name": "stdout",
     "output_type": "stream",
     "text": [
      "Prime factors of number 315 is given below : \n",
      "3 5 7 "
     ]
    }
   ],
   "source": [
    "# 22. Write a program to find the prime factors of a given number using a `for` loop and list comprehension.\n",
    "\n",
    "N = int(input())                                                                 # take number from user\n",
    "\n",
    "prime_list = [i for i in range(2, N+1) if all(i % j != 0 for j in range(2, i))]  # extract prime number using list comprehension\n",
    "print(f\"Prime factors of number {N} is given below : \")                          # print result given below\n",
    "for i in prime_list:\n",
    "    if N%i == 0:\n",
    "        print(i, end = \" \")                                                      # print factors\n",
    "\n"
   ]
  },
  {
   "cell_type": "code",
   "execution_count": 13,
   "id": "51f52e15-a1d0-4a72-9657-88f7542c19b0",
   "metadata": {},
   "outputs": [
    {
     "name": "stdout",
     "output_type": "stream",
     "text": [
      "Unique List : [1, 2, 3, 4, 5, 6, 7]\n"
     ]
    }
   ],
   "source": [
    "# 23. Develop a program that extracts unique elements from a list and stores them in a new list using a list comprehension.\n",
    "\n",
    "l1 = [1, 2, 3, 4, 5, 6, 7, 1, 2, 3, 5, 6, 7]  # take input list l1\n",
    "unique_list = [i for i in set(l1)]            # find unique elements using set and append it using list comprehension\n",
    "print(f\"Unique List : {unique_list}\")         # print result\n"
   ]
  },
  {
   "cell_type": "code",
   "execution_count": 6,
   "id": "c96c0b98-371b-4100-b6cc-08c5cb279a86",
   "metadata": {},
   "outputs": [
    {
     "name": "stdin",
     "output_type": "stream",
     "text": [
      "Enter the specified Limit :  5678\n"
     ]
    },
    {
     "name": "stdout",
     "output_type": "stream",
     "text": [
      " Palindromic Number : [1, 2, 3, 4, 5, 6, 7, 8, 9, 11, 22, 33, 44, 55, 66, 77, 88, 99, 101, 111, 121, 131, 141, 151, 161, 171, 181, 191, 202, 212, 222, 232, 242, 252, 262, 272, 282, 292, 303, 313, 323, 333, 343, 353, 363, 373, 383, 393, 404, 414, 424, 434, 444, 454, 464, 474, 484, 494, 505, 515, 525, 535, 545, 555, 565, 575, 585, 595, 606, 616, 626, 636, 646, 656, 666, 676, 686, 696, 707, 717, 727, 737, 747, 757, 767, 777, 787, 797, 808, 818, 828, 838, 848, 858, 868, 878, 888, 898, 909, 919, 929, 939, 949, 959, 969, 979, 989, 999, 1001, 1111, 1221, 1331, 1441, 1551, 1661, 1771, 1881, 1991, 2002, 2112, 2222, 2332, 2442, 2552, 2662, 2772, 2882, 2992, 3003, 3113, 3223, 3333, 3443, 3553, 3663, 3773, 3883, 3993, 4004, 4114, 4224, 4334, 4444, 4554, 4664, 4774, 4884, 4994, 5005, 5115, 5225, 5335, 5445, 5555, 5665]\n"
     ]
    }
   ],
   "source": [
    "# 24. Create a program that generates a list of all palindromic numbers up to a specified limit using a list comprehension.\n",
    "\n",
    "N = int(input(\"Enter the specified Limit : \"))                          # Enter specified limit\n",
    "palindrome_list = [i for i in range(1, N+1) if str(i) == str(i)[::-1]]  # append palidromic numbers using liast comprehension\n",
    "print(f\" Palindromic Number : {palindrome_list}\")                       # print palindromic number\n"
   ]
  },
  {
   "cell_type": "code",
   "execution_count": 8,
   "id": "0f7e7f84-2ac6-4317-bfee-af6e0211675b",
   "metadata": {},
   "outputs": [
    {
     "name": "stdout",
     "output_type": "stream",
     "text": [
      "Flatten List : [1, 2, 3, 4, 5, 6, 7, 8, 9, 10, 11, 12]\n"
     ]
    }
   ],
   "source": [
    "# 25. Write a program to flatten a nested list using list comprehension.\n",
    "\n",
    "nested_list = [[1, 2, 3, 4], [5, 6, 7, 8], [9, 10, 11, 12]] # take input nested list\n",
    "flatten_list = [i for sub in nested_list for i in sub]      # flatten nested list using list comprehension\n",
    "print(f\"Flatten List : {flatten_list}\")                     # print flatten list\n"
   ]
  },
  {
   "cell_type": "code",
   "execution_count": 6,
   "id": "150d7347-d354-4e78-88e0-899c71d6a1d7",
   "metadata": {},
   "outputs": [
    {
     "name": "stdout",
     "output_type": "stream",
     "text": [
      "Even Sum : 72\n",
      "odd Sum : 64\n"
     ]
    }
   ],
   "source": [
    "# 26. Develop a program that computes the sum of even and odd numbers in a list separately using list comprehension.\n",
    "\n",
    "List = [1, 2, 3, 4, 5, 6, 7, 8, 9, 10, 11, 12, 13, 14, 15, 16] # take input list\n",
    "even_sum = sum([i for i in List if i%2 == 0])                  # calculate even sum using list comprehension\n",
    "odd_sum = sum([i for i in List if i%2 != 0])                   # calculate odd sum using list comprehension\n",
    "print(f\"Even Sum : {even_sum}\")                                # print even sum\n",
    "print(f\"odd Sum : {odd_sum}\")                                  # print odd sum\n",
    "\n"
   ]
  },
  {
   "cell_type": "code",
   "execution_count": 9,
   "id": "2e93dd2d-628c-441c-8971-c24096c4b669",
   "metadata": {},
   "outputs": [
    {
     "name": "stdout",
     "output_type": "stream",
     "text": [
      "List of Squares of odd Number Between 1 to 10 is : [9, 25, 49, 81]\n"
     ]
    }
   ],
   "source": [
    "# 27. Create a program that generates a list of squares of odd numbers between 1 and 10 using list comprehension.\n",
    "\n",
    "Squares_odd = [i**2 for i in range(2, 10) if i%2 != 0]                       # generates odd numbers squares using list comprehension\n",
    "print(f\"List of Squares of odd Number Between 1 to 10 is : {Squares_odd}\")   # print result"
   ]
  },
  {
   "cell_type": "code",
   "execution_count": 13,
   "id": "06a8fb0e-23f8-43d0-885b-bd0bd9774147",
   "metadata": {},
   "outputs": [
    {
     "name": "stdout",
     "output_type": "stream",
     "text": [
      "Combine the given lists into dictionary : {'one': 1, 'two': 2, 'three': 3, 'four': 4, 'five': 5, 'six': 6}\n"
     ]
    }
   ],
   "source": [
    "# 28. Write a program that combines two lists into a dictionary using list comprehension.\n",
    "\n",
    "list1 = ['one', 'two', 'three', 'four', 'five', 'six']      # take input list1 as key\n",
    "list2 = [1, 2, 3, 4, 5, 6]                                  # take input list2 as value\n",
    "Dict = {list1[i] : list2[i] for i in range(len(list1))}     # combine list1 as key and list2 as value using list comprehension\n",
    "print(f\"Combine the given lists into dictionary : {Dict}\")  # print result\n"
   ]
  },
  {
   "cell_type": "code",
   "execution_count": 14,
   "id": "3f210982-64e9-4731-8909-445f20140c9a",
   "metadata": {},
   "outputs": [
    {
     "name": "stdout",
     "output_type": "stream",
     "text": [
      "['i', 'a', 'a', 'e', 'e', 'o']\n"
     ]
    }
   ],
   "source": [
    "# 29. Develop a program that extracts the vowels from a string and stores them in a list using list comprehension.\n",
    "\n",
    "string = \"pwskills.app/lab/tree/work\"     # take input string\n",
    "vowels = \"aeiouAEIOU\"                     # define vowels\n",
    "List = [i for i in string if i in vowels] # extract each vowels using list comprehension\n",
    "print(f\"{List}\")                          # print result\n"
   ]
  },
  {
   "cell_type": "code",
   "execution_count": 8,
   "id": "663e4af9-ef13-4287-a1be-7e8443e26758",
   "metadata": {},
   "outputs": [
    {
     "name": "stdout",
     "output_type": "stream",
     "text": [
      "['', '6871', '123', '456', '1234']\n"
     ]
    }
   ],
   "source": [
    "# 30. Create a program that removes all non-numeric characters from a list of strings using list comprehension.\n",
    "\n",
    "List = [\"pwskills\", \"fmohd6871\", \"ayush123\", \"sudh456\", \"1234\"]          # take list of strings\n",
    "New_list = [''.join(char for char in s if char.isdigit()) for s in List] # removes all non-numeric characters from a list of strings using list comprehension.\n",
    "print(New_list)"
   ]
  },
  {
   "cell_type": "markdown",
   "id": "60186285-514b-46cf-b457-733a6c45dca5",
   "metadata": {},
   "source": [
    "# Challenge Level:"
   ]
  },
  {
   "cell_type": "code",
   "execution_count": 12,
   "id": "174d8d76-0b40-43c6-b776-25229ef76458",
   "metadata": {},
   "outputs": [
    {
     "name": "stdout",
     "output_type": "stream",
     "text": [
      "Prime numbers upto 50 using Sieve of Eratosthenes algorithm\n",
      "2 3 5 7 11 13 17 19 23 29 31 37 41 43 47 "
     ]
    }
   ],
   "source": [
    "# 31. Write a program to generate a list of prime numbers using the Sieve of Eratosthenes algorithm and list comprehension.\n",
    "\n",
    "def SieveOfEratosthenes(n):\n",
    "    # initialize all the values are True upto n\n",
    "    prime = [True for i in range(n+1)]\n",
    "    p = 2\n",
    "    while(p*p <= n):                            # iterate loop upto square root of n\n",
    "        \n",
    "        if prime[p] == True:\n",
    "            \n",
    "            for i in range(p*p, n+1, p):\n",
    "                prime[i] = False                # update all multiples of p False\n",
    "        p += 1                                  # increment th evalue of p\n",
    "    for i in range(2, n+1):\n",
    "        if prime[i]:                            # print all prime no. upto range n\n",
    "            print(i, end = ' ')\n",
    "\n",
    "Limit = 50\n",
    "print(f\"Prime numbers upto {Limit} using Sieve of Eratosthenes algorithm\")\n",
    "SieveOfEratosthenes(Limit)\n",
    "            "
   ]
  },
  {
   "cell_type": "code",
   "execution_count": 8,
   "id": "062e7793-b4a7-493a-b140-ca84ade353fa",
   "metadata": {},
   "outputs": [
    {
     "name": "stdout",
     "output_type": "stream",
     "text": [
      "[2, 3, 5, 7, 11, 13, 17, 19, 23, 29, 31, 37, 41, 43, 47]\n"
     ]
    }
   ],
   "source": [
    "# 31. Write a program to generate a list of prime numbers using list comprehension.\n",
    "\n",
    "n = 50  # check prime number upto n\n",
    "prime = [i for i in range(2, n+1) if all(i % j != 0 for j in range(2, i))]  # extract prime number using list comprehension\n",
    "print(prime)  # print all prime number range 50\n"
   ]
  },
  {
   "cell_type": "code",
   "execution_count": 5,
   "id": "cb3e91bc-132c-4634-8ab9-a209040a45ae",
   "metadata": {},
   "outputs": [
    {
     "name": "stdout",
     "output_type": "stream",
     "text": [
      "[(3, 4, 5), (5, 12, 13), (6, 8, 10), (8, 15, 17), (9, 12, 15), (12, 16, 20)]\n"
     ]
    }
   ],
   "source": [
    "# 32. Create a program that generates a list of all Pythagorean triplets up to a specified limit using list comprehension.\n",
    "\n",
    "n = 20  # specified limit\n",
    "# calculate all the pythagorean using list comprehension.\n",
    "List_of_Pythagorean = [(a, b, c) for a in range(1, n+1) for b in range(a, n+1) for c in range(b, n+1) if a**2 + b**2 == c**2]\n",
    "print(List_of_Pythagorean) # print result\n",
    "\n"
   ]
  },
  {
   "cell_type": "code",
   "execution_count": 1,
   "id": "2496ea58-aac3-4a48-bea3-f1592e2ad9c0",
   "metadata": {},
   "outputs": [
    {
     "name": "stdout",
     "output_type": "stream",
     "text": [
      "[(1, 6), (1, 7), (1, 8), (1, 9), (2, 6), (2, 7), (2, 8), (2, 9), (3, 6), (3, 7), (3, 8), (3, 9), (4, 6), (4, 7), (4, 8), (4, 9), (5, 6), (5, 7), (5, 8), (5, 9)]\n"
     ]
    }
   ],
   "source": [
    "# 33. Develop a program that generates a list of all possible combinations of two lists using list comprehension.\n",
    "\n",
    "list1 = [1, 2, 3, 4, 5]                                   # take input list1\n",
    "list2 = [6, 7, 8, 9]                                      # take input list2\n",
    "all_combination = [(a, b) for a in list1 for b in list2]  # find all combination using list comprehension\n",
    "print(all_combination)                                    # print result \n"
   ]
  },
  {
   "cell_type": "code",
   "execution_count": 13,
   "id": "82fea45d-2a00-4a0b-9ac8-76213b652b71",
   "metadata": {},
   "outputs": [
    {
     "name": "stdout",
     "output_type": "stream",
     "text": [
      "Mean : [4.538461538461538]\n",
      "Median : [4]\n",
      "Mode : [1]\n"
     ]
    }
   ],
   "source": [
    "# 34. Write a program that calculates the mean, median, and mode of a list of numbers using list comprehension.\n",
    "\n",
    "from collections import Counter\n",
    "\n",
    "List = [1, 2, 3, 4, 5, 6, 1, 2, 7, 8, 9, 10, 1]          # take List of integers\n",
    "Length = len(List)                                       # calculate the how many numbers in a given list using len()\n",
    "\n",
    "# calculate Mean\n",
    "Mean = [sum(i for i in List)/Length]                     # calculate total sum of numbers using sum function and divided by total numbers\n",
    "print(f\"Mean : {Mean}\")                                  # print Mean value\n",
    "\n",
    "# calculate Median\n",
    "if Length%2 != 0:                                        # first check the total number in given list is even or odd\n",
    "    List = sorted(List)                                  # first we sort numbers in assending order\n",
    "    Median = [List[Length//2]]                           # take mid value if the total number in list is odd\n",
    "    print(f\"Median : {Median}\")                          # print Median value\n",
    "else:                                                    # if the totl number is even enter this loop\n",
    "    List = sorted(List)                                  # sort numbers in assending order\n",
    "    Median = [(List[Length//2] + List[(Length-1)//2])/2] # calculate avg of two mid value if toal number in list is even\n",
    "    print(f\"Median : {Median}\")                          # print Median value\n",
    "\n",
    "# calculate Mode\n",
    "Mode = [num for num, freq in Counter(List).items() if freq == max(Counter(List).values())] # calculate Mode using list comprehension\n",
    "print(f\"Mode : {Mode}\")                                  # print Mode value\n",
    "\n"
   ]
  },
  {
   "cell_type": "code",
   "execution_count": 8,
   "id": "45184ba1-312f-4cf6-9004-2996ce32d6ee",
   "metadata": {},
   "outputs": [
    {
     "name": "stdout",
     "output_type": "stream",
     "text": [
      "           1\n",
      "          1 1\n",
      "         1 2 1\n",
      "        1 3 3 1\n",
      "       1 4 6 4 1\n",
      "      1 5 10 10 5 1\n",
      "     1 6 15 20 15 6 1\n",
      "    1 7 21 35 35 21 7 1\n",
      "   1 8 28 56 70 56 28 8 1\n",
      "  1 9 36 84 126 126 84 36 9 1\n"
     ]
    }
   ],
   "source": [
    "# 35. Create a program that generates Pascal's triangle up to a specified number of rows using list comprehension.\n",
    "\n",
    "n = 10                                # specified number of rows\n",
    "for i in range(1, n+1):               # iterate for loop each row\n",
    "    for j in range(0, n-i+1):         # iterate loop for spaces\n",
    "        print(' ', end='')            # print spaces in left of the triangle\n",
    " \n",
    "                                      # first element is always 1\n",
    "    C = 1\n",
    "    for j in range(1, i+1):\n",
    " \n",
    "                                      # first value in a line is always 1\n",
    "        print(' ', C, sep='', end='') # print the coefficient value\n",
    " \n",
    "        C = C * (i - j) // j          # calculate the coefficients using Binomial Coefficient\n",
    "    print()                           # print new line\n"
   ]
  },
  {
   "cell_type": "code",
   "execution_count": 7,
   "id": "3cadcfde-59f9-4f34-a7b7-d23633c3efcd",
   "metadata": {},
   "outputs": [
    {
     "name": "stdout",
     "output_type": "stream",
     "text": [
      "Factorial of numbers from 1 to 5 : [1, 2, 6, 24, 120]\n",
      "Sum of digits of a factorial of numbers from 1 to 5 : [1, 2, 6, 6, 3]\n"
     ]
    }
   ],
   "source": [
    "# 36. Develop a program that calculates the sum of the digits of a factorial of numbers from 1 to 5 using list comprehension.\n",
    "\n",
    "def factorial(n):                                                              # create a function that's calculate factorial of a number\n",
    "    fact = 1\n",
    "    for i in range(1, n+1):\n",
    "        fact = fact*i\n",
    "    return fact\n",
    "             \n",
    "Factorial = [factorial(n) for n in range(1, 6)]                                # append factorial of numbers range from 1 to 5 using list comprehension\n",
    "print(f\"Factorial of numbers from 1 to 5 : {Factorial}\")                       # print factorial\n",
    "\n",
    "# calculate sum of digit\n",
    "sum_of_digit = [sum(int(digit) for digit in str(num)) for num in Factorial]    # calculate each factorials of digit individually\n",
    "print(f\"Sum of digits of a factorial of numbers from 1 to 5 : {sum_of_digit}\") # print result"
   ]
  },
  {
   "cell_type": "code",
   "execution_count": 2,
   "id": "cc475c18-1a6c-41b1-b497-b49ac8a6a680",
   "metadata": {},
   "outputs": [
    {
     "name": "stdout",
     "output_type": "stream",
     "text": [
      "Longest word in a sentence is : organization\n"
     ]
    }
   ],
   "source": [
    "# 37. Write a program that finds the longest word in a sentence using list comprehension.\n",
    "\n",
    "Sentence = \"a punishment given by a law court to a person or organization that is guilty of a crime\" # take input sentence\n",
    "Split_Sentence = [word.strip(\".,?!\") for word in Sentence.split()]                                   # split sentences using list comprehension\n",
    "Longest_word = max(Split_Sentence, key = len)                                                        # find longest word using max function\n",
    "print(f\"Longest word in a sentence is : {Longest_word}\")                                             # print longest word"
   ]
  },
  {
   "cell_type": "code",
   "execution_count": 7,
   "id": "45ee883f-5ffb-4769-bf21-9b461dff73ab",
   "metadata": {},
   "outputs": [
    {
     "name": "stdout",
     "output_type": "stream",
     "text": [
      "Words which have more than or equal to 3 vowels :  ['punishment', 'organization']\n"
     ]
    }
   ],
   "source": [
    "# 38. Create a program that filters a list of strings to include only those with more than three vowels using list comprehension.\n",
    "\n",
    "def count_vowels(word):                                                                              # create a function which count the vowels\n",
    "    return sum(1 for i in word if i in \"AEIOUaeiou\")                                                 # return the count\n",
    "\n",
    "Sentence = \"a punishment given by a law court to a person or organization that is guilty of a crime\" # take input sentence\n",
    "Split_Sentence = [word.strip(\".,?!\") for word in Sentence.split()]                                   # split sentences using list comprehension\n",
    "\n",
    "new_string = [j for j in Split_Sentence if count_vowels(j) >= 3]                                     # append word which have more than three vowels using list comprehension\n",
    "print(f\"Words which have more than or equal to 3 vowels :  {new_string}\")                            # print result\n"
   ]
  },
  {
   "cell_type": "code",
   "execution_count": 16,
   "id": "7e67123d-23d9-476c-92ac-bcaede2e6ff4",
   "metadata": {},
   "outputs": [
    {
     "name": "stdout",
     "output_type": "stream",
     "text": [
      "sum of digits of each number of range 1 to 1000 : [1, 2, 3, 4, 5, 6, 7, 8, 9, 1, 2, 3, 4, 5, 6, 7, 8, 9, 10, 2, 3, 4, 5, 6, 7, 8, 9, 10, 11, 3, 4, 5, 6, 7, 8, 9, 10, 11, 12, 4, 5, 6, 7, 8, 9, 10, 11, 12, 13, 5, 6, 7, 8, 9, 10, 11, 12, 13, 14, 6, 7, 8, 9, 10, 11, 12, 13, 14, 15, 7, 8, 9, 10, 11, 12, 13, 14, 15, 16, 8, 9, 10, 11, 12, 13, 14, 15, 16, 17, 9, 10, 11, 12, 13, 14, 15, 16, 17, 18, 1, 2, 3, 4, 5, 6, 7, 8, 9, 10, 2, 3, 4, 5, 6, 7, 8, 9, 10, 11, 3, 4, 5, 6, 7, 8, 9, 10, 11, 12, 4, 5, 6, 7, 8, 9, 10, 11, 12, 13, 5, 6, 7, 8, 9, 10, 11, 12, 13, 14, 6, 7, 8, 9, 10, 11, 12, 13, 14, 15, 7, 8, 9, 10, 11, 12, 13, 14, 15, 16, 8, 9, 10, 11, 12, 13, 14, 15, 16, 17, 9, 10, 11, 12, 13, 14, 15, 16, 17, 18, 10, 11, 12, 13, 14, 15, 16, 17, 18, 19, 2, 3, 4, 5, 6, 7, 8, 9, 10, 11, 3, 4, 5, 6, 7, 8, 9, 10, 11, 12, 4, 5, 6, 7, 8, 9, 10, 11, 12, 13, 5, 6, 7, 8, 9, 10, 11, 12, 13, 14, 6, 7, 8, 9, 10, 11, 12, 13, 14, 15, 7, 8, 9, 10, 11, 12, 13, 14, 15, 16, 8, 9, 10, 11, 12, 13, 14, 15, 16, 17, 9, 10, 11, 12, 13, 14, 15, 16, 17, 18, 10, 11, 12, 13, 14, 15, 16, 17, 18, 19, 11, 12, 13, 14, 15, 16, 17, 18, 19, 20, 3, 4, 5, 6, 7, 8, 9, 10, 11, 12, 4, 5, 6, 7, 8, 9, 10, 11, 12, 13, 5, 6, 7, 8, 9, 10, 11, 12, 13, 14, 6, 7, 8, 9, 10, 11, 12, 13, 14, 15, 7, 8, 9, 10, 11, 12, 13, 14, 15, 16, 8, 9, 10, 11, 12, 13, 14, 15, 16, 17, 9, 10, 11, 12, 13, 14, 15, 16, 17, 18, 10, 11, 12, 13, 14, 15, 16, 17, 18, 19, 11, 12, 13, 14, 15, 16, 17, 18, 19, 20, 12, 13, 14, 15, 16, 17, 18, 19, 20, 21, 4, 5, 6, 7, 8, 9, 10, 11, 12, 13, 5, 6, 7, 8, 9, 10, 11, 12, 13, 14, 6, 7, 8, 9, 10, 11, 12, 13, 14, 15, 7, 8, 9, 10, 11, 12, 13, 14, 15, 16, 8, 9, 10, 11, 12, 13, 14, 15, 16, 17, 9, 10, 11, 12, 13, 14, 15, 16, 17, 18, 10, 11, 12, 13, 14, 15, 16, 17, 18, 19, 11, 12, 13, 14, 15, 16, 17, 18, 19, 20, 12, 13, 14, 15, 16, 17, 18, 19, 20, 21, 13, 14, 15, 16, 17, 18, 19, 20, 21, 22, 5, 6, 7, 8, 9, 10, 11, 12, 13, 14, 6, 7, 8, 9, 10, 11, 12, 13, 14, 15, 7, 8, 9, 10, 11, 12, 13, 14, 15, 16, 8, 9, 10, 11, 12, 13, 14, 15, 16, 17, 9, 10, 11, 12, 13, 14, 15, 16, 17, 18, 10, 11, 12, 13, 14, 15, 16, 17, 18, 19, 11, 12, 13, 14, 15, 16, 17, 18, 19, 20, 12, 13, 14, 15, 16, 17, 18, 19, 20, 21, 13, 14, 15, 16, 17, 18, 19, 20, 21, 22, 14, 15, 16, 17, 18, 19, 20, 21, 22, 23, 6, 7, 8, 9, 10, 11, 12, 13, 14, 15, 7, 8, 9, 10, 11, 12, 13, 14, 15, 16, 8, 9, 10, 11, 12, 13, 14, 15, 16, 17, 9, 10, 11, 12, 13, 14, 15, 16, 17, 18, 10, 11, 12, 13, 14, 15, 16, 17, 18, 19, 11, 12, 13, 14, 15, 16, 17, 18, 19, 20, 12, 13, 14, 15, 16, 17, 18, 19, 20, 21, 13, 14, 15, 16, 17, 18, 19, 20, 21, 22, 14, 15, 16, 17, 18, 19, 20, 21, 22, 23, 15, 16, 17, 18, 19, 20, 21, 22, 23, 24, 7, 8, 9, 10, 11, 12, 13, 14, 15, 16, 8, 9, 10, 11, 12, 13, 14, 15, 16, 17, 9, 10, 11, 12, 13, 14, 15, 16, 17, 18, 10, 11, 12, 13, 14, 15, 16, 17, 18, 19, 11, 12, 13, 14, 15, 16, 17, 18, 19, 20, 12, 13, 14, 15, 16, 17, 18, 19, 20, 21, 13, 14, 15, 16, 17, 18, 19, 20, 21, 22, 14, 15, 16, 17, 18, 19, 20, 21, 22, 23, 15, 16, 17, 18, 19, 20, 21, 22, 23, 24, 16, 17, 18, 19, 20, 21, 22, 23, 24, 25, 8, 9, 10, 11, 12, 13, 14, 15, 16, 17, 9, 10, 11, 12, 13, 14, 15, 16, 17, 18, 10, 11, 12, 13, 14, 15, 16, 17, 18, 19, 11, 12, 13, 14, 15, 16, 17, 18, 19, 20, 12, 13, 14, 15, 16, 17, 18, 19, 20, 21, 13, 14, 15, 16, 17, 18, 19, 20, 21, 22, 14, 15, 16, 17, 18, 19, 20, 21, 22, 23, 15, 16, 17, 18, 19, 20, 21, 22, 23, 24, 16, 17, 18, 19, 20, 21, 22, 23, 24, 25, 17, 18, 19, 20, 21, 22, 23, 24, 25, 26, 9, 10, 11, 12, 13, 14, 15, 16, 17, 18, 10, 11, 12, 13, 14, 15, 16, 17, 18, 19, 11, 12, 13, 14, 15, 16, 17, 18, 19, 20, 12, 13, 14, 15, 16, 17, 18, 19, 20, 21, 13, 14, 15, 16, 17, 18, 19, 20, 21, 22, 14, 15, 16, 17, 18, 19, 20, 21, 22, 23, 15, 16, 17, 18, 19, 20, 21, 22, 23, 24, 16, 17, 18, 19, 20, 21, 22, 23, 24, 25, 17, 18, 19, 20, 21, 22, 23, 24, 25, 26, 18, 19, 20, 21, 22, 23, 24, 25, 26, 27, 1]\n",
      "\n",
      "Total sum is : 13501\n"
     ]
    }
   ],
   "source": [
    "# 39. Develop a program that calculates the sum of the digits of numbers from 1 to 1000 using list comprehension.\n",
    "\n",
    "# calculate sum of digit\n",
    "sum_of_digit = [sum(int(digit) for digit in str(num)) for num in range(1, 1001)] # calculate each numbers sum individually using list comprehension\n",
    "print(f\"sum of digits of each number of range 1 to 1000 : {sum_of_digit}\")       # print each numbers sum\n",
    "Total_Sum = sum(i for i in sum_of_digit)                                         # calculate total sum\n",
    "print()                                                                          # print new line\n",
    "print(f\"Total sum is : {Total_Sum}\")                                             # print Total sum"
   ]
  },
  {
   "cell_type": "code",
   "execution_count": 7,
   "id": "42cc9cc4-c1b6-4e7f-a8ce-f766a649bae1",
   "metadata": {},
   "outputs": [
    {
     "name": "stdout",
     "output_type": "stream",
     "text": [
      " Prime Numbers upto 500 : [2, 3, 5, 7, 11, 13, 17, 19, 23, 29, 31, 37, 41, 43, 47, 53, 59, 61, 67, 71, 73, 79, 83, 89, 97, 101, 103, 107, 109, 113, 127, 131, 137, 139, 149, 151, 157, 163, 167, 173, 179, 181, 191, 193, 197, 199, 211, 223, 227, 229, 233, 239, 241, 251, 257, 263, 269, 271, 277, 281, 283, 293, 307, 311, 313, 317, 331, 337, 347, 349, 353, 359, 367, 373, 379, 383, 389, 397, 401, 409, 419, 421, 431, 433, 439, 443, 449, 457, 461, 463, 467, 479, 487, 491, 499]\n",
      "\n",
      "Palprime numbers upto 500 : [2, 3, 5, 7, 11, 101, 131, 151, 181, 191, 313, 353, 373, 383]\n"
     ]
    }
   ],
   "source": [
    "# 40. Write a program that generates a list of prime palindromic numbers using list comprehension.\n",
    "\n",
    "def palindrome(prime_list):                                                      # create a function to check palidrome\n",
    "    return [i for i in prime_list if str(i) == str(i)[::-1]]                     # append palidromic numbers using list comprehension\n",
    "\n",
    "N = 500                                                                          # check PalPrime number upto n\n",
    "prime_list = [i for i in range(2, N+1) if all(i % j != 0 for j in range(2, i))]  # extract prime number using list comprehension\n",
    "print(f\" Prime Numbers upto {N} : {prime_list}\")                                 # print prime numbers upto N\n",
    "PalPrime = palindrome(prime_list)\n",
    "print()                                                                          # print new line\n",
    "print(f\"Palprime numbers upto {N} : {PalPrime}\")                                 # print all prime number range 50\n"
   ]
  },
  {
   "cell_type": "code",
   "execution_count": null,
   "id": "8c22680e-44b3-4d71-bcba-f5b32016a1da",
   "metadata": {},
   "outputs": [],
   "source": []
  }
 ],
 "metadata": {
  "kernelspec": {
   "display_name": "Python 3 (ipykernel)",
   "language": "python",
   "name": "python3"
  },
  "language_info": {
   "codemirror_mode": {
    "name": "ipython",
    "version": 3
   },
   "file_extension": ".py",
   "mimetype": "text/x-python",
   "name": "python",
   "nbconvert_exporter": "python",
   "pygments_lexer": "ipython3",
   "version": "3.10.8"
  }
 },
 "nbformat": 4,
 "nbformat_minor": 5
}
