{
 "cells": [
  {
   "cell_type": "markdown",
   "id": "f4c1bb29-e443-4fc5-a41e-e1752e5e7d74",
   "metadata": {},
   "source": [
    "TOPIC: String Based Assignment Problem"
   ]
  },
  {
   "cell_type": "code",
   "execution_count": 6,
   "id": "d264692d-6816-4d3d-95a9-ad979b43f7bd",
   "metadata": {},
   "outputs": [
    {
     "name": "stdout",
     "output_type": "stream",
     "text": [
      "Farhan  : Reverse String :> nahraF\n"
     ]
    }
   ],
   "source": [
    "# 1. Write a program to reverse a string.\n",
    "\n",
    "S = \"Farhan\"                               # Input String\n",
    "Reverse = S[::-1]                          # USed slicing operation\n",
    "print(S, \" : Reverse String :>\", Reverse)  # print original and reverse String\n"
   ]
  },
  {
   "cell_type": "code",
   "execution_count": 1,
   "id": "948565fe-f0b5-4420-9315-30a2a7f480c3",
   "metadata": {},
   "outputs": [
    {
     "name": "stdin",
     "output_type": "stream",
     "text": [
      "Enter the Input String :  abcba\n"
     ]
    },
    {
     "name": "stdout",
     "output_type": "stream",
     "text": [
      "String Palindrome\n"
     ]
    }
   ],
   "source": [
    "# 2. Check if a string is a palindrome.\n",
    "\n",
    "S = input(\"Enter the Input String : \")         # Take input from user\n",
    "Reverse = S[::-1]                              # Reversed String using slicing\n",
    "if Reverse == S:                               # If reverse String equal to original string then string is palindrome else not\n",
    "    print(\"String Palindrome\")\n",
    "else:\n",
    "    print(\"String not Palindrome\")\n"
   ]
  },
  {
   "cell_type": "code",
   "execution_count": 14,
   "id": "8489f975-8aac-4a55-ae9a-21d9c491a67a",
   "metadata": {},
   "outputs": [
    {
     "name": "stdout",
     "output_type": "stream",
     "text": [
      "Pwskills  : Uppercase :>  PWSKILLS\n"
     ]
    }
   ],
   "source": [
    "# 3. Convert a string to uppercase.\n",
    "\n",
    "S = \"Pwskills\"                          # Input String\n",
    "Uppercase = S.upper()                   # used upper function\n",
    "print(S, \" : Uppercase :> \", Uppercase) # print the result\n"
   ]
  },
  {
   "cell_type": "code",
   "execution_count": 17,
   "id": "f65d31a3-dbb5-4f6c-aed7-47a492910b42",
   "metadata": {},
   "outputs": [
    {
     "name": "stdout",
     "output_type": "stream",
     "text": [
      "PWSkills  : Lowercase :>  pwskills\n"
     ]
    }
   ],
   "source": [
    "# 4. Convert a string to lowercase.\n",
    "\n",
    "S = \"PWSkills\"                           # Input String\n",
    "Lowercase = S.lower()                    # used lower function\n",
    "print(S, \" : Lowercase :> \", Lowercase)  # print the result\n"
   ]
  },
  {
   "cell_type": "code",
   "execution_count": 11,
   "id": "489f6b36-9171-4765-8507-fa0c084f37f0",
   "metadata": {},
   "outputs": [
    {
     "name": "stdin",
     "output_type": "stream",
     "text": [
      "Enter the string :  farhan\n"
     ]
    },
    {
     "name": "stdout",
     "output_type": "stream",
     "text": [
      "count of vowels in farhan is 2\n"
     ]
    }
   ],
   "source": [
    "# 5. Count the number of vowels in a string.\n",
    "\n",
    "string = input(\"Enter the string : \")                  # Take input from user\n",
    "count = 0                                              # Initialize count zero\n",
    "vowels = set(\"aeiouAEIOU\")                             # set vowels\n",
    "count = sum(string.count(vowel) for vowel in vowels)   # count if vowels present \n",
    "print(f\"count of vowels in {string} is {count}\")       # print the result\n"
   ]
  },
  {
   "cell_type": "code",
   "execution_count": 14,
   "id": "01c92ab0-c31b-4c5b-9a0b-89f338d8c419",
   "metadata": {},
   "outputs": [
    {
     "name": "stdin",
     "output_type": "stream",
     "text": [
      "Enter the string :  Mohammad Farhan\n"
     ]
    },
    {
     "name": "stdout",
     "output_type": "stream",
     "text": [
      "count of consonants in Mohammad Farhan is 9\n"
     ]
    }
   ],
   "source": [
    "# 6. Count the number of consonants in a string.\n",
    "\n",
    "string = input(\"Enter the string : \")                               # Take input from user\n",
    "count = 0                                                           # Initialize count zero\n",
    "consonants = set(\"bcdfghjklmnpqrstvwxyzBCDFGHJKLMNPQRSTVWXYZ\")      # set Consonants\n",
    "count = sum(string.count(consonant) for consonant in consonants)    # count if consonants present\n",
    "print(f\"count of consonants in {string} is {count}\")                # print the result\n"
   ]
  },
  {
   "cell_type": "code",
   "execution_count": 16,
   "id": "80da6b36-85ce-41da-a5b0-71e2e6780058",
   "metadata": {},
   "outputs": [
    {
     "name": "stdin",
     "output_type": "stream",
     "text": [
      "Enter the string :  Mohammad Farhan ahmad\n"
     ]
    },
    {
     "name": "stdout",
     "output_type": "stream",
     "text": [
      "New update string of Mohammad Farhan ahmad is MohammadFarhanahmad\n"
     ]
    }
   ],
   "source": [
    "# 7. Remove all whitespaces from a string.\n",
    "\n",
    "string = input(\"Enter the string : \")                      # Take input from user\n",
    "updateString = string.replace(\" \",\"\")                      # remove whitspace using replace function\n",
    "print(f\"New update string of {string} is {updateString}\")  # print the result\n"
   ]
  },
  {
   "cell_type": "code",
   "execution_count": 3,
   "id": "1ae81b43-b1de-44ed-a07c-49f31ad2a1aa",
   "metadata": {},
   "outputs": [
    {
     "name": "stdin",
     "output_type": "stream",
     "text": [
      "Enter the string :  farhan\n"
     ]
    },
    {
     "name": "stdout",
     "output_type": "stream",
     "text": [
      " Length of farhan is 6\n"
     ]
    }
   ],
   "source": [
    "# 8. Find the length of a string without using the `len()` function.\n",
    "\n",
    "string = input(\"Enter the string : \")     # Take input from user\n",
    "count = 0                                 # Initialize count zero\n",
    "for i in string:                          # Count the character using for loop iteration\n",
    "    count += 1\n",
    "print(f\" Length of {string} is {count}\")  # print the result\n",
    "\n"
   ]
  },
  {
   "cell_type": "code",
   "execution_count": 2,
   "id": "0185eeaa-9f3f-41d2-8dc7-b12b6982def9",
   "metadata": {},
   "outputs": [
    {
     "name": "stdin",
     "output_type": "stream",
     "text": [
      "Enter the string :  farhan\n",
      "Enter specific word :  i\n"
     ]
    },
    {
     "name": "stdout",
     "output_type": "stream",
     "text": [
      "The string not contains i\n"
     ]
    }
   ],
   "source": [
    "# 9. Check if a string contains a specific word.\n",
    "\n",
    "string = input(\"Enter the string : \")                # Take input from user\n",
    "specific_word = input(\"Enter specific word : \")      # Take specific word from user\n",
    "\n",
    "if specific_word in string:                          # check specific word present or not\n",
    "    print(f\"The string contains {specific_word}\")\n",
    "else:\n",
    "    print(f\"The string not contains {specific_word}\")\n"
   ]
  },
  {
   "cell_type": "code",
   "execution_count": 6,
   "id": "9edcea46-b4ba-4bbc-b1a9-bfaf92626863",
   "metadata": {},
   "outputs": [
    {
     "name": "stdin",
     "output_type": "stream",
     "text": [
      "Enter the string :  tgh jkl iuy\n",
      "Enter which word replace  iuy\n",
      "Enter the new word mko\n"
     ]
    },
    {
     "name": "stdout",
     "output_type": "stream",
     "text": [
      "tgh jkl mko\n"
     ]
    }
   ],
   "source": [
    "# 10. Replace a word in a string with another word.\n",
    "\n",
    "string = input(\"Enter the string : \")                 # Take input from user\n",
    "replace_word = input(\"Enter which word replace \")     # Take replace word from user\n",
    "new_word = input(\"Enter the new word\")                # Take new word from user\n",
    "new_string = string.replace(replace_word, new_word,-1)# Replace word using replace function\n",
    "print(new_string)                                     # print the result\n"
   ]
  },
  {
   "cell_type": "code",
   "execution_count": 5,
   "id": "8f1ea62d-bfe2-4753-bf95-57ac64f94408",
   "metadata": {},
   "outputs": [
    {
     "name": "stdin",
     "output_type": "stream",
     "text": [
      "Enter the string :   A computer science portal for for for\n",
      "Enter the word :  for\n"
     ]
    },
    {
     "name": "stdout",
     "output_type": "stream",
     "text": [
      "3\n"
     ]
    }
   ],
   "source": [
    "# 11. Count the occurrences of a word in a string.\n",
    "\n",
    "string = input(\"Enter the string : \")  # Take input from user\n",
    "word = input(\"Enter the word : \")      # Take Occurence word from user\n",
    "count = 0                              # Initialize count with zero\n",
    "new = string.split(\" \")                # Split string and store words in new\n",
    "for i in range(0, len(new)):           # iterate each word \n",
    "    if (word == new[i]):               # if word == occurence word then increment count\n",
    "        count += 1\n",
    "print(count)                           # print count\n",
    "    \n"
   ]
  },
  {
   "cell_type": "code",
   "execution_count": 4,
   "id": "07c9f0f5-fb25-4289-a908-cc0b189a9c3f",
   "metadata": {},
   "outputs": [
    {
     "name": "stdin",
     "output_type": "stream",
     "text": [
      "Enter the string :  Lorem Ipsum is simply dummy text of the printing and typesetting industry. Lorem Ipsum has been the industry's standard dummy text ever since the 1500s, when an unknown printer took a galley of type and scrambled it to make a type specimen book.\n",
      "Enter the First occurence word is\n"
     ]
    },
    {
     "name": "stdout",
     "output_type": "stream",
     "text": [
      "index is 12\n"
     ]
    }
   ],
   "source": [
    "# 12. Find the first occurrence of a word in a string.\n",
    "\n",
    "string = input(\"Enter the string : \")            # Take input string from user\n",
    "word = input(\"Enter the First occurence word\")   # Take Occurence word from user\n",
    "index = string.find(word, 0, len(string))        # find first occurence index\n",
    "print(f\"index is {index}\")                       # print index\n"
   ]
  },
  {
   "cell_type": "code",
   "execution_count": 11,
   "id": "026a01d9-82fa-4ce6-868c-824cba14e2ba",
   "metadata": {},
   "outputs": [
    {
     "name": "stdin",
     "output_type": "stream",
     "text": [
      "Enter the string :  hello this is farhan i am just learning python hello this is farhan i am just learning python hello this is farhan i am just learning python hello this is farhan i am just learning python\n",
      "Enter the Last occurence word am\n"
     ]
    },
    {
     "name": "stdout",
     "output_type": "stream",
     "text": [
      "index is 164\n"
     ]
    }
   ],
   "source": [
    "# 13. Find the last occurrence of a word in a string.\n",
    "\n",
    "string = input(\"Enter the string : \")          # Take input string from user\n",
    "word = input(\"Enter the Last occurence word\")  # Take Occurence word from user\n",
    "index = string.rindex(word)                    # find last index using rindex function\n",
    "print(f\"index is {index}\")                     # print index\n"
   ]
  },
  {
   "cell_type": "code",
   "execution_count": 2,
   "id": "d67c58e2-af89-4747-9958-a5f269fce14f",
   "metadata": {},
   "outputs": [
    {
     "name": "stdin",
     "output_type": "stream",
     "text": [
      "Enter the string :  hkj bkuk jkhu\n"
     ]
    },
    {
     "name": "stdout",
     "output_type": "stream",
     "text": [
      "['hkj', 'bkuk', 'jkhu']\n"
     ]
    }
   ],
   "source": [
    "# 14. Split a string into a list of words.\n",
    "\n",
    "string = input(\"Enter the string : \")    # Take input string from user\n",
    "Split = string.split()                   # Split string\n",
    "print(Split)                             # print String\n"
   ]
  },
  {
   "cell_type": "code",
   "execution_count": 4,
   "id": "1e2c21fb-f321-432d-a5d8-0d7775cf715e",
   "metadata": {},
   "outputs": [
    {
     "name": "stdout",
     "output_type": "stream",
     "text": [
      "this is pw skills lab\n"
     ]
    }
   ],
   "source": [
    "# 15. Join a list of words into a string.\n",
    "\n",
    "list = [\"this\", \" is\", \" pw\", \" skills\", \" lab\"]  # Take input split string\n",
    "string = \"\".join(list)                            # join the word using join function\n",
    "print(string)                                     # print string\n",
    "\n"
   ]
  },
  {
   "cell_type": "code",
   "execution_count": 11,
   "id": "8a00d7d9-6c60-498e-82c0-4f6bead181b2",
   "metadata": {},
   "outputs": [
    {
     "name": "stdout",
     "output_type": "stream",
     "text": [
      "PW_Skills_is_your_one-stop-shop_for_upscaling._Get_maximum_value_for_time_and_resources_you_invest,_with_job-ready_courses_&_high-technology,_available_at_the_lowest_cost.\n"
     ]
    }
   ],
   "source": [
    "# 16. Convert a string where words are separated by spaces to one where words are separated by underscores.\n",
    "\n",
    "string = \"\"\"PW Skills is your one-stop-shop for upscaling. Get maximum value for time and resources you invest, with job-ready courses & high-technology, available at the lowest cost.\"\"\"\n",
    "new = string.replace(\" \",\"_\")   # replace space with _ using replace function\n",
    "print(new)                      # print the new string\n"
   ]
  },
  {
   "cell_type": "code",
   "execution_count": 14,
   "id": "d20477e2-5d63-4c0d-99f0-811451f4c3be",
   "metadata": {},
   "outputs": [
    {
     "data": {
      "text/plain": [
       "True"
      ]
     },
     "execution_count": 14,
     "metadata": {},
     "output_type": "execute_result"
    }
   ],
   "source": [
    "# 17. Check if a string starts with a specific word or phrase.\n",
    "\n",
    "string = \"PW Skills is your one-stop-shop for upscaling. Get maximum value for time and resources you invest, with job-ready course\"\n",
    "word = \"PW Skills\"            # Enter the word\n",
    "string.startswith(word)       # if string start with specific word return true else return false using startswith function\n"
   ]
  },
  {
   "cell_type": "code",
   "execution_count": 16,
   "id": "2cb326fb-3642-4723-9a70-99093e12ea70",
   "metadata": {},
   "outputs": [
    {
     "data": {
      "text/plain": [
       "True"
      ]
     },
     "execution_count": 16,
     "metadata": {},
     "output_type": "execute_result"
    }
   ],
   "source": [
    "# 18. Check if a string ends with a specific word or phrase.\n",
    "\n",
    "string = \"PW Skills is your one-stop-shop for upscaling. Get maximum value for time and resources you invest, with job-ready course\"\n",
    "word = \"course\"            # Enter the word\n",
    "string.endswith(word)      # if string ends with specific word return true else return false using endwith function\n",
    "\n"
   ]
  },
  {
   "cell_type": "code",
   "execution_count": 3,
   "id": "be8cae25-6689-4e6b-a796-41c658db0d3d",
   "metadata": {},
   "outputs": [
    {
     "name": "stdout",
     "output_type": "stream",
     "text": [
      "Pw Skills Is Your One-Stop-Shop For Upscaling. Get Maximum Value For Time And Resources You Invest, With Job-Ready Course\n"
     ]
    }
   ],
   "source": [
    "# 19. Convert a string to title case.\n",
    "\n",
    "string = \"PW Skills is your one-stop-shop for upscaling. Get maximum value for time and resources you invest, with job-ready course\"\n",
    "new = string.title()       # convert string to title case and asign into new variable\n",
    "print(new)                 # print new string\n"
   ]
  },
  {
   "cell_type": "code",
   "execution_count": 2,
   "id": "341bf6a4-5238-4290-86ba-ef817e3cf5d1",
   "metadata": {},
   "outputs": [
    {
     "name": "stdout",
     "output_type": "stream",
     "text": [
      "upscaling.\n"
     ]
    }
   ],
   "source": [
    "# 20. Find the longest word in a string.\n",
    "\n",
    "string = \"PW Skills is your one stop shop for upscaling. Get maximum value for time and resources you invest, with job ready course\"\n",
    "split = string.split()               # string convert into split\n",
    "split = sorted(split, key = len)     # sort string into assending order\n",
    "print(split[-1])                     # print the longest word\n",
    "\n"
   ]
  },
  {
   "cell_type": "code",
   "execution_count": 4,
   "id": "0cfdd793-cc87-4704-8f4a-cebc73818adf",
   "metadata": {},
   "outputs": [
    {
     "name": "stdout",
     "output_type": "stream",
     "text": [
      "a\n"
     ]
    }
   ],
   "source": [
    "# 21. Find the shortest word in a string.\n",
    "\n",
    "string = \"PW Skills is your one stop shop for a upscaling. Get maximum value for time and resources you invest, with job ready course\"\n",
    "split = string.split()\n",
    "split = sorted(split, key = len)  # sorted in assending order\n",
    "print(split[0])                   # print the smallest word\n"
   ]
  },
  {
   "cell_type": "code",
   "execution_count": 24,
   "id": "352bd0f8-8a99-4df8-9e9b-565030ad998e",
   "metadata": {},
   "outputs": [
    {
     "name": "stdout",
     "output_type": "stream",
     "text": [
      "ready job with invest, you resources and time for value maximum Get upscaling. for shop stop one your is Skills PW\n"
     ]
    }
   ],
   "source": [
    "# 22. Reverse the order of words in a string.\n",
    "\n",
    "string = \"PW Skills is your one stop shop for upscaling. Get maximum value for time and resources you invest, with job ready\"\n",
    "string = string.split()          # string convert into split using split fumnction\n",
    "rev = ' '.join(reversed(string)) #  we have used reversed() to get the iterator that accesses the given sequence in the reverse order.\n",
    "# And to add the words in the new string, we have used join() which will join all the words with a space in the new string.\n",
    "print(rev)    # print reverse string\n"
   ]
  },
  {
   "cell_type": "code",
   "execution_count": 42,
   "id": "dcf33186-306c-4dc5-b85e-95913a15939b",
   "metadata": {},
   "outputs": [
    {
     "name": "stdin",
     "output_type": "stream",
     "text": [
      "Enter the string :  kilo98)\n"
     ]
    },
    {
     "data": {
      "text/plain": [
       "False"
      ]
     },
     "execution_count": 42,
     "metadata": {},
     "output_type": "execute_result"
    }
   ],
   "source": [
    "# 23. Check if a string is alphanumeric.\n",
    "\n",
    "# string = \"PW Skills is your one stop shop for upscaling. Get maximum value for time and resources you invest, with job ready\"\n",
    "string = input(\"Enter the string : \")   # Take input string from user\n",
    "string.isalnum()                        # check if string is alphanumeric print true else false using isalnum function\n"
   ]
  },
  {
   "cell_type": "code",
   "execution_count": 8,
   "id": "8953f1e9-41a9-4307-b3d4-9a6c0643e23f",
   "metadata": {},
   "outputs": [
    {
     "name": "stdout",
     "output_type": "stream",
     "text": [
      "[2, 4]\n"
     ]
    }
   ],
   "source": [
    "# 24. Extract all digits from a string.\n",
    "\n",
    "string = \"There are 2 apples for 4 persons\"  # take input string\n",
    "digit = []                                   # initialize digit variable\n",
    "for i in string.split():\n",
    "    if i.isdigit():               # if digit is present in string append digit in digit variable\n",
    "        digit.append(int(i))\n",
    "print(digit)                      # print digit variable\n"
   ]
  },
  {
   "cell_type": "code",
   "execution_count": 6,
   "id": "23ee474b-b249-4733-8652-9a0f86ef5869",
   "metadata": {},
   "outputs": [
    {
     "name": "stdout",
     "output_type": "stream",
     "text": [
      "['There', 'are', 'for', 'persons']\n"
     ]
    }
   ],
   "source": [
    "# 25. Extract all alphabets from a string.\n",
    "\n",
    "string = \"There are 2 apples for 4 persons\"   # take input string\n",
    "alpha = []                                    # initialize alpha variable\n",
    "    for i in string.split                     # iterate each word in string\n",
    "    if i.isalpha():                           # if alphabet present then appent it in alpha variable\n",
    "        alpha.append(i)\n",
    "print(alpha)\n"
   ]
  },
  {
   "cell_type": "code",
   "execution_count": 11,
   "id": "2cfa973a-145f-41ba-8ec7-ffb6cffce3f4",
   "metadata": {},
   "outputs": [
    {
     "name": "stdout",
     "output_type": "stream",
     "text": [
      "6\n"
     ]
    }
   ],
   "source": [
    "# 26. Count the number of uppercase letters in a string.\n",
    "\n",
    "string = \"Count the Number of Uppercase letTTers in a String.\"  # take input string\n",
    "count = 0                                                       # initialize count with 0\n",
    "for i in string:                                                # iterate each ewlement using for loop\n",
    "    if i.isupper():                                             # if character is uppercase increment count\n",
    "        count += 1\n",
    "print(count)                                                    # print result\n",
    "\n"
   ]
  },
  {
   "cell_type": "code",
   "execution_count": 13,
   "id": "2e8b5547-e56f-4ddd-b640-3bb8934b8b5d",
   "metadata": {},
   "outputs": [
    {
     "name": "stdout",
     "output_type": "stream",
     "text": [
      "36\n"
     ]
    }
   ],
   "source": [
    "# 27. Count the number of lowercase letters in a string.\n",
    "\n",
    "string = \"Count the Number of Uppercase letTTers in a String.\"     # take input string\n",
    "count = 0                                                          # initialize count with 0\n",
    "for i in string:                                                   # iterate each ewlement using for loop\n",
    "    if i.islower():                                                # if character is lowercase increment count\n",
    "        count += 1\n",
    "print(count)                                                       # print result\n"
   ]
  },
  {
   "cell_type": "code",
   "execution_count": 15,
   "id": "258cd4d8-82cc-43b1-9183-7281ef0288a4",
   "metadata": {},
   "outputs": [
    {
     "name": "stdout",
     "output_type": "stream",
     "text": [
      "cOUNT THE nUMBER OF uPPERCASE LETttERS IN A sTRING.\n"
     ]
    }
   ],
   "source": [
    "# 28. Swap the case of each character in a string.\n",
    "\n",
    "string = \"Count the Number of Uppercase letTTers in a String.\"    # take input string\n",
    "newstring = string.swapcase()                                     # swap each case using inbuilt function\n",
    "print(newstring)                                                  # print result\n"
   ]
  },
  {
   "cell_type": "code",
   "execution_count": 24,
   "id": "177be795-1ded-4438-ab91-0a602bd34d92",
   "metadata": {},
   "outputs": [
    {
     "name": "stdout",
     "output_type": "stream",
     "text": [
      "Count the  of Uppercase letTTers in a String.\n"
     ]
    }
   ],
   "source": [
    "# 29. Remove a specific word from a string.\n",
    "\n",
    "string = \"Count the Number of Uppercase letTTers in a String.\"     # take input string\n",
    "newstring = string.replace(\"Number\", \"\")                           # remove specific word using remove function\n",
    "print(newstring)                                                   # print result\n",
    "\n"
   ]
  },
  {
   "cell_type": "code",
   "execution_count": 4,
   "id": "c3b8ef50-b65f-4a7d-a09d-4648b8ad7c2e",
   "metadata": {},
   "outputs": [
    {
     "name": "stdin",
     "output_type": "stream",
     "text": [
      "Enter email address :  fmohd6871@gmail.com\n"
     ]
    },
    {
     "name": "stdout",
     "output_type": "stream",
     "text": [
      "Valid Mail\n"
     ]
    }
   ],
   "source": [
    "# 30. Check if a string is a valid email address.\n",
    "\n",
    "import re\n",
    "Email = input(\"Enter email address : \")                          # take input mail address from user\n",
    "regex = r'\\b[A-Za-z0-9._%+-]+@[A-Za-z0-9.-]+\\.[A-Z|a-z]{2,7}\\b'  # regex expression\n",
    "if(re.fullmatch(regex, Email)):                                  # if user mail is full match with regex expression\n",
    "    print(\"Valid Mail\")                                          # then print valid mail else print Invalid Mail\n",
    "else:\n",
    "    print(\"Invalid Mail\")\n"
   ]
  },
  {
   "cell_type": "code",
   "execution_count": 11,
   "id": "959246de-773f-4d6d-8c5c-d212bfda1124",
   "metadata": {},
   "outputs": [
    {
     "name": "stdin",
     "output_type": "stream",
     "text": [
      "Enter email address :  fmohd6871@gmail.com\n"
     ]
    },
    {
     "name": "stdout",
     "output_type": "stream",
     "text": [
      "fmohd6871\n"
     ]
    }
   ],
   "source": [
    "# 31. Extract the username from an email address string.\n",
    "\n",
    "\n",
    "Email = input(\"Enter email address : \")   # take input mail address from user\n",
    "username = Email[:Email.index('@')]       # extract user name using index function\n",
    "print(username)                           # print username\n"
   ]
  },
  {
   "cell_type": "code",
   "execution_count": 14,
   "id": "fa3579e2-195d-4dfb-96fa-84396652e80c",
   "metadata": {},
   "outputs": [
    {
     "name": "stdin",
     "output_type": "stream",
     "text": [
      "Enter email address :  fmohd6871@gmail.com\n"
     ]
    },
    {
     "name": "stdout",
     "output_type": "stream",
     "text": [
      "gmail.com\n"
     ]
    }
   ],
   "source": [
    "# 32. Extract the domain name from an email address string.\n",
    "\n",
    "Email = input(\"Enter email address : \")      # take input mail address from user\n",
    "Domain_name = Email[Email.index('@') + 1:]   # extract domain name using index function\n",
    "print(Domain_name)                           # print domain name\n"
   ]
  },
  {
   "cell_type": "code",
   "execution_count": 31,
   "id": "e7f9ab35-de1e-4bcb-966b-6a7a97e699c2",
   "metadata": {},
   "outputs": [
    {
     "name": "stdout",
     "output_type": "stream",
     "text": [
      "Replace multiple spaces in a string with a single space.\n"
     ]
    }
   ],
   "source": [
    "# 33. Replace multiple spaces in a string with a single space.\n",
    "\n",
    "string = \"Replace   multiple spaces in   a string with         a single space.\"   # take input string with multiple spaces\n",
    "new = (' '.join(string.split()))                                                  # join each split word with single space\n",
    "print(new)                                                                        # print new string\n",
    "\n"
   ]
  },
  {
   "cell_type": "code",
   "execution_count": 5,
   "id": "7a939310-2c46-48a1-82d8-2537bd72453a",
   "metadata": {},
   "outputs": [
    {
     "name": "stdin",
     "output_type": "stream",
     "text": [
      "Enter URL :  https://lab.pwskills.com/my-labs\n"
     ]
    },
    {
     "name": "stdout",
     "output_type": "stream",
     "text": [
      "valid URL\n"
     ]
    }
   ],
   "source": [
    "# 34. Check if a string is a valid URL.\n",
    "\n",
    "import re                                                      # import regular expression\n",
    "pattern = \"^https:\\/\\/[0-9A-z.]+.[0-9A-z.]+.[a-z]+$\"  \n",
    "URL = input(\"Enter URL : \") # https://www.google.com\n",
    "if(re.match(pattern, URL)): # https://lab.pwskills.com/my-labs  # if url match with pattern then print valid url else invalid url\n",
    "    print(\"Valid URL\")\n",
    "else:\n",
    "    print(\"Invalid URL\")\n"
   ]
  },
  {
   "cell_type": "code",
   "execution_count": 5,
   "id": "d4eccae8-ded9-409b-b9b6-11495a68d013",
   "metadata": {},
   "outputs": [
    {
     "name": "stdout",
     "output_type": "stream",
     "text": [
      "Protocol : https\n"
     ]
    }
   ],
   "source": [
    "# 35. Extract the protocol (http or https) from a URL string.\n",
    "\n",
    "from urllib.parse import urlparse\n",
    "URL = \"https://lab.pwskills.com/my-labs\"\n",
    "parsed_url = urlparse(URL) # Parse the URL string\n",
    "protocol = parsed_url.scheme # Extract the protocol\n",
    "print(f\"Protocol : {protocol}\")\n"
   ]
  },
  {
   "cell_type": "code",
   "execution_count": 4,
   "id": "d91be526-e543-4d55-b459-0e0bd5869a3c",
   "metadata": {},
   "outputs": [
    {
     "name": "stdout",
     "output_type": "stream",
     "text": [
      "Frequency :  {'F': 1, 'i': 3, 'n': 4, 'd': 1, ' ': 8, 't': 3, 'h': 3, 'e': 5, 'f': 2, 'r': 4, 'q': 1, 'u': 1, 'c': 4, 'y': 1, 'o': 1, 'a': 4, 's': 1, 'g': 1}\n"
     ]
    }
   ],
   "source": [
    "# 36. Find the frequency of each character in a string.\n",
    "\n",
    "string = \"Find the frequency of each character in a string\"\n",
    "frequency = {}\n",
    "for i in string:\n",
    "    if(i in frequency):\n",
    "        frequency[i] += 1\n",
    "    else:\n",
    "        frequency[i] = 1\n",
    "print(f\"Frequency :  {str(frequency)}\")\n"
   ]
  },
  {
   "cell_type": "code",
   "execution_count": 7,
   "id": "863e0991-259f-42ca-952b-7eea40095755",
   "metadata": {},
   "outputs": [
    {
     "name": "stdout",
     "output_type": "stream",
     "text": [
      "New String :  Remove all punctuation from a string\n"
     ]
    }
   ],
   "source": [
    "# 37. Remove all punctuation from a string.\n",
    "\n",
    "string = \"Remove, all! [punctuation].*& 'from' a string.\"\n",
    "punc = '''!()-[]{};:'\"\\,<>./?@#$%^&*_~'''\n",
    "for i in string:\n",
    "    if i in punc:\n",
    "        string = string.replace(i, \"\")\n",
    "print(f\"New String :  {string}\")\n",
    "\n"
   ]
  },
  {
   "cell_type": "code",
   "execution_count": 1,
   "id": "78f5d7eb-2645-4ea3-adc4-6bc3326168e4",
   "metadata": {},
   "outputs": [
    {
     "name": "stdin",
     "output_type": "stream",
     "text": [
      "Enter string :  7990\n"
     ]
    },
    {
     "data": {
      "text/plain": [
       "True"
      ]
     },
     "execution_count": 1,
     "metadata": {},
     "output_type": "execute_result"
    }
   ],
   "source": [
    "# 38. Check if a string contains only digits.\n",
    "\n",
    "string = input(\"Enter string : \")\n",
    "string.isdigit()\n"
   ]
  },
  {
   "cell_type": "code",
   "execution_count": 2,
   "id": "8c46cfe7-3d6b-4d6c-b352-5bab15518669",
   "metadata": {},
   "outputs": [
    {
     "name": "stdin",
     "output_type": "stream",
     "text": [
      "Enter string :  vhjvknjlkl\n"
     ]
    },
    {
     "data": {
      "text/plain": [
       "True"
      ]
     },
     "execution_count": 2,
     "metadata": {},
     "output_type": "execute_result"
    }
   ],
   "source": [
    "# 39. Check if a string contains only alphabets.\n",
    "\n",
    "string = input(\"Enter string : \")\n",
    "string.isalpha()\n"
   ]
  },
  {
   "cell_type": "code",
   "execution_count": 3,
   "id": "dc7a3e74-2088-4142-b930-158096bcfdd2",
   "metadata": {},
   "outputs": [
    {
     "name": "stdin",
     "output_type": "stream",
     "text": [
      "Enter string :  pwskills\n"
     ]
    },
    {
     "name": "stdout",
     "output_type": "stream",
     "text": [
      "['p', 'w', 's', 'k', 'i', 'l', 'l', 's']\n"
     ]
    }
   ],
   "source": [
    "# 40. Convert a string to a list of characters.\n",
    "\n",
    "string = input(\"Enter string : \")\n",
    "list = list(string)\n",
    "print(list)\n"
   ]
  },
  {
   "cell_type": "code",
   "execution_count": 8,
   "id": "a9324db5-e611-4d45-ade6-b42ae476bfd7",
   "metadata": {},
   "outputs": [
    {
     "name": "stdout",
     "output_type": "stream",
     "text": [
      "Strings are not anagram\n"
     ]
    }
   ],
   "source": [
    "# 41. Check if two strings are anagrams.\n",
    "\n",
    "string1 = \"clint eastwood\"\n",
    "string2 = \"old west action\"\n",
    "string1 = string1.replace(\" \",\"\")\n",
    "string2 = string2.replace(\" \",\"\")\n",
    "s1 = sorted(string1)\n",
    "s2 = sorted(string2)\n",
    "if(s1 == s2):\n",
    "    print(\"Strings are anagram\")\n",
    "else:\n",
    "    print(\"Strings are not anagram\")\n"
   ]
  },
  {
   "cell_type": "code",
   "execution_count": 3,
   "id": "a96d07f4-2f6f-430c-8c92-e60e83891943",
   "metadata": {},
   "outputs": [
    {
     "name": "stdout",
     "output_type": "stream",
     "text": [
      "Original text: Pwskills\n",
      "Encoded text: Tawomppw\n"
     ]
    }
   ],
   "source": [
    "# 42. Encode a string using a Caesar cipher.\n",
    "\n",
    "def caesar_cipher_encode(text, shift):\n",
    "    encoded_text = \"\"\n",
    "    \n",
    "    for char in text:\n",
    "        if char.isalpha():\n",
    "            # Determine whether the character is uppercase or lowercase\n",
    "            is_upper = char.isupper()\n",
    "            char = char.lower()  # Convert to lowercase for easier shifting\n",
    "            \n",
    "            # Shift the character by the specified amount\n",
    "            shifted_char = chr(((ord(char) - ord('a') + shift) % 26) + ord('a'))\n",
    "            \n",
    "            # Convert back to uppercase if it was originally uppercase\n",
    "            if is_upper:\n",
    "                shifted_char = shifted_char.upper()\n",
    "            \n",
    "            encoded_text += shifted_char\n",
    "        else:\n",
    "            # If the character is not a letter, leave it unchanged\n",
    "            encoded_text += char\n",
    "    \n",
    "    return encoded_text\n",
    "original_text = \"Pwskills\"\n",
    "shift_amount = 4\n",
    "encoded_text = caesar_cipher_encode(original_text, shift_amount)\n",
    "print(\"Original text:\", original_text)\n",
    "print(\"Encoded text:\", encoded_text)\n"
   ]
  },
  {
   "cell_type": "code",
   "execution_count": 4,
   "id": "a0aa9894-2881-4749-816c-dcea53c58108",
   "metadata": {},
   "outputs": [
    {
     "name": "stdout",
     "output_type": "stream",
     "text": [
      "Encoded text: Tawomppw\n",
      "Decoded text: Pwskills\n"
     ]
    }
   ],
   "source": [
    "# 43. Decode a Caesar cipher encoded string.\n",
    "\n",
    "def caesar_cipher_decode(encoded_text, shift):\n",
    "    decoded_text = \"\"\n",
    "\n",
    "    for char in encoded_text:\n",
    "        if char.isalpha():\n",
    "            # Determine whether the character is uppercase or lowercase\n",
    "            is_upper = char.isupper()\n",
    "            char = char.lower()  # Convert to lowercase for easier shifting\n",
    "\n",
    "            # Reverse the Caesar cipher shift by subtracting the shift amount\n",
    "            shifted_char = chr(((ord(char) - ord('a') - shift) % 26) + ord('a'))\n",
    "\n",
    "            # Convert back to uppercase if it was originally uppercase\n",
    "            if is_upper:\n",
    "                shifted_char = shifted_char.upper()\n",
    "\n",
    "            decoded_text += shifted_char\n",
    "        else:\n",
    "            # If the character is not a letter, leave it unchanged\n",
    "            decoded_text += char\n",
    "\n",
    "    return decoded_text\n",
    "\n",
    "# Example usage:\n",
    "encoded_text = \"Tawomppw\"\n",
    "shift_amount = 4\n",
    "decoded_text = caesar_cipher_decode(encoded_text, shift_amount)\n",
    "print(\"Encoded text:\", encoded_text)\n",
    "print(\"Decoded text:\", decoded_text)\n",
    "\n"
   ]
  },
  {
   "cell_type": "code",
   "execution_count": 5,
   "id": "33d1f73f-dbae-42a7-b610-5510bd202361",
   "metadata": {},
   "outputs": [
    {
     "name": "stdout",
     "output_type": "stream",
     "text": [
      "PW\n"
     ]
    }
   ],
   "source": [
    "# 44. Find the most frequent word in a string.\n",
    "\n",
    "from collections import defaultdict\n",
    "string = \"PW Skills is your one-stop-shop for upscaling.PW, PW, PW Skills provides hybrid courses in data science, PW Skills is your one-stop solution\"\n",
    "temp = defaultdict(int)\n",
    "for word in string.split():\n",
    "    temp[word] += 1\n",
    "res = max(temp, key=temp.get) # getting max frequency\n",
    "print(str(res))\n"
   ]
  },
  {
   "cell_type": "code",
   "execution_count": 8,
   "id": "fce6be03-874d-403c-ac03-ce66af338d31",
   "metadata": {},
   "outputs": [
    {
     "name": "stdout",
     "output_type": "stream",
     "text": [
      "{'is', 'Skills', 'upscaling.', 'science', 'hybrid', 'one-stop-shop', 'data', 'your', 'PW', 'for', 'courses', 'provides', 'in'}\n"
     ]
    }
   ],
   "source": [
    "# 45. Find all unique words in a string.\n",
    "\n",
    "string = \"PW Skills is your one-stop-shop for upscaling. PW PW PW Skills provides hybrid courses in data science\"\n",
    "new = string.split()\n",
    "sets = set(new)\n",
    "print(sets)\n",
    "\n"
   ]
  },
  {
   "cell_type": "code",
   "execution_count": 11,
   "id": "9c8eb566-f17e-4ec3-a679-4d73c2473350",
   "metadata": {},
   "outputs": [
    {
     "name": "stdout",
     "output_type": "stream",
     "text": [
      "3\n"
     ]
    }
   ],
   "source": [
    "# 46. Count the number of syllables in a string.\n",
    "\n",
    "string = \"countingwords\"\n",
    "count = 0\n",
    "vowels = \"aeiou\"\n",
    "if string[0] in vowels:\n",
    "    count += 1\n",
    "for index in range(1, len(string)):\n",
    "    if string[index] in vowels and string[index - 1] not in vowels:\n",
    "        count += 1\n",
    "        if string.endswith(\"e\"):\n",
    "            count -= 1\n",
    "if count == 0:\n",
    "    count += 1\n",
    "print(count)\n"
   ]
  },
  {
   "cell_type": "code",
   "execution_count": 16,
   "id": "5d57749f-d8a4-43f8-b526-69057ef0784f",
   "metadata": {},
   "outputs": [
    {
     "name": "stdout",
     "output_type": "stream",
     "text": [
      "['#', '!', '$']\n"
     ]
    }
   ],
   "source": [
    "# 47. Check if a string contains any special characters.\n",
    "\n",
    "string = \"pe#sk!l$\"\n",
    "spl = '''!()-[]{};:'\"\\,<>./?@#$%^&*_~'''\n",
    "special_char = []\n",
    "for i in string:\n",
    "    if(i in spl):\n",
    "        special_char += i\n",
    "print(special_char)\n"
   ]
  },
  {
   "cell_type": "code",
   "execution_count": 39,
   "id": "cc1ff95e-93bf-44e9-b026-e83833743b33",
   "metadata": {},
   "outputs": [
    {
     "name": "stdin",
     "output_type": "stream",
     "text": [
      "Enter the nth word which is remove :  5\n"
     ]
    },
    {
     "name": "stdout",
     "output_type": "stream",
     "text": [
      "Removed word : a\n",
      "Remove the nth word from string\n"
     ]
    }
   ],
   "source": [
    "# 48. Remove the nth word from a string.\n",
    "\n",
    "string = \"Remove the nth word from a string\"\n",
    "nth = int(input(\"Enter the nth word which is remove : \"))\n",
    "l1 = list(string.split())\n",
    "l2 = l1.pop(nth)\n",
    "new = \" \"\n",
    "print(f\"Removed word : {l2}\")\n",
    "print(new.join(l1))\n"
   ]
  },
  {
   "cell_type": "code",
   "execution_count": 44,
   "id": "e1fd5af4-d0b0-4e0d-b827-ddee02878ad3",
   "metadata": {},
   "outputs": [
    {
     "name": "stdin",
     "output_type": "stream",
     "text": [
      "Enter the word :  pw\n",
      "Enter the index position :  3\n"
     ]
    },
    {
     "name": "stdout",
     "output_type": "stream",
     "text": [
      "Insert a word pw at the nth position in a string.\n"
     ]
    }
   ],
   "source": [
    "# 49. Insert a word at the nth position in a string.\n",
    "\n",
    "string = \"Insert a word at the nth position in a string.\"\n",
    "word = input(\"Enter the word : \")\n",
    "index = int(input(\"Enter the index position : \"))\n",
    "new = \" \"\n",
    "l1 = list(string.split())\n",
    "l1.insert(index, word)\n",
    "print(new.join(l1))\n"
   ]
  },
  {
   "cell_type": "code",
   "execution_count": 45,
   "id": "74024a02-069d-4df1-81da-908c70a98bcb",
   "metadata": {},
   "outputs": [
    {
     "name": "stdout",
     "output_type": "stream",
     "text": [
      "['apple', 'banana', 'cherry', 'mango', 'pineapple', 'guava']\n"
     ]
    }
   ],
   "source": [
    "# 50. Convert a CSV string to a list of lists.\n",
    "\n",
    "string = \"apple,banana,cherry,mango,pineapple,guava\"\n",
    "print(string.split(\",\"))\n"
   ]
  },
  {
   "cell_type": "markdown",
   "id": "d927169f-7de9-48fe-b7f4-a72e346c1399",
   "metadata": {},
   "source": [
    "List Based Practice Problem :"
   ]
  },
  {
   "cell_type": "code",
   "execution_count": 13,
   "id": "a33cf529-da68-4ea1-803c-c15659cf7234",
   "metadata": {},
   "outputs": [
    {
     "name": "stdout",
     "output_type": "stream",
     "text": [
      "[1, 2, 3, 4, 5, 6, 7, 8, 9, 10]\n"
     ]
    }
   ],
   "source": [
    "# 1. Create a list with integers from 1 to 10.\n",
    "\n",
    "List = []\n",
    "for i in range(1, 11):\n",
    "    List.append(i)\n",
    "print(List)\n"
   ]
  },
  {
   "cell_type": "code",
   "execution_count": 9,
   "id": "2bff7c48-c0d6-44c1-8f2a-0fb6e66a0e27",
   "metadata": {},
   "outputs": [
    {
     "name": "stdout",
     "output_type": "stream",
     "text": [
      "Length is : 10\n"
     ]
    }
   ],
   "source": [
    "# 2. Find the length of a list without using the `len()` function.\n",
    "\n",
    "L = [1, 2, 3, 4, 5, 6, 7, 8, 9, 10]\n",
    "length = 0\n",
    "for i in L:\n",
    "    length += 1\n",
    "print(f\"Length is : {length}\")\n"
   ]
  },
  {
   "cell_type": "code",
   "execution_count": 15,
   "id": "c87f188a-7cd5-4d1c-aefa-609afde31d3b",
   "metadata": {},
   "outputs": [
    {
     "name": "stdout",
     "output_type": "stream",
     "text": [
      "[1, 2, 3, 4, 5, 6, 7, 8, 9, 10, 11]\n"
     ]
    }
   ],
   "source": [
    "# 3. Append an element to the end of a list.\n",
    "\n",
    "L = [1, 2, 3, 4, 5, 6, 7, 8, 9, 10]\n",
    "L.append(11)\n",
    "print(L)\n"
   ]
  },
  {
   "cell_type": "code",
   "execution_count": 16,
   "id": "7b57e4e4-eac6-4968-bb2c-595a86aed516",
   "metadata": {},
   "outputs": [
    {
     "name": "stdout",
     "output_type": "stream",
     "text": [
      "[1, 2, 3, 4, 4.678, 5, 6, 7, 8, 9, 10]\n"
     ]
    }
   ],
   "source": [
    "# 4. Insert an element at a specific index in a list.\n",
    "\n",
    "L = [1, 2, 3, 4, 5, 6, 7, 8, 9, 10]\n",
    "L.insert(4, 4.678)\n",
    "print(L)\n"
   ]
  },
  {
   "cell_type": "code",
   "execution_count": 18,
   "id": "f8c749c3-9ef6-4ba9-a731-136c8e145602",
   "metadata": {},
   "outputs": [
    {
     "name": "stdout",
     "output_type": "stream",
     "text": [
      "[1, 2, 3, 4, 5, 6, 8, 9, 10]\n"
     ]
    }
   ],
   "source": [
    "# 5. Remove an element from a list by its value.\n",
    "\n",
    "L = [1, 2, 3, 4, 5, 6, 7, 8, 9, 10]\n",
    "L.remove(7)\n",
    "print(L)\n"
   ]
  },
  {
   "cell_type": "code",
   "execution_count": 19,
   "id": "45254ecc-515c-4eae-99f9-97d676d2fc63",
   "metadata": {},
   "outputs": [
    {
     "name": "stdout",
     "output_type": "stream",
     "text": [
      "[1, 2, 3, 5, 6, 7, 8, 9, 10]\n"
     ]
    }
   ],
   "source": [
    "# 6. Remove an element from a list by its index.\n",
    "\n",
    "L = [1, 2, 3, 4, 5, 6, 7, 8, 9, 10]\n",
    "L.pop(3)\n",
    "print(L)\n"
   ]
  },
  {
   "cell_type": "code",
   "execution_count": 2,
   "id": "dd70228e-c2ad-4276-b146-722eeac3208a",
   "metadata": {},
   "outputs": [
    {
     "name": "stdout",
     "output_type": "stream",
     "text": [
      "Element exist\n"
     ]
    }
   ],
   "source": [
    "# 7. Check if an element exists in a list.\n",
    "\n",
    "L = [1, 2, 3, 4, 5, 6, 7, 8, 9, 10]\n",
    "i = 7\n",
    "if i in L:\n",
    "    print(\"Element exist\")\n",
    "else:\n",
    "    print(\"Element not exist\")\n"
   ]
  },
  {
   "cell_type": "code",
   "execution_count": 6,
   "id": "7c761b2f-10ba-4379-ab94-0095bb029fc9",
   "metadata": {},
   "outputs": [
    {
     "data": {
      "text/plain": [
       "3"
      ]
     },
     "execution_count": 6,
     "metadata": {},
     "output_type": "execute_result"
    }
   ],
   "source": [
    "# 8. Find the index of the first occurrence of an element in a list.\n",
    "\n",
    "L = [1, 2, 5, 3, 4, 3, 2, 1, 5, 6, 7, 3, 8, 9, 10]\n",
    "L.index(3)\n",
    "\n"
   ]
  },
  {
   "cell_type": "code",
   "execution_count": 4,
   "id": "11e9a010-7e07-46df-964a-edb90b42026e",
   "metadata": {},
   "outputs": [
    {
     "name": "stdin",
     "output_type": "stream",
     "text": [
      "Enter the occurence element 11\n"
     ]
    },
    {
     "name": "stdout",
     "output_type": "stream",
     "text": [
      "Element 11 occurs 0 times\n"
     ]
    }
   ],
   "source": [
    "# 9. Count the occurrences of an element in a list.\n",
    "\n",
    "L = [1, 2, 5, 3, 4, 3, 2, 1, 5, 6, 7, 3, 8, 9, 3, 10]\n",
    "ele = int(input(\"Enter the occurence element\"))\n",
    "count = 0\n",
    "for i in L:\n",
    "    if (i == ele):\n",
    "        count += 1\n",
    "print(f\"Element {ele} occurs {count} times\")\n"
   ]
  },
  {
   "cell_type": "code",
   "execution_count": 7,
   "id": "4357b172-6b4b-4c5f-b77a-359168e590d6",
   "metadata": {},
   "outputs": [
    {
     "name": "stdout",
     "output_type": "stream",
     "text": [
      "[10, 9, 8, 7, 6, 5, 4, 3, 2, 1]\n"
     ]
    }
   ],
   "source": [
    "# 10. Reverse the order of elements in a list.\n",
    "\n",
    "L = [1, 2, 3, 4, 5, 6, 7, 8, 9, 10]\n",
    "rev = L[::-1]\n",
    "print(rev)"
   ]
  },
  {
   "cell_type": "code",
   "execution_count": 14,
   "id": "f892f54c-d286-4413-9a16-a6911e44eed4",
   "metadata": {},
   "outputs": [
    {
     "name": "stdout",
     "output_type": "stream",
     "text": [
      "[1, 1, 2, 2, 3, 3, 3, 3, 4, 5, 5, 6, 7, 8, 9, 10]\n"
     ]
    }
   ],
   "source": [
    "# 11. Sort a list in ascending order.\n",
    "\n",
    "L = [1, 2, 5, 3, 4, 3, 2, 1, 5, 6, 7, 3, 8, 9, 3, 10]\n",
    "L.sort(reverse = False)\n",
    "print(L)\n"
   ]
  },
  {
   "cell_type": "code",
   "execution_count": 15,
   "id": "2d67ba85-ee38-4105-a92d-c6abef8dd459",
   "metadata": {},
   "outputs": [
    {
     "name": "stdout",
     "output_type": "stream",
     "text": [
      "[10, 9, 8, 7, 6, 5, 5, 4, 3, 3, 3, 3, 2, 2, 1, 1]\n"
     ]
    }
   ],
   "source": [
    "# 12. Sort a list in descending order.\n",
    "\n",
    "L = [1, 2, 5, 3, 4, 3, 2, 1, 5, 6, 7, 3, 8, 9, 3, 10]\n",
    "L.sort(reverse = True)\n",
    "print(L)\n"
   ]
  },
  {
   "cell_type": "code",
   "execution_count": 16,
   "id": "067b3eb5-58cf-441f-a5a6-87e8f078c74f",
   "metadata": {},
   "outputs": [
    {
     "name": "stdout",
     "output_type": "stream",
     "text": [
      "[2, 4, 6, 8, 10, 12, 14, 16, 18, 20]\n"
     ]
    }
   ],
   "source": [
    "# 13. Create a list of even numbers from 1 to 20.\n",
    "\n",
    "l = []\n",
    "for i in range(1, 21):\n",
    "    if i%2 == 0:\n",
    "        l.append(i)\n",
    "print(l)\n",
    "\n"
   ]
  },
  {
   "cell_type": "code",
   "execution_count": 17,
   "id": "d52ff39a-0479-41ac-a9f5-f90fa9c5f522",
   "metadata": {},
   "outputs": [
    {
     "name": "stdout",
     "output_type": "stream",
     "text": [
      "[1, 3, 5, 7, 9, 11, 13, 15, 17, 19]\n"
     ]
    }
   ],
   "source": [
    "# 14. Create a list of odd numbers from 1 to 20.\n",
    "\n",
    "l = []\n",
    "for i in range(1, 21):\n",
    "    if i%2 != 0:\n",
    "        l.append(i)\n",
    "print(l)\n"
   ]
  },
  {
   "cell_type": "code",
   "execution_count": 18,
   "id": "835f820a-495f-401b-8cfe-990d465dfc13",
   "metadata": {},
   "outputs": [
    {
     "name": "stdout",
     "output_type": "stream",
     "text": [
      "Total Sum of element is 72\n"
     ]
    }
   ],
   "source": [
    "# 15. Find the sum of all elements in a list.\n",
    "\n",
    "L = [1, 2, 5, 3, 4, 3, 2, 1, 5, 6, 7, 3, 8, 9, 3, 10]\n",
    "sum = 0\n",
    "for i in L:\n",
    "    sum += i\n",
    "print(f\"Total Sum of element is {sum}\")\n"
   ]
  },
  {
   "cell_type": "code",
   "execution_count": 9,
   "id": "bceb4d2c-d76b-4c25-9b4e-98cd0f0594f4",
   "metadata": {},
   "outputs": [
    {
     "name": "stdout",
     "output_type": "stream",
     "text": [
      "Maximum value is 20\n"
     ]
    }
   ],
   "source": [
    "# 16. Find the maximum value in a list.\n",
    "\n",
    "L = [1, 2, 5, 3, 4, 3, 2, 1, 5, 6, 7, 15, 3, 8, 20, 9, 3, 10, 11, 12]\n",
    "L.sort()\n",
    "Length = len(L)\n",
    "max = L[Length - 1]\n",
    "print(f\"Maximum value is {max}\")\n"
   ]
  },
  {
   "cell_type": "code",
   "execution_count": 10,
   "id": "3445d61f-a151-4be9-b7da-b1b10399e8cd",
   "metadata": {},
   "outputs": [
    {
     "name": "stdout",
     "output_type": "stream",
     "text": [
      "Minimum value is 1\n"
     ]
    }
   ],
   "source": [
    "# 17. Find the minimum value in a list.\n",
    "\n",
    "L = [11, 2, 5, 3, 4, 3, 2, 1, 5, 6, 7, 15, 3, 8, 20, 9, 3, 10, 11, 12]\n",
    "L.sort()\n",
    "min = L[0]\n",
    "print(f\"Minimum value is {min}\")\n"
   ]
  },
  {
   "cell_type": "code",
   "execution_count": 4,
   "id": "014ec89d-8ad9-4c75-a2ad-923c61ba49b8",
   "metadata": {},
   "outputs": [
    {
     "name": "stdout",
     "output_type": "stream",
     "text": [
      "[1, 4, 9, 16, 25, 36, 49, 64, 81, 100]\n"
     ]
    }
   ],
   "source": [
    "# 18. Create a list of squares of numbers from 1 to 10.\n",
    "\n",
    "L = [1, 2, 3, 4, 5, 6, 7, 8, 9, 10]\n",
    "sqr = []\n",
    "for i in L:\n",
    "    sqr.append(i*i)\n",
    "print(sqr)\n"
   ]
  },
  {
   "cell_type": "code",
   "execution_count": 8,
   "id": "d1ca18ce-8ff7-443b-94aa-c36317855ea5",
   "metadata": {},
   "outputs": [
    {
     "name": "stdout",
     "output_type": "stream",
     "text": [
      "[52, 5, 47, 51, 22, 79, 56, 46, 29, 65, 95, 17, 16, 80, 61]\n"
     ]
    }
   ],
   "source": [
    "# 19. Create a list of random numbers.\n",
    "\n",
    "import random\n",
    "random_list = []\n",
    "for i in range(15):\n",
    "    l = random.randint(1, 100)\n",
    "    random_list.append(l)\n",
    "print(random_list)\n"
   ]
  },
  {
   "cell_type": "code",
   "execution_count": 10,
   "id": "cd4ec73a-f511-41ad-b3e4-22ba1a1a6ca9",
   "metadata": {},
   "outputs": [
    {
     "name": "stdout",
     "output_type": "stream",
     "text": [
      "[1, 2, 3, 4, 5, 6, 7, 8, 9, 10, 11, 12, 15, 20]\n"
     ]
    }
   ],
   "source": [
    "# 20. Remove duplicates from a list.\n",
    "\n",
    "L = [1, 2, 5, 3, 4, 3, 2, 1, 5, 2, 3, 6, 7, 15, 3, 8, 20, 9, 1, 3, 10, 11, 12]\n",
    "s = set(L)\n",
    "List = list(s)\n",
    "print(List)\n"
   ]
  },
  {
   "cell_type": "code",
   "execution_count": 16,
   "id": "ce54d0d5-d848-4f29-87c0-b57a2beac5d3",
   "metadata": {},
   "outputs": [
    {
     "name": "stdout",
     "output_type": "stream",
     "text": [
      "Common element is [2, 3, 4, 6, 8]\n"
     ]
    }
   ],
   "source": [
    "# 21. Find the common elements between two lists.\n",
    "\n",
    "l1 = [1, 2, 3, 4, 5, 6, 7, 8, 9, 10]\n",
    "l2 = [2, 3, 4, 6, 8, 11, 15, 17]\n",
    "l3 = []\n",
    "for i in l1:\n",
    "    if i in l1:\n",
    "            if i in l2:\n",
    "                l3.append(i)\n",
    "print(f\"Common element is {l3}\")\n"
   ]
  },
  {
   "cell_type": "code",
   "execution_count": 20,
   "id": "d1e043c9-ac58-4cd4-af64-6e5684a9d669",
   "metadata": {},
   "outputs": [
    {
     "name": "stdout",
     "output_type": "stream",
     "text": [
      " Difference between two elements : [1, 5, 7, 9, 10, 11, 15, 17]\n"
     ]
    }
   ],
   "source": [
    "# 22. Find the difference between two lists.\n",
    "\n",
    "l1 = [1, 2, 3, 4, 5, 6, 7, 8, 9, 10]\n",
    "l2 = [2, 3, 4, 6, 8, 11, 15, 17]\n",
    "l3 = []\n",
    "for i in l1:\n",
    "    if i not in l2:\n",
    "        l3.append(i)\n",
    "for j in l2:\n",
    "    if j not in l1:\n",
    "        l3.append(j)\n",
    "print(f\" Difference between two elements : {l3}\")\n"
   ]
  },
  {
   "cell_type": "code",
   "execution_count": 22,
   "id": "afbd27dc-519a-46fb-a58a-2b5874c1b49b",
   "metadata": {},
   "outputs": [
    {
     "name": "stdout",
     "output_type": "stream",
     "text": [
      "Merge two lists : [1, 2, 3, 4, 5, 6, 7, 8, 9, 10, 2, 3, 4, 6, 8, 11, 15, 17]\n"
     ]
    }
   ],
   "source": [
    "# 23. Merge two lists.\n",
    "\n",
    "l1 = [1, 2, 3, 4, 5, 6, 7, 8, 9, 10]\n",
    "l2 = [2, 3, 4, 6, 8, 11, 15, 17]\n",
    "l3 = []\n",
    "l3 = l1 + l2\n",
    "print(f\"Merge two lists : {l3}\")\n"
   ]
  },
  {
   "cell_type": "code",
   "execution_count": 23,
   "id": "95cb286e-5dfb-4501-a681-23dda0f74546",
   "metadata": {},
   "outputs": [
    {
     "name": "stdout",
     "output_type": "stream",
     "text": [
      "Multiplied each elements by 2 : [2, 4, 6, 8, 10, 12, 14, 16, 18, 20]\n"
     ]
    }
   ],
   "source": [
    "# 24. Multiply all elements in a list by 2.\n",
    "\n",
    "l1 = [1, 2, 3, 4, 5, 6, 7, 8, 9, 10]\n",
    "l2 = []\n",
    "for i in l1:\n",
    "    l2.append(i*2)\n",
    "print(f\"Multiplied each elements by 2 : {l2}\")\n"
   ]
  },
  {
   "cell_type": "code",
   "execution_count": 8,
   "id": "3e12b801-a348-46a5-b445-fa0a5280e8e0",
   "metadata": {},
   "outputs": [
    {
     "name": "stdout",
     "output_type": "stream",
     "text": [
      "Filter out all Even numbers is : [1, 3, 5, 7, 9]\n"
     ]
    }
   ],
   "source": [
    "# 25. Filter out all even numbers from a list.\n",
    "\n",
    "l1 = [1, 2, 3, 4, 5, 6, 7, 8, 9, 10]\n",
    "l2 = []\n",
    "for i in l1:\n",
    "    if i%2 != 0:\n",
    "        l2.append(i)\n",
    "print(f\"Filter out all Even numbers is : {l2}\")\n"
   ]
  },
  {
   "cell_type": "code",
   "execution_count": 32,
   "id": "8843ccbf-e2d2-4dd3-8435-c069fd2472db",
   "metadata": {},
   "outputs": [
    {
     "name": "stdout",
     "output_type": "stream",
     "text": [
      "Modified list is : [1, 2, 3, 4, 5, 6]\n"
     ]
    }
   ],
   "source": [
    "# 26. Convert a list of strings to a list of integers.\n",
    "\n",
    "l = ['1', '2', '3', '4', '5', '6']\n",
    "for i in range(0, len(l)):\n",
    "    l[i] = int(l[i])  #  converting each string of the list to int by type casting. \n",
    "print(f\"Modified list is : {l}\")\n",
    "\n"
   ]
  },
  {
   "cell_type": "code",
   "execution_count": 33,
   "id": "e38043ea-9782-4c30-a3d9-7e0a7bd67503",
   "metadata": {},
   "outputs": [
    {
     "name": "stdout",
     "output_type": "stream",
     "text": [
      "Modified list is : ['1', '2', '3', '4', '5', '6', '7', '8', '9']\n"
     ]
    }
   ],
   "source": [
    "# 27. Convert a list of integers to a list of strings.\n",
    "\n",
    "l = [1, 2, 3, 4, 5, 6, 7, 8, 9]\n",
    "for i in range(0, len(l)):\n",
    "    l[i] = str(l[i])\n",
    "print(f\"Modified list is : {l}\")\n"
   ]
  },
  {
   "cell_type": "code",
   "execution_count": 35,
   "id": "51a8c1d1-af1c-46f3-9042-6f91b2e0a780",
   "metadata": {},
   "outputs": [
    {
     "name": "stdout",
     "output_type": "stream",
     "text": [
      "Modified list is : [1, 2, 3, 4, 5, 6, 7, 8, 'pw', 'skills', 9, 10]\n"
     ]
    }
   ],
   "source": [
    "# 28. Flatten a nested list.\n",
    "\n",
    "l = [[1, 2, 3, 4, 5], [6, 7, 8], [\"pw\", \"skills\", 9 ,10]]\n",
    "l = sum(l, [])\n",
    "print(f\"Modified list is : {l}\")\n",
    "\n"
   ]
  },
  {
   "cell_type": "code",
   "execution_count": 5,
   "id": "a6ef492e-39a1-4789-a94a-fbc5202ae580",
   "metadata": {},
   "outputs": [
    {
     "data": {
      "text/plain": [
       "[1, 2, 3, 5, 8, 13, 21, 34, 55, 89]"
      ]
     },
     "execution_count": 5,
     "metadata": {},
     "output_type": "execute_result"
    }
   ],
   "source": [
    "# 29. Create a list of the first 10 Fibonacci numbers.\n",
    "\n",
    "L = []\n",
    "fib1 = 0\n",
    "fib2 = 1\n",
    "fibonacci = []\n",
    "for i in range(10):\n",
    "    fibonacci = fib1 + fib2\n",
    "    fib1 = fib2\n",
    "    fib2 = fibonacci\n",
    "    L.append(fibonacci)\n",
    "L\n"
   ]
  },
  {
   "cell_type": "code",
   "execution_count": 6,
   "id": "4de80ae9-e6c4-4079-9013-bab116477a05",
   "metadata": {},
   "outputs": [
    {
     "name": "stdout",
     "output_type": "stream",
     "text": [
      "List is not sorted\n"
     ]
    }
   ],
   "source": [
    "# 30. Check if a list is sorted.\n",
    "\n",
    "L = [1, 2, 3, 5, 4, 5, 6]\n",
    "flag = 0\n",
    "i = 1\n",
    "while(i < len(L)):\n",
    "    if L[i] < L[i - 1]:\n",
    "        flag = 1\n",
    "    i += 1\n",
    "if(flag == 0):\n",
    "    print(\"List is sorted\")\n",
    "else:\n",
    "    print(\"List is not sorted\")\n"
   ]
  },
  {
   "cell_type": "code",
   "execution_count": 17,
   "id": "48ce0360-c421-4af1-912b-cf83aa0c383b",
   "metadata": {},
   "outputs": [
    {
     "name": "stdin",
     "output_type": "stream",
     "text": [
      "enter ith Position :  3\n"
     ]
    },
    {
     "name": "stdout",
     "output_type": "stream",
     "text": [
      "rotates left List by 3th Positions : [4, 5, 6, 7, 8, 9, 1, 2, 3]\n"
     ]
    }
   ],
   "source": [
    "# 31. Rotate a list to the left by `n` positions.\n",
    "\n",
    "List = [1, 2, 3, 4, 5, 6, 7, 8, 9]\n",
    "position = int(input(\"enter ith Position : \"))\n",
    "List = List[position:] +List[:position]\n",
    "print(f\"rotates left List by {position} Positions : {List}\")\n"
   ]
  },
  {
   "cell_type": "code",
   "execution_count": 20,
   "id": "1b07ec4a-a2a0-460f-84c3-d88c77dd03d1",
   "metadata": {},
   "outputs": [
    {
     "name": "stdin",
     "output_type": "stream",
     "text": [
      "enter ith Position :  5\n"
     ]
    },
    {
     "name": "stdout",
     "output_type": "stream",
     "text": [
      "rotates right List by 5 Positions : [5, 6, 7, 8, 9, 1, 2, 3, 4]\n"
     ]
    }
   ],
   "source": [
    "# 32. Rotate a list to the right by `n` positions.\n",
    "\n",
    "List = [1, 2, 3, 4, 5, 6, 7, 8, 9]\n",
    "position = int(input(\"enter ith Position : \"))\n",
    "List = List[-position:] +List[:-position]\n",
    "print(f\"rotates right List by {position} Positions : {List}\")\n"
   ]
  },
  {
   "cell_type": "code",
   "execution_count": 7,
   "id": "348d052c-cb83-430d-bc3f-7177648fe161",
   "metadata": {},
   "outputs": [
    {
     "name": "stdout",
     "output_type": "stream",
     "text": [
      "Prime Numbers upto 50 : [2, 3, 5, 7, 11, 13, 17, 19, 23, 29, 31, 37, 41, 43, 47]\n"
     ]
    }
   ],
   "source": [
    "# 33. Create a list of prime numbers up to 50.\n",
    "\n",
    "List = []\n",
    "for i in range(2, 51):\n",
    "    if i == 2:\n",
    "        List.append(i)\n",
    "    for k in range(2, i):\n",
    "        if i%k == 0:\n",
    "            break\n",
    "        if k == i-1:\n",
    "            List.append(i)\n",
    "print(f\"Prime Numbers upto 50 : {List}\")\n"
   ]
  },
  {
   "cell_type": "code",
   "execution_count": 9,
   "id": "b00f7b51-5573-457b-ae96-ddf6d75fcdaa",
   "metadata": {
    "tags": []
   },
   "outputs": [
    {
     "name": "stdin",
     "output_type": "stream",
     "text": [
      "Enter the value of n :  2\n"
     ]
    },
    {
     "name": "stdout",
     "output_type": "stream",
     "text": [
      "Split a list into chunks of size 2 is : [[1, 2], [3, 4], [5, 6], [7, 8], [9, 10], [11, 12], [13, 14], [15]]\n"
     ]
    }
   ],
   "source": [
    "# 34. Split a list into chunks of size `n`.\n",
    "\n",
    "List = [1, 2, 3, 4, 5, 6, 7, 8, 9, 10, 11, 12, 13, 14, 15]  # Taken a list.\n",
    "n = int(input(\"Enter the value of n : \"))                   # How many elements each list should have:\n",
    "new = [List[i:i + n] for i in range(0, len(List), n)]       # Using List comprehension.\n",
    "print(f\"Split a list into chunks of size {n} is : {new}\")   # print the result.\n",
    "\n"
   ]
  },
  {
   "cell_type": "code",
   "execution_count": 3,
   "id": "b64944b7-d874-4e8b-ab3a-3072c2045834",
   "metadata": {},
   "outputs": [
    {
     "name": "stdout",
     "output_type": "stream",
     "text": [
      "Max is : 49\n",
      "Second max is : 46\n"
     ]
    }
   ],
   "source": [
    "# 35. Find the second largest number in a list.\n",
    "\n",
    "L = [1, 23, 2, 43, 3, 5, 46, 21, 7, 2, 9, 27, 33, 49]\n",
    "\n",
    "max = -999999999\n",
    "\n",
    "for i in range(0,len(L)):\n",
    "    if L[i] > max:\n",
    "        max = L[i]\n",
    "\n",
    "second_max = -99999999\n",
    "\n",
    "for j in range(0, len(L)):\n",
    "    if(L[j] > second_max and L[j] < max):\n",
    "        second_max = L[j]\n",
    "\n",
    "print(f\"Max is : {max}\")\n",
    "print(f\"Second max is : {second_max}\")\n"
   ]
  },
  {
   "cell_type": "code",
   "execution_count": 9,
   "id": "a26bb633-31dd-45aa-bd75-053f54cc73e3",
   "metadata": {},
   "outputs": [
    {
     "name": "stdout",
     "output_type": "stream",
     "text": [
      "Square : [1, 4, 9, 81, 16, 25, 36, 441, 49, 324, 49, 64, 81, 100, 121, 144, 169, 196, 225]\n"
     ]
    }
   ],
   "source": [
    "# 36. Replace every element in a list with its square.\n",
    "\n",
    "List = [1, 2, 3, 9, 4, 5, 6, 21, 7, 18, 7, 8, 9, 10, 11, 12, 13, 14, 15]  # Taken a list.\n",
    "for i in range(len(List)):\n",
    "    List[i] = List[i]**2\n",
    "print(f\"Square : {List}\")\n"
   ]
  },
  {
   "cell_type": "code",
   "execution_count": 3,
   "id": "fe12bfc8-60de-41a7-a1b3-408993606620",
   "metadata": {},
   "outputs": [
    {
     "name": "stdout",
     "output_type": "stream",
     "text": [
      "New Dictionary is : {1: 0, 2: 1, 3: 2, 9: 12, 4: 4, 5: 5, 6: 6, 21: 7, 7: 10, 18: 9, 8: 11, 10: 13, 11: 14, 12: 15, 13: 16, 14: 17, 15: 18, 22: 19}\n"
     ]
    }
   ],
   "source": [
    "# 37. Convert a list to a dictionary where list elements become keys and their indices become values.\n",
    "\n",
    "List = [1, 2, 3, 9, 4, 5, 6, 21, 7, 18, 7, 8, 9, 10, 11, 12, 13, 14, 15, 22]  # Taken a list.\n",
    "new = {}\n",
    "for i in range(0, len(List)):\n",
    "    new[List[i]] = i\n",
    "print(f\"New Dictionary is : {new}\")\n"
   ]
  },
  {
   "cell_type": "code",
   "execution_count": 8,
   "id": "4a260a95-a4cf-4bb4-b7d8-15a6c39a149c",
   "metadata": {},
   "outputs": [
    {
     "name": "stdout",
     "output_type": "stream",
     "text": [
      "Randomly shuffle List : [1, 4, 18, 8, 7, 10, 14, 6, 12, 3, 13, 9, 2, 5, 7, 9, 15, 11, 21]\n"
     ]
    }
   ],
   "source": [
    "# 38. Shuffle the elements of a list randomly.\n",
    "\n",
    "import random\n",
    "List = [1, 2, 3, 9, 4, 5, 6, 21, 7, 18, 7, 8, 9, 10, 11, 12, 13, 14, 15]  # Taken a list.\n",
    "random.shuffle(List)\n",
    "print(f\"Randomly shuffle List : {List}\")\n"
   ]
  },
  {
   "cell_type": "code",
   "execution_count": 10,
   "id": "3fedef5e-5b5b-40dc-b67b-ec2245fe94a9",
   "metadata": {},
   "outputs": [
    {
     "name": "stdout",
     "output_type": "stream",
     "text": [
      "Create a List of First 10 Factorial : [1, 2, 6, 24, 120, 720, 5040, 40320, 362880, 3628800]\n"
     ]
    }
   ],
   "source": [
    "# 39. Create a list of the first 10 factorial numbers.\n",
    "\n",
    "List = []\n",
    "for i in range(1, 11):\n",
    "    temp = 1\n",
    "    for j in range(1, i+1):\n",
    "        temp *= j\n",
    "    List.append(temp)\n",
    "print(f\"Create a List of First 10 Factorial : {List}\")\n"
   ]
  },
  {
   "cell_type": "code",
   "execution_count": 15,
   "id": "b0edd1ca-a55c-4a97-9cbf-8fe1f69ff571",
   "metadata": {},
   "outputs": [
    {
     "name": "stdout",
     "output_type": "stream",
     "text": [
      "Yes, there is atleast one common element\n"
     ]
    }
   ],
   "source": [
    "# 40. Check if two lists have at least one element in common.\n",
    "\n",
    "l1 = [1, 2, 3, 4, 5, 6]\n",
    "l2 = [7, 8, 9, 10, 11, 12, 6, 2]\n",
    "flag = 0\n",
    "for i in range(0, len(l1)):\n",
    "    if l1[i] in l2:\n",
    "        flag = 1\n",
    "        break\n",
    "if flag == 1:\n",
    "    print(\"Yes, there is atleast one common element\")\n",
    "else:\n",
    "    print(\"No, there is no common element\")\n",
    "        \n"
   ]
  },
  {
   "cell_type": "code",
   "execution_count": 21,
   "id": "ffe262da-1b3a-4126-bb8b-593cef6484fb",
   "metadata": {},
   "outputs": [
    {
     "name": "stdout",
     "output_type": "stream",
     "text": [
      "Remove all the element : []\n"
     ]
    }
   ],
   "source": [
    "# 41. Remove all elements from a list.\n",
    "\n",
    "l1 = [1, 2, 3, 4, 5, 6]\n",
    "l1.clear()\n",
    "print(f\"Remove all the element : {l1}\")\n"
   ]
  },
  {
   "cell_type": "code",
   "execution_count": 23,
   "id": "e64757ce-8387-473a-9462-89d43375a5af",
   "metadata": {},
   "outputs": [
    {
     "name": "stdout",
     "output_type": "stream",
     "text": [
      "Replace all negative number with 0 : [1, 2, 3, 4, 0, 0, 0, 4, 8, 0]\n"
     ]
    }
   ],
   "source": [
    "# 42. Replace negative numbers in a list with 0.\n",
    "\n",
    "l = [1, 2, 3, 4, -3, -9, -23, 4, 8, -1]\n",
    "for i in range(0, len(l)):\n",
    "    if l[i] < 0:\n",
    "        l[i] = 0\n",
    "print(f\"Replace all negative number with 0 : {l}\")\n"
   ]
  },
  {
   "cell_type": "code",
   "execution_count": 26,
   "id": "8b3750a5-4cec-49a1-847e-93f82716f1a1",
   "metadata": {},
   "outputs": [
    {
     "name": "stdout",
     "output_type": "stream",
     "text": [
      "List : ['Convert', 'a', 'string', 'into', 'a', 'list', 'of', 'words']\n"
     ]
    }
   ],
   "source": [
    "# 43. Convert a string into a list of words.\n",
    "\n",
    "string = \"Convert a string into a list of words\"\n",
    "List = string.split()\n",
    "print(f\"List : {List}\")\n"
   ]
  },
  {
   "cell_type": "code",
   "execution_count": 36,
   "id": "00736cb9-a828-4acf-975e-b99816eed6ab",
   "metadata": {},
   "outputs": [
    {
     "name": "stdout",
     "output_type": "stream",
     "text": [
      "Convert a list of words into a string\n"
     ]
    }
   ],
   "source": [
    "# 44. Convert a list of words into a string.\n",
    "\n",
    "List = ['Convert', 'a', 'list', 'of', 'words', 'into', 'a', 'string']\n",
    "string = \" \".join(List)\n",
    "print(string)\n"
   ]
  },
  {
   "cell_type": "code",
   "execution_count": 41,
   "id": "c82b3e15-b740-4761-8eb3-a64c0fa499bf",
   "metadata": {},
   "outputs": [
    {
     "name": "stdin",
     "output_type": "stream",
     "text": [
      "Enter the value of n :  8\n"
     ]
    },
    {
     "name": "stdout",
     "output_type": "stream",
     "text": [
      "List of First 8 power of 2 : [1, 2, 4, 8, 16, 32, 64, 128]\n"
     ]
    }
   ],
   "source": [
    "# 45. Create a list of the first `n` powers of 2.\n",
    "\n",
    "List = []\n",
    "n = int(input(\"Enter the value of n : \"))\n",
    "for i in range(0, n):\n",
    "    List.append(2**i)\n",
    "print(f\"List of First {n} power of 2 : {List}\")\n"
   ]
  },
  {
   "cell_type": "code",
   "execution_count": 48,
   "id": "c35204e7-cb30-4851-bfe4-3dc8fff3862e",
   "metadata": {},
   "outputs": [
    {
     "name": "stdout",
     "output_type": "stream",
     "text": [
      "Longest string in List : pwskills\n"
     ]
    }
   ],
   "source": [
    "# 46. Find the longest string in a list of strings.\n",
    "\n",
    "List = ['Convert', 'a', 'list', 'pwskills', 'skills', 'of', 'words', 'into', 'a', 'string', 'pw']\n",
    "List = sorted(List, key = len)\n",
    "print(f\"Longest string in List : {List[-1]}\")\n",
    "\n"
   ]
  },
  {
   "cell_type": "code",
   "execution_count": 49,
   "id": "5b066c86-1aa1-4b88-8146-b75abd82f5ef",
   "metadata": {},
   "outputs": [
    {
     "name": "stdout",
     "output_type": "stream",
     "text": [
      "shortest string in List : a\n"
     ]
    }
   ],
   "source": [
    "# 47. Find the shortest string in a list of strings.\n",
    "\n",
    "List = ['Convert', 'a', 'list', 'pwskills', 'skills', 'of', 'words', 'into', 'a', 'string', 'pw']\n",
    "List = sorted(List, key = len)\n",
    "print(f\"shortest string in List : {List[0]}\")\n"
   ]
  },
  {
   "cell_type": "code",
   "execution_count": 9,
   "id": "7c9cedce-2683-45f7-b491-2ac8cb8b2a9b",
   "metadata": {},
   "outputs": [
    {
     "name": "stdin",
     "output_type": "stream",
     "text": [
      "Enter the value of n :  9\n"
     ]
    },
    {
     "name": "stdout",
     "output_type": "stream",
     "text": [
      "First 9 triangular numbers :  [1, 3, 6, 10, 15, 21, 28, 36, 45]\n"
     ]
    }
   ],
   "source": [
    "# 48. Create a list of the first `n` triangular numbers.\n",
    "\n",
    "L = []\n",
    "n = int(input(\"Enter the value of n : \"))\n",
    "sum = 0\n",
    "for i in range(1, n+1):\n",
    "    sum += i\n",
    "    L.append(sum)\n",
    "print(f\"First {n} triangular numbers :  {L}\")\n"
   ]
  },
  {
   "cell_type": "code",
   "execution_count": 4,
   "id": "be3a973a-e8e0-4f81-af11-3692d1bbd394",
   "metadata": {},
   "outputs": [
    {
     "name": "stdout",
     "output_type": "stream",
     "text": [
      "List contains the subsequence\n"
     ]
    }
   ],
   "source": [
    "# 49. Check if a list contains another list as a subsequence.\n",
    "\n",
    "List = [1, 2, 3, 4, 5, 6, 7, 8, 9, 10, 11, 12, 15, 18, 20]\n",
    "sub = [1, 2, 3, 5, 6, 8]\n",
    "flag = 0\n",
    "sub_index = 0\n",
    "for i in range(0, len(List)):\n",
    "    if (List[i] == sub[sub_index]):\n",
    "        sub_index += 1\n",
    "        if sub_index == len(sub):\n",
    "            flag = 1\n",
    "            break\n",
    "if(flag == 1):\n",
    "    print(\"List contains the subsequence\")\n",
    "else:\n",
    "    print(\"List not contain subsequence\")\n"
   ]
  },
  {
   "cell_type": "code",
   "execution_count": 6,
   "id": "67a3b14b-6151-4749-acfc-3e2e72120459",
   "metadata": {},
   "outputs": [
    {
     "name": "stdout",
     "output_type": "stream",
     "text": [
      "New List : [1, 2, 3, 8, 5, 6, 7, 4, 9, 10, 11, 12, 15, 18, 20]\n"
     ]
    }
   ],
   "source": [
    "# 50. Swap two elements in a list by their indices.\n",
    "\n",
    "List = [1, 2, 3, 4, 5, 6, 7, 8, 9, 10, 11, 12, 15, 18, 20]\n",
    "index1 = 3\n",
    "index2 = 7\n",
    "temp = List[index1]\n",
    "List[index1] = List[index2]\n",
    "List[index2] = temp\n",
    "print(f\"New List : {List}\")\n"
   ]
  },
  {
   "cell_type": "markdown",
   "id": "123040b3-40bf-494f-94db-ec817eec874b",
   "metadata": {},
   "source": [
    "Tuple Based Practice Problem :"
   ]
  },
  {
   "cell_type": "code",
   "execution_count": 17,
   "id": "1adb3798-281b-479f-b2fb-d8905bcfea86",
   "metadata": {},
   "outputs": [
    {
     "name": "stdout",
     "output_type": "stream",
     "text": [
      "(1, 2, 3, 4, 5)\n"
     ]
    }
   ],
   "source": [
    "# 1. Create a tuple with integers from 1 to 5.\n",
    "\n",
    "List = []\n",
    "for i in range(1, 6):\n",
    "    List.append(i)\n",
    "Tuple = tuple(List)\n",
    "print(Tuple)\n"
   ]
  },
  {
   "cell_type": "code",
   "execution_count": 19,
   "id": "47713f85-45c2-4d25-bbcd-a3bc418cd4f4",
   "metadata": {},
   "outputs": [
    {
     "name": "stdout",
     "output_type": "stream",
     "text": [
      "3\n"
     ]
    }
   ],
   "source": [
    "# 2. Access the third element of a tuple.\n",
    "\n",
    "Tuple = (1, 2, 3, 4, 5, 5, 6, 7, 8, 9, 10)\n",
    "element = Tuple[2]\n",
    "print(element)\n"
   ]
  },
  {
   "cell_type": "code",
   "execution_count": 2,
   "id": "f9166952-4bbb-4401-b6a2-84146480066b",
   "metadata": {},
   "outputs": [
    {
     "name": "stdout",
     "output_type": "stream",
     "text": [
      "Length : 10\n"
     ]
    }
   ],
   "source": [
    "# 3. Find the length of a tuple without using the `len()` function.\n",
    "\n",
    "Tuple = (1, 2, 3, 4, 5, 6, 7, 8, 9, 10)\n",
    "Length = 0\n",
    "for i in Tuple:\n",
    "    Length += 1\n",
    "print(f\"Length : {Length}\")\n",
    "    \n"
   ]
  },
  {
   "cell_type": "code",
   "execution_count": 4,
   "id": "b7f97c27-80ab-449a-9f63-09b929b6cc31",
   "metadata": {},
   "outputs": [
    {
     "name": "stdout",
     "output_type": "stream",
     "text": [
      "2\n"
     ]
    }
   ],
   "source": [
    "# 4. Count the occurrences of an element in a tuple.\n",
    "\n",
    "Tuple = (1, 2, 3, 1, 2, 4, 1, 2, 3, 4, 5, 6, 3, 4, 5, 7, 8, 9, 10)\n",
    "element = 5\n",
    "count = 0\n",
    "for i in Tuple:\n",
    "    if i == element:\n",
    "        count += 1\n",
    "print(count)\n",
    "\n"
   ]
  },
  {
   "cell_type": "code",
   "execution_count": 12,
   "id": "762e0b91-7831-4762-a8d0-cde42dbf2cb2",
   "metadata": {},
   "outputs": [
    {
     "name": "stdout",
     "output_type": "stream",
     "text": [
      "First occurence index of 6 is : 11\n"
     ]
    }
   ],
   "source": [
    "# 5. Find the index of the first occurrence of an element in a tuple.\n",
    "\n",
    "Tuple = (1, 2, 3, 1, 2, 4, 1, 2, 3, 4, 5, 6, 3, 4, 5, 6, 7, 8, 9, 10)\n",
    "element = 6\n",
    "for i in range(0, len(Tuple)):\n",
    "    if Tuple[i] == element:\n",
    "        break\n",
    "print(f\"First occurence index of {element} is : {i}\")\n"
   ]
  },
  {
   "cell_type": "code",
   "execution_count": 27,
   "id": "5d37f407-f508-464c-a087-0fcbb41ed8c2",
   "metadata": {},
   "outputs": [
    {
     "name": "stdout",
     "output_type": "stream",
     "text": [
      "Element 21 not exist\n"
     ]
    }
   ],
   "source": [
    "# 6. Check if an element exists in a tuple.\n",
    "\n",
    "Tuple = (1, 2, 3, 1, 2, 4, 1, 2, 3, 4, 5, 6, 3, 4, 5, 6, 7, 8, 9, 10, 12, 15, 17, 20)\n",
    "element = 21\n",
    "flag = 0\n",
    "for i in range(0, len(Tuple)):\n",
    "    if element == Tuple[i]:\n",
    "        flag = 1\n",
    "        break\n",
    "if(flag == 1):\n",
    "    print(f\"Element {element} exist\")\n",
    "else:\n",
    "    print(f\"Element {element} not exist\")\n"
   ]
  },
  {
   "cell_type": "code",
   "execution_count": 28,
   "id": "4c51a193-13d4-4d50-8999-cbf273bdb389",
   "metadata": {},
   "outputs": [
    {
     "name": "stdout",
     "output_type": "stream",
     "text": [
      "[1, 2, 3, 1, 2, 4, 1, 2, 3, 4, 5, 6, 3, 4, 5, 6, 7, 8, 9, 10, 12, 15, 17, 20]\n"
     ]
    }
   ],
   "source": [
    "# 7. Convert a tuple to a list.\n",
    "\n",
    "Tuple = (1, 2, 3, 1, 2, 4, 1, 2, 3, 4, 5, 6, 3, 4, 5, 6, 7, 8, 9, 10, 12, 15, 17, 20)\n",
    "List = list(Tuple)\n",
    "print(List)\n"
   ]
  },
  {
   "cell_type": "code",
   "execution_count": 30,
   "id": "db1f6b36-fc11-407e-8108-fc8cebccd835",
   "metadata": {},
   "outputs": [
    {
     "name": "stdout",
     "output_type": "stream",
     "text": [
      "(1, 2, 3, 1, 2, 4, 1, 2, 3, 4, 5, 6, 8, 9, 10, 12)\n"
     ]
    }
   ],
   "source": [
    "# 8. Convert a list to a tuple.\n",
    "\n",
    "List = [1, 2, 3, 1, 2, 4, 1, 2, 3, 4, 5, 6, 8, 9, 10, 12]\n",
    "Tuple = tuple(List)\n",
    "print(Tuple)\n"
   ]
  },
  {
   "cell_type": "code",
   "execution_count": 32,
   "id": "58d0f0f0-990b-472d-b613-dee0ced07ede",
   "metadata": {},
   "outputs": [
    {
     "name": "stdout",
     "output_type": "stream",
     "text": [
      "TeacherName :  Shudhanshu Sir\n",
      "Batch :  Data Science Pro\n",
      "Starts On : 12th August\n",
      "course Duration : 1 year\n"
     ]
    }
   ],
   "source": [
    "# 9. Unpack the elements of a tuple into variables.\n",
    "\n",
    "Tuple = (\"Shudhanshu Sir\", \"Data Science Pro\", \"12th August\", \"1 year\")\n",
    "(Teacher_Name, Batch, Starts_on, Duration) = Tuple\n",
    "print(f\"Teacher Name :  {Teacher_Name}\")\n",
    "print(f\"Batch :  {Batch}\")\n",
    "print(f\"Starts On : {Starts_on}\")\n",
    "print(f\"course Duration : {Duration}\")\n"
   ]
  },
  {
   "cell_type": "code",
   "execution_count": 1,
   "id": "0b492ce7-ebc9-4fc7-b368-f4159e4b560a",
   "metadata": {},
   "outputs": [
    {
     "name": "stdout",
     "output_type": "stream",
     "text": [
      "(2, 4, 6, 8, 10)\n"
     ]
    }
   ],
   "source": [
    "# 10. Create a tuple of even numbers from 1 to 10.\n",
    "\n",
    "List = []\n",
    "for i in range(2, 11, 2):\n",
    "    List.append(i)\n",
    "Tuple = tuple(List)\n",
    "print(Tuple)\n"
   ]
  },
  {
   "cell_type": "code",
   "execution_count": 2,
   "id": "57a0407e-6058-4c0d-9bb6-6ae9a1bcecd1",
   "metadata": {},
   "outputs": [
    {
     "name": "stdout",
     "output_type": "stream",
     "text": [
      "(1, 3, 5, 7, 9)\n"
     ]
    }
   ],
   "source": [
    "# 11. Create a tuple of odd numbers from 1 to 10.\n",
    "\n",
    "List = []\n",
    "for i in range(1, 11, 2):\n",
    "    List.append(i)\n",
    "Tuple = tuple(List)\n",
    "print(Tuple)\n"
   ]
  },
  {
   "cell_type": "code",
   "execution_count": 4,
   "id": "a06fd93a-31bb-472f-8f25-e13cfe369af2",
   "metadata": {},
   "outputs": [
    {
     "name": "stdout",
     "output_type": "stream",
     "text": [
      "Concatenate Two Tuple : (1, 3, 5, 7, 9, 2, 4, 6, 8, 10)\n"
     ]
    }
   ],
   "source": [
    "# 12. Concatenate two tuples.\n",
    "Tuple1 = (1, 3, 5, 7, 9)\n",
    "Tuple2 = (2, 4, 6, 8, 10)\n",
    "Tuple3 = Tuple1 + Tuple2\n",
    "print(f\"Concatenate Two Tuple : {Tuple3}\")\n"
   ]
  },
  {
   "cell_type": "code",
   "execution_count": 7,
   "id": "0da1cec6-cae5-40f8-96f8-11273b0f9cf4",
   "metadata": {},
   "outputs": [
    {
     "name": "stdout",
     "output_type": "stream",
     "text": [
      "(1, 3, 5, 7, 9, 1, 3, 5, 7, 9, 1, 3, 5, 7, 9)\n"
     ]
    }
   ],
   "source": [
    "# 13. Repeat a tuple three times.\n",
    "\n",
    "Tuple = (1, 3, 5, 7, 9)\n",
    "Tuple = Tuple*3\n",
    "print(Tuple)\n"
   ]
  },
  {
   "cell_type": "code",
   "execution_count": 9,
   "id": "afbf085a-bf9c-45fc-af13-5c929067300e",
   "metadata": {},
   "outputs": [
    {
     "name": "stdout",
     "output_type": "stream",
     "text": [
      "Tuple1 is not empity\n",
      "Tuple2 is empty\n"
     ]
    }
   ],
   "source": [
    "# 14. Check if a tuple is empty.\n",
    "\n",
    "Tuple1 = (1, 3, 5, 7, 9)\n",
    "Tuple2 = ()\n",
    "\n",
    "if not Tuple1:\n",
    "    print(\"Tuple1 is empty\")\n",
    "else:\n",
    "    print(\"Tuple1 is not empity\")\n",
    "\n",
    "if not Tuple2:\n",
    "    print(\"Tuple2 is empty\")\n",
    "else:\n",
    "    print(\"Tuple2 is not empity\")\n"
   ]
  },
  {
   "cell_type": "code",
   "execution_count": 10,
   "id": "3b40a28a-ddf1-4e82-a37b-607c6faf8070",
   "metadata": {},
   "outputs": [
    {
     "name": "stdout",
     "output_type": "stream",
     "text": [
      "Nested Tuple : ((1, 2, 3, 4), 5, 6, 7, 8, 'pwskills', (True, False))\n"
     ]
    }
   ],
   "source": [
    "# 15. Create a nested tuple.\n",
    "\n",
    "Nested_Tuple = ((1, 2, 3, 4), 5, 6, 7, 8, (\"pwskills\"), (True, False))\n",
    "print(f\"Nested Tuple : {Nested_Tuple}\")\n"
   ]
  },
  {
   "cell_type": "code",
   "execution_count": 11,
   "id": "03cd2e47-02a6-492d-bd70-42fd1c5960e2",
   "metadata": {},
   "outputs": [
    {
     "name": "stdout",
     "output_type": "stream",
     "text": [
      "(1, 2, 3, 4)\n"
     ]
    }
   ],
   "source": [
    "# 16. Access the first element of a nested tuple.\n",
    "\n",
    "Nested_Tuple = ((1, 2, 3, 4), 5, 6, 7, 8, (\"pwskills\"), (True, False))\n",
    "print(Nested_Tuple[0])\n"
   ]
  },
  {
   "cell_type": "code",
   "execution_count": 13,
   "id": "173fbf14-b92e-4c69-bca6-f33dc9158904",
   "metadata": {},
   "outputs": [
    {
     "name": "stdout",
     "output_type": "stream",
     "text": [
      "Single Element Tuple : (3,)\n"
     ]
    }
   ],
   "source": [
    "# 17. Create a tuple with a single element.\n",
    "\n",
    "Tuple = (3,)\n",
    "print(f\"Single Element Tuple : {Tuple}\")\n"
   ]
  },
  {
   "cell_type": "code",
   "execution_count": 22,
   "id": "0094f1c3-dee4-4e58-9e91-77809b0c2ac7",
   "metadata": {},
   "outputs": [
    {
     "name": "stdout",
     "output_type": "stream",
     "text": [
      "tuple1 == tuple2: False\n",
      "tuple1 != tuple2: True\n",
      "tuple1 < tuple2: True\n",
      "tuple1 <= tuple2: True\n",
      "tuple1 > tuple2: False\n",
      "tuple1 >= tuple2: False\n"
     ]
    }
   ],
   "source": [
    "# 18. Compare two tuples.\n",
    "\n",
    "tuple1 = (1, 3, 5, 7, 9)\n",
    "tuple2 = (1, 4, 6, 8, 0)\n",
    "\n",
    "print(\"tuple1 == tuple2:\", tuple1 == tuple2)  # Equality check\n",
    "print(\"tuple1 != tuple2:\", tuple1 != tuple2)  # Inequality check\n",
    "print(\"tuple1 < tuple2:\", tuple1 < tuple2)    # Less than check\n",
    "print(\"tuple1 <= tuple2:\", tuple1 <= tuple2)  # Less than or equal to check\n",
    "print(\"tuple1 > tuple2:\", tuple1 > tuple2)    # Greater than check\n",
    "print(\"tuple1 >= tuple2:\", tuple1 >= tuple2)  # Greater than or equal to check\n"
   ]
  },
  {
   "cell_type": "code",
   "execution_count": 23,
   "id": "d3bd0c05-5c5d-45fa-b6b2-1c65b89a7dd3",
   "metadata": {},
   "outputs": [
    {
     "ename": "NameError",
     "evalue": "name 'Tuple' is not defined",
     "output_type": "error",
     "traceback": [
      "\u001b[0;31m---------------------------------------------------------------------------\u001b[0m",
      "\u001b[0;31mNameError\u001b[0m                                 Traceback (most recent call last)",
      "Cell \u001b[0;32mIn[23], line 5\u001b[0m\n\u001b[1;32m      3\u001b[0m Tuple \u001b[38;5;241m=\u001b[39m (\u001b[38;5;241m1\u001b[39m, \u001b[38;5;241m3\u001b[39m, \u001b[38;5;241m5\u001b[39m, \u001b[38;5;241m7\u001b[39m, \u001b[38;5;241m9\u001b[39m)\n\u001b[1;32m      4\u001b[0m \u001b[38;5;28;01mdel\u001b[39;00m Tuple\n\u001b[0;32m----> 5\u001b[0m \u001b[38;5;28mprint\u001b[39m(\u001b[43mTuple\u001b[49m)\n",
      "\u001b[0;31mNameError\u001b[0m: name 'Tuple' is not defined"
     ]
    }
   ],
   "source": [
    "# 19. Delete a tuple.\n",
    "\n",
    "Tuple = (1, 3, 5, 7, 9)\n",
    "del Tuple\n",
    "print(Tuple)\n",
    "\n"
   ]
  },
  {
   "cell_type": "code",
   "execution_count": 26,
   "id": "66b8707e-b4d5-4568-8bcf-ad28fc08afe9",
   "metadata": {},
   "outputs": [
    {
     "name": "stdout",
     "output_type": "stream",
     "text": [
      "Slice Tuple : (4, 5, 6, 7, 8)\n"
     ]
    }
   ],
   "source": [
    "# 20. Slice a tuple.\n",
    "\n",
    "Tuple = (1, 2, 3, 4, 5, 6, 7, 8, 9, 10)\n",
    "slice_tuple = Tuple[3:8:1]\n",
    "print(f\"Slice Tuple : {slice_tuple}\")\n"
   ]
  },
  {
   "cell_type": "code",
   "execution_count": 27,
   "id": "7d038f69-8492-4157-8b7f-2432a6638cc1",
   "metadata": {},
   "outputs": [
    {
     "name": "stdout",
     "output_type": "stream",
     "text": [
      "Maximum element in Tuple is : 18\n"
     ]
    }
   ],
   "source": [
    "# 21. Find the maximum value in a tuple.\n",
    "\n",
    "Tuple = (1, 2, 3, 4, 5, 6, 7, 8, 9, 10, 12, 18, 15, 16)\n",
    "max = -999999999\n",
    "for i in Tuple:\n",
    "    if max < i:\n",
    "        max = i\n",
    "print(f\"Maximum element in Tuple is : {max}\")\n"
   ]
  },
  {
   "cell_type": "code",
   "execution_count": 30,
   "id": "4a92a7b7-725d-4979-a279-fc5c56fd7c3d",
   "metadata": {},
   "outputs": [
    {
     "name": "stdout",
     "output_type": "stream",
     "text": [
      "Minimum element in Tuple is : -5\n"
     ]
    }
   ],
   "source": [
    "# 22. Find the minimum value in a tuple.\n",
    "\n",
    "Tuple = (1, 2, 3, 4, 5, 6, -5, 7, 8, 9, 10, 12, 18, 15, 16)\n",
    "min = 999999999\n",
    "for i in Tuple:\n",
    "    if min > i:\n",
    "        min = i\n",
    "print(f\"Minimum element in Tuple is : {min}\")\n"
   ]
  },
  {
   "cell_type": "code",
   "execution_count": 31,
   "id": "cb26a89f-4026-45b2-98f7-6e8e5202325d",
   "metadata": {},
   "outputs": [
    {
     "name": "stdout",
     "output_type": "stream",
     "text": [
      "('P', 'w', 's', 'k', 'i', 'l', 'l', 's')\n"
     ]
    }
   ],
   "source": [
    "# 23. Convert a string to a tuple of characters.\n",
    "\n",
    "String = \"Pwskills\"\n",
    "Tuple = tuple(String)\n",
    "print(Tuple)\n"
   ]
  },
  {
   "cell_type": "code",
   "execution_count": 34,
   "id": "07fa2ff0-b28b-4456-948a-f9e985120c6a",
   "metadata": {},
   "outputs": [
    {
     "name": "stdout",
     "output_type": "stream",
     "text": [
      "String of Tuples : Pwskills\n"
     ]
    }
   ],
   "source": [
    "# 24. Convert a tuple of characters to a string.\n",
    "\n",
    "Tuple = ('P', 'w', 's', 'k', 'i', 'l', 'l', 's')\n",
    "String = ''.join(Tuple)\n",
    "print(f\"String of Tuples : {String}\")\n"
   ]
  },
  {
   "cell_type": "code",
   "execution_count": 35,
   "id": "e8cd72d1-28d8-4363-9b19-4f761b551dc2",
   "metadata": {},
   "outputs": [
    {
     "name": "stdout",
     "output_type": "stream",
     "text": [
      "(1, 2, 3, [4, 5, 6], {8, 9, 7}, True, False, 6.28, (3+5j), -56, 'pwskills')\n"
     ]
    }
   ],
   "source": [
    "# 25. Create a tuple from multiple data types.\n",
    "\n",
    "Tuple = (1, 2, 3, [4, 5, 6], {7, 8, 9}, True, False, 6.28, 3+5j, -56, \"pwskills\")\n",
    "print(Tuple)\n"
   ]
  },
  {
   "cell_type": "code",
   "execution_count": 36,
   "id": "54cd6131-9291-4e4e-8763-9730b5e95aac",
   "metadata": {},
   "outputs": [
    {
     "name": "stdout",
     "output_type": "stream",
     "text": [
      "Tuple1 and Tuple2 are not identical\n",
      "Tuple2 and Tuple3 are not identical\n",
      "Tuple1 and Tuple3 are identical\n"
     ]
    }
   ],
   "source": [
    "# 26. Check if two tuples are identical.\n",
    "\n",
    "tuple1 = (1, 3, 5, 7, 9)\n",
    "tuple2 = (1, 4, 6, 8, 0)\n",
    "tuple3 = (1, 3, 5, 7, 9)\n",
    "\n",
    "if tuple1 == tuple2:\n",
    "    print(\"Tuple1 and Tuple2 are identical\")\n",
    "else:\n",
    "    print(\"Tuple1 and Tuple2 are not identical\")\n",
    "\n",
    "if tuple2 == tuple3:\n",
    "    print(\"Tuple2 and Tuple3 are identical\")\n",
    "else:\n",
    "    print(\"Tuple2 and Tuple3 are not identical\")\n",
    "\n",
    "if tuple1 == tuple3:\n",
    "    print(\"Tuple1 and Tuple3 are identical\")\n",
    "else:\n",
    "    print(\"Tuple1 and Tuple3 are not identical\")\n"
   ]
  },
  {
   "cell_type": "code",
   "execution_count": 37,
   "id": "3578cf4f-78b8-41fe-826b-94fc19e1de5c",
   "metadata": {},
   "outputs": [
    {
     "name": "stdout",
     "output_type": "stream",
     "text": [
      "Sorted Tuple is : (1, 2, 3, 4, 5, 6, 7, 8, 9, 10, 12, 15, 16, 18, 20, 22)\n"
     ]
    }
   ],
   "source": [
    "# 27. Sort the elements of a tuple.\n",
    "\n",
    "Tuple = (1, 2, 3, 4, 5, 20, 22, 6, 7, 8, 9, 10, 12, 18, 15, 16)\n",
    "Sorted = tuple(sorted(Tuple))\n",
    "print(f\"Sorted Tuple is : {Sorted}\")\n"
   ]
  },
  {
   "cell_type": "code",
   "execution_count": 2,
   "id": "9cc60f78-42ab-4726-9492-4b9e24538b22",
   "metadata": {},
   "outputs": [
    {
     "name": "stdout",
     "output_type": "stream",
     "text": [
      "('1', '2', '3', '4', '5', '20', '22', '6', '7', '8', '9', '10', '12', '18', '15', '16')\n"
     ]
    }
   ],
   "source": [
    "# 28. Convert a tuple of integers to a tuple of strings.\n",
    "\n",
    "Tuple = (1, 2, 3, 4, 5, 20, 22, 6, 7, 8, 9, 10, 12, 18, 15, 16)\n",
    "String = tuple(str(i) for i in Tuple)\n",
    "print(String)\n"
   ]
  },
  {
   "cell_type": "code",
   "execution_count": 3,
   "id": "6df4313f-d260-47d0-b1a5-ec9bee246447",
   "metadata": {},
   "outputs": [
    {
     "name": "stdout",
     "output_type": "stream",
     "text": [
      "(1, 2, 3, 4, 5, 20, 22, 6, 7, 8, 9, 10, 12, 18, 15, 16)\n"
     ]
    }
   ],
   "source": [
    "# 29. Convert a tuple of strings to a tuple of integers.\n",
    "\n",
    "Tuple = ('1', '2', '3', '4', '5', '20', '22', '6', '7', '8', '9', '10', '12', '18', '15', '16')\n",
    "Int = tuple(int(i) for i in Tuple)\n",
    "print(Int)\n"
   ]
  },
  {
   "cell_type": "code",
   "execution_count": 5,
   "id": "138214ff-8129-4f5f-8466-dab8811d4bb4",
   "metadata": {},
   "outputs": [
    {
     "name": "stdout",
     "output_type": "stream",
     "text": [
      "Merge two Tuples (1, 3, 5, 7, 9) and (1, 4, 6, 8, 10) is : (1, 3, 5, 7, 9, 1, 4, 6, 8, 10)\n"
     ]
    }
   ],
   "source": [
    "# 30. Merge two tuples.\n",
    "\n",
    "tuple1 = (1, 3, 5, 7, 9)\n",
    "tuple2 = (1, 4, 6, 8, 10)\n",
    "Merge_Tuples = tuple1 + tuple2\n",
    "print(f\"Merge two Tuples {tuple1} and {tuple2} is : {Merge_Tuples}\")\n",
    "\n"
   ]
  },
  {
   "cell_type": "code",
   "execution_count": 8,
   "id": "3907e6ee-1e14-4948-94af-0acb32abb237",
   "metadata": {},
   "outputs": [
    {
     "name": "stdout",
     "output_type": "stream",
     "text": [
      "Flatten Tuple : (1, 2, 3, 4, 5, 6, 7, 8, 9, 10, 11, 12)\n"
     ]
    }
   ],
   "source": [
    "# 31. Flatten a nested tuple.\n",
    "\n",
    "def Flatten_Tuple(Nested_Tuple):\n",
    "    Flatten = []\n",
    "    for i in Nested_Tuple:\n",
    "        if isinstance(i, tuple):\n",
    "            Flatten.extend(Flatten_Tuple(i))\n",
    "        else:\n",
    "            Flatten.append(i)\n",
    "    return Flatten\n",
    "Nested_Tuple = (1, 2, 3, (4, (5, 6, (7, 8), 9), 10), 11, (12))\n",
    "flattened_tuple = tuple(Flatten_Tuple(Nested_Tuple))\n",
    "print(f\"Flatten Tuple : {flattened_tuple}\")\n"
   ]
  },
  {
   "cell_type": "code",
   "execution_count": 5,
   "id": "83cdfbeb-d619-491f-b49e-9516c1aabadf",
   "metadata": {},
   "outputs": [
    {
     "name": "stdout",
     "output_type": "stream",
     "text": [
      "First 5 prime numbers : (2, 3, 5, 7, 11)\n"
     ]
    }
   ],
   "source": [
    "# 32. Create a tuple of the first 5 prime numbers.\n",
    "\n",
    "List = []\n",
    "for i in range(2, 100):\n",
    "    if i == 2:\n",
    "        List.append(i)\n",
    "    else:\n",
    "        for j in range(2, i):\n",
    "            if(i%j == 0):\n",
    "                break\n",
    "            if(j == i - 1):\n",
    "                List.append(i)\n",
    "prime_tuple = tuple(List)[:5]\n",
    "print(f\"First 5 prime numbers : {prime_tuple}\")\n"
   ]
  },
  {
   "cell_type": "code",
   "execution_count": 3,
   "id": "a91ac84c-ca81-4a13-8afb-958fb5330414",
   "metadata": {},
   "outputs": [
    {
     "name": "stdout",
     "output_type": "stream",
     "text": [
      "Tuple (1, 2, 3, 4, 3, 2, 1) is palindrome\n",
      "Tuple (2, 3, 4, 5, 6, 4, 3, 2) is not palindrome\n"
     ]
    }
   ],
   "source": [
    "# 33. Check if a tuple is a palindrome.\n",
    "\n",
    "def is_palindrome(Tuple):\n",
    "    reverse = Tuple[::-1]\n",
    "    if(Tuple == reverse):\n",
    "        print(f\"Tuple {Tuple} is palindrome\")\n",
    "    else:\n",
    "        print(f\"Tuple {Tuple} is not palindrome\")\n",
    "        \n",
    "Tuple1 = (1, 2, 3, 4, 3, 2, 1)\n",
    "is_palindrome(Tuple1)\n",
    "\n",
    "Tuple2 = (2, 3, 4, 5, 6, 4, 3, 2)\n",
    "is_palindrome(Tuple2)\n"
   ]
  },
  {
   "cell_type": "code",
   "execution_count": 4,
   "id": "075323ec-6fe5-402b-ae55-a8d1297a7f49",
   "metadata": {},
   "outputs": [
    {
     "name": "stdout",
     "output_type": "stream",
     "text": [
      "Tuple of squares of numbers from 1 to 5 is : (1, 4, 9, 16, 25)\n"
     ]
    }
   ],
   "source": [
    "# 34. Create a tuple of squares of numbers from 1 to 5.\n",
    "\n",
    "Tuple = tuple(i**2 for i in range(1,6))\n",
    "print(f\"Tuple of squares of numbers from 1 to 5 is : {Tuple}\")\n"
   ]
  },
  {
   "cell_type": "code",
   "execution_count": 7,
   "id": "424061a3-b2a9-4af7-9f66-c30bb6d8ef67",
   "metadata": {},
   "outputs": [
    {
     "name": "stdout",
     "output_type": "stream",
     "text": [
      "Even Numbers : (1, 3, 5, 7, 9, 15)\n"
     ]
    }
   ],
   "source": [
    "# 35. Filter out all even numbers from a tuple.\n",
    "\n",
    "Tuple = (1, 2, 3, 4, 5, 20, 22, 6, 7, 8, 9, 10, 12, 18, 15, 16)\n",
    "L = []\n",
    "for i in Tuple:\n",
    "    if i%2 != 0:\n",
    "        L.append(i)\n",
    "print(f\"filter out all Even Numbers : {tuple(L)}\")\n"
   ]
  },
  {
   "cell_type": "code",
   "execution_count": 9,
   "id": "93b8a8e4-6f62-470d-a5bd-3fd10e483b4a",
   "metadata": {},
   "outputs": [
    {
     "name": "stdout",
     "output_type": "stream",
     "text": [
      "Doubled Touple : (2, 4, 6, 8, 10, 40, 44, 12, 14, 16, 18, 20, 24, 36, 30, 32)\n"
     ]
    }
   ],
   "source": [
    "# 36. Multiply all elements in a tuple by 2.\n",
    "\n",
    "Tuple = (1, 2, 3, 4, 5, 20, 22, 6, 7, 8, 9, 10, 12, 18, 15, 16)\n",
    "doubled = tuple(i*2 for i in Tuple)\n",
    "print(f\"Doubled Touple : {doubled}\")\n"
   ]
  },
  {
   "cell_type": "code",
   "execution_count": 19,
   "id": "4d40fa9d-cc34-4d82-97b2-ba0269ac9650",
   "metadata": {},
   "outputs": [
    {
     "name": "stdout",
     "output_type": "stream",
     "text": [
      "Random Tuple : (38, 79, 130, 74, 119, 109, 140, 116, 65, 22, 51, 7, 82, 85)\n"
     ]
    }
   ],
   "source": [
    "# 37. Create a tuple of random numbers.\n",
    "\n",
    "import random\n",
    "random_tuple = tuple(random.randint(1, 200) for _ in range(1, 15))\n",
    "print(f\"Random Tuple : {random_tuple}\")\n"
   ]
  },
  {
   "cell_type": "code",
   "execution_count": 20,
   "id": "d308a7cb-e41b-47cc-846a-fadb3421abde",
   "metadata": {},
   "outputs": [
    {
     "name": "stdout",
     "output_type": "stream",
     "text": [
      "(1, 2, 3, 4, 5, 6, 7, 8, 9) is sorted : True\n",
      "(2, 3, 4, 1, 6, 2, 7, 4, 8) is sorted : False\n"
     ]
    }
   ],
   "source": [
    "# 38. Check if a tuple is sorted.\n",
    "\n",
    "def is_sorted(Tuple):\n",
    "    for i in range(0, len(Tuple) - 1):\n",
    "        if Tuple[i] > Tuple[i+1]:\n",
    "            return False\n",
    "    return True\n",
    "tuple1 = (1, 2, 3, 4, 5, 6, 7, 8, 9)\n",
    "tuple2 = (2, 3, 4, 1, 6, 2, 7, 4, 8)\n",
    "\n",
    "t1 = is_sorted(tuple1)\n",
    "t2 = is_sorted(tuple2)\n",
    "\n",
    "print(f\"{tuple1} is sorted : {t1}\")\n",
    "print(f\"{tuple2} is sorted : {t2}\")\n"
   ]
  },
  {
   "cell_type": "code",
   "execution_count": 21,
   "id": "e2ee2cb3-abec-409b-871c-d7b88b5b8e51",
   "metadata": {},
   "outputs": [
    {
     "name": "stdout",
     "output_type": "stream",
     "text": [
      "Rotates Tuple (1, 2, 3, 4, 5, 20, 22, 6, 7, 8, 9, 10, 12, 18, 15, 16) left of 3 is : (4, 5, 20, 22, 6, 7, 8, 9, 10, 12, 18, 15, 16, 1, 2, 3)\n"
     ]
    }
   ],
   "source": [
    "# 39. Rotate a tuple to the left by `n` positions.\n",
    "\n",
    "def rotate_left(Tuple, n):\n",
    "    n = n%len(Tuple)\n",
    "    rotated_tuple = Tuple[n:] + Tuple[:n]\n",
    "    return rotated_tuple\n",
    "\n",
    "Tuple = (1, 2, 3, 4, 5, 20, 22, 6, 7, 8, 9, 10, 12, 18, 15, 16)\n",
    "position = 3\n",
    "Rotated = rotate_left(Tuple, position)\n",
    "print(f\"Rotates Tuple {Tuple} left of {position} is : {Rotated}\")\n"
   ]
  },
  {
   "cell_type": "code",
   "execution_count": 22,
   "id": "1b4dc991-ea3b-47ee-a5c5-169103816a8e",
   "metadata": {},
   "outputs": [
    {
     "name": "stdout",
     "output_type": "stream",
     "text": [
      "Rotates Tuple (1, 2, 3, 4, 5, 20, 22, 6, 7, 8, 9, 10, 12, 18, 15, 16) right of 3 is : (18, 15, 16, 1, 2, 3, 4, 5, 20, 22, 6, 7, 8, 9, 10, 12)\n"
     ]
    }
   ],
   "source": [
    "# 40. Rotate a tuple to the right by `n` positions.\n",
    "\n",
    "def rotate_right(Tuple, n):\n",
    "    n = n%len(Tuple)\n",
    "    rotated_tuple = Tuple[-n:] + Tuple[:-n]\n",
    "    return rotated_tuple\n",
    "\n",
    "Tuple = (1, 2, 3, 4, 5, 20, 22, 6, 7, 8, 9, 10, 12, 18, 15, 16)\n",
    "position = 3\n",
    "Rotated = rotate_right(Tuple, position)\n",
    "print(f\"Rotates Tuple {Tuple} right of {position} is : {Rotated}\")\n"
   ]
  },
  {
   "cell_type": "code",
   "execution_count": 33,
   "id": "10b550ad-1dcb-4104-8200-12bf19857a1a",
   "metadata": {},
   "outputs": [
    {
     "name": "stdout",
     "output_type": "stream",
     "text": [
      "Fibonacci series : (0, 1, 1, 2, 3)\n"
     ]
    }
   ],
   "source": [
    "# 41. Create a tuple of the first 5 Fibonacci numbers.\n",
    "\n",
    "fib1 = 0\n",
    "fib2 = 1\n",
    "Tuple = [0, 1]\n",
    "for i in range(3):\n",
    "    summ = fib1 + fib2\n",
    "    fib1 = fib2\n",
    "    fib2 = summ\n",
    "    Tuple.append(summ)\n",
    "print(f\"Fibonacci series : {tuple(Tuple)}\")"
   ]
  },
  {
   "cell_type": "code",
   "execution_count": 3,
   "id": "eb4bdef8-2c7d-4efd-8f37-c5ab07da4b2b",
   "metadata": {},
   "outputs": [
    {
     "name": "stdin",
     "output_type": "stream",
     "text": [
      "Enter input seprated by , :  pw,skills,ineuron\n"
     ]
    },
    {
     "name": "stdout",
     "output_type": "stream",
     "text": [
      "user input : ('pw', 'skills', 'ineuron')\n"
     ]
    }
   ],
   "source": [
    "# 42. Create a tuple from user input.\n",
    "\n",
    "taking_input = input(\"Enter input seprated by , : \")\n",
    "taking_list = taking_input.split(',')\n",
    "user_tuple = tuple(taking_list)\n",
    "print(f\"user input : {user_tuple}\")\n"
   ]
  },
  {
   "cell_type": "code",
   "execution_count": 6,
   "id": "6d4b21b5-39fc-48c2-9e09-d155dcb01255",
   "metadata": {},
   "outputs": [
    {
     "name": "stdout",
     "output_type": "stream",
     "text": [
      "Swapped Tuple :  (1, 2, 6, 4, 5, 3, 7, 8, 9, 10, 12)\n"
     ]
    }
   ],
   "source": [
    "# 43. Swap two elements in a tuple.\n",
    "\n",
    "Tuple = (1, 2, 3, 4, 5, 6, 7, 8, 9, 10, 12)\n",
    "index1 = 2\n",
    "index2 = 5\n",
    "swapped_tuple = tuple(Tuple[i] if i not in (index1, index2) else\n",
    "                      Tuple[index2] if i == index1 else\n",
    "                      Tuple[index1]\n",
    "                      for i in range(len(Tuple))\n",
    ")\n",
    "print(\"Swapped Tuple : \", swapped_tuple)\n"
   ]
  },
  {
   "cell_type": "code",
   "execution_count": 7,
   "id": "851bb573-5e68-4902-a632-018493cd4115",
   "metadata": {},
   "outputs": [
    {
     "name": "stdout",
     "output_type": "stream",
     "text": [
      "Reversed Tuple :  (12, 10, 9, 8, 7, 6, 5, 4, 3, 2, 1)\n"
     ]
    }
   ],
   "source": [
    "# 44. Reverse the elements of a tuple.\n",
    "\n",
    "Tuple = (1, 2, 3, 4, 5, 6, 7, 8, 9, 10, 12)\n",
    "reverse_tuple = Tuple[::-1]\n",
    "print(\"Reversed Tuple : \",reverse_tuple)\n"
   ]
  },
  {
   "cell_type": "code",
   "execution_count": 9,
   "id": "9939aa47-b954-4424-8b8e-01564e5d40d5",
   "metadata": {},
   "outputs": [
    {
     "name": "stdin",
     "output_type": "stream",
     "text": [
      "Enter the value of n :  7\n"
     ]
    },
    {
     "name": "stdout",
     "output_type": "stream",
     "text": [
      "Tuple of the first 7 powers of 2 : (1, 2, 4, 8, 16, 32, 64)\n"
     ]
    }
   ],
   "source": [
    "# 45. Create a tuple of the first `n` powers of 2.\n",
    "\n",
    "n = int(input(\"Enter the value of n : \"))\n",
    "Tuple = tuple(2**i for i in range(n))\n",
    "print(f\"Tuple of the first {n} powers of 2 : {Tuple}\")\n"
   ]
  },
  {
   "cell_type": "code",
   "execution_count": 10,
   "id": "125bc94a-cef5-437f-9fa4-bf1a3b9bcb16",
   "metadata": {},
   "outputs": [
    {
     "name": "stdout",
     "output_type": "stream",
     "text": [
      "Longest string in a Tuple : pwskills\n"
     ]
    }
   ],
   "source": [
    "# 46. Find the longest string in a tuple of strings.\n",
    "\n",
    "Tuple = ['Convert', 'a', 'tuple', 'pwskills', 'skills', 'of', 'words', 'into', 'a', 'string', 'pw']\n",
    "Tuple = sorted(Tuple, key = len)\n",
    "print(f\"Longest string in a Tuple : {Tuple[-1]}\")\n",
    "\n"
   ]
  },
  {
   "cell_type": "code",
   "execution_count": 12,
   "id": "bc8fa1ab-b3ab-4e3b-ab65-a801cd392aab",
   "metadata": {},
   "outputs": [
    {
     "name": "stdout",
     "output_type": "stream",
     "text": [
      "Shortest string in a Tuple : a\n"
     ]
    }
   ],
   "source": [
    "# 47. Find the shortest string in a tuple of strings.\n",
    "\n",
    "Tuple = ['Convert', 'a', 'tuple', 'pwskills', 'skills', 'of', 'words', 'into', 'a', 'string', 'pw']\n",
    "Tuple = sorted(Tuple, key = len)\n",
    "print(f\"Shortest string in a Tuple : {Tuple[0]}\")\n"
   ]
  },
  {
   "cell_type": "code",
   "execution_count": 13,
   "id": "6a35d271-fc4e-4093-8146-25bb0f855775",
   "metadata": {},
   "outputs": [
    {
     "name": "stdin",
     "output_type": "stream",
     "text": [
      "Enter the value of n :  9\n"
     ]
    },
    {
     "name": "stdout",
     "output_type": "stream",
     "text": [
      "First 9 triangular number : (1, 3, 6, 10, 15, 21, 28, 36, 45)\n"
     ]
    }
   ],
   "source": [
    "# 48. Create a tuple of the first `n` triangular numbers.\n",
    "\n",
    "n = int(input(\"Enter the value of n : \"))\n",
    "triangular_number = tuple(i*(i+1)//2 for i in range(1,n+1))\n",
    "print(f\"First {n} triangular number : {triangular_number}\")\n"
   ]
  },
  {
   "cell_type": "code",
   "execution_count": 17,
   "id": "246569e8-52f5-43e3-b7f3-c3edc24cc66d",
   "metadata": {},
   "outputs": [
    {
     "name": "stdout",
     "output_type": "stream",
     "text": [
      "Tuple contains the subsequence\n"
     ]
    }
   ],
   "source": [
    "# 49. Check if a tuple contains another tuple as a subsequence.\n",
    "\n",
    "Tuple = (1, 2, 3, 4, 5, 6, 7, 5, 8, 9, 10, 11, 12, 15, 18, 20)\n",
    "sub = (1, 2, 3, 5, 6, 8)\n",
    "flag = 0\n",
    "sub_index = 0\n",
    "for i in range(0, len(Tuple)):\n",
    "    if (Tuple[i] == sub[sub_index]):\n",
    "        sub_index += 1\n",
    "        if sub_index == len(sub):\n",
    "            flag = 1\n",
    "            break\n",
    "if(flag == 1):\n",
    "    print(\"Tuple contains the subsequence\")\n",
    "else:\n",
    "    print(\"Tuple not contain subsequence\")\n"
   ]
  },
  {
   "cell_type": "code",
   "execution_count": 4,
   "id": "be639d52-c78f-4a63-b686-812250070146",
   "metadata": {},
   "outputs": [
    {
     "name": "stdin",
     "output_type": "stream",
     "text": [
      "Enter the value of n :  8\n"
     ]
    },
    {
     "name": "stdout",
     "output_type": "stream",
     "text": [
      "Alterating 1s and 0s of length8 : (0, 1, 0, 1, 0, 1, 0, 1)\n"
     ]
    }
   ],
   "source": [
    "# 50. Create a tuple of alternating 1s and 0s of length `n`.\n",
    "\n",
    "n = int(input(\"Enter the value of n : \"))\n",
    "alternating_tuple = tuple(i%2 for i in range(n))\n",
    "print(f\"Alterating 1s and 0s of length{n} : {alternating_tuple}\")\n"
   ]
  },
  {
   "cell_type": "markdown",
   "id": "9fbad419-8e7a-44b4-a87b-b9c22ab9ea73",
   "metadata": {},
   "source": [
    "Set Based Practice Problem :"
   ]
  },
  {
   "cell_type": "code",
   "execution_count": 7,
   "id": "f9aeda59-5718-43c6-a1ac-01a11318e7bc",
   "metadata": {},
   "outputs": [
    {
     "name": "stdout",
     "output_type": "stream",
     "text": [
      "{1, 2, 3, 4, 5}\n"
     ]
    }
   ],
   "source": [
    "# 1. Create a set with integers from 1 to 5.\n",
    "\n",
    "Set = set()\n",
    "for i in range(1, 6):\n",
    "    Set.add(i)\n",
    "print(Set)\n"
   ]
  },
  {
   "cell_type": "code",
   "execution_count": 2,
   "id": "a36398d0-8fa5-4a3a-ba33-c1573a942bd5",
   "metadata": {},
   "outputs": [
    {
     "name": "stdout",
     "output_type": "stream",
     "text": [
      "{1, 2, 3, 4, 5, 6}\n"
     ]
    }
   ],
   "source": [
    "# 2. Add an element to a set.\n",
    "\n",
    "Set = {1, 2, 3, 4, 5}\n",
    "add_element = 6\n",
    "Set.add(add_element)\n",
    "print(Set)\n"
   ]
  },
  {
   "cell_type": "code",
   "execution_count": 6,
   "id": "55952196-fe2b-490b-8860-447c0a3f827e",
   "metadata": {},
   "outputs": [
    {
     "name": "stdout",
     "output_type": "stream",
     "text": [
      "Remove 8 element from Set : {1, 2, 3, 4, 5, 6, 7, 9, 10, 11, 12, 13, 14, 15}\n"
     ]
    }
   ],
   "source": [
    "# 3. Remove an element from a set.\n",
    "\n",
    "Set = {1, 2, 3, 4, 5, 6, 7, 8, 9, 10, 11, 12, 13, 14, 15}\n",
    "remove_element = 8\n",
    "Set.remove(remove_element)\n",
    "print(f\"Remove {remove_element} from Set : {Set}\")\n"
   ]
  },
  {
   "cell_type": "code",
   "execution_count": 10,
   "id": "4c721711-726e-4e5d-94f9-d5ea0e8f2586",
   "metadata": {},
   "outputs": [
    {
     "name": "stdin",
     "output_type": "stream",
     "text": [
      "Enter the element which is exit or not in set :  12\n"
     ]
    },
    {
     "name": "stdout",
     "output_type": "stream",
     "text": [
      "12 is exist in set\n"
     ]
    }
   ],
   "source": [
    "# 4. Check if an element exists in a set.\n",
    "\n",
    "Set = {1, 2, 3, 4, 5, 6, 7, 8, 9, 10, 11, 12, 13, 14, 15}\n",
    "element = int(input(\"Enter the element which is exit or not in set : \"))\n",
    "if element in Set:\n",
    "    print(f\"{element} is exist in set\")\n",
    "else:\n",
    "    print(f\"{element} is not exist in set\")\n"
   ]
  },
  {
   "cell_type": "code",
   "execution_count": 13,
   "id": "790fd7c8-f7eb-4e5e-8857-f54f3326a643",
   "metadata": {},
   "outputs": [
    {
     "name": "stdout",
     "output_type": "stream",
     "text": [
      "Length is 17\n"
     ]
    }
   ],
   "source": [
    "# 5. Find the length of a set without using the `len()` function.\n",
    "\n",
    "Set = {1, 2, 3, 4, 5, 6, 7, 8, 9, 10, 11, 12, 13, 14, 15, 16, 17}\n",
    "Length = 0\n",
    "for i in Set:\n",
    "    Length += 1\n",
    "print(f\"Length is {Length}\")\n"
   ]
  },
  {
   "cell_type": "code",
   "execution_count": 14,
   "id": "0d68dda9-267f-4893-802c-b4fbfa691f11",
   "metadata": {},
   "outputs": [
    {
     "name": "stdout",
     "output_type": "stream",
     "text": [
      "Clear set : set()\n"
     ]
    }
   ],
   "source": [
    "# 6. Clear all elements from a set.\n",
    "\n",
    "Set = {1, 2, 3, 4, 5, 6, 7, 8, 9, 10, 11, 12, 13, 14, 15, 16, 17}\n",
    "Set.clear()\n",
    "print(f\"Clear set : {Set}\")\n"
   ]
  },
  {
   "cell_type": "code",
   "execution_count": 15,
   "id": "cc716d08-8bf0-421d-b32b-510b0a279631",
   "metadata": {},
   "outputs": [
    {
     "name": "stdout",
     "output_type": "stream",
     "text": [
      "Even Numbers : {2, 4, 6, 8, 10}\n"
     ]
    }
   ],
   "source": [
    "# 7. Create a set of even numbers from 1 to 10.\n",
    "\n",
    "Set = set()\n",
    "for i in range(1, 11):\n",
    "    if i%2 == 0:\n",
    "        Set.add(i)\n",
    "print(f\"Even Numbers : {Set}\")\n"
   ]
  },
  {
   "cell_type": "code",
   "execution_count": 16,
   "id": "8656661a-0e71-499d-baaf-362e5ffd14e0",
   "metadata": {},
   "outputs": [
    {
     "name": "stdout",
     "output_type": "stream",
     "text": [
      "Odd Numbers : {1, 3, 5, 7, 9}\n"
     ]
    }
   ],
   "source": [
    "# 8. Create a set of odd numbers from 1 to 10.\n",
    "\n",
    "Set = set()\n",
    "for i in range(1, 11):\n",
    "    if i%2 != 0:\n",
    "        Set.add(i)\n",
    "print(f\"Odd Numbers : {Set}\")\n"
   ]
  },
  {
   "cell_type": "code",
   "execution_count": 19,
   "id": "8e9ef1c8-23a4-4c52-9035-7df14230fcdc",
   "metadata": {},
   "outputs": [
    {
     "name": "stdout",
     "output_type": "stream",
     "text": [
      "Union of {1, 2, 3, 4, 5, 6, 7} and {0, 1, 4, 6, 7, 8, 9} is : {0, 1, 2, 3, 4, 5, 6, 7, 8, 9}\n"
     ]
    }
   ],
   "source": [
    "# 9. Find the union of two sets.\n",
    "\n",
    "set1 = {1, 2, 3, 4, 5, 6, 7}\n",
    "set2 = {4, 6, 7, 1, 8, 9, 0}\n",
    "Set = set1.union(set2)\n",
    "print(f\"Union of {set1} and {set2} is : {Set}\")\n"
   ]
  },
  {
   "cell_type": "code",
   "execution_count": 20,
   "id": "d0c2f8fd-bd90-4201-8f6f-c649f84ecad2",
   "metadata": {},
   "outputs": [
    {
     "name": "stdout",
     "output_type": "stream",
     "text": [
      "Intersection of {1, 2, 3, 4, 5, 6, 7} and {0, 1, 4, 6, 7, 8, 9} is : {1, 4, 6, 7}\n"
     ]
    }
   ],
   "source": [
    "# 10. Find the intersection of two sets.\n",
    "\n",
    "set1 = {1, 2, 3, 4, 5, 6, 7}\n",
    "set2 = {4, 6, 7, 1, 8, 9, 0}\n",
    "Set = set1.intersection(set2)\n",
    "print(f\"Intersection of {set1} and {set2} is : {Set}\")\n"
   ]
  },
  {
   "cell_type": "code",
   "execution_count": 21,
   "id": "319d3ce1-0ae1-44f2-81a9-cf454fed0607",
   "metadata": {},
   "outputs": [
    {
     "name": "stdout",
     "output_type": "stream",
     "text": [
      "Difference : {2, 3, 5}\n"
     ]
    }
   ],
   "source": [
    "# 11. Find the difference between two sets.\n",
    "\n",
    "set1 = {1, 2, 3, 4, 5, 6, 7}\n",
    "set2 = {4, 6, 7, 1, 8, 9, 0}\n",
    "Difference = set1.difference(set2)\n",
    "print(f\"Difference : {Difference}\")\n"
   ]
  },
  {
   "cell_type": "code",
   "execution_count": 22,
   "id": "05a46fc9-6a6f-46e3-b057-148bc2cbc74b",
   "metadata": {},
   "outputs": [
    {
     "name": "stdout",
     "output_type": "stream",
     "text": [
      "{1, 2, 3, 4, 5, 6, 7} is subset of {0, 1, 2, 3, 4, 5, 6, 7, 8, 9} : True\n"
     ]
    }
   ],
   "source": [
    "# 12. Check if a set is a subset of another set.\n",
    "\n",
    "set1 = {1, 2, 3, 4, 5, 6, 7}\n",
    "set2 = {1, 2, 3, 4, 6, 7, 1, 8, 9, 0, 5}\n",
    "is_subset = set1.issubset(set2)\n",
    "print(f\"{set1} is subset of {set2} : {is_subset}\")\n"
   ]
  },
  {
   "cell_type": "code",
   "execution_count": 23,
   "id": "9b98b275-231e-4009-87c8-5b2816027121",
   "metadata": {},
   "outputs": [
    {
     "name": "stdout",
     "output_type": "stream",
     "text": [
      "{1, 2, 3, 4, 5, 6, 7} is superset of {1, 2, 3, 4} : True\n"
     ]
    }
   ],
   "source": [
    "# 13. Check if a set is a superset of another set.\n",
    "\n",
    "set1 = {1, 2, 3, 4, 5, 6, 7}\n",
    "set2 = {1, 2, 3, 4}\n",
    "is_superset = set1.issuperset(set2)\n",
    "print(f\"{set1} is superset of {set2} : {is_subset}\")\n"
   ]
  },
  {
   "cell_type": "code",
   "execution_count": 28,
   "id": "dcb89d74-233a-4c4b-9304-a5c573f02f4b",
   "metadata": {},
   "outputs": [
    {
     "name": "stdout",
     "output_type": "stream",
     "text": [
      "[1, 2, 3, 4, 5, 6, 7, 3, 2, 4, 4, 3, 2, 1, 8, 9] List convert into SET : {1, 2, 3, 4, 5, 6, 7, 8, 9}\n"
     ]
    }
   ],
   "source": [
    "# 14. Create a set from a list.\n",
    "\n",
    "List = [1, 2, 3, 4, 5, 6, 7, 3, 2, 4, 4, 3, 2, 1, 8, 9]\n",
    "Set = set(List)\n",
    "print(f\"{List} List convert into SET : {Set}\")\n"
   ]
  },
  {
   "cell_type": "code",
   "execution_count": 27,
   "id": "18cf029f-14d2-45ed-a868-6712054092f7",
   "metadata": {},
   "outputs": [
    {
     "name": "stdout",
     "output_type": "stream",
     "text": [
      "{1, 2, 3, 4, 5, 6, 7, 8, 9} Set convert into List : [1, 2, 3, 4, 5, 6, 7, 8, 9]\n"
     ]
    }
   ],
   "source": [
    "# 15. Convert a set to a list.\n",
    "\n",
    "Set = {1, 2, 3, 4, 5, 6, 7, 8, 9}\n",
    "List = list(Set)\n",
    "print(f\"{Set} Set convert into List : {List}\")\n"
   ]
  },
  {
   "cell_type": "code",
   "execution_count": 30,
   "id": "07d10ec6-3bce-459c-985e-41e5c1afa586",
   "metadata": {},
   "outputs": [
    {
     "name": "stdout",
     "output_type": "stream",
     "text": [
      "Remove the element 4 from set : {1, 2, 3, 5, 6, 7, 8, 9}\n"
     ]
    }
   ],
   "source": [
    "# 16. Remove a random element from a set.\n",
    "\n",
    "import random\n",
    "Set = {1, 2, 3, 4, 5, 6, 7, 8, 9}\n",
    "random_element = random.choice(list(Set))\n",
    "Set.remove(random_element)\n",
    "print(f\"Remove the element {random_element} from set : {Set}\")\n"
   ]
  },
  {
   "cell_type": "code",
   "execution_count": 31,
   "id": "d4a56670-80e0-4363-9883-c3fb4e28899d",
   "metadata": {},
   "outputs": [
    {
     "name": "stdout",
     "output_type": "stream",
     "text": [
      "Original set : {1, 2, 3, 4, 5, 6, 7, 8, 9}\n",
      "popped element is 1 from Set {2, 3, 4, 5, 6, 7, 8, 9}\n"
     ]
    }
   ],
   "source": [
    "# 17. Pop an element from a set.\n",
    "\n",
    "Set = {1, 2, 3, 4, 5, 6, 7, 8, 9}\n",
    "print(f\"Original set : {Set}\")\n",
    "popped = Set.pop()\n",
    "print(f\"popped element is {popped} from Set {Set}\")\n"
   ]
  },
  {
   "cell_type": "code",
   "execution_count": 37,
   "id": "c538f8f8-4289-4a71-83a4-ea41ba422ed5",
   "metadata": {},
   "outputs": [
    {
     "name": "stdout",
     "output_type": "stream",
     "text": [
      "There is no common element between Sets {1, 2, 3, 4, 5, 6, 7} and {8, 9, 10, 11, 12, 13}\n"
     ]
    }
   ],
   "source": [
    "# 18. Check if two sets have no elements in common.\n",
    "\n",
    "set1 = {1, 2, 3, 4, 5, 6, 7}\n",
    "set2 = {8, 9, 10, 11, 12, 13}\n",
    "flag = 1\n",
    "for i in set1:\n",
    "    if i in set2:\n",
    "        flag = 0\n",
    "if(flag == 1):\n",
    "    print(f\"There is no common element between Sets {set1} and {set2}\")\n",
    "else:\n",
    "    print(f\"There is common element between Sets {set1} and {set2}\")\n"
   ]
  },
  {
   "cell_type": "code",
   "execution_count": 38,
   "id": "d7101f4b-80bc-4815-88e7-bc580375358a",
   "metadata": {},
   "outputs": [
    {
     "name": "stdout",
     "output_type": "stream",
     "text": [
      "Symmetric difference between {1, 2, 3, 4, 5, 6, 7} and {0, 1, 4, 6, 7, 8, 9} is : {0, 2, 3, 5, 8, 9}\n"
     ]
    }
   ],
   "source": [
    "# 19. Find the symmetric difference between two sets.\n",
    "\n",
    "set1 = {1, 2, 3, 4, 5, 6, 7}\n",
    "set2 = {4, 6, 7, 1, 8, 9, 0}\n",
    "symmetric_difference = set1^set2\n",
    "print(f\"Symmetric difference between {set1} and {set2} is : {symmetric_difference}\")\n"
   ]
  },
  {
   "cell_type": "code",
   "execution_count": 39,
   "id": "da27b60e-438f-4e49-a0bf-5def2e4c1c71",
   "metadata": {},
   "outputs": [
    {
     "name": "stdout",
     "output_type": "stream",
     "text": [
      "Updated set : {0, 1, 2, 3, 4, 5, 6, 7, 8, 9}\n"
     ]
    }
   ],
   "source": [
    "# 20. Update a set with elements from another set.\n",
    "\n",
    "set1 = {1, 2, 3, 4, 5, 6, 7}\n",
    "set2 = {4, 6, 7, 1, 8, 9, 0}\n",
    "set1.update(set2)\n",
    "print(f\"Updated set : {set1}\")\n"
   ]
  },
  {
   "cell_type": "code",
   "execution_count": 13,
   "id": "bb934809-0903-4486-8983-caab2922c06d",
   "metadata": {},
   "outputs": [
    {
     "name": "stdout",
     "output_type": "stream",
     "text": [
      "{2, 3, 5, 7, 11}\n"
     ]
    }
   ],
   "source": [
    "# 21. Create a set of the first 5 prime numbers.\n",
    "\n",
    "Set = set()\n",
    "for i in range(2, 100):\n",
    "    if i == 2:\n",
    "        Set.add(i)\n",
    "    else:\n",
    "        for j in range(2, i):\n",
    "            if i%j == 0:\n",
    "                break\n",
    "            elif j == i - 1:\n",
    "                Set.add(i)\n",
    "prime = set()\n",
    "count = 0\n",
    "for i in Set:\n",
    "    prime.add(i)\n",
    "    count += 1\n",
    "    if count == 5:\n",
    "        break\n",
    "print(prime)\n"
   ]
  },
  {
   "cell_type": "code",
   "execution_count": 14,
   "id": "8fe13faf-888d-4282-92ba-e1019d3cab1e",
   "metadata": {},
   "outputs": [
    {
     "name": "stdout",
     "output_type": "stream",
     "text": [
      "Set1 and Set2 are identical\n"
     ]
    }
   ],
   "source": [
    "# 22. Check if two sets are identical.\n",
    "\n",
    "set1 = {1, 2, 3, 4, 5, 6, 7}\n",
    "set2 = {4, 6, 7, 1, 5, 2, 3}\n",
    "if set1 == set2:\n",
    "    print(f\"Set1 and Set2 are identical\")\n",
    "else:\n",
    "    print(f\"Set1 and Set2 are not identical\")\n",
    "\n"
   ]
  },
  {
   "cell_type": "code",
   "execution_count": 15,
   "id": "78640544-7956-4658-8299-af685cb6958b",
   "metadata": {},
   "outputs": [
    {
     "name": "stdout",
     "output_type": "stream",
     "text": [
      "Frozenset : frozenset({1, 2, 3, 4, 5, 6, 7, 8, 9})\n"
     ]
    }
   ],
   "source": [
    "# 23. Create a frozen set.\n",
    "\n",
    "List = [1, 2, 3, 4, 5, 6, 7, 8, 9]\n",
    "frozen_set = frozenset(List)\n",
    "print(f\"Frozenset : {frozen_set}\")\n"
   ]
  },
  {
   "cell_type": "code",
   "execution_count": 2,
   "id": "e2610527-7355-42ca-b15b-039d98151746",
   "metadata": {},
   "outputs": [
    {
     "name": "stdout",
     "output_type": "stream",
     "text": [
      "set1 {1, 2, 3, 4, 5, 6, 7} and set2 {0, 1, 4, 6, 7, 8, 9} are not Disjoint\n"
     ]
    }
   ],
   "source": [
    "# 24. Check if a set is disjoint with another set.\n",
    "\n",
    "set1 = {1, 2, 3, 4, 5, 6, 7}\n",
    "set2 = {4, 6, 7, 1, 8, 9, 0}\n",
    "is_disjoint = set1.isdisjoint(set2)\n",
    "if is_disjoint:\n",
    "    print(f\"set1 {set1} and set2 {set2} are Disjoint\")\n",
    "else:\n",
    "    print(f\"set1 {set1} and set2 {set2} are not Disjoint\")\n"
   ]
  },
  {
   "cell_type": "code",
   "execution_count": 3,
   "id": "ff3cbd65-2aa3-4bda-b077-b31c7a29242d",
   "metadata": {},
   "outputs": [
    {
     "name": "stdout",
     "output_type": "stream",
     "text": [
      "{1, 4, 9, 16, 25}\n"
     ]
    }
   ],
   "source": [
    "# 25. Create a set of squares of numbers from 1 to 5.\n",
    "\n",
    "Set = set()\n",
    "for i in range(1, 6):\n",
    "    Set.add(i**2)\n",
    "print(Set)\n"
   ]
  },
  {
   "cell_type": "code",
   "execution_count": 7,
   "id": "88561593-3d7f-412b-b496-fd87f9cc8e03",
   "metadata": {},
   "outputs": [
    {
     "name": "stdout",
     "output_type": "stream",
     "text": [
      "Filter out all even numbers from set {1, 2, 3, 4, 5, 6, 7, 8, 9, 10, 11, 12} is : {1, 3, 5, 7, 9, 11}\n"
     ]
    }
   ],
   "source": [
    "# 26. Filter out all even numbers from a set.\n",
    "\n",
    "Set = {1, 2, 3, 4, 5, 6, 7, 8, 9, 10, 11, 12}\n",
    "odd_num = set()\n",
    "for i in Set:\n",
    "    if i%2 != 0:\n",
    "        odd_num.add(i)\n",
    "print(f\"Filter out all even numbers from set {Set} is : {odd_num}\")\n"
   ]
  },
  {
   "cell_type": "code",
   "execution_count": 8,
   "id": "9a53863e-b403-481b-affe-0a03e32a5765",
   "metadata": {},
   "outputs": [
    {
     "name": "stdout",
     "output_type": "stream",
     "text": [
      "{2, 4, 6, 8, 10, 12, 14}\n"
     ]
    }
   ],
   "source": [
    "# 27. Multiply all elements in a set by 2.\n",
    "\n",
    "Set = {1, 2, 3, 4, 5, 6, 7}\n",
    "mul = set(i*2 for i in Set)\n",
    "print(mul)\n"
   ]
  },
  {
   "cell_type": "code",
   "execution_count": 11,
   "id": "23712976-ab25-4352-b8c5-eaad63d7baed",
   "metadata": {},
   "outputs": [
    {
     "name": "stdout",
     "output_type": "stream",
     "text": [
      "Random set : {194, 38, 135, 200, 71, 199, 48, 83, 181, 57}\n"
     ]
    }
   ],
   "source": [
    "# 28. Create a set of random numbers.\n",
    "\n",
    "import random\n",
    "Set = set()\n",
    "for i in range(10):\n",
    "    random_number = random.randint(1, 200)\n",
    "    Set.add(random_number)\n",
    "print(f\"Random set : {Set}\")\n"
   ]
  },
  {
   "cell_type": "code",
   "execution_count": 14,
   "id": "a8110020-d217-4702-a79e-d9418226be46",
   "metadata": {},
   "outputs": [
    {
     "name": "stdout",
     "output_type": "stream",
     "text": [
      "Set1 is empty\n",
      "Set2 is not empty\n"
     ]
    }
   ],
   "source": [
    "# 29. Check if a set is empty.\n",
    "\n",
    "Set1 = set()\n",
    "if not Set:\n",
    "    print(\"Set1 is empty\")\n",
    "else:\n",
    "    print(\"Set1 is not empty\")\n",
    "\n",
    "Set2 = {2, 3, 4, 5, 6}\n",
    "if not Set2:\n",
    "    print(\"Set2 is empty\")\n",
    "else:\n",
    "    print(\"Set2 is not empty\")\n",
    "\n"
   ]
  },
  {
   "cell_type": "code",
   "execution_count": 15,
   "id": "334910d3-a28e-43fb-82c8-ce2402e4c441",
   "metadata": {},
   "outputs": [
    {
     "name": "stdout",
     "output_type": "stream",
     "text": [
      "Nested Set : {frozenset({0, 1, 4, 6, 7, 8, 9}), frozenset({1, 2, 3, 4, 5, 6, 7})}\n"
     ]
    }
   ],
   "source": [
    "# 30. Create a nested set (hint: use frozenset).\n",
    "\n",
    "set1 = {1, 2, 3, 4, 5, 6, 7}\n",
    "set2 = {4, 6, 7, 1, 8, 9, 0}\n",
    "\n",
    "frozenset1 = frozenset(set1)\n",
    "frozenset2 = frozenset(set2)\n",
    "\n",
    "nested_set = {frozenset(set1), frozenset(set2)}\n",
    "print(f\"Nested Set : {nested_set}\")\n"
   ]
  },
  {
   "cell_type": "code",
   "execution_count": 3,
   "id": "4bccadbe-30d5-46d3-8cfe-d92586624cd7",
   "metadata": {},
   "outputs": [
    {
     "name": "stdout",
     "output_type": "stream",
     "text": [
      "Discard element 7 from Set : {1, 2, 3, 4, 5, 6, 8, 9}\n"
     ]
    }
   ],
   "source": [
    "# 31. Remove an element from a set using the discard method.\n",
    "\n",
    "Set = {1, 2, 3, 4, 5, 6, 7, 8, 9}\n",
    "discard_element = 7\n",
    "Set.discard(discard_element)\n",
    "print(f\"Discard element {discard_element} from Set : {Set}\")\n"
   ]
  },
  {
   "cell_type": "code",
   "execution_count": 6,
   "id": "1e604f63-77c9-48cf-a260-712fe141f847",
   "metadata": {},
   "outputs": [
    {
     "name": "stdout",
     "output_type": "stream",
     "text": [
      "set1 : {1, 2, 3, 4, 5, 6}\n",
      "set2 : {1, 2, 3, 4, 5, 6, 7, 8, 9, 10, 11, 12}\n",
      "set1 is subset of set2 : True\n",
      "set2 is superset of set1 : True\n",
      "Intersection Element : {1, 2, 3, 4, 5, 6}\n",
      "Union Element between set1 and set2 : {1, 2, 3, 4, 5, 6, 7, 8, 9, 10, 11, 12}\n",
      "Elements in set1 but not in set2 : set()\n",
      "Elements in set2 but not in set1 : {7, 8, 9, 10, 11, 12}\n"
     ]
    }
   ],
   "source": [
    "# 32. Compare two sets.\n",
    "\n",
    "set1 = {1, 2, 3, 4, 5, 6}\n",
    "set2 = {1, 2, 3, 4, 5, 6, 7, 8, 9, 10, 11, 12}\n",
    "\n",
    "is_subset = set1.issubset(set2)\n",
    "is_superset = set2.issuperset(set1)\n",
    "\n",
    "intersection = set1.intersection(set2)\n",
    "union = set1.union(set2)\n",
    "\n",
    "difference1 = set1.difference(set2)\n",
    "difference2 = set2.difference(set1)\n",
    "\n",
    "print(f\"set1 : {set1}\")\n",
    "print(f\"set2 : {set2}\")\n",
    "print(f\"set1 is subset of set2 : {is_subset}\")\n",
    "print(f\"set2 is superset of set1 : {is_superset}\")\n",
    "print(f\"Intersection Element : {intersection}\")\n",
    "print(f\"Union Element between set1 and set2 : {union}\")\n",
    "print(f\"Elements in set1 but not in set2 : {difference1}\")\n",
    "print(f\"Elements in set2 but not in set1 : {difference2}\")\n"
   ]
  },
  {
   "cell_type": "code",
   "execution_count": 7,
   "id": "f068956a-2fa3-4c10-a126-7eaf399e35b6",
   "metadata": {},
   "outputs": [
    {
     "name": "stdout",
     "output_type": "stream",
     "text": [
      "{'k', 'l', 's', 'p', 'i', 'w'}\n"
     ]
    }
   ],
   "source": [
    "# 33. Create a set from a string.\n",
    "\n",
    "string = \"pwskills\"\n",
    "Set = set(string)\n",
    "print(Set)\n"
   ]
  },
  {
   "cell_type": "code",
   "execution_count": 11,
   "id": "1b23b676-0cbc-41d1-a8c9-8119e2af0bf6",
   "metadata": {},
   "outputs": [
    {
     "name": "stdout",
     "output_type": "stream",
     "text": [
      "Set of Integer : {357, 456, 789, 246, 123}\n"
     ]
    }
   ],
   "source": [
    "# 34. Convert a set of strings to a set of integers.\n",
    "\n",
    "String = {\"123\", \"456\", \"789\", \"246\", \"357\"}\n",
    "Integer = set()\n",
    "for i in String:\n",
    "    Integer.add(int(i))\n",
    "print(f\"Set of Integer : {Integer}\")\n"
   ]
  },
  {
   "cell_type": "code",
   "execution_count": 10,
   "id": "c11f9439-2196-406b-8ace-b754a951b726",
   "metadata": {},
   "outputs": [
    {
     "name": "stdout",
     "output_type": "stream",
     "text": [
      "Set of string : {'123', '789', '456', '246', '357'}\n"
     ]
    }
   ],
   "source": [
    "# 35. Convert a set of integers to a set of strings.\n",
    "\n",
    "Integer = {357, 456, 789, 246, 123}\n",
    "String = set()\n",
    "for i in Integer:\n",
    "    String.add(str(i))\n",
    "print(f\"Set of string : {String}\")\n"
   ]
  },
  {
   "cell_type": "code",
   "execution_count": 12,
   "id": "f01928c1-2f8c-4f24-9ed1-1ecff0ba0324",
   "metadata": {},
   "outputs": [
    {
     "name": "stdout",
     "output_type": "stream",
     "text": [
      "{1, 2, 3, 4, 5, 6, 7, 8, 9}\n"
     ]
    }
   ],
   "source": [
    "# 36. Create a set from a tuple.\n",
    "\n",
    "Tuple = (1, 2, 3, 4, 5, 6, 7, 8, 9)\n",
    "Set = set(Tuple)\n",
    "print(Set)\n"
   ]
  },
  {
   "cell_type": "code",
   "execution_count": 13,
   "id": "77ebc6a1-2afa-412b-8b42-66c5b1513a63",
   "metadata": {},
   "outputs": [
    {
     "name": "stdout",
     "output_type": "stream",
     "text": [
      "(1, 2, 3, 4, 5, 6, 7, 8, 9)\n"
     ]
    }
   ],
   "source": [
    "# 37. Convert a set to a tuple.\n",
    "\n",
    "Set = {1, 2, 3, 4, 5, 6, 7, 8, 9}\n",
    "Tuple = tuple(Set)\n",
    "print(Tuple)\n"
   ]
  },
  {
   "cell_type": "code",
   "execution_count": 14,
   "id": "695a288b-19ed-4095-acb9-91dc27c6513f",
   "metadata": {},
   "outputs": [
    {
     "name": "stdout",
     "output_type": "stream",
     "text": [
      "Maximum Element in Set : 987\n"
     ]
    }
   ],
   "source": [
    "# 38. Find the maximum value in a set.\n",
    "\n",
    "Set = {357, 456, 789, 246, 123, 157, 468, 987, 99, 932}\n",
    "Max = -99999999\n",
    "for i in Set:\n",
    "    if i > Max:\n",
    "        Max = i\n",
    "print(f\"Maximum Element in Set : {Max}\")\n"
   ]
  },
  {
   "cell_type": "code",
   "execution_count": 15,
   "id": "52383590-af00-49fe-8918-d32f477d04bc",
   "metadata": {},
   "outputs": [
    {
     "name": "stdout",
     "output_type": "stream",
     "text": [
      "Minimum Element in Set : 99\n"
     ]
    }
   ],
   "source": [
    "# 39. Find the minimum value in a set.\n",
    "\n",
    "Set = {357, 456, 789, 246, 123, 157, 468, 987, 99, 932}\n",
    "Min = 99999999\n",
    "for i in Set:\n",
    "    if i < Min:\n",
    "        Min = i\n",
    "print(f\"Minimum Element in Set : {Min}\")\n"
   ]
  },
  {
   "cell_type": "code",
   "execution_count": 20,
   "id": "c10cf26c-40c9-4d89-9a3d-6385d2ba9e6c",
   "metadata": {},
   "outputs": [
    {
     "name": "stdout",
     "output_type": "stream",
     "text": [
      "Enter the element if ('done' enter) finished \n"
     ]
    },
    {
     "name": "stdin",
     "output_type": "stream",
     "text": [
      "Enter the input :  pw\n",
      "Enter the input :  skills\n",
      "Enter the input :  sudh\n",
      "Enter the input :  hii\n",
      "Enter the input :  done\n"
     ]
    },
    {
     "name": "stdout",
     "output_type": "stream",
     "text": [
      "User Set : {'pw', 'skills', 'hii', 'sudh'}\n"
     ]
    }
   ],
   "source": [
    "# 40. Create a set from user input.\n",
    "\n",
    "Set = set()\n",
    "print(\"Enter the element if ('done' enter) finished \")\n",
    "\n",
    "while True:\n",
    "    Input = input(\"Enter the input : \")\n",
    "    if Input.lower() == \"done\":\n",
    "        break\n",
    "    Set.add(Input)\n",
    "print(f\"User Set : {Set}\")\n",
    "    \n"
   ]
  },
  {
   "cell_type": "code",
   "execution_count": 21,
   "id": "c87f3174-186f-4a35-a2e9-165d26db7773",
   "metadata": {},
   "outputs": [
    {
     "name": "stdout",
     "output_type": "stream",
     "text": [
      "Intersection of two sets is empty\n"
     ]
    }
   ],
   "source": [
    "# 41. Check if the intersection of two sets is empty.\n",
    "\n",
    "set1 = {1, 2, 3, 4, 5, 6, 7}\n",
    "set2 = {8, 9, 10, 11, 12, 13, 14}\n",
    "Intersection = set1.intersection(set2)\n",
    "if not Intersection:\n",
    "    print(\"Intersection of two sets is empty\")\n",
    "else:\n",
    "    print(\"Intersection of two sets is not empty\")\n"
   ]
  },
  {
   "cell_type": "code",
   "execution_count": 22,
   "id": "a044f4f6-7fb8-4fef-bc77-e58e85b022e6",
   "metadata": {},
   "outputs": [
    {
     "name": "stdout",
     "output_type": "stream",
     "text": [
      "First 5 Fibonacci numbers : {1, 2, 3, 5, 8}\n"
     ]
    }
   ],
   "source": [
    "# 42. Create a set of the first 5 Fibonacci numbers.\n",
    "\n",
    "Set = set()\n",
    "fib1 = 0\n",
    "fib2 = 1\n",
    "for i in range(5):\n",
    "    Sum = fib1 + fib2\n",
    "    fib1 = fib2\n",
    "    fib2 = Sum\n",
    "    Set.add(Sum)\n",
    "print(f\"First 5 Fibonacci numbers : {Set}\")\n"
   ]
  },
  {
   "cell_type": "code",
   "execution_count": 23,
   "id": "233e85de-cc96-4e51-8056-5e0c4afa5c00",
   "metadata": {},
   "outputs": [
    {
     "name": "stdout",
     "output_type": "stream",
     "text": [
      "Unique List : [1, 2, 3, 4, 5, 6]\n"
     ]
    }
   ],
   "source": [
    "# 43. Remove duplicates from a list using sets.\n",
    "\n",
    "List = [1, 2, 3, 4, 5, 6, 3, 2, 1, 4, 2, 3, 1, 2, 3]\n",
    "remove_dublicate = set(List)\n",
    "new_list = list(remove_dublicate)\n",
    "print(f\"Unique List : {new_list}\")\n"
   ]
  },
  {
   "cell_type": "code",
   "execution_count": 2,
   "id": "40d6f179-1e4c-4a93-a999-2550dc512a00",
   "metadata": {},
   "outputs": [
    {
     "name": "stdout",
     "output_type": "stream",
     "text": [
      "Same Element\n"
     ]
    }
   ],
   "source": [
    "# 44. Check if two sets have the same elements, regardless of their count.\n",
    "\n",
    "set1 = {1, 2, 3, 4, 5, 6, 7, 7, 7, 7}\n",
    "set2 = {4, 6, 3, 2, 7, 1, 5, 1, 3}\n",
    "\n",
    "s1 = sorted(set1)\n",
    "s2 = sorted(set2)\n",
    "\n",
    "if s1 == s2:\n",
    "    print(\"Same Element\")\n",
    "else:\n",
    "    print(\"Not Same Element\")\n",
    "\n"
   ]
  },
  {
   "cell_type": "code",
   "execution_count": 4,
   "id": "cb0d0fe4-4ebe-412d-bf30-23014570550f",
   "metadata": {},
   "outputs": [
    {
     "name": "stdin",
     "output_type": "stream",
     "text": [
      "Enter the value of n :  9\n"
     ]
    },
    {
     "name": "stdout",
     "output_type": "stream",
     "text": [
      "[1, 2, 4, 8, 16, 32, 64, 128, 256, 512]\n"
     ]
    }
   ],
   "source": [
    "# 45. Create a set of the first `n` powers of 2.\n",
    "\n",
    "Set = set()\n",
    "n = int(input(\"Enter the value of n : \"))\n",
    "for i in range(n+1):\n",
    "    Set.add(2**i)\n",
    "print(sorted(Set))\n"
   ]
  },
  {
   "cell_type": "code",
   "execution_count": 5,
   "id": "2718edde-4b6d-46af-bf51-cc65077bfc5d",
   "metadata": {},
   "outputs": [
    {
     "name": "stdout",
     "output_type": "stream",
     "text": [
      "Common element between set and list : {1, 2, 3, 4, 5, 6}\n"
     ]
    }
   ],
   "source": [
    "# 46. Find the common elements between a set and a list.\n",
    "\n",
    "Set = {1, 2, 3, 4, 5, 6, 7, 8, 9}\n",
    "List = [1, 2, 3, 4, 5, 6, 3, 2, 1, 4, 2, 3, 1, 2, 3]\n",
    "common_element = set()\n",
    "for i in Set:\n",
    "    if i in List:\n",
    "        common_element.add(i)\n",
    "print(f\"Common element between set and list : {common_element}\")\n"
   ]
  },
  {
   "cell_type": "code",
   "execution_count": 9,
   "id": "b6c83d9f-73de-4887-8ecd-d9612c13c5d2",
   "metadata": {},
   "outputs": [
    {
     "name": "stdin",
     "output_type": "stream",
     "text": [
      "Enter the value of n :  9\n"
     ]
    },
    {
     "name": "stdout",
     "output_type": "stream",
     "text": [
      "First 9 triangular number : {1, 3, 36, 6, 10, 45, 15, 21, 28}\n"
     ]
    }
   ],
   "source": [
    "# 47. Create a set of the first `n` triangular numbers.\n",
    "\n",
    "Set = set()\n",
    "n = int(input(\"Enter the value of n : \"))\n",
    "Sum = 0\n",
    "for i in range(1, n+1):\n",
    "    Sum += i\n",
    "    Set.add(Sum)\n",
    "print(f\"First {n} triangular number : {Set}\")\n"
   ]
  },
  {
   "cell_type": "code",
   "execution_count": 12,
   "id": "2a7c9f58-6e90-4eb4-9ad8-f1a6f4ed9f87",
   "metadata": {},
   "outputs": [
    {
     "name": "stdout",
     "output_type": "stream",
     "text": [
      "set2 {1, 4, 5, 7, 9} is subset of set1 : {1, 2, 3, 4, 5, 6, 7, 8, 9}\n"
     ]
    }
   ],
   "source": [
    "# 48. Check if a set contains another set as a subset.\n",
    "\n",
    "set1 = {1, 2, 3, 4, 5, 6, 7, 8, 9}\n",
    "set2 = {4, 5, 7, 9, 1}\n",
    "\n",
    "is_subset = set2.issubset(set1)\n",
    "\n",
    "if is_subset:\n",
    "    print(f\"set2 {set2} is subset of set1 : {set1}\")\n",
    "else:\n",
    "    print(f\"set2 {set2} is not subset of set1 : {set1}\")\n"
   ]
  },
  {
   "cell_type": "code",
   "execution_count": 13,
   "id": "3233d318-b4b7-4765-8571-d849f452b5e0",
   "metadata": {},
   "outputs": [
    {
     "name": "stdin",
     "output_type": "stream",
     "text": [
      "Enter the value of n :  9\n"
     ]
    },
    {
     "name": "stdout",
     "output_type": "stream",
     "text": [
      "{0, 1}\n"
     ]
    }
   ],
   "source": [
    "# 49. Create a set of alternating 1s and 0s of length `n`.\n",
    "\n",
    "Set = set()\n",
    "n = int(input(\"Enter the value of n : \"))\n",
    "for i in range(n):\n",
    "    Set.add(i%2)\n",
    "print(Set)\n"
   ]
  },
  {
   "cell_type": "code",
   "execution_count": 1,
   "id": "e76d7ab4-38c3-4500-9072-c3d69ed09a14",
   "metadata": {},
   "outputs": [
    {
     "name": "stdout",
     "output_type": "stream",
     "text": [
      "Merged set : {1, 2, 3, 4, 5, 6, 7, 8, 9, 10, 11, 12, 13, 14, 15, 16, 17, 18, 19, 20, 21, 22, 23, 24, 25, 26, 27}\n"
     ]
    }
   ],
   "source": [
    "# 50. Merge multiple sets into one.\n",
    "\n",
    "set1 = {1, 2, 3, 4, 5, 6, 7, 8, 9}\n",
    "set2 = {4, 5, 7, 9, 1, 10, 11, 15, 13, 18, 17}\n",
    "set3 = {4, 7, 9, 11, 12, 14, 16, 19, 18}\n",
    "set4 = {20, 21, 22, 23, 24, 25, 26, 27}\n",
    "\n",
    "merge_set = set1.union(set2, set3, set4)\n",
    "print(f\"Merged set : {merge_set}\")\n",
    "\n"
   ]
  }
 ],
 "metadata": {
  "kernelspec": {
   "display_name": "Python 3 (ipykernel)",
   "language": "python",
   "name": "python3"
  },
  "language_info": {
   "codemirror_mode": {
    "name": "ipython",
    "version": 3
   },
   "file_extension": ".py",
   "mimetype": "text/x-python",
   "name": "python",
   "nbconvert_exporter": "python",
   "pygments_lexer": "ipython3",
   "version": "3.10.8"
  }
 },
 "nbformat": 4,
 "nbformat_minor": 5
}
