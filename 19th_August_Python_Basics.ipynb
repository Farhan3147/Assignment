{
 "cells": [
  {
   "cell_type": "markdown",
   "id": "c1a009f0-8c40-4b9e-a945-508fac1858a8",
   "metadata": {},
   "source": [
    "Assignment Basics Variable"
   ]
  },
  {
   "cell_type": "code",
   "execution_count": 1,
   "id": "7a364355-d1c8-41b1-bf1e-230275791ce5",
   "metadata": {},
   "outputs": [
    {
     "data": {
      "text/plain": [
       "('Swap x and y : ', 15, 10)"
      ]
     },
     "execution_count": 1,
     "metadata": {},
     "output_type": "execute_result"
    }
   ],
   "source": [
    "# ' 1. Declare two variables, `x` and `y`, and assign them integer values. Swap the values of these variables without using any temporary variable.'''\n",
    "x = 10       # assign the value 10 in variable x.\n",
    "y = 15       # assign the value 15 in variable y.\n",
    "x = x + y    # assign the sum values of x and y in variable x.\n",
    "y = x - y    # assign the value of x into y.\n",
    "x = x - y    # assign the value of y into x.\n",
    "\"Swap x and y : \" , x , y        # print the swap value x and y."
   ]
  },
  {
   "cell_type": "code",
   "execution_count": 3,
   "id": "bb10a142-803e-4e94-bf2d-faf283e869bf",
   "metadata": {},
   "outputs": [
    {
     "name": "stdin",
     "output_type": "stream",
     "text": [
      " 34\n",
      " 4\n"
     ]
    },
    {
     "data": {
      "text/plain": [
       "('Area : ', 136)"
      ]
     },
     "execution_count": 3,
     "metadata": {},
     "output_type": "execute_result"
    }
   ],
   "source": [
    "# 2. Create a program that calculates the area of a rectangle. Take the length and width as inputs from the user and stolengththem in variables. Calculate and display the area.\n",
    "\n",
    "Length = int(input())   # Take length input from user.\n",
    "width = int(input())    # Take width input from user.\n",
    "Area = Length*width     # calculate the area of rectangular.\n",
    "\"Area : \" , Area        # Print the area of rectangular."
   ]
  },
  {
   "cell_type": "code",
   "execution_count": 4,
   "id": "b8ba6b30-4162-4ea8-a4c9-63e5ee0e9a24",
   "metadata": {},
   "outputs": [
    {
     "name": "stdin",
     "output_type": "stream",
     "text": [
      " 54\n"
     ]
    },
    {
     "data": {
      "text/plain": [
       "('Fahrenheit value', 129.2)"
      ]
     },
     "execution_count": 4,
     "metadata": {},
     "output_type": "execute_result"
    }
   ],
   "source": [
    "# 3. Write a Python program that converts temperatures from Celsius to Fahrenheit. Take the temperature in Celsius as input, store it in a variable, convert it to Fahrenheit, and display the result.\n",
    "\n",
    "celsius = int(input())                # Take input in celsius.\n",
    "fahrenheit = (180/100)*celsius + 32   # Convert the celsius value into fahrenheit.\n",
    "\"Fahrenheit value\" , fahrenheit       # Print the Fahrenheit value."
   ]
  },
  {
   "cell_type": "markdown",
   "id": "2cef050b-29fd-468f-ada5-f7ce976ba5c1",
   "metadata": {},
   "source": [
    "String Based Questions"
   ]
  },
  {
   "cell_type": "code",
   "execution_count": 5,
   "id": "3d5f5b46-a705-423d-984b-5602f81cebc2",
   "metadata": {},
   "outputs": [
    {
     "name": "stdin",
     "output_type": "stream",
     "text": [
      " gjvmhjbk,\n"
     ]
    },
    {
     "data": {
      "text/plain": [
       "9"
      ]
     },
     "execution_count": 5,
     "metadata": {},
     "output_type": "execute_result"
    }
   ],
   "source": [
    "# 1. Write a Python program that takes a string as input and prints the length of the string.\n",
    "\n",
    "length = len(input())  # Take input string.\n",
    "length                 # Print the length of string."
   ]
  },
  {
   "cell_type": "code",
   "execution_count": 6,
   "id": "e8370285-9c85-4cf8-846f-78616b66880c",
   "metadata": {},
   "outputs": [
    {
     "name": "stdin",
     "output_type": "stream",
     "text": [
      " hvkjiiun\n"
     ]
    },
    {
     "name": "stdout",
     "output_type": "stream",
     "text": [
      "3\n"
     ]
    }
   ],
   "source": [
    "# 2. Create a program that takes a sentence from the user and counts the number of vowels (a, e, i, o, u) in the string.\n",
    "Sentence = input()      # take the input sequence\n",
    "vowels = \"aeiouAEIOU\"   # vowels\n",
    "count = sum(Sentence.count(vowel) for vowel in vowels) # increment the count variable if vowel occur.\n",
    "print(count)                                           #print count.\n"
   ]
  },
  {
   "cell_type": "code",
   "execution_count": 7,
   "id": "ae4a0dc3-512d-4d81-a4f0-fb96ed0d5aff",
   "metadata": {},
   "outputs": [
    {
     "data": {
      "text/plain": [
       "('Pwskills', 'sllikswP')"
      ]
     },
     "execution_count": 7,
     "metadata": {},
     "output_type": "execute_result"
    }
   ],
   "source": [
    "# 3. Given a string, reverse the order of characters using string slicing and print the reversed string.\n",
    "\n",
    "string = \"Pwskills\"        # take the string.\n",
    "reverse = string[::-1]     # reverse all the character using string slicing.\n",
    "string , reverse           # print the original string as well as reverse string.\n"
   ]
  },
  {
   "cell_type": "code",
   "execution_count": 8,
   "id": "8cdfbc54-0ba0-4853-8fc6-408aaabac19b",
   "metadata": {},
   "outputs": [
    {
     "name": "stdin",
     "output_type": "stream",
     "text": [
      " mgnhjb,\n"
     ]
    },
    {
     "data": {
      "text/plain": [
       "False"
      ]
     },
     "execution_count": 8,
     "metadata": {},
     "output_type": "execute_result"
    }
   ],
   "source": [
    "# 4. Write a program that takes a string as input and checks if it is a palindrome (reads the same forwards and backwards).\n",
    "\n",
    "string = input()         # take the input string\n",
    "reverse = string[::-1]   # Reverse the string using string slicing operation\n",
    "string == reverse        # If input string and reverse string are equal then string is palindrome otherwise not.\n",
    "                         # if string is palindrome return true else false."
   ]
  },
  {
   "cell_type": "code",
   "execution_count": 9,
   "id": "0e9cb90c-0820-4e0e-9b7e-ebf4aab14ff8",
   "metadata": {},
   "outputs": [
    {
     "name": "stdin",
     "output_type": "stream",
     "text": [
      " hmhv   \n"
     ]
    },
    {
     "data": {
      "text/plain": [
       "('Input String :', 'hmhv   ', 'Output String :', 'hmhv')"
      ]
     },
     "execution_count": 9,
     "metadata": {},
     "output_type": "execute_result"
    }
   ],
   "source": [
    "# 5. Create a program that takes a string as input and removes all the spaces from it. Print the modified string without spaces.\n",
    "\n",
    "string = input()                                     # Take the input String.\n",
    "rs = string.replace(\" \",\"\")                          # Use inbuilt function to replace spaces with null.\n",
    "\"Input String :\" ,string , \"Output String :\" , rs    # print input and output string.\n"
   ]
  },
  {
   "cell_type": "code",
   "execution_count": null,
   "id": "7bedf422-8230-44f9-810b-7961c9adf647",
   "metadata": {},
   "outputs": [],
   "source": []
  }
 ],
 "metadata": {
  "kernelspec": {
   "display_name": "Python 3 (ipykernel)",
   "language": "python",
   "name": "python3"
  },
  "language_info": {
   "codemirror_mode": {
    "name": "ipython",
    "version": 3
   },
   "file_extension": ".py",
   "mimetype": "text/x-python",
   "name": "python",
   "nbconvert_exporter": "python",
   "pygments_lexer": "ipython3",
   "version": "3.10.8"
  }
 },
 "nbformat": 4,
 "nbformat_minor": 5
}
