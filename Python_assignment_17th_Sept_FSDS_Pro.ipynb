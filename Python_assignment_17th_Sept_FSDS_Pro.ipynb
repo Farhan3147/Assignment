{
 "cells": [
  {
   "cell_type": "markdown",
   "id": "3232cb16-b098-43d6-9d38-dc14295dd019",
   "metadata": {},
   "source": [
    "## Python assignment 17th Sept FSDS Pro"
   ]
  },
  {
   "cell_type": "markdown",
   "id": "d90ff2c0-8a3d-4d5b-873c-0410e8875cc3",
   "metadata": {},
   "source": [
    "# For Loop :-"
   ]
  },
  {
   "cell_type": "code",
   "execution_count": 2,
   "id": "7b2ab617-2665-4eb3-880e-1d284420e3d7",
   "metadata": {},
   "outputs": [
    {
     "name": "stdout",
     "output_type": "stream",
     "text": [
      "1 2 3 4 5 6 7 8 9 10 "
     ]
    }
   ],
   "source": [
    "# 1. Write a Python program to print numbers from 1 to 10 using a for loop.\n",
    "\n",
    "for i in range(1, 11):\n",
    "    print(i, end = \" \")\n",
    "\n"
   ]
  },
  {
   "cell_type": "code",
   "execution_count": null,
   "id": "1a11bdba-c650-41d3-8447-d7be8dda997c",
   "metadata": {},
   "outputs": [],
   "source": [
    "# 2. Explain the difference between a for loop and a while loop in Python.\n",
    "\n",
    "\"\"\"\"\n",
    "For Loop:- If we known the number of iteration, then we use For loop.\n",
    "While Loop:- If we not known how many iteration we perform, then we used while loop\n",
    "\n",
    "\"\"\"\n"
   ]
  },
  {
   "cell_type": "code",
   "execution_count": 1,
   "id": "c75e299b-621f-41aa-ba36-a295d30e533e",
   "metadata": {},
   "outputs": [
    {
     "name": "stdout",
     "output_type": "stream",
     "text": [
      "Sum of numbers from 1 to 100 : 5050\n"
     ]
    }
   ],
   "source": [
    "# 3. Write a Python program to calculate the sum of all numbers from 1 to 100 using a for loop.\n",
    "\n",
    "Sum = 0\n",
    "for i in range(1, 101):\n",
    "    Sum += i\n",
    "print(f\"Sum of numbers from 1 to 100 : {Sum}\")\n"
   ]
  },
  {
   "cell_type": "code",
   "execution_count": 3,
   "id": "9868377c-19b3-4601-813c-abb13b31a7c2",
   "metadata": {},
   "outputs": [
    {
     "name": "stdout",
     "output_type": "stream",
     "text": [
      "1 2 3 4 5 6 7 8 9 "
     ]
    }
   ],
   "source": [
    "# 4. How do you iterate through a list using a for loop in Python?\n",
    "\n",
    "List = [1, 2, 3, 4, 5, 6, 7, 8, 9]\n",
    "for i in List:\n",
    "    print(i, end = \" \")\n"
   ]
  },
  {
   "cell_type": "code",
   "execution_count": 4,
   "id": "fec11645-d93c-4b3d-ac51-26a05473426a",
   "metadata": {},
   "outputs": [
    {
     "name": "stdout",
     "output_type": "stream",
     "text": [
      "Product of each element in a given list is 362880\n"
     ]
    }
   ],
   "source": [
    "# 5. Write a Python program to find the product of all elements in a list using a for loop.\n",
    "\n",
    "List = [1, 2, 3, 4, 5, 6, 7, 8, 9]\n",
    "Product = 1\n",
    "for i in List:\n",
    "    Product *= i\n",
    "print(f\"Product of each element in a given list is {Product}\")\n"
   ]
  },
  {
   "cell_type": "code",
   "execution_count": 1,
   "id": "a4566155-28b6-48f4-b4dc-8edb5dc849c4",
   "metadata": {},
   "outputs": [
    {
     "name": "stdout",
     "output_type": "stream",
     "text": [
      "2 4 6 8 10 12 14 16 18 20 "
     ]
    }
   ],
   "source": [
    "# 6. Create a Python program that prints all even numbers from 1 to 20 using a for loop.\n",
    "\n",
    "for i in range(1, 21):        # print even number using for loop\n",
    "    if i%2 == 0:\n",
    "        print(i, end = \" \")\n"
   ]
  },
  {
   "cell_type": "code",
   "execution_count": 1,
   "id": "e9c95424-e5d0-421e-aa75-b591692f523a",
   "metadata": {},
   "outputs": [
    {
     "name": "stdin",
     "output_type": "stream",
     "text": [
      "Enter Number :  5\n"
     ]
    },
    {
     "name": "stdout",
     "output_type": "stream",
     "text": [
      "Factorial of 5 is : 120\n"
     ]
    }
   ],
   "source": [
    "# 7. Write a Python program that calculates the factorial of a number using a for loop.\n",
    "\n",
    "N = int(input(\"Enter Number : \"))        # take number from user\n",
    "Factorial = 1\n",
    "for i in range(1, N+1):                  # calculate factorial using for loop\n",
    "    Factorial *= i\n",
    "print(f\"Factorial of {N} is : {Factorial}\") # print result\n",
    "\n"
   ]
  },
  {
   "cell_type": "code",
   "execution_count": 2,
   "id": "48427d00-18dd-4a72-b191-bda1b5dbc5e7",
   "metadata": {},
   "outputs": [
    {
     "name": "stdin",
     "output_type": "stream",
     "text": [
      "Enter Characters of a string :  pwskills\n"
     ]
    },
    {
     "name": "stdout",
     "output_type": "stream",
     "text": [
      "p w s k i l l s "
     ]
    }
   ],
   "source": [
    "# 8. How can you iterate through the characters of a string using a for loop in Python?\n",
    "\n",
    "# we can syimply iterate string like list, tuples etc.\n",
    "String = input(\"Enter Characters of a string : \")  # take characters of a string from user\n",
    "for i in String:              # iterate each using for loop\n",
    "    print(i, end = \" \")       # print each character with 1 seprate space\n",
    "\n"
   ]
  },
  {
   "cell_type": "code",
   "execution_count": 3,
   "id": "c87fd771-542e-4cd1-bec7-7b1e294015ac",
   "metadata": {},
   "outputs": [
    {
     "name": "stdout",
     "output_type": "stream",
     "text": [
      "Largest number in given list is : 45\n"
     ]
    }
   ],
   "source": [
    "# 9. Write a Python program to find the largest number in a list using a for loop.\n",
    "\n",
    "List = [1, 2, 34, 45, 2, 32, 12, 32, 25]   # take list\n",
    "Max = -99999999999                         # initially take smallest value in max\n",
    "for i in List:                             # iterate each element to find largest number in list\n",
    "    if i > Max:\n",
    "        Max = i\n",
    "print(f\"Largest number in given list is : {Max}\")\n",
    "\n"
   ]
  },
  {
   "cell_type": "code",
   "execution_count": 9,
   "id": "be4711bd-d7cb-4613-a161-0d5f697efb45",
   "metadata": {},
   "outputs": [
    {
     "name": "stdin",
     "output_type": "stream",
     "text": [
      "Enter Specified Limit :  100\n"
     ]
    },
    {
     "name": "stdout",
     "output_type": "stream",
     "text": [
      "Fibonacci Series upto 100\n",
      "1 2 3 5 8 13 21 34 55 89 "
     ]
    }
   ],
   "source": [
    "# 10. Create a Python program that prints the Fibonacci sequence up to a specified limit using a for loop.\n",
    "\n",
    "Limit = int(input(\"Enter Specified Limit : \"))  # take specified limit from user\n",
    "fib1 = 0                                        # base cases\n",
    "fib2 = 1\n",
    "Fibonacci = 0\n",
    "print(f\"Fibonacci Series upto {Limit}\")\n",
    "for i in range(Limit+1):                        # iterate loop\n",
    "    Fibonacci <= Limit\n",
    "    Fibonacci = fib1 + fib2                     # calculate fibonacci number\n",
    "    fib1 = fib2\n",
    "    fib2 = Fibonacci\n",
    "    if Fibonacci > Limit:\n",
    "        break\n",
    "    print(Fibonacci, end = \" \")                 # print series\n",
    "    \n"
   ]
  },
  {
   "cell_type": "code",
   "execution_count": 1,
   "id": "829a0227-f14e-4d7b-b1b4-7287dfde6560",
   "metadata": {},
   "outputs": [
    {
     "name": "stdin",
     "output_type": "stream",
     "text": [
      "Enter string :  pwskills\n"
     ]
    },
    {
     "name": "stdout",
     "output_type": "stream",
     "text": [
      "Total number of vowels in pwskills is : 1\n"
     ]
    }
   ],
   "source": [
    "# 11. Write a Python program to count the number of vowels in a given string using a for loop.\n",
    "\n",
    "string = input(\"Enter string : \")    # take string from user\n",
    "Vowels = \"aeiouAEIOU\"                # initialize Vowels with vowels\n",
    "count = 0                            # initialize count\n",
    "for i in string:                     # iterate each char\n",
    "    if i in Vowels:\n",
    "        count += 1                   # if vowel is present instring then increment count\n",
    "print(f\"Total number of vowels in {string} is : {count}\")\n"
   ]
  },
  {
   "cell_type": "code",
   "execution_count": 2,
   "id": "d520e671-627c-4242-9441-4084e159f0b4",
   "metadata": {},
   "outputs": [
    {
     "name": "stdin",
     "output_type": "stream",
     "text": [
      "Enter Number :  7\n"
     ]
    },
    {
     "name": "stdout",
     "output_type": "stream",
     "text": [
      "7 * 1 = 7\n",
      "7 * 2 = 14\n",
      "7 * 3 = 21\n",
      "7 * 4 = 28\n",
      "7 * 5 = 35\n",
      "7 * 6 = 42\n",
      "7 * 7 = 49\n",
      "7 * 8 = 56\n",
      "7 * 9 = 63\n",
      "7 * 10 = 70\n"
     ]
    }
   ],
   "source": [
    "# 12. Create a Python program that generates a multiplication table for a given number using a for loop.\n",
    "\n",
    "N = int(input(\"Enter Number : \"))\n",
    "for i in range(1, 11):\n",
    "    print(f\"{N} * {i} = {N*i}\")\n"
   ]
  },
  {
   "cell_type": "code",
   "execution_count": 5,
   "id": "6cd39500-667f-4034-a051-4d18cd234228",
   "metadata": {},
   "outputs": [
    {
     "name": "stdout",
     "output_type": "stream",
     "text": [
      "Reversed List : [25, 32, 12, 32, 2, 45, 34, 2, 1]\n"
     ]
    }
   ],
   "source": [
    "# 13. Write a Python program to reverse a list using a for loop.\n",
    "\n",
    "List = [1, 2, 34, 45, 2, 32, 12, 32, 25]   # take list\n",
    "reverse_list = []\n",
    "for i in range(len(List) - 1, -1, -1):\n",
    "    reverse_list.append(List[i])\n",
    "print(f\"Reversed List : {reverse_list}\")\n"
   ]
  },
  {
   "cell_type": "code",
   "execution_count": 8,
   "id": "d1c86fb7-ebe8-4400-b7be-bf3531baaa5a",
   "metadata": {},
   "outputs": [
    {
     "name": "stdout",
     "output_type": "stream",
     "text": [
      "Common Element of [1, 2, 34, 45, 2, 3, 4, 5, 32, 12, 7, 32, 25] and [6, 8, 9] is : [1, 2, 3, 4, 5, 7]\n"
     ]
    }
   ],
   "source": [
    "# 14. Write a Python program to find the common elements between two lists using a for loop.\n",
    "\n",
    "List1 = [1, 2, 34, 45, 2, 3, 4, 5, 32, 12, 7, 32, 25]   # take list1\n",
    "List2 = [1 , 2, 3, 4, 5, 6, 7, 8, 9]                    # take list2\n",
    "common_element = []                                     # initialize common element variable\n",
    "for i in List1:                                         # iterate each element in list1\n",
    "    if i in List2:                                      # if element also in list 2 then append in common list\n",
    "        common_element.append(i)          \n",
    "        List2.remove(i)\n",
    "print(f\"Common Element of {List1} and {List2} is : {common_element}\")\n",
    "\n"
   ]
  },
  {
   "cell_type": "code",
   "execution_count": 12,
   "id": "36f6b536-4048-4440-a528-79237ee726c7",
   "metadata": {},
   "outputs": [
    {
     "name": "stdout",
     "output_type": "stream",
     "text": [
      "Key one : Value 1\n",
      "Key two : Value 2\n",
      "Key three : Value 3\n",
      "Key four : Value 4\n",
      "Key five : Value 5\n"
     ]
    }
   ],
   "source": [
    "# 15. Explain how to use a for loop to iterate through the keys and values of a dictionary in Python.\n",
    "\n",
    "# In Python, we can use a for loop to iterate through the keys and values of a dictionary using the items() method.\n",
    "D = {\"one\" : \"1\", \"two\" : \"2\", \"three\" : \"3\", \"four\" : \"4\", \"five\" : \"5\"}  # take dictionery as input\n",
    "for key, value in D.items():                                               # iterate key and value using builtin function items()\n",
    "    print(f\"Key {key} : Value {value}\")"
   ]
  },
  {
   "cell_type": "code",
   "execution_count": 6,
   "id": "a2b4970b-f7e1-4f13-8c92-2d039e5f6f12",
   "metadata": {},
   "outputs": [
    {
     "name": "stdin",
     "output_type": "stream",
     "text": [
      "Enter Number 1 :  -6\n",
      "Enter Number 2 :  6\n"
     ]
    },
    {
     "name": "stdout",
     "output_type": "stream",
     "text": [
      "GCD of -6 and 6 is : 6\n"
     ]
    }
   ],
   "source": [
    "# 16. Write a Python program to find the GCD (Greatest Common Divisor) of two numbers using a for loop.\n",
    "\n",
    "def GCD(num1, num2):   # create function to calculate GCD\n",
    "    if num1 == 0:\n",
    "        return num2\n",
    "    \n",
    "    if num2 == 0:\n",
    "        return num1\n",
    "    \n",
    "    if num1 == num2:\n",
    "        return num1\n",
    "    \n",
    "    GCD = 1\n",
    "    for i in range(1, abs(num1)+1):\n",
    "        if num1%i == 0 and num2%i == 0:\n",
    "            GCD = i\n",
    "    return GCD\n",
    "\n",
    "num1 = int(input(\"Enter Number 1 : \"))   # take numbers from user\n",
    "num2 = int(input(\"Enter Number 2 : \"))\n",
    "gcd = GCD(num1, num2)\n",
    "print(f\"GCD of {num1} and {num2} is : {gcd}\")\n",
    "\n"
   ]
  },
  {
   "cell_type": "code",
   "execution_count": 14,
   "id": "6a4459d4-b906-4279-a42b-b92944d88c64",
   "metadata": {},
   "outputs": [
    {
     "name": "stdin",
     "output_type": "stream",
     "text": [
      "Enter String :  asdfsa\n"
     ]
    },
    {
     "name": "stdout",
     "output_type": "stream",
     "text": [
      "Not Palindrome \n"
     ]
    }
   ],
   "source": [
    "# 17. Create a Python program that checks if a string is a palindrome using a for loop.\n",
    "\n",
    "string = input(\"Enter String : \")\n",
    "j = len(string) - 1\n",
    "for i in range(len(string)):\n",
    "    if string[i] != string[j]:\n",
    "        print(\"Not Palindrome \")\n",
    "        break\n",
    "    j -= 1\n",
    "    if j == 0:\n",
    "        print(\"Palindrome\")\n",
    "\n",
    "    \n"
   ]
  },
  {
   "cell_type": "code",
   "execution_count": 3,
   "id": "bb2918d3-e2ac-40eb-ba9c-0f458331ae59",
   "metadata": {},
   "outputs": [
    {
     "name": "stdout",
     "output_type": "stream",
     "text": [
      "Unique Element in list : [1, 2, 34, 45, 3, 4, 5, 32, 12, 7, 25]\n"
     ]
    }
   ],
   "source": [
    "# 18. Write a Python program to remove duplicates from a list using a for loop.\n",
    "\n",
    "List = [1, 2, 34, 45, 2, 3, 4, 5, 32, 12, 1, 2, 3, 4, 7, 32, 25]   # take list\n",
    "Unique_Element = []\n",
    "for i in List:\n",
    "    if i not in Unique_Element:\n",
    "        Unique_Element.append(i)\n",
    "print(f\"Unique Element in list : {Unique_Element}\")\n",
    "\n"
   ]
  },
  {
   "cell_type": "code",
   "execution_count": 2,
   "id": "29206424-d257-4bdf-9ceb-759aadfa237d",
   "metadata": {},
   "outputs": [
    {
     "name": "stdout",
     "output_type": "stream",
     "text": [
      "Total number of word in Sentence : 23\n"
     ]
    }
   ],
   "source": [
    "# 19. Create a Python program that counts the number of words in a sentence using a for loop.\n",
    "\n",
    "Sentence = \"YOUR SELF-RESPECT MUST BE STRONGER THAN YOUR FEELING. If you run from the work, you might as well hide from the money too.\"\n",
    "Split_Sentence = Sentence.split(\"-\" and \" \")\n",
    "count = 0\n",
    "for i in Split_Sentence:\n",
    "    count += 1\n",
    "print(f\"Total number of word in Sentence : {count}\")"
   ]
  },
  {
   "cell_type": "code",
   "execution_count": 4,
   "id": "9d9b46e0-5c67-4225-8b19-85fe989f5a5f",
   "metadata": {},
   "outputs": [
    {
     "name": "stdout",
     "output_type": "stream",
     "text": [
      "Sum of all odd number from 1 to 50 is : 625\n"
     ]
    }
   ],
   "source": [
    "# 20. Write a Python program to find the sum of all odd numbers from 1 to 50 using a for loop.\n",
    "\n",
    "Odd_sum = 0\n",
    "for i in range(1, 51):\n",
    "    if i%2 != 0:\n",
    "        Odd_sum += i\n",
    "print(F\"Sum of all odd number from 1 to 50 is : {Odd_sum}\")\n"
   ]
  },
  {
   "cell_type": "code",
   "execution_count": 53,
   "id": "84485720-227e-4c0c-bf9e-f4dc43fcb8da",
   "metadata": {},
   "outputs": [
    {
     "name": "stdin",
     "output_type": "stream",
     "text": [
      "Enter Year :  2000\n"
     ]
    },
    {
     "name": "stdout",
     "output_type": "stream",
     "text": [
      "2000 is Leap Year\n"
     ]
    }
   ],
   "source": [
    "# 21. Write a Python program that checks if a given year is a leap year using a for loop.\n",
    "\n",
    "year = int(input(\"Enter Year : \"))     # take year from user\n",
    "for i in range(4, year+4, 4):          # iterate for loop with increment of 4\n",
    "    if (year%4 == 0 and year%100 != 0) or (year%400 == 0):  # check leap year or not\n",
    "        print(f\"{year} is Leap Year\")\n",
    "        break\n",
    "    elif (i >= year):\n",
    "        print(f\"{year} is common year\")\n"
   ]
  },
  {
   "cell_type": "code",
   "execution_count": 7,
   "id": "134ec5b3-712c-4fa1-9329-dc13fd8a45dd",
   "metadata": {},
   "outputs": [
    {
     "name": "stdin",
     "output_type": "stream",
     "text": [
      "Enter a number:  100\n"
     ]
    },
    {
     "name": "stdout",
     "output_type": "stream",
     "text": [
      "Approximate square root of 100.0 is: 10.0\n"
     ]
    }
   ],
   "source": [
    "# 22. Create a Python program that calculates the square root of a number using a for loop.\n",
    "\n",
    "#  Python program that calculates the square root of a number using a for loop and the Newton-Raphson method:\n",
    "\n",
    "def square_root(number):\n",
    "    guess = number / 2  # Initial guess\n",
    "\n",
    "    for _ in range(100):\n",
    "        guess = 0.5 * (guess + number / guess)\n",
    "\n",
    "    return guess\n",
    "\n",
    "# Input from the user\n",
    "number = float(input(\"Enter a number: \"))\n",
    "\n",
    "if number < 0:\n",
    "    print(\"Square root is undefined for negative numbers.\")\n",
    "else:\n",
    "    result = square_root(number)\n",
    "    print(f\"Approximate square root of {number} is: {result}\")\n",
    "\n"
   ]
  },
  {
   "cell_type": "code",
   "execution_count": 10,
   "id": "ee0ee821-4c60-4fd0-bb71-5917cfe86c76",
   "metadata": {},
   "outputs": [
    {
     "name": "stdin",
     "output_type": "stream",
     "text": [
      "Enter Number1 :  72\n",
      "Enter Number2 :  48\n"
     ]
    },
    {
     "name": "stdout",
     "output_type": "stream",
     "text": [
      "LCM of 72 and 48 is : 24\n"
     ]
    }
   ],
   "source": [
    "# 23. Write a Python program to find the LCM (Least Common Multiple) of two numbers using a for loop.\n",
    "\n",
    "num1 = int(input(\"Enter Number1 : \")) # take numbers from users\n",
    "num2 = int(input(\"Enter Number2 : \"))\n",
    "LCM = 1                               # initialize LCM variable with 1\n",
    "Min = min(num1, num2)                 # calculate minimum of two numbers\n",
    "for i in range(1, Min+1):             # calcute LCM using for loop\n",
    "    if num1%i == 0 and num2%i == 0:\n",
    "        LCM = i\n",
    "print(f\"LCM of {num1} and {num2} is : {LCM}\")\n"
   ]
  },
  {
   "cell_type": "markdown",
   "id": "0087d850-b3c9-4fa0-9c5d-2e614bb92ca7",
   "metadata": {},
   "source": [
    "# If else :"
   ]
  },
  {
   "cell_type": "code",
   "execution_count": 11,
   "id": "06140d19-b4cc-4f07-994a-fe730837bc49",
   "metadata": {},
   "outputs": [
    {
     "name": "stdin",
     "output_type": "stream",
     "text": [
      "Enter number :  43\n"
     ]
    },
    {
     "name": "stdout",
     "output_type": "stream",
     "text": [
      "43 is positive number\n"
     ]
    }
   ],
   "source": [
    "# 1. Write a Python program to check if a number is positive, negative, or zero using an if-else statement.\n",
    "\n",
    "N = int(input(\"Enter number : \"))    # take number from user\n",
    "if N > 0:                           # check number positive , negative or zero\n",
    "    print(f\"{N} is positive number\") # print\n",
    "else:\n",
    "    if N == 0:\n",
    "        print(f\"{N} is Zero\")\n",
    "    else:\n",
    "        print(f\"{N} is Negative number\")\n"
   ]
  },
  {
   "cell_type": "code",
   "execution_count": 12,
   "id": "d1ee045e-9b60-480b-97a9-5820ee7ef3ed",
   "metadata": {},
   "outputs": [
    {
     "name": "stdin",
     "output_type": "stream",
     "text": [
      "Enter Number :  89\n"
     ]
    },
    {
     "name": "stdout",
     "output_type": "stream",
     "text": [
      "Odd Number\n"
     ]
    }
   ],
   "source": [
    "# 2. Create a Python program that checks if a given number is even or odd using an if-else statement.\n",
    "\n",
    "N = int(input(\"Enter Number : \")) # take number from user\n",
    "if N%2 == 0:                      # if Number is divisible by 2 then it is even else number is odd\n",
    "    print(\"Even Number\")\n",
    "else:\n",
    "    print(\"Odd Number\")\n"
   ]
  },
  {
   "cell_type": "code",
   "execution_count": 13,
   "id": "1c1c7b5b-6678-465c-8157-045b7963a845",
   "metadata": {},
   "outputs": [
    {
     "name": "stdout",
     "output_type": "stream",
     "text": [
      "Largest number is : 45\n"
     ]
    }
   ],
   "source": [
    "# 3. How can you use nested if-else statements in Python, and provide an example?\n",
    "\n",
    "\"\"\" nested if-else:- if we have multiple condition to check what's True between them, we use nested if-else statement.\n",
    "Nested if-else statements in Python are used to create conditional statements inside other conditional statements.\n",
    "This allows you to have multiple levels of conditions, providing more complex control flow in your code.\n",
    "Each if statement is associated with an else statement and can contain its own set of conditions. \n",
    "\"\"\"\n",
    "# here is the example to determines the type of angle based on its measure (acute, obtuse, or right).\n",
    "\n",
    "angle = int(input(\"Enter angle : \"))\n",
    "if angle in range(90):\n",
    "    print(\"Acute angle\")\n",
    "else:\n",
    "    if angle == 90:\n",
    "        print(\"Right angle\")\n",
    "    else:\n",
    "        print(\"Obtuse angle\")\n"
   ]
  },
  {
   "cell_type": "code",
   "execution_count": 14,
   "id": "6e2c9508-bca0-450a-b85b-2ce77946aaaf",
   "metadata": {},
   "outputs": [
    {
     "name": "stdout",
     "output_type": "stream",
     "text": [
      "Largest number is : 45\n"
     ]
    }
   ],
   "source": [
    "# 4. Write a Python program to determine the largest of three numbers using if-else.\n",
    "\n",
    "n1 = 24   # take three numbers\n",
    "n2 = 45\n",
    "n3 = 21\n",
    "if n1 >= n2 and n1 >= n3:               #check if n1 is largest and print it\n",
    "    print(f\"Largest number is : {n1}\")\n",
    "else:\n",
    "    if n2 >= n1 and n2 >= n3:             #check if n2 is largest and print it\n",
    "        print(f\"Largest number is : {n2}\")\n",
    "    else:                                   # if above two number is not largest then n3 is larget\n",
    "        print(f\"Largest number is : {n3}\")\n"
   ]
  },
  {
   "cell_type": "code",
   "execution_count": 15,
   "id": "af605801-ca2b-4ede-a225-77a3fee1c788",
   "metadata": {},
   "outputs": [
    {
     "name": "stdin",
     "output_type": "stream",
     "text": [
      "Enter Number :  3\n"
     ]
    },
    {
     "name": "stdout",
     "output_type": "stream",
     "text": [
      "absolute value is 3\n"
     ]
    }
   ],
   "source": [
    "# 5. Write a Python program that calculates the absolute value of a number using if-else.\n",
    "\n",
    "N = int(input(\"Enter Number : \")) # take number from user\n",
    "if N >= 0:                           # check number positive or negative\n",
    "    print(f\"absolute value is {N}\") # print\n",
    "else:\n",
    "    print(f\"absolute value is {-N}\")\n"
   ]
  },
  {
   "cell_type": "code",
   "execution_count": 21,
   "id": "bd7224b1-f235-468e-9845-6aaedd3d1068",
   "metadata": {},
   "outputs": [
    {
     "name": "stdin",
     "output_type": "stream",
     "text": [
      "Enter char :  s\n"
     ]
    },
    {
     "name": "stdout",
     "output_type": "stream",
     "text": [
      "s is consonants\n"
     ]
    }
   ],
   "source": [
    "# 6. Create a Python program that checks if a given character is a vowel or consonant using if-else.\n",
    "\n",
    "char = input(\"Enter char : \")      # take char from user\n",
    "vowels = \"AEIOUaeiou\"              # defines vowels\n",
    "consonants = \"BCDFGHJKLMNPQRSTVWXYZbcdfghjklmnpqrstvwxyz\"\n",
    "if char in vowels :                # if char is in vowels then print vowels else print consonants\n",
    "    print(f\"{char} is vowel\")\n",
    "else:\n",
    "    if char in consonants:\n",
    "        print(f\"{char} is consonants\")\n",
    "    else:\n",
    "         print(f\"{char} is not a vowel or consonant, it may be special character\")\n",
    "\n"
   ]
  },
  {
   "cell_type": "code",
   "execution_count": 22,
   "id": "a749ad7b-2891-4fa7-82e9-3b35f7a6896f",
   "metadata": {},
   "outputs": [
    {
     "name": "stdin",
     "output_type": "stream",
     "text": [
      "Enter age :  23\n"
     ]
    },
    {
     "name": "stdout",
     "output_type": "stream",
     "text": [
      "Eligible for vote\n"
     ]
    }
   ],
   "source": [
    "# 7. Write a Python program to determine if a user is eligible to vote based on their age using if-else.\n",
    "\n",
    "age = int(input(\"Enter age : \")) # take age from user\n",
    "if age >= 18 :                   # check person is greater than 18 or not\n",
    "    print(\"Eligible for vote\")   # print if this greater than or equal to 18\n",
    "else :\n",
    "    print(\"Not Eligible for vote\") # else  print this\n"
   ]
  },
  {
   "cell_type": "code",
   "execution_count": 1,
   "id": "2c6693fe-6460-4880-bd03-b68ad435b4b3",
   "metadata": {},
   "outputs": [
    {
     "name": "stdin",
     "output_type": "stream",
     "text": [
      "Enter purchase amount :  56000\n"
     ]
    },
    {
     "name": "stdout",
     "output_type": "stream",
     "text": [
      "Purchase amount is : 56000\n",
      "Discount 40%\n",
      "Discounted price is : 33600.0\n"
     ]
    }
   ],
   "source": [
    "# 8. Create a Python program that calculates the discount amount based on the purchase amount using if-else.\n",
    "\n",
    "purchase_amount = int(input(\"Enter purchase amount : \"))        # Enter purchase amount from user\n",
    "\n",
    "if purchase_amount in range(1, 100):                            # if person buy product within price 100 then discount will be 10\n",
    "    discount = 10\n",
    "    discounted_price = purchase_amount - (purchase_amount*discount)/100\n",
    "    print(f\"Purchase amount is : {purchase_amount}\")\n",
    "    print(f\"Discount {discount}%\")\n",
    "    print(f\"Discounted price is : {discounted_price}\")\n",
    "else:\n",
    "    if purchase_amount in range(100, 500):                        # if person buy product within price 100 to 500 then discount will be 15\n",
    "        discount = 15\n",
    "        discounted_price = purchase_amount - (purchase_amount*discount)/100\n",
    "        print(f\"Purchase amount is : {purchase_amount}\")\n",
    "        print(f\"Discount {discount}%\")\n",
    "        print(f\"Discounted price is : {discounted_price}\")\n",
    "    else:\n",
    "        if purchase_amount in range(500, 1000):                      # if person buy product within price 500 to 1000 then discount will be 20         \n",
    "            discount = 20\n",
    "            discounted_price = purchase_amount - (purchase_amount*discount)/100\n",
    "            print(f\"Purchase amount is : {purchase_amount}\")\n",
    "            print(f\"Discount {discount}%\")\n",
    "            print(f\"Discounted price is : {discounted_price}\")\n",
    "        else:\n",
    "            if purchase_amount in range(1000, 2000):                     # if person buy product within price 1000 to 2000 then discount will be 25\n",
    "                discount = 25\n",
    "                discounted_price = purchase_amount - (purchase_amount*discount)/100\n",
    "                print(f\"Purchase amount is : {purchase_amount}\")\n",
    "                print(f\"Discount {discount}%\")\n",
    "                print(f\"Discounted price is : {discounted_price}\")\n",
    "            else:\n",
    "                if purchase_amount in range(2000, 10000):                   # if person buy product within price 2000 to 10000 then discount will be 30\n",
    "                    discount = 30\n",
    "                    discounted_price = purchase_amount - (purchase_amount*discount)/100\n",
    "                    print(f\"Purchase amount is : {purchase_amount}\")\n",
    "                    print(f\"Discount {discount}%\")\n",
    "                    print(f\"Discounted price is : {discounted_price}\")\n",
    "                else:\n",
    "                    if purchase_amount in range(10000, 100000):                # if person buy product within price 10000 to 100000 then discount will be 40\n",
    "                        discount = 40\n",
    "                        discounted_price = purchase_amount - (purchase_amount*discount)/100\n",
    "                        print(f\"Purchase amount is : {purchase_amount}\")\n",
    "                        print(f\"Discount {discount}%\")\n",
    "                        print(f\"Discounted price is : {discounted_price}\")\n",
    "                    else:\n",
    "                        if purchase_amount in range(100000, 10000000):           # if person buy product within price 100000 to 10000000 then discount will be 50\n",
    "                            discount = 50\n",
    "                            discounted_price = purchase_amount - (purchase_amount*discount)/100\n",
    "                            print(f\"Purchase amount is : {purchase_amount}\")\n",
    "                            print(f\"Discount {discount}%\")\n",
    "                            print(f\"Discounted price is : {discounted_price}\")\n",
    "\n"
   ]
  },
  {
   "cell_type": "code",
   "execution_count": 5,
   "id": "1b087c61-82e1-4e48-8113-addb9ede9436",
   "metadata": {},
   "outputs": [
    {
     "name": "stdin",
     "output_type": "stream",
     "text": [
      "Enter Number :  3\n"
     ]
    },
    {
     "name": "stdout",
     "output_type": "stream",
     "text": [
      "Number 3 is not specified range\n"
     ]
    }
   ],
   "source": [
    "# 9. Write a Python program to check if a number is within a specified range using if-else.\n",
    "\n",
    "N = int(input(\"Enter Number : \")) # take number from user\n",
    "LowerBound = 10                   # take randomly specified range\n",
    "UpperBound = 1000\n",
    "\n",
    "if N >= 10 and N <= 1000:         # check if number is specified range or not\n",
    "    print(f\"Number {N} is in specified range.\")\n",
    "else:\n",
    "    print(f\"Number {N} is not specified range\")\n",
    "\n"
   ]
  },
  {
   "cell_type": "code",
   "execution_count": 6,
   "id": "f12e0233-729d-4897-b6b2-e29e24de2513",
   "metadata": {},
   "outputs": [
    {
     "name": "stdin",
     "output_type": "stream",
     "text": [
      "Enter score :  56\n"
     ]
    },
    {
     "name": "stdout",
     "output_type": "stream",
     "text": [
      "Grade is : 'B'\n"
     ]
    }
   ],
   "source": [
    "# 10. Create a Python program that determines the grade of a student based on their score using if-else.\n",
    "\n",
    "score = int(input(\"Enter score : \"))          # enter grade from user\n",
    "if score > 80:                               # print grade based on scores\n",
    "    print(\"Grade is : 'A+' \")\n",
    "else:\n",
    "    if score in range(71,81):\n",
    "        print(\"Grade is : 'A'\")\n",
    "    else:\n",
    "        if score in range(61,71):\n",
    "            print(\"Grade is : 'B+'\")\n",
    "        else:\n",
    "            if score in range(51,61):\n",
    "                print(\"Grade is : 'B'\")\n",
    "            else:\n",
    "                if score in range(41,51):\n",
    "                    print(\"Grade is : 'C'\")\n",
    "                else:\n",
    "                    if score in range(35,41):\n",
    "                        print(\"Grade is : 'D'\")\n",
    "                    else:\n",
    "                        if score < 35:\n",
    "                            print(\"Fail\")\n"
   ]
  },
  {
   "cell_type": "code",
   "execution_count": 9,
   "id": "3289b02c-59d3-422d-b20b-adbf10c13511",
   "metadata": {},
   "outputs": [
    {
     "name": "stdout",
     "output_type": "stream",
     "text": [
      "Empty String\n"
     ]
    }
   ],
   "source": [
    "# 11. Write a Python program to check if a string is empty or not using if-else.\n",
    "\n",
    "string = \"\"\n",
    "if len(string) == 0:\n",
    "    print(\"Empty String\")\n",
    "else:\n",
    "    print(f\"{string} Not an Empty String\")\n"
   ]
  },
  {
   "cell_type": "code",
   "execution_count": 10,
   "id": "22f78cd1-17d4-4b26-9f43-313f94c41cbb",
   "metadata": {},
   "outputs": [
    {
     "name": "stdin",
     "output_type": "stream",
     "text": [
      "Enter Sides :  3\n",
      "Enter Sides :  5\n",
      "Enter Sides :  3\n"
     ]
    },
    {
     "name": "stdout",
     "output_type": "stream",
     "text": [
      "Isosceles Triangle\n"
     ]
    }
   ],
   "source": [
    "# 12. Create a Python program that identifies the type of a triangle (e.g., equilateral, isosceles, or scalene) based on input values using if-else.\n",
    "\n",
    "s1 = int(input(\"Enter Sides : \"))    # take sides of triangle from user\n",
    "s2 = int(input(\"Enter Sides : \"))    # take sides of triangle from user\n",
    "s3 = int(input(\"Enter Sides : \"))    # take sides of triangle from user\n",
    "if s1 == s2 and s1 == s3:            # if all the sides are equal the triangle is equilateral\n",
    "    print(\"Equilateral Triangle\")\n",
    "else:\n",
    "    if (s1 == s2 or s1 == s3 or s2 == s3) and (s1 != s3 or s2 != s3 or a1 != s2):\n",
    "        print(\"Isosceles Triangle\")\n",
    "    else:\n",
    "        print(\"scalene Triangle\")\n"
   ]
  },
  {
   "cell_type": "code",
   "execution_count": 11,
   "id": "917018b6-18f5-4ebd-8be5-0662979b41b9",
   "metadata": {},
   "outputs": [
    {
     "name": "stdin",
     "output_type": "stream",
     "text": [
      "Enter Number :  3\n"
     ]
    },
    {
     "name": "stdout",
     "output_type": "stream",
     "text": [
      "Wednesday\n"
     ]
    }
   ],
   "source": [
    "# 13. Write a Python program to determine the day of the week based on a user-provided number using if-else.\n",
    "\n",
    "N = int(input(\"Enter Number : \"))          # enter number from user\n",
    "if N == 1:                               # print day based on numbers\n",
    "    print(\"Monday\")\n",
    "else:\n",
    "    if N == 2:\n",
    "        print(\"Tuesday\")\n",
    "    else:\n",
    "        if N == 3:\n",
    "            print(\"Wednesday\")\n",
    "        else:\n",
    "            if N == 4:\n",
    "                print(\"Thursday\")\n",
    "            else:\n",
    "                if N == 5:\n",
    "                    print(\"Friday\")\n",
    "                else:\n",
    "                    if N == 6:\n",
    "                        print(\"Saturday\")\n",
    "                    else:\n",
    "                        if N == 7:\n",
    "                            print(\"Sunday\")\n",
    "                        else:\n",
    "                            print(\"Days not defined\")\n"
   ]
  },
  {
   "cell_type": "code",
   "execution_count": 14,
   "id": "5bfb2d68-c564-4fbc-ba22-10e7a196b7d9",
   "metadata": {},
   "outputs": [
    {
     "name": "stdin",
     "output_type": "stream",
     "text": [
      "Enter year :  2023\n"
     ]
    },
    {
     "name": "stdout",
     "output_type": "stream",
     "text": [
      "2023 is not leap year\n"
     ]
    },
    {
     "name": "stdin",
     "output_type": "stream",
     "text": [
      "Enter year :  2078\n"
     ]
    },
    {
     "name": "stdout",
     "output_type": "stream",
     "text": [
      "2078 is not a leap year.\n"
     ]
    }
   ],
   "source": [
    "# 14. Create a Python program that checks if a given year is a leap year using both if-else and a function.\n",
    "\n",
    "# using if-else\n",
    "\n",
    "year = int(input(\"Enter year : \"))                        # enter year from user\n",
    "if (year%4 == 0 and year%100 != 0) or (year%400 == 0):    # if year is divisible by 4 then it is leap year\n",
    "    print(f\"{year} is leap year\")\n",
    "else:\n",
    "    print(f\"{year} is not leap year\")\n",
    "    \n",
    "# using inbuilt function\n",
    "\n",
    "import calendar\n",
    "year = int(input(\"Enter year : \"))\n",
    "if calendar.isleap(year):\n",
    "    print(f\"{year} is a leap year.\")\n",
    "else:\n",
    "    print(f\"{year} is not a leap year.\")\n"
   ]
  },
  {
   "cell_type": "code",
   "execution_count": 20,
   "id": "eb5add28-9394-44e4-82e7-c02b34549c07",
   "metadata": {},
   "outputs": [
    {
     "name": "stdin",
     "output_type": "stream",
     "text": [
      "Enter Number :  34\n"
     ]
    },
    {
     "name": "stdout",
     "output_type": "stream",
     "text": [
      "34 is a non-negative number.\n",
      "The program continues.\n"
     ]
    },
    {
     "data": {
      "text/plain": [
       "\"\\nHowever, it's important to note that assert statements are primarily used for debugging and testing during development.\\nThey can be disabled globally using the -O (optimize) command-line switch, so they should not be relied upon for production code error handling.\\n\""
      ]
     },
     "execution_count": 20,
     "metadata": {},
     "output_type": "execute_result"
    }
   ],
   "source": [
    "# 15. How do you use the \"assert\" statement in Python to add debugging checks within if-else blocks?\n",
    "\n",
    "\"\"\"The assert statement in Python is used for debugging and testing purposes.\n",
    "It checks whether a given condition is True, and if it's not, it raises an AssertionError exception, providing information about the failure.\n",
    "You can use assert to add debugging checks within if-else blocks to ensure that certain conditions are met during program execution.\"\"\"\n",
    "\n",
    "\n",
    "N = int(input(\"Enter Number : \"))\n",
    "\n",
    "# Add an assertion check within an if-else block\n",
    "if N >= 0:\n",
    "    print(f\"{N} is a non-negative number.\")\n",
    "else:\n",
    "    assert N >= 0, f\"{N} is not a non-negative number.\"\n",
    "    # The assert statement will raise an AssertionError with the specified message\n",
    "\n",
    "# If x is not non-negative, the program will terminate here due to the AssertionError.\n",
    "print(\"The program continues.\")\n",
    "\"\"\"\n",
    "However, it's important to note that assert statements are primarily used for debugging and testing during development.\n",
    "They can be disabled globally using the -O (optimize) command-line switch, so they should not be relied upon for production code error handling.\n",
    "\"\"\""
   ]
  },
  {
   "cell_type": "code",
   "execution_count": 21,
   "id": "0005019f-943a-4a91-a37c-5032fa15f9a9",
   "metadata": {},
   "outputs": [
    {
     "name": "stdin",
     "output_type": "stream",
     "text": [
      "Enter age :  45\n"
     ]
    },
    {
     "name": "stdout",
     "output_type": "stream",
     "text": [
      "You are not eligible for a senior citizen discount.\n"
     ]
    }
   ],
   "source": [
    "# 16. Create a Python program that determines the eligibility of a person for a senior citizen discount based on age using if-else.\n",
    "\n",
    "age = int(input(\"Enter age : \"))   # take age from user\n",
    "senior_citizen_age = 60            # initialize senior citizen age\n",
    "if age >= senior_citizen_age:\n",
    "    print(\"You are eligible for a senior citizen discount.\")\n",
    "else:\n",
    "    print(\"You are not eligible for a senior citizen discount.\")\n"
   ]
  },
  {
   "cell_type": "code",
   "execution_count": 23,
   "id": "3f0dde68-a2cb-481e-995f-d2141c253bc1",
   "metadata": {},
   "outputs": [
    {
     "name": "stdin",
     "output_type": "stream",
     "text": [
      "Enter Char :  S\n"
     ]
    },
    {
     "name": "stdout",
     "output_type": "stream",
     "text": [
      "uppercase\n"
     ]
    }
   ],
   "source": [
    "# 17. Write a Python program to categorize a given character as uppercase, lowercase, or neither using if-else.\n",
    "\n",
    "char = str(input(\"Enter Char : \"))                 # take char from user\n",
    "uppercase = \"ABCDEFGHIJKLMNOPQRSTUVWXYZ\"           # uppercase char\n",
    "lowercase = \"abcdefghijklmnopqrstuvwxyz\"           # lowercase char\n",
    "special = \"`~!@#$%^&*(\"\"''){}[]:;<>,./?|\\_-+=\"     # special char\n",
    "digit = \"1234567890\"                               # digit\n",
    "\n",
    "if char in uppercase:\n",
    "    print(\"Uppercase\")\n",
    "else:\n",
    "    if char in lowercase:\n",
    "        print(\"Lowercase\")\n",
    "    else:\n",
    "        if char in digit:\n",
    "            print(\"Digit\")\n",
    "        else:\n",
    "            if char in special:\n",
    "                print(\"Special char\")\n"
   ]
  },
  {
   "cell_type": "code",
   "execution_count": 24,
   "id": "3d8f2cc8-df20-4fc1-ab9f-352460d46872",
   "metadata": {},
   "outputs": [
    {
     "name": "stdin",
     "output_type": "stream",
     "text": [
      "Enter the coefitient of x² :  2\n",
      "Enter the coefitient of x :  6\n",
      "Enter the constant term :  18\n"
     ]
    },
    {
     "name": "stdout",
     "output_type": "stream",
     "text": [
      "Roots of Quadratic Equation 2x² + 6x + 18 is (-5.999999999999999+10.392304845413264j), (-6.000000000000001-10.392304845413264j)\n"
     ]
    }
   ],
   "source": [
    "# 18. Write a Python program to determine the roots of a quadratic equation using if-else.\n",
    "\n",
    "a = int(input(\"Enter the coefitient of x² : \"))     # take coefitient of x² from user\n",
    "b = int(input(\"Enter the coefitient of x : \"))      # take coefitient of x from user\n",
    "c = int(input(\"Enter the constant term : \"))        # take constant term from user\n",
    "\n",
    "r1 = (-b + ((b**2 - 4*a*c)**0.5))/2*a               # calculates roots using formula\n",
    "r2 = (-b - ((b**2 - 4*a*c)**0.5))/2*a\n",
    "print(f\"Roots of Quadratic Equation {a}x² + {b}x + {c} is {r1}, {r2}\") # print roots\n"
   ]
  },
  {
   "cell_type": "code",
   "execution_count": 27,
   "id": "0220415f-4f53-49f4-b162-12d790da2fd6",
   "metadata": {},
   "outputs": [
    {
     "name": "stdin",
     "output_type": "stream",
     "text": [
      "Enter year :  1900\n"
     ]
    },
    {
     "name": "stdout",
     "output_type": "stream",
     "text": [
      "Century Year\n"
     ]
    }
   ],
   "source": [
    "# 19. Create a Python program that checks if a given year is a century year or not using if-else.\n",
    "\n",
    "year = int(input(\"Enter year : \"))\n",
    "if year%100 == 0:\n",
    "    print(\"Century Year\")\n",
    "else:\n",
    "    print(\"Common Year\")\n"
   ]
  },
  {
   "cell_type": "code",
   "execution_count": 50,
   "id": "9d809289-b041-4548-b258-f71badd446a6",
   "metadata": {},
   "outputs": [
    {
     "name": "stdin",
     "output_type": "stream",
     "text": [
      "Enter Number :  16\n"
     ]
    },
    {
     "name": "stdout",
     "output_type": "stream",
     "text": [
      "NUmber 16 is perfect square of 4\n"
     ]
    }
   ],
   "source": [
    "# 20. Write a Python program to determine if a given number is a perfect square using if-else.\n",
    "\n",
    "N = int(input(\"Enter Number : \"))\n",
    "for i in range(1, N//2+1):\n",
    "    if N/i == i:\n",
    "        print(f\"NUmber {N} is perfect square of {i}\")\n",
    "        break\n",
    "    if i == N//2:\n",
    "        print(f\"Number {N} is not perfect square of any number.\")\n"
   ]
  },
  {
   "cell_type": "code",
   "execution_count": 51,
   "id": "1d203e9f-a495-4f3a-8c85-730430c65b37",
   "metadata": {},
   "outputs": [],
   "source": [
    "# 21. Explain the purpose of the \"continue\" and \"break\" statements within if-else loops.\n",
    "\n",
    "# break statements we used for break the loop in either 'for loop or while loop' for further iteration.\n",
    "# continue statements we used in to skip iteration for a particular value.\n",
    "\n",
    "\"\"\"\n",
    "The \"continue\" and \"break\" statements are control flow statements in Python (and many other programming languages) that are used within loops,\n",
    "including for and while loops, to control the flow of execution. They serve different purposes:\n",
    "\n",
    "\"continue\" statement:- The \"continue\" statement is used to skip the current iteration of a loop and move to the next iteration.\n",
    "When a \"continue\" statement is encountered within a loop, the code following the \"continue\" statement within the current iteration is skipped,\n",
    "and the loop proceeds to the next iteration.\n",
    "\n",
    "\"break\" statement:- The \"break\" statement is used to exit the loop prematurely, regardless of whether the loop condition is still satisfied.\n",
    "When a \"break\" statement is encountered within a loop, the loop is terminated immediately, and the program continues with the code after the loop.\n",
    "\n",
    "\"\"\"\n",
    "\n"
   ]
  },
  {
   "cell_type": "code",
   "execution_count": 52,
   "id": "a045de4e-1490-4e91-ae7a-96332f556723",
   "metadata": {},
   "outputs": [
    {
     "name": "stdin",
     "output_type": "stream",
     "text": [
      "Enter weight in kg :  64\n",
      "Enter Height in meters :  1.7\n"
     ]
    },
    {
     "name": "stdout",
     "output_type": "stream",
     "text": [
      "Person BMI is : 22.145328719723185\n",
      "person within the healthy/normal weight range\n"
     ]
    }
   ],
   "source": [
    "# 22. Create a Python program that calculates the BMI (Body Mass Index) of a person based on their weight and height using if-else.\n",
    "\n",
    "weight = float(input(\"Enter weight in kg : \"))             # take weight person fron user\n",
    "height = float(input(\"Enter Height in meters : \"))         # take person height from user\n",
    "BMI = weight/(height*height)                               # calculate BMI\n",
    "print(f\"Person BMI is : {BMI}\")\n",
    "if BMI < 18.5 :                                            # If person BMI is less than 18.5, it falls within the underweight range.\n",
    "    print(\"person within the underweight range\")\n",
    "else:\n",
    "    if 18.5 <= BMI < 25.0:                                   # If person BMI is 18.5 to <25, it falls within the healthy weight range.\n",
    "        print(\"person within the healthy/normal weight range\")\n",
    "    else:\n",
    "        if BMI in range(25, 30):                                 # If person BMI is 25.0 to <30, it falls within the overweight range.\n",
    "            print(\"person within the overweight weight range\")\n",
    "        else:\n",
    "            if BMI >= 30:                                            # If person BMI is 30.0 or higher, it falls within the obesity range.\n",
    "                print(\"person within the obese weight range\")\n"
   ]
  },
  {
   "cell_type": "code",
   "execution_count": 54,
   "id": "72b9a8c6-c3e8-43ba-a2fe-9e7c2b83ab80",
   "metadata": {},
   "outputs": [
    {
     "name": "stdout",
     "output_type": "stream",
     "text": [
      "Original list: [1, 2, 3, 4, 5, 6, 7, 8, 9, 10]\n",
      "Filtered list (even numbers): [2, 4, 6, 8, 10]\n"
     ]
    }
   ],
   "source": [
    "# 23. How can you use the \"filter()\" function with if-else statements to filter elements from a list?\n",
    "\n",
    "\"\"\"\n",
    "The filter() function in Python is used to filter elements from an iterable (e.g., a list) based on a given function or condition.\n",
    "While you can use the filter() function with a custom function that contains if-else statements to filter elements,\n",
    "it's important to note that filter() expects the filtering function to return True for elements you want to keep and False for elements\n",
    "you want to exclude.\n",
    "\n",
    "Here's how you can use the filter() function with a custom function containing if-else statements to filter elements from a list:\n",
    "\"\"\"\n",
    "\n",
    "def is_even(x):\n",
    "    # Custom filtering function using if-else\n",
    "    if x % 2 == 0:\n",
    "        return True\n",
    "    else:\n",
    "        return False\n",
    "\n",
    "my_list = [1, 2, 3, 4, 5, 6, 7, 8, 9, 10]\n",
    "\n",
    "filtered_list = list(filter(is_even, my_list))\n",
    "\n",
    "print(\"Original list:\", my_list)\n",
    "print(\"Filtered list (even numbers):\", filtered_list)\n"
   ]
  },
  {
   "cell_type": "code",
   "execution_count": 9,
   "id": "7645c136-4413-43a3-929e-b9861bab3df7",
   "metadata": {},
   "outputs": [
    {
     "name": "stdin",
     "output_type": "stream",
     "text": [
      "Enter Number :  56\n"
     ]
    },
    {
     "name": "stdout",
     "output_type": "stream",
     "text": [
      "Not Prime\n"
     ]
    }
   ],
   "source": [
    "# 24. Write a Python program to determine if a given number is prime or not using if-else.\n",
    "\n",
    "N = int(input(\"Enter Number : \"))   # take number from user\n",
    "if N == 2 or N == 3:                # we know that 2, 3 are prime numbers\n",
    "    print(\"Prime Number\")\n",
    "else:                               # check number prime or not.\n",
    "    for i in range(2, N//2 + 1):\n",
    "        if N%i == 0:\n",
    "            print(\"Not Prime\")\n",
    "            break\n",
    "        if(i == N//2):\n",
    "            print(\"Prime Number\")\n"
   ]
  },
  {
   "cell_type": "markdown",
   "id": "8c52eb80-cca8-46bc-b247-3e7097c9eac3",
   "metadata": {},
   "source": [
    "# Map :-"
   ]
  },
  {
   "cell_type": "code",
   "execution_count": 2,
   "id": "31d54ae4-4f2e-49bf-974a-abc3546de968",
   "metadata": {},
   "outputs": [
    {
     "data": {
      "text/plain": [
       "[2, 4, 6, 8, 10, 12, 14, 16, 18, 20]"
      ]
     },
     "execution_count": 2,
     "metadata": {},
     "output_type": "execute_result"
    }
   ],
   "source": [
    "#1.Explain the purpose of the`map()` function in Python and provide an example of how it can be used to apply a function to each element of an iterable\n",
    "\n",
    "\"\"\" map() function returns a map object(which is an iterator) of the results after applying the given function to each item\n",
    "of a given iterable (list, tuple etc.)  The map() function is often used to create a new iterable where each element is the \n",
    "result of applying the provided function to the corresponding element of the original iterable.\n",
    "\"\"\"\n",
    "# hera is an example of map function, we map all element in a list with its square.\n",
    "\n",
    "List = [1, 2, 3, 4, 5, 6, 7, 8, 9, 10] # take List\n",
    "list(map(lambda a : a*2, List))        # map all element in given list with its double.\n"
   ]
  },
  {
   "cell_type": "code",
   "execution_count": 3,
   "id": "1468051b-ba6b-4205-b25f-908955d8f670",
   "metadata": {},
   "outputs": [
    {
     "data": {
      "text/plain": [
       "[1, 4, 9, 16, 25, 36, 49, 64, 81, 100]"
      ]
     },
     "execution_count": 3,
     "metadata": {},
     "output_type": "execute_result"
    }
   ],
   "source": [
    "# 2. Write a Python program that uses the `map()` function to square each element of a list of numbers.\n",
    "\n",
    "List = [1, 2, 3, 4, 5, 6, 7, 8, 9, 10] # take List\n",
    "list(map(lambda a : a**2, List))       # map all element in given list with its square.\n"
   ]
  },
  {
   "cell_type": "code",
   "execution_count": null,
   "id": "9f78fb34-8c59-4f83-9aa6-c0aa9510f7d5",
   "metadata": {},
   "outputs": [],
   "source": [
    "# 3. How does the `map()` function differ from a list comprehension in Python, and when would you choose one over the other?\n",
    "\n",
    "\"\"\"\n",
    "The map() function and list comprehensions in Python both provide ways to apply a function to each element of an iterable,\n",
    "but they differ in their syntax, behavior, and use cases.\n",
    "\n",
    "Syntax:\n",
    "map() function:- Requires the use of an explicit function to apply to each element and returns a map object (an iterator).\n",
    "You often need to convert the result to a list or another iterable type if you want to work with the transformed values.\n",
    "\n",
    "List comprehension:- Provides a concise and expressive way to generate a new list by specifying the transformation and filtering \n",
    "conditions directly within square brackets.\n",
    "\n",
    "Function choice:\n",
    "map() typically requires a function to be explicitly defined or specified, which may be more suitable for complex or reusable operations.\n",
    "List comprehensions are a natural choice when you have a simple one-liner operation that doesn't require a separate function.\n",
    "\"\"\"\n"
   ]
  },
  {
   "cell_type": "code",
   "execution_count": 4,
   "id": "9a5681e3-bbb7-4075-86e0-1aaeddd18d4b",
   "metadata": {},
   "outputs": [
    {
     "data": {
      "text/plain": [
       "['PWSKILLS', 'SUDHANSHU KUMAR', 'KRISH NAIK', 'PRIYA BHATIA', 'IMRAN KHAN']"
      ]
     },
     "execution_count": 4,
     "metadata": {},
     "output_type": "execute_result"
    }
   ],
   "source": [
    "# 4. Create a Python program that uses the `map()` function to convert a list of names to uppercase.\n",
    "\n",
    "List = [\"Pwskills\", \"Sudhanshu Kumar\", \"Krish Naik\", \"Priya Bhatia\", \"Imran Khan\"]  # take list of name\n",
    "list(map(lambda a : a.upper(), List))                                               # convert into upper case\n"
   ]
  },
  {
   "cell_type": "code",
   "execution_count": 10,
   "id": "eff78d68-a1a4-405a-8ee1-75eda48b7daa",
   "metadata": {},
   "outputs": [
    {
     "name": "stdout",
     "output_type": "stream",
     "text": [
      "[('Pwskills', 8), ('Sudhanshu Kumar', 15), ('Krish Naik', 10), ('Priya Bhatia', 12), ('Imran Khan', 10)]\n"
     ]
    }
   ],
   "source": [
    "# 5. Write a Python program that uses the `map()` function to calculate the length of each word in a list of strings.\n",
    "\n",
    "List = [\"Pwskills\", \"Sudhanshu Kumar\", \"Krish Naik\", \"Priya Bhatia\", \"Imran Khan\"]  # take list of string\n",
    "Length = list(map(lambda a : len(a), List))\n",
    "print(list(zip(List, Length)))\n"
   ]
  },
  {
   "cell_type": "code",
   "execution_count": 11,
   "id": "97f6092b-0d37-4517-94bf-e926ed3d1fe2",
   "metadata": {},
   "outputs": [
    {
     "name": "stdout",
     "output_type": "stream",
     "text": [
      "Result: [10, 40, 90, 160, 250]\n"
     ]
    }
   ],
   "source": [
    "# 6. How can you use the `map()` function to apply a custom function to elements of multiple lists simultaneously in Python?\n",
    "\n",
    "\"\"\"\n",
    "You can use the map() function in combination with the zip() function to apply a custom function to elements of multiple lists simultaneously\n",
    "in Python. The zip() function is used to combine the corresponding elements of multiple lists into tuples,\n",
    "which can then be processed by the map() function. \n",
    "\"\"\"\n",
    "# Define a custom function that takes multiple arguments\n",
    "def custom_function(a, b):\n",
    "    return a * b\n",
    "\n",
    "# Example lists\n",
    "list1 = [1, 2, 3, 4, 5]\n",
    "list2 = [10, 20, 30, 40, 50]\n",
    "\n",
    "# Use the map() function with zip() to apply the custom function\n",
    "result = list(map(custom_function, list1, list2))\n",
    "\n",
    "print(\"Result:\", result)\n",
    "\n"
   ]
  },
  {
   "cell_type": "code",
   "execution_count": 12,
   "id": "926c5fad-4b21-4ca7-9df5-756ba25a4ad3",
   "metadata": {},
   "outputs": [
    {
     "name": "stdout",
     "output_type": "stream",
     "text": [
      "[93.2, 95.0, 96.8, 98.6, 100.4, 102.2]\n"
     ]
    }
   ],
   "source": [
    "# 7. Create a Python program that uses `map()` to convert a list of temperatures from Celsius to Fahrenheit.\n",
    "\n",
    "Celsius = [34, 35, 36, 37, 38, 39]                         # take list of Celsius value\n",
    "Fahrenheit = list(map(lambda C : (C*9)/5 + 32, Celsius))   # map fahrenheit value\n",
    "print(Fahrenheit)\n"
   ]
  },
  {
   "cell_type": "code",
   "execution_count": 14,
   "id": "d8ac28d1-b6e8-4508-82c2-91789562a883",
   "metadata": {},
   "outputs": [
    {
     "name": "stdout",
     "output_type": "stream",
     "text": [
      "[2, 1, 2, 5, 5, 4, 9]\n"
     ]
    }
   ],
   "source": [
    "# 8. Write a Python program that uses the `map()` function to round each element of a list of floating-point numbers to the nearest integer.\n",
    "\n",
    "List = [2.3, 1.4, 1.8, 4.67, 5.43, 4, 9.08]\n",
    "print(list(map(lambda a : round(a), List)))\n"
   ]
  },
  {
   "cell_type": "markdown",
   "id": "cfda0077-43bf-45f7-abfe-d3c8ad178e28",
   "metadata": {},
   "source": [
    "# Reduce :-"
   ]
  },
  {
   "cell_type": "code",
   "execution_count": 6,
   "id": "fc89e1e3-8ac9-4526-858a-38a0dedeb4ec",
   "metadata": {},
   "outputs": [
    {
     "name": "stdout",
     "output_type": "stream",
     "text": [
      "Factorial of 5 : 120\n"
     ]
    }
   ],
   "source": [
    "# 1. What is the `reduce()` function in Python, and what module should you import to use it? Provide an example of its basic usage.\n",
    "\n",
    "\"\"\"\n",
    "The reduce() function in Python is a built-in function that is part of the functools module.\n",
    "It is used to apply a given function cumulatively to the elements of an iterable, reducing the iterable to a single accumulated result.\n",
    "\n",
    "we can use functools module to import reduce function, \"from functools import reduce\"\n",
    "\"\"\"\n",
    "# example here we calculate factorial of a number\n",
    "from functools import reduce\n",
    "n = 5\n",
    "Factorial = reduce(lambda a, b : a*b, range(1, n+1))\n",
    "print(f\"Factorial of {n} : {Factorial}\")\n"
   ]
  },
  {
   "cell_type": "code",
   "execution_count": 3,
   "id": "5712e2dd-ccff-4386-95bb-809e48ba86b1",
   "metadata": {},
   "outputs": [
    {
     "name": "stdout",
     "output_type": "stream",
     "text": [
      "Product of element in List : 40320\n"
     ]
    }
   ],
   "source": [
    "# 2. Write a Python program that uses the `reduce()` function to find the product of all elements in a list.\n",
    "\n",
    "from functools import reduce\n",
    "List = [1, 2, 3, 4, 5, 6, 7, 8]\n",
    "Product = reduce(lambda a, b : a*b, List)\n",
    "print(f\"Product of element in List : {Product}\")\n"
   ]
  },
  {
   "cell_type": "code",
   "execution_count": 7,
   "id": "02072154-9840-496d-b2f9-d247fc9928db",
   "metadata": {},
   "outputs": [
    {
     "name": "stdout",
     "output_type": "stream",
     "text": [
      "Max : 87\n"
     ]
    }
   ],
   "source": [
    "# 3. Create a Python program that uses `reduce()` to find the maximum element in a list of numbers.\n",
    "\n",
    "from functools import reduce\n",
    "List = [23, 45, 67, 87, 65, 34, 34, 76]\n",
    "Max = reduce(lambda a, b : a if a > b else b, List)\n",
    "print(f\"Max : {Max}\")\n"
   ]
  },
  {
   "cell_type": "code",
   "execution_count": 8,
   "id": "f66ec31a-1dfa-4c9d-ba49-4d9f69721ce4",
   "metadata": {},
   "outputs": [
    {
     "name": "stdout",
     "output_type": "stream",
     "text": [
      "Concatenate String : PwskillsSudhanshu KumarKrish NaikPriya BhatiaImran Khan\n"
     ]
    }
   ],
   "source": [
    "# 4. How can you use the `reduce()` function to concatenate a list of strings into a single string?\n",
    "\n",
    "# We can use the reduce() function to concatenate a list of strings into a single string by applying a lambda function that combines the strings.\n",
    "List = [\"Pwskills\", \"Sudhanshu Kumar\", \"Krish Naik\", \"Priya Bhatia\", \"Imran Khan\"]  # take list of string\n",
    "Concatenate_string = reduce(lambda a, b: a+b, List)\n",
    "print(f\"Concatenate String : {Concatenate_string}\")\n"
   ]
  },
  {
   "cell_type": "code",
   "execution_count": 9,
   "id": "d8516809-4e50-4317-9ee6-e148e0d38971",
   "metadata": {},
   "outputs": [
    {
     "name": "stdout",
     "output_type": "stream",
     "text": [
      "Factorial of 5 : 120\n"
     ]
    }
   ],
   "source": [
    "# 5. Write a Python program that calculates the factorial of a number using the `reduce()` function.\n",
    "\n",
    "from functools import reduce\n",
    "n = 5\n",
    "Factorial = reduce(lambda a, b : a*b, range(1, n+1))\n",
    "print(f\"Factorial of {n} : {Factorial}\")\n",
    "\n"
   ]
  },
  {
   "cell_type": "code",
   "execution_count": 10,
   "id": "aa6cc57f-aadf-4c8d-ae40-7667812778a1",
   "metadata": {},
   "outputs": [
    {
     "name": "stdout",
     "output_type": "stream",
     "text": [
      "GCD of a List of number : 16\n"
     ]
    }
   ],
   "source": [
    "# 6. Create a Python program that uses `reduce()` to find the GCD (Greatest Common Divisor) of a list of numbers.\n",
    "\n",
    "from functools import reduce\n",
    "def GCD(num1, num2):   # create function to calculate GCD\n",
    "    if num1 == 0:\n",
    "        return num2\n",
    "    \n",
    "    if num2 == 0:\n",
    "        return num1\n",
    "    \n",
    "    if num1 == num2:\n",
    "        return num1\n",
    "    \n",
    "    GCD = 1\n",
    "    for i in range(1, abs(num1)+1):\n",
    "        if num1%i == 0 and num2%i == 0:\n",
    "            GCD = i\n",
    "    return GCD\n",
    "List = [32, 80, 32, 160, 128, 96]\n",
    "GCD = reduce(GCD, List)           # in reduce function we pass two argument one was function and other is list of data \n",
    "print(f\"GCD of a List of number : {GCD}\")\n"
   ]
  },
  {
   "cell_type": "code",
   "execution_count": 18,
   "id": "9f7aeac4-b839-41dc-9c34-89a59969d118",
   "metadata": {},
   "outputs": [
    {
     "name": "stdout",
     "output_type": "stream",
     "text": [
      "Sum of digits is : 21\n"
     ]
    }
   ],
   "source": [
    "# 7. Write a Python program that uses the `reduce()` function to find the sum of the digits of a given number.\n",
    "\n",
    "N = 123456            # take number\n",
    "List_of_digit = []    # create a list to store all digits of Number N\n",
    "while N != 0:\n",
    "    List_of_digit.append(N%10)\n",
    "    N = N//10\n",
    "\n",
    "Sum_of_digits = reduce(lambda a, b : a+b, List_of_digit)  # calculate sum of digit using reducer function\n",
    "print(f\"Sum of digits is : {Sum_of_digits}\")\n"
   ]
  },
  {
   "cell_type": "markdown",
   "id": "a482574e-3ef7-4946-a1b4-69ba28b9e02f",
   "metadata": {},
   "source": [
    "# Filter :-"
   ]
  },
  {
   "cell_type": "code",
   "execution_count": 5,
   "id": "18835f3a-f7d4-4b86-93ab-e7ae3ddcc7d7",
   "metadata": {},
   "outputs": [
    {
     "name": "stdout",
     "output_type": "stream",
     "text": [
      "Even Numbers : [1, 3, 5, 7, 9]\n"
     ]
    }
   ],
   "source": [
    "# 1 Explain the purpose of the filter() function in Python and provide an example of how it can be used to filter elements from an iterable.\n",
    "\"\"\"\n",
    "Filter Function nothing but filter out some data from an iterable based on specified condition apply.\n",
    "Filter function takes two arguments one is function and otherone is iterable data.\n",
    "It returns a new iterable containing only the elements that satisfy the given condition.\n",
    "The purpose of the filter() function is to allow you to selectively include or exclude elements from the original iterable.\n",
    "\"\"\"\n",
    "# example :- filter out all odd number in given list.\n",
    "List = [1, 2, 3, 4, 5, 6, 7, 8, 9]\n",
    "odd_num = list(filter(lambda a : a%2 != 0, List))\n",
    "print(f\"Even Numbers : {odd_num}\")\n"
   ]
  },
  {
   "cell_type": "code",
   "execution_count": 6,
   "id": "4adcf982-a097-4ac1-999f-454aad6770b9",
   "metadata": {},
   "outputs": [
    {
     "name": "stdout",
     "output_type": "stream",
     "text": [
      "Even Numbers : [2, 4, 6, 8]\n"
     ]
    }
   ],
   "source": [
    "# 2. Write a Python program that uses the `filter()` function to select even numbers from a list of integers.\n",
    "\n",
    "List = [1, 2, 3, 4, 5, 6, 7, 8, 9]                    # take input list\n",
    "even_num = list(filter(lambda a : a%2 == 0, List))    # filter out all even numbers using filter function.\n",
    "print(f\"Even Numbers : {even_num}\")\n"
   ]
  },
  {
   "cell_type": "code",
   "execution_count": 8,
   "id": "b297c0fe-239c-48c4-a88b-228e35b93eca",
   "metadata": {},
   "outputs": [
    {
     "name": "stdout",
     "output_type": "stream",
     "text": [
      "['Pwskills', 'Priya Bhatia']\n"
     ]
    }
   ],
   "source": [
    "# 3. Create a Python program that uses the `filter()` function to select names that start with a specific letter from a list of strings.\n",
    "\n",
    "List = [\"Pwskills\", \"Sudhanshu Kumar\", \"Krish Naik\", \"Priya Bhatia\", \"Imran Khan\"]  # take list of name\n",
    "specified_char = \"P\"                                                                # specified char\n",
    "list_of_string = list(filter(lambda a : a[0] == specified_char, List))              # filter the data which starts with P\n",
    "print(list_of_string)\n"
   ]
  },
  {
   "cell_type": "code",
   "execution_count": 6,
   "id": "9d89f9db-74d3-4eaf-bbc3-85f53eaf15f0",
   "metadata": {},
   "outputs": [
    {
     "name": "stdout",
     "output_type": "stream",
     "text": [
      "Prime list : [2, 3, 5, 7, 11, 13, 17, 19]\n"
     ]
    }
   ],
   "source": [
    "# 4. Write a Python program that uses the `filter()` function to select prime numbers from a list of integers.\n",
    "\n",
    "List = [1, 2, 3, 4, 5, 6, 7, 8, 9, 10, 11, 12, 13, 14, 15, 16, 17, 18, 19, 20]                    # take input list\n",
    "def prime(n):                # here we create a function to check prime numbers\n",
    "    if n == 2 or n == 3:\n",
    "        return n\n",
    "    else: \n",
    "        for i in range(2, n//2+1):\n",
    "            if n%i == 0:\n",
    "                return\n",
    "            if i == n//2:\n",
    "                return n\n",
    "prime_list = list(filter(prime, List)) # we pass custom prime function and list of data in filter function.\n",
    "print(f\"Prime list : {prime_list}\")\n"
   ]
  },
  {
   "cell_type": "code",
   "execution_count": 11,
   "id": "c4d4411e-22e0-47bd-8d53-febf19703121",
   "metadata": {},
   "outputs": [
    {
     "name": "stdout",
     "output_type": "stream",
     "text": [
      "Non Nune Value : [1, 2, 3, 4, 5, 7, 6, 8]\n"
     ]
    }
   ],
   "source": [
    "# 5. How can you use the `filter()` function to remove None values from a list in Python?\n",
    "\n",
    "List = [1, None, 2, None, None, 3, 4, 5, None, None, None, 7, 6, None, 8]  #list containing None values\n",
    "non_none_list = list(filter(lambda a: a if a != None else None, List))     # filter all None value\n",
    "print(f\"Non None Value : {non_none_list}\")\n"
   ]
  },
  {
   "cell_type": "code",
   "execution_count": 14,
   "id": "f407afa8-395a-4035-8f03-b1f2bfc8b826",
   "metadata": {},
   "outputs": [
    {
     "name": "stdout",
     "output_type": "stream",
     "text": [
      "['Pwskills', 'Sudhanshu', 'Bhatia']\n"
     ]
    }
   ],
   "source": [
    "# 6. Create a Python program that uses `filter()` to select words longer than a certain length from a list of strings.\n",
    "\n",
    "List = [\"Pwskills\", \"Sudhanshu\", \"Kumar\", \"Krish\", \"Naik\", \"Priya\", \"Bhatia\", \"Imran\", \"Khan\"]  # take list of string\n",
    "new_list = list(filter(lambda a : a if len(a) > 5 else None, List))   # filter word which is greater than 5\n",
    "print(new_list)\n"
   ]
  },
  {
   "cell_type": "code",
   "execution_count": 16,
   "id": "d976fa3b-28c8-44e8-8705-997d27ba481e",
   "metadata": {},
   "outputs": [
    {
     "name": "stdout",
     "output_type": "stream",
     "text": [
      "[13, 14, 15, 16, 17, 18, 19, 20]\n"
     ]
    }
   ],
   "source": [
    "# 7. Write a Python program that uses the `filter()` function to select elements greater than a specified threshold from a list of values.\n",
    "\n",
    "List = [1, 2, 3, 4, 5, 6, 7, 8, 9, 10, 11, 12, 13, 14, 15, 16, 17, 18, 19, 20] # take input list\n",
    "threshold = 12                                                                 # initialize threshold 12\n",
    "new_list = list(filter(lambda a : a if a > threshold else None, List))         # filter element which is greater than threshold\n",
    "print(new_list)\n"
   ]
  },
  {
   "cell_type": "markdown",
   "id": "8924cf8e-0ead-4695-8975-35cf6152c28e",
   "metadata": {},
   "source": [
    "# Recursion:-"
   ]
  },
  {
   "cell_type": "code",
   "execution_count": null,
   "id": "221a42c2-c51a-45cc-8e9a-8e552dca2e30",
   "metadata": {},
   "outputs": [],
   "source": [
    "# 1. Explain the concept of recursion in Python. How does it differ from iteration?\n",
    "\"\"\"\n",
    "Recursion:- Basic Means of recursion is function calls itself to solve smaller problem.\n",
    "Recursion in computer science is a method where the solution to a problem\t\n",
    "depends\ton solutions to smaller\tinstances of the same problem. By same nature it\t\n",
    "actually means that the\tapproach that we use to solve the original problem can be\t\n",
    "used to solve smaller problems as well.\n",
    "\n",
    "In recursion, a program repeatedly calls itself until a condition is met, while in iteration,\n",
    "a set of instructions is repeated until a condition is met.\n",
    "\"\"\""
   ]
  },
  {
   "cell_type": "code",
   "execution_count": 17,
   "id": "8d2927a3-4806-476c-a76a-772781406c43",
   "metadata": {},
   "outputs": [
    {
     "name": "stdin",
     "output_type": "stream",
     "text": [
      "Enter number :  5\n"
     ]
    },
    {
     "name": "stdout",
     "output_type": "stream",
     "text": [
      "Factorial of 5 is : 120\n"
     ]
    }
   ],
   "source": [
    "# 2. Write a Python program to calculate the factorial of a number using recursion.\n",
    "\n",
    "def factorial(n):\n",
    "    if n == 0:\n",
    "        return 1\n",
    "    else:\n",
    "        return n*factorial(n-1)\n",
    "N = int(input(\"Enter number : \"))\n",
    "result = factorial(N)\n",
    "print(f\"Factorial of {N} is : {result}\")\n"
   ]
  },
  {
   "cell_type": "code",
   "execution_count": 27,
   "id": "94e43bec-4042-4940-a994-29f0d246d7f1",
   "metadata": {},
   "outputs": [
    {
     "name": "stdin",
     "output_type": "stream",
     "text": [
      "Enter number :  4\n"
     ]
    },
    {
     "name": "stdout",
     "output_type": "stream",
     "text": [
      "Fibonacci of 4th is : 3\n"
     ]
    }
   ],
   "source": [
    "# 3. Create a recursive Python function to find the nth Fibonacci number.\n",
    "\n",
    "def fibonacci(n):\n",
    "    if n <= 1:\n",
    "        return n\n",
    "    else:\n",
    "        return fibonacci(n-1) + fibonacci(n-2)\n",
    "N = int(input(\"Enter number : \"))\n",
    "result = fibonacci(N)\n",
    "print(f\"Fibonacci of {N}th term is : {result}\")\n",
    "        \n"
   ]
  },
  {
   "cell_type": "code",
   "execution_count": 32,
   "id": "c763ae6e-273d-467e-94e7-8f3ac6d7a242",
   "metadata": {},
   "outputs": [
    {
     "name": "stdout",
     "output_type": "stream",
     "text": [
      "Sum of all element in Given List is : 28\n"
     ]
    }
   ],
   "source": [
    "# 4. Write a recursive Python function to calculate the sum of all elements in a list.\n",
    "\n",
    "def Sum(List):             # create Sum function\n",
    "    if len(List) == 1:     # base case to return base value\n",
    "        return List[0]\n",
    "    else:\n",
    "        return List[0] + Sum(List[1:])  # recursive call\n",
    "\n",
    "List = [1, 2, 3, 4, 5, 6, 7]    # take List\n",
    "result = Sum(List)              # call function\n",
    "print(f\"Sum of all element in Given List is : {result}\")"
   ]
  },
  {
   "cell_type": "code",
   "execution_count": null,
   "id": "ac1ac44b-411a-4b1c-a2cc-8b8c5746b614",
   "metadata": {},
   "outputs": [],
   "source": [
    "# 5. How can you prevent a recursive function from running indefinitely, causing a stack overflow error?\n",
    "\"\"\"\n",
    "Implement a base case: A base case is a condition in which the recursive function will not call itself again. \n",
    "This is important because it ensures that the recursive function will eventually stop and not continue indefinitely, \n",
    "which can lead to stack overflow.\n",
    "\"\"\""
   ]
  },
  {
   "cell_type": "code",
   "execution_count": 1,
   "id": "bb7b438e-569d-47a5-83ca-4ecf21e86d70",
   "metadata": {},
   "outputs": [
    {
     "name": "stdin",
     "output_type": "stream",
     "text": [
      "Enter number :  45\n",
      "Enter number :  75\n"
     ]
    },
    {
     "name": "stdout",
     "output_type": "stream",
     "text": [
      "GCD of 45, 75 is : 15\n"
     ]
    }
   ],
   "source": [
    "# 6. Create a recursive Python function to find the greatest common divisor (GCD) of two numbers using the Euclidean algorithm.\n",
    "\n",
    "\"\"\"\n",
    "The Euclidean algorithm is a way to find the greatest common divisor of two positive integers.\n",
    "GCD of two numbers is the largest number that divides both of them. \n",
    "If we subtract a smaller number from a larger one (we reduce a larger number), GCD doesn’t change.\n",
    "So if we keep subtracting repeatedly the larger of two, we end up with GCD.\n",
    "Now instead of subtraction, if we divide the smaller number, the algorithm stops when we find the remainder 0.\n",
    "\"\"\"\n",
    "def GCD(a, b):   # create function to find gcd\n",
    "    if a == 0:   # base case if smaller number is 0 then return the value of second nuber\n",
    "        return b\n",
    "    else:\n",
    "        return GCD(b%a, a) # recursive call\n",
    "    \n",
    "a = int(input(\"Enter number : \")) # take number from user\n",
    "b = int(input(\"Enter number : \")) # take number from user\n",
    "result = GCD(a, b)                # function call\n",
    "print(f\"GCD of {a}, {b} is : {result}\")\n"
   ]
  },
  {
   "cell_type": "code",
   "execution_count": 2,
   "id": "1b1af815-f13f-4227-9e26-f1d84eb5dcc8",
   "metadata": {},
   "outputs": [
    {
     "name": "stdin",
     "output_type": "stream",
     "text": [
      "Enter String :  pwskills\n"
     ]
    },
    {
     "name": "stdout",
     "output_type": "stream",
     "text": [
      "Reversed String : sllikswp\n"
     ]
    }
   ],
   "source": [
    "# 7. Write a recursive Python function to reverse a string.\n",
    "\n",
    "def reverse_string(string):  # create reversed string function \n",
    "    if len(string) == 1:     # base case if length of string is 1 then return first char of string\n",
    "        return string[0]\n",
    "    else:\n",
    "        return string[len(string) - 1] + reverse_string(string[0:len(string)-1])  # recusive call\n",
    "string = input(\"Enter String : \")     # take string from user\n",
    "result = reverse_string(string)       # function call\n",
    "print(f\"Reversed String : {result}\")\n"
   ]
  },
  {
   "cell_type": "code",
   "execution_count": 4,
   "id": "155337b7-4733-4303-8d68-6550f95873b8",
   "metadata": {},
   "outputs": [
    {
     "name": "stdin",
     "output_type": "stream",
     "text": [
      "Enter Number :  3\n",
      "Enter Power :  0\n"
     ]
    },
    {
     "name": "stdout",
     "output_type": "stream",
     "text": [
      "3 power of 0 is : 1\n"
     ]
    }
   ],
   "source": [
    "# 8. Create a recursive Python function to calculate the power of a number (x^n).\n",
    "\n",
    "def power(x, n):   # create function\n",
    "    if n == 0:     # base case if power value is equal to 1 return number and if its 0 the return 1\n",
    "        return 1\n",
    "    elif n == 1:\n",
    "        return x\n",
    "    else:\n",
    "        return x*power(x, n-1)      # recursive call  \n",
    "N = int(input(\"Enter Number : \"))   # take number from user\n",
    "P = int(input(\"Enter Power : \"))    # take power from user\n",
    "result = power(N, P)                # function call\n",
    "print(f\"{N} power of {P} is : {result}\")\n"
   ]
  },
  {
   "cell_type": "code",
   "execution_count": 12,
   "id": "9de7e9ea-414a-4631-ac6b-a7042816d050",
   "metadata": {},
   "outputs": [
    {
     "name": "stdout",
     "output_type": "stream",
     "text": [
      "['abc', 'acb', 'bac', 'bca', 'cab', 'cba']\n"
     ]
    }
   ],
   "source": [
    "# 9. Write a recursive Python function to find all permutations of a given string.\n",
    "\n",
    "# If the length of the string is 1, return a list containing the string\n",
    "# Otherwise, for each character in the string:\n",
    "# a. Fix the current character and recursively find all permutations of the remaining characters\n",
    "# b. Add the current character to the beginning of each permutation\n",
    "# c. Append the permutations to a list and return the list\n",
    "# \t\t\tfor perm in find_permutations(s[:i] + s[i+1:]):\n",
    "\n",
    "def find_permutations(s):\n",
    "\tif len(s) == 1:\n",
    "\t\treturn [s]\n",
    "\telse:\n",
    "\t\tperms = []\n",
    "\t\tfor i, c in enumerate(s):\n",
    "\t\t\tfor perm in find_permutations(s[:i] + s[i+1:]):\n",
    "\t\t\t\tperms.append(c + perm)\n",
    "\t\treturn perms\n",
    "\n",
    "s = 'abc'\n",
    "print(find_permutations(s))"
   ]
  },
  {
   "cell_type": "code",
   "execution_count": 24,
   "id": "365e2bab-4ede-49d3-b7fb-270c55af62f3",
   "metadata": {},
   "outputs": [
    {
     "name": "stdin",
     "output_type": "stream",
     "text": [
      "Enter String :  malayalam\n"
     ]
    },
    {
     "name": "stdout",
     "output_type": "stream",
     "text": [
      "String malayalam is Palindrome\n"
     ]
    }
   ],
   "source": [
    "# 10. Write a recursive Python function to check if a string is a palindrome.\n",
    "\n",
    "def check_palindrome(string, s, e):                         # create a function to check string is palindrome or not \n",
    "    if s == e:                                              # base case if there is only one character\n",
    "        return True\n",
    "    if string[s] != string[e]:                              # if first and last char not identical then return false\n",
    "        return False\n",
    "    if s < e+1:                                             # recursive call\n",
    "        return check_palindrome(string, s+1, e-1)\n",
    "    return True\n",
    "\n",
    "string = input(\"Enter String : \")                           # take string from user\n",
    "result = check_palindrome(string, s = 0, e = len(string)-1) # store boolean result\n",
    "\n",
    "if result:\n",
    "    print(f\"String {string} is Palindrome\")\n",
    "else:\n",
    "    print(f\"String {string} is Not palindrome\")\n",
    "        \n"
   ]
  },
  {
   "cell_type": "code",
   "execution_count": 3,
   "id": "ae10a249-040e-4f80-b092-96c9fc1f41bc",
   "metadata": {},
   "outputs": [
    {
     "name": "stdout",
     "output_type": "stream",
     "text": [
      "All Combination of List Elements: [[], [1], [2], [1, 2], [3], [1, 3], [2, 3], [1, 2, 3], [4], [1, 4], [2, 4], [1, 2, 4], [3, 4], [1, 3, 4], [2, 3, 4], [1, 2, 3, 4]]\n"
     ]
    }
   ],
   "source": [
    "# 11. Create a recursive Python function to generate all possible combinations of a list of elements.\n",
    "\n",
    "def list_combination(List):\n",
    "    if List:\n",
    "      result = list_combination(List[:-1])\n",
    "      return result + [c + [List[-1]] for c in result]\n",
    "    else:\n",
    "      return [[]]\n",
    "List = [1, 2, 3, 4]\n",
    "result = list_combination(List)\n",
    "print(f\"All Combination of List Elements: {result}\")"
   ]
  },
  {
   "cell_type": "markdown",
   "id": "79e01c6f-40d8-44a6-a154-dedc04ee60ab",
   "metadata": {},
   "source": [
    "# Basics of Functions:"
   ]
  },
  {
   "cell_type": "code",
   "execution_count": null,
   "id": "ef2bda2c-aa0c-49fd-89e2-97d47159d2cf",
   "metadata": {},
   "outputs": [],
   "source": [
    "# 1. What is a function in Python, and why is it used?\n",
    "\"\"\"\n",
    "A function is a block of code which only runs when it is called. We can pass data, known as parameters, into a function.\n",
    "A function can return data as a result.\n",
    "\n",
    "Functions are an excellent alternative to having repeating blocks of code in a program. Functions also increase the reusability of code.\n",
    "Values can be passed to a function using variables — we call these parameters or arguments. Functions can also return values.\n",
    "\"\"\""
   ]
  },
  {
   "cell_type": "code",
   "execution_count": 4,
   "id": "294ec8a1-c509-42c7-936d-7e11acc895d4",
   "metadata": {},
   "outputs": [
    {
     "name": "stdout",
     "output_type": "stream",
     "text": [
      "11\n"
     ]
    }
   ],
   "source": [
    "# 2. How do you define a function in Python? Provide an example.\n",
    "'''\n",
    "We define a function in python with the def keyword, then write the function identifier (name) followed by parentheses and a colon.\n",
    "'''\n",
    "# example:- we create a function to add two number.\n",
    "def Sum(a, b):  # create sum function\n",
    "    c = a+b     # add numbers and store into new variable c\n",
    "    return c    # return result\n",
    "result = Sum(5,6)\n",
    "print(result)\n"
   ]
  },
  {
   "cell_type": "code",
   "execution_count": null,
   "id": "a415103d-f26a-4412-a8f5-1fd27c39bd91",
   "metadata": {},
   "outputs": [],
   "source": [
    "# 3. Explain the difference between a function definition and a function call.\n",
    "'''\n",
    "A function definition provides the actual body of the function, function definition is a block of code that performs a specific task,\n",
    "while a function call is an expression that invokes a function and executes the code in the function.\n",
    "'''"
   ]
  },
  {
   "cell_type": "code",
   "execution_count": 5,
   "id": "60f1cf0b-3ce9-4121-a7d1-7dcc0d947ff7",
   "metadata": {},
   "outputs": [
    {
     "name": "stdin",
     "output_type": "stream",
     "text": [
      "Enter First Number :  3\n",
      "Enter Second Number :  4\n"
     ]
    },
    {
     "name": "stdout",
     "output_type": "stream",
     "text": [
      "Sum of 3 and 4 is : 7\n"
     ]
    }
   ],
   "source": [
    "# 4. Write a Python program that defines a function to calculate the sum of two numbers and then calls the function.\n",
    "\n",
    "def calculate_sum(a, b):                   # create function to add two numbers\n",
    "    return a+b                             # return the sum value\n",
    "a = int(input(\"Enter First Number : \"))    # take number from user\n",
    "b = int(input(\"Enter Second Number : \"))   # take number from user\n",
    "\n",
    "result = calculate_sum(a, b)               # call function calculate_sum and store the return value in result\n",
    "\n",
    "print(f\"Sum of {a} and {b} is : {result}\")"
   ]
  },
  {
   "cell_type": "code",
   "execution_count": null,
   "id": "0f5bbe8b-a599-420e-b532-7a6606ac811c",
   "metadata": {},
   "outputs": [],
   "source": [
    "# 5. What is a function signature, and what information does it typically include?\n",
    "'''\n",
    "The signature indicates the names and types of the input arguments, and (with type annotations) the type of the returned result(s)\n",
    "of a function or method,a function signature in Python reveals a lot about the properties about that particular function.\n",
    "\n",
    "A function signature typically informs us about the types of parameters that a function can accept as arguments and the type of data\n",
    "or result it returns.\n",
    "\n",
    "We can get function Signature with the help of signature() Function. It takes callable as a parameter and returns the annotation.\n",
    "It raises a value Error if no signature is provided. If the Invalid type object is given then it throws a Type Error.\n",
    "\n",
    "'''"
   ]
  },
  {
   "cell_type": "code",
   "execution_count": 6,
   "id": "55cc724b-05b4-4f1e-9113-79509694a951",
   "metadata": {},
   "outputs": [
    {
     "name": "stdin",
     "output_type": "stream",
     "text": [
      "Enter First Number :  4\n",
      "Enter Second Number :  5\n"
     ]
    },
    {
     "name": "stdout",
     "output_type": "stream",
     "text": [
      "Product of 4 and 5 is : 20\n"
     ]
    }
   ],
   "source": [
    "# 6. Create a Python function that takes two arguments and returns their product.\n",
    "\n",
    "def calculate_product(a, b):               # create function to product two numbers\n",
    "    return a*b                             # return the product value\n",
    "a = int(input(\"Enter First Number : \"))    # take number from user\n",
    "b = int(input(\"Enter Second Number : \"))   # take number from user\n",
    "\n",
    "result = calculate_product(a, b)               # call function calculate_product and store the return value in result\n",
    "\n",
    "print(f\"Product of {a} and {b} is : {result}\")\n"
   ]
  },
  {
   "cell_type": "markdown",
   "id": "0b039da0-0511-4d22-b64d-99becfecb950",
   "metadata": {},
   "source": [
    "# Function Parameters and Arguments:"
   ]
  },
  {
   "cell_type": "code",
   "execution_count": null,
   "id": "1007f3ea-a0c0-4442-a97d-726edacd7792",
   "metadata": {},
   "outputs": [],
   "source": [
    "# 1. Explain the concepts of formal parameters and actual arguments in Python functions.\n",
    "'''\n",
    "Actual Parameters vary from Formal Parameters in that Actual Parameters are values supplied to the function when it is invoked,\n",
    "whereas Formal Parameters are variables declared by the function that get values when the function is called.\n",
    "'''"
   ]
  },
  {
   "cell_type": "code",
   "execution_count": 10,
   "id": "d0dbf812-4573-410d-931b-ba0ef4ce7840",
   "metadata": {},
   "outputs": [
    {
     "name": "stdout",
     "output_type": "stream",
     "text": [
      " Student Name : Aakash, Roll Number : 12, Standard : 9, Stream : science\n",
      " Student Name : Yash, Roll Number : 1, Standard : 11, Stream : commerse\n",
      " Student Name : Sidharth, Roll Number : 53, Standard : 12, Stream : science\n"
     ]
    }
   ],
   "source": [
    "# 2. Write a Python program that defines a function with default argument values.\n",
    "'''\n",
    "Python has a different way of representing syntax and default values for function arguments.\n",
    "Default values indicate that the function argument will take that value if no argument value is passed during the function call. \n",
    "The default value is assigned by using the assignment(=) operator of the form keywordname=value.\n",
    "'''\n",
    "# student_name, roll_num are arguments, we must to pass it when function call\n",
    "# standard, stream are create as default arguments if we not give value to standard and stream by default it 9 and science.\n",
    "def default_arguments(student_name, roll_num, standard = 9, stream = \"science\"):\n",
    "    print(f\" Student Name : {student_name}, Roll Number : {roll_num}, Standard : {standard}, Stream : {stream}\")\n",
    "\n",
    "# Example\n",
    "default_arguments(\"Aakash\", 12)\n",
    "default_arguments(\"Yash\", 1, 11, \"commerse\")\n",
    "default_arguments(\"Sidharth\", 53, 12)"
   ]
  },
  {
   "cell_type": "code",
   "execution_count": 11,
   "id": "e2f9a543-51f9-40a5-b208-22caf831c9d9",
   "metadata": {},
   "outputs": [
    {
     "name": "stdout",
     "output_type": "stream",
     "text": [
      "Person Name : Farhn, Person Age : 23\n",
      "Person Name : Farhan, Person Age : 23\n"
     ]
    }
   ],
   "source": [
    "# 3. How do you use keyword arguments in Python function calls? Provide an example.\n",
    "'''\n",
    "Keyword arguments mean whenever we pass the arguments(or value) by their parameter names at the time of calling the function in Python\n",
    "in which if you change the position of arguments then there will be no change in the output\n",
    "'''\n",
    "def keyword_arguments(name, age):\n",
    "    print(f\"Person Name : {name}, Person Age : {age}\")\n",
    "    \n",
    "keyword_arguments(\"Farhn\", 23)                 # positional argument\n",
    "keyword_arguments(age = 23, name = \"Farhan\")   # keyword argument\n"
   ]
  },
  {
   "cell_type": "code",
   "execution_count": 13,
   "id": "b61911fd-d966-4eba-aaf1-0a58843a8c31",
   "metadata": {},
   "outputs": [
    {
     "name": "stdout",
     "output_type": "stream",
     "text": [
      "Sum of all arguments is : 45\n"
     ]
    }
   ],
   "source": [
    "# 4. Create a Python function that accepts a variable number of arguments and calculates their sum.\n",
    "\n",
    "def Sum(*args):       # create a function to calculate sum of all arguments \n",
    "    return sum(args)  # return Sum\n",
    "\n",
    "result = Sum(1, 2, 3, 4, 5, 6, 7, 8, 9)  # Call function and store sum value in result \n",
    "print(f\"Sum of all arguments is : {result}\")\n"
   ]
  },
  {
   "cell_type": "code",
   "execution_count": null,
   "id": "b62531c3-045d-4e77-9e5e-30ebaf1fb8f9",
   "metadata": {},
   "outputs": [],
   "source": [
    "# 5. What is the purpose of the `*args` and `**kwargs` syntax in function parameter lists?\n",
    "'''\n",
    "*args (Non-Keyword Arguments)\n",
    "**kwargs (Keyword Arguments)\n",
    "\n",
    "*args :- The special syntax *args in function definitions in Python is used to pass a variable number of arguments to a function.\n",
    "It is used to pass a non-keyworded, variable-length argument list. \n",
    "\n",
    "**kwargs :- The special syntax **kwargs in function definitions in Python is used to pass a keyworded, variable-length argument list.\n",
    "We use the name kwargs with the double star. The reason is that the double star allows us to pass through keyword arguments (and any number of them).\n",
    "One can think of the kwargs as being a dictionary that maps each keyword to the value that we pass alongside it. \n",
    "That is why when we iterate over the kwargs there doesn’t seem to be any order in which they were printed out.\n",
    "'''"
   ]
  },
  {
   "cell_type": "markdown",
   "id": "7f8fc732-2e58-4227-a165-b9772f56969d",
   "metadata": {},
   "source": [
    "# Return Values and Scoping:"
   ]
  },
  {
   "cell_type": "code",
   "execution_count": null,
   "id": "673f7c00-f750-487b-b6a5-1a295128b593",
   "metadata": {},
   "outputs": [],
   "source": [
    "# 1. Describe the role of the `return` statement in Python functions and provide examples.\n",
    "'''\n",
    "A return statement is used to end the execution of the function call and “returns” the result (value of the expression following the return keyword)\n",
    "to the caller. The statements after the return statements are not executed. If the return statement is without any expression,\n",
    "then the special value None is returned.\n",
    "'''"
   ]
  },
  {
   "cell_type": "code",
   "execution_count": null,
   "id": "9b0f2d44-5823-4f73-90a8-2611ce1c08f3",
   "metadata": {},
   "outputs": [],
   "source": [
    "# 2. Explain the concept of variable scope in Python, including local and global variables.\n",
    "'''\n",
    "Python Global variables are those which are not defined inside any function and have a global scope whereas\n",
    "Python local variables are those which are defined inside a function and their scope is limited to that function only.\n",
    "Global Variable :- \n",
    "1. declared outside the functions\n",
    "2. They are created  the execution of the program begins and are lost when the program is ended.\n",
    "3. Offers Data Sharing.\n",
    "4. Can be access throughout the code.\n",
    "5. A fixed location selected by the compiler.\n",
    "6. Once the value changes it is reflected throughout the code.\n",
    "\n",
    "Local Variables :- \n",
    "1. declared within the functions.\n",
    "2. They are created when the function starts its execution and are lost when the function ends.\n",
    "3. It doesn’t offers Data Sharing.\n",
    "4. Can access only inside the function.\n",
    "5. They are  kept on the stack.\n",
    "6. once changed the variable don’t affect other functions of the program.\n",
    "'''"
   ]
  },
  {
   "cell_type": "code",
   "execution_count": 1,
   "id": "850e26ab-3fce-4ae7-b639-87170c8e3869",
   "metadata": {},
   "outputs": [
    {
     "name": "stdin",
     "output_type": "stream",
     "text": [
      "Enter char :  a\n"
     ]
    },
    {
     "name": "stdout",
     "output_type": "stream",
     "text": [
      "Vowel\n"
     ]
    }
   ],
   "source": [
    "# 3. Write a Python program that demonstrates the use of global variables within functions.\n",
    "\n",
    "def Check_vowels(char):         # here we create a function check vowels or not\n",
    "    if char in vowels:          # here we use Global variable (vowels) inside function to check char is vowels or not.\n",
    "        return True\n",
    "    else:\n",
    "        return False\n",
    "    \n",
    "char = input(\"Enter char : \")   # take char from users\n",
    "vowels = \"AEIOUaeiou\"           # creating Global variable vowels\n",
    "\n",
    "result = Check_vowels(char)     # call Check_vowels function and store boolean vallue in result variable \n",
    "if result:\n",
    "    print(\"Vowel\")\n",
    "else:\n",
    "    print(\"Consonant\")\n"
   ]
  },
  {
   "cell_type": "code",
   "execution_count": 4,
   "id": "8b1773b7-00bf-4090-92dc-1239faabf825",
   "metadata": {},
   "outputs": [
    {
     "name": "stdin",
     "output_type": "stream",
     "text": [
      "Enter Number :  5\n"
     ]
    },
    {
     "name": "stdout",
     "output_type": "stream",
     "text": [
      "Factorial of 5 is : 120\n"
     ]
    }
   ],
   "source": [
    "# 4. Create a Python function that calculates the factorial of a number and returns it.\n",
    "\n",
    "def factorial(n):                          # create function to calculate factorial\n",
    "    fact = 1                               # create local variable fact = 1\n",
    "    for i in range(1, n+1):                # iterate for loop to calculate factorial of a number\n",
    "        fact *= i\n",
    "    return fact                            # return factorial\n",
    "N = int(input(\"Enter Number : \"))          # take input from user\n",
    "result = factorial(N)                      # call function and store the return value in result\n",
    "print(f\"Factorial of {N} is : {result}\")\n"
   ]
  },
  {
   "cell_type": "code",
   "execution_count": 5,
   "id": "46490f0d-5262-4a56-9f84-423d8ee4622b",
   "metadata": {},
   "outputs": [
    {
     "name": "stdin",
     "output_type": "stream",
     "text": [
      "Enter Radius :  4\n"
     ]
    },
    {
     "name": "stdout",
     "output_type": "stream",
     "text": [
      "Area of circle is : 50.285714285714285\n"
     ]
    }
   ],
   "source": [
    "# 5. How can you access variables defined outside a function from within the function?\n",
    "'''\n",
    "Local Variables cannot be accessed outside the function but Global Variables can be accessed within the function.\n",
    "Also, we can use a Global Keyword to access the local variables outside the function. \n",
    "If the variable is declared within the nested function then we can use keyword nonlocal in python.\n",
    "'''\n",
    "# here we do one example use of global variable inside function.\n",
    "\n",
    "def calculate_area(r):                    # here we create a function to calculate area of circle\n",
    "    area = pi*r*r                         # here we create a local variable area and calculating area we use global variable pi and multiply with r^2\n",
    "    return area                           # return area\n",
    "radius = float(input(\"Enter Radius : \"))  # take circle radius from user\n",
    "pi = 22/7                                 # we create global variable pi\n",
    "result = calculate_area(radius)           # call funtion and store result\n",
    "print(f\"Area of circle is : {result}\")\n"
   ]
  },
  {
   "cell_type": "markdown",
   "id": "bf34cea8-f748-4941-a479-7d71b3b914bb",
   "metadata": {},
   "source": [
    "# Lambda Functions and Higher-Order Functions:"
   ]
  },
  {
   "cell_type": "code",
   "execution_count": null,
   "id": "40066246-2f2f-4927-853e-2c4d6d10e893",
   "metadata": {},
   "outputs": [],
   "source": [
    "# 1. What are lambda functions in Python, and when are they typically used?\n",
    "'''\n",
    "lambda function or anonymous function or function without name:-\n",
    "Python Lambda Functions are anonymous function means that the function is without a name.\n",
    "As we already know that the def keyword is used to define a normal function in Python.\n",
    "Similarly, the lambda keyword is used to define an anonymous function in Python. \n",
    "Syntax: lambda arguments : expression\n",
    "\n",
    "Lambda functions do not allow multiple statements, however, we can create two lambda functions and then call the other\n",
    "lambda function as a parameter to the first function. \n",
    "\n",
    "This function can have any number of arguments but only one expression, which is evaluated and returned.\n",
    "One is free to use lambda functions wherever function objects are required.\n",
    "It has various uses in particular fields of programming, besides other types of expressions in functions.\n",
    "Good for performing short operations/data manipulations.\n",
    "Using the lambda function can sometime reduce the readability of code.\n",
    "'''"
   ]
  },
  {
   "cell_type": "code",
   "execution_count": 6,
   "id": "e805b6be-1dd4-45c5-b50a-e2964ad71771",
   "metadata": {},
   "outputs": [
    {
     "name": "stdout",
     "output_type": "stream",
     "text": [
      "[(2, 1), (3, 2), (1, 3), (4, 4)]\n"
     ]
    }
   ],
   "source": [
    "# 2. Write a Python program that uses lambda functions to sort a list of tuples based on the second element.\n",
    "\n",
    "# List of tuples\n",
    "data = [(1, 3), (2, 1), (3, 2), (4, 4)]\n",
    "\n",
    "# Sort the list based on the second element of each tuple\n",
    "sorted_data = sorted(data, key=lambda x: x[1])\n",
    "\n",
    "# Print the sorted list\n",
    "print(sorted_data)\n"
   ]
  },
  {
   "cell_type": "code",
   "execution_count": 8,
   "id": "697f5b94-0db3-4af0-8a35-cbc84ea8f3db",
   "metadata": {},
   "outputs": [
    {
     "name": "stdout",
     "output_type": "stream",
     "text": [
      "HI, I AM CREATED BY A FUNCTION PASSED AS AN ARGUMENT.\n",
      "hi, i am created by a function passed as an argument.\n"
     ]
    }
   ],
   "source": [
    "# 3. Explain the concept of higher-order functions in Python, and provide an example.\n",
    "'''\n",
    "A function is called Higher Order Function if it contains other functions as a parameter or returns a function as an output i.e,\n",
    "the functions that operate with another function are known as Higher order Functions. Python too supports the concepts of higher order functions.\n",
    "\n",
    "Properties of higher-order functions:-\n",
    "A function is an instance of the Object type.\n",
    "You can store the function in a variable.\n",
    "You can pass the function as a parameter to another function.\n",
    "You can return the function from a function.\n",
    "You can store them in data structures such as hash tables, lists, etc\n",
    "\n",
    "'''\n",
    "\n",
    "# Python program to illustrate functions \n",
    "# can be passed as arguments to other functions \n",
    "def shout(text): \n",
    "\treturn text.upper() \n",
    "\t\n",
    "def whisper(text): \n",
    "\treturn text.lower() \n",
    "\t\n",
    "def greet(func):   # here we pass the function as a parameter of another function.\n",
    "\t               # storing the function in a variable \n",
    "\tgreeting = func(\"Hi, I am created by a function passed as an argument.\") \n",
    "\tprint(greeting) \n",
    "\t\n",
    "greet(shout)   # shout function pass in greet function\n",
    "greet(whisper) # whisper function pass in greet function\n"
   ]
  },
  {
   "cell_type": "code",
   "execution_count": 9,
   "id": "6fb86714-699a-47c9-820d-66b195beca52",
   "metadata": {},
   "outputs": [
    {
     "name": "stdout",
     "output_type": "stream",
     "text": [
      "Square of each element In given list [1, 2, 3, 4, 5, 6, 7, 8, 9] is : [1, 4, 9, 16, 25, 36, 49, 64, 81]\n"
     ]
    }
   ],
   "source": [
    "# 4. Create a Python function that takes a list of numbers and a function as arguments, applying the function to each element in the list.\n",
    "\n",
    "def apply_function(List, func):# here we create a function applyfunction which takes two arguments as parameter 1 is List of data and other is function\n",
    "    result = [func(i) for i in List]          # here we apply square function to each element of given list \n",
    "    return result                             # return the square value of list\n",
    "List = [1, 2, 3, 4, 5, 6, 7, 8, 9]            # take input list\n",
    "\n",
    "def square(x):                                 # define square function\n",
    "    return x**2\n",
    "\n",
    "result = apply_function(List, square)          # call function and pass list of data and square function         \n",
    "print(f\"Square of each element In given list {List} is : {result}\")\n"
   ]
  },
  {
   "cell_type": "markdown",
   "id": "7b5dbd32-939d-49df-a28a-c413aeb5b61f",
   "metadata": {},
   "source": [
    "# Built-in Functions:"
   ]
  },
  {
   "cell_type": "code",
   "execution_count": null,
   "id": "df65c548-7d64-4e5a-bbf5-480e77c99d95",
   "metadata": {},
   "outputs": [],
   "source": [
    "# 1. Describe the role of built-in functions like `len()`, `max()`, and `min()` in Python.\n",
    "'''\n",
    "len() :- This function returns the length of list.\n",
    "min() :- This function returns the minimum element of list.\n",
    " max() :- This function returns the maximum element of list.\n",
    "'''"
   ]
  },
  {
   "cell_type": "code",
   "execution_count": 11,
   "id": "7c2e81ed-17cc-4df8-8682-04275135ff4d",
   "metadata": {},
   "outputs": [
    {
     "name": "stdout",
     "output_type": "stream",
     "text": [
      "[2, 4, 6, 8, 10, 12, 14, 16, 18]\n"
     ]
    }
   ],
   "source": [
    "# 2. Write a Python program that uses the `map()` function to apply a function to each element of a list.\n",
    "\n",
    "List = [1, 2, 3, 4, 5, 6, 7, 8, 9]            # take input list\n",
    "result = list(map(lambda a: a*2, List))\n",
    "print(result)\n"
   ]
  },
  {
   "cell_type": "code",
   "execution_count": null,
   "id": "caf362d2-e0d9-4835-b654-aea8efb944ce",
   "metadata": {},
   "outputs": [],
   "source": [
    "# 3. How does the `filter()` function work in Python, and when would you use it?\n",
    "'''\n",
    "Filter() function is a built-in function in Python. The filter function can be applied to an iterable such as a list or a dictionary\n",
    "and create a new iterator. This new iterator can filter out certain specific elements based on the condition that you provide very efficiently.\n",
    "Syntax: filter(function, sequence)\n",
    "'''"
   ]
  },
  {
   "cell_type": "code",
   "execution_count": 13,
   "id": "67e42162-449c-45e7-aad6-a5ac29605142",
   "metadata": {},
   "outputs": [
    {
     "name": "stdout",
     "output_type": "stream",
     "text": [
      "Product of all elements in a list using reduce function is : 720\n"
     ]
    }
   ],
   "source": [
    "# 4. Create a Python program that uses the `reduce()` function to find the product of all elements in a list.\n",
    "\n",
    "from functools import reduce                 # import reduce function from functools \n",
    "List = [1, 2, 3, 4, 5, 6]                    # take input list\n",
    "result = reduce(lambda a, b : a*b, List)     # calculate product of each element of a list using reduce function\n",
    "print(f\"Product of all elements in a list using reduce function is : {result}\")\n"
   ]
  },
  {
   "cell_type": "markdown",
   "id": "deac9938-9040-4acb-be36-7020d3ef2b1a",
   "metadata": {},
   "source": [
    "# Function Documentation and Best Practices:"
   ]
  },
  {
   "cell_type": "code",
   "execution_count": null,
   "id": "3f7fedc2-6d09-4bdc-adcd-156bd1bb3f01",
   "metadata": {},
   "outputs": [],
   "source": [
    "# 1. Explain the purpose of docstrings in Python functions and how to write them\n",
    "'''\n",
    "A Python docstring is a string used to document a Python module, class, function or method, so programmers can understand \n",
    "what it does without having to read the details of the implementation.\n",
    "\n",
    "Declaring Docstrings: The docstrings are declared using ”'triple single quotes”' or “”” triple double quotes “”” \n",
    "just below the class, method, or function declaration. \n",
    "'''"
   ]
  },
  {
   "cell_type": "code",
   "execution_count": null,
   "id": "e482e72c-bb2a-4903-ba83-d8941100a44d",
   "metadata": {},
   "outputs": [],
   "source": [
    "# 2. Describe some best practices for naming function and variables in python, including naming convention and guidelines.\n",
    "'''\n",
    "Naming functions and variables in Python following best practices is essential for writing clean, readable, and maintainable code. \n",
    "The following are some common naming conventions and guidelines for Python:\n",
    "\n",
    "1. Use Descriptive Names:\n",
    "A well-named function or variable should provide clear information about its role in the code.\n",
    "\n",
    "2. Use Snake Case for Variable Names:\n",
    "Variable names should be in lowercase with words separated by underscores. For example: my_variable, user_input.\n",
    "\n",
    "3. Use Camel Case for Function Names:\n",
    "Function names should start with a lowercase letter and use capitalization for subsequent words. For example: calculateSum, processData.\n",
    "\n",
    "4. Use Uppercase for Constants:\n",
    "Constants should be in uppercase letters with words separated by underscores. For example: PI, MAX_VALUE.\n",
    "\n",
    "5. Use Verb-Noun Naming for Functions:\n",
    "Function names should typically start with a verb that describes the action the function performs, \n",
    "followed by a noun that describes the object or purpose of the action. For example: calculate_total, get_user_info.\n",
    "\n",
    "6. Avoid Reserved Words:\n",
    "Do not use Python reserved words (e.g., if, while, for, print) as variable or function names.\n",
    "\n",
    "7. Use Plural for Collections:\n",
    "Use plural names for variables that represent collections (lists, dictionaries, etc.). For example: students, cars\n",
    "\n",
    "8. Avoid Abbreviations:\n",
    "Avoid unnecessary abbreviations that may be unclear to others. Prioritize clarity over brevity.\n",
    "'''"
   ]
  }
 ],
 "metadata": {
  "kernelspec": {
   "display_name": "Python 3 (ipykernel)",
   "language": "python",
   "name": "python3"
  },
  "language_info": {
   "codemirror_mode": {
    "name": "ipython",
    "version": 3
   },
   "file_extension": ".py",
   "mimetype": "text/x-python",
   "name": "python",
   "nbconvert_exporter": "python",
   "pygments_lexer": "ipython3",
   "version": "3.10.8"
  }
 },
 "nbformat": 4,
 "nbformat_minor": 5
}
